{
 "cells": [
  {
   "cell_type": "code",
   "execution_count": 1,
   "metadata": {},
   "outputs": [
    {
     "name": "stderr",
     "output_type": "stream",
     "text": [
      "C:\\Users\\supre.000\\Anaconda3\\lib\\site-packages\\h5py\\__init__.py:36: FutureWarning: Conversion of the second argument of issubdtype from `float` to `np.floating` is deprecated. In future, it will be treated as `np.float64 == np.dtype(float).type`.\n",
      "  from ._conv import register_converters as _register_converters\n"
     ]
    }
   ],
   "source": [
    "import tensorflow as tf\n",
    "import shutil"
   ]
  },
  {
   "cell_type": "code",
   "execution_count": 2,
   "metadata": {},
   "outputs": [],
   "source": [
    "# setup feature columns\n",
    "domain = tf.feature_column.categorical_column_with_hash_bucket(\n",
    " \"domain\", 100000, dtype=tf.string)\n",
    "hour = tf.feature_column.categorical_column_with_identity(\"hour\", 24)\n",
    "device_type = tf.feature_column.categorical_column_with_vocabulary_list(\n",
    " \"device_type\", vocabulary_list=[\"desktop\", \"mobile\", \"tablet\"],\n",
    " default_value=0)\n",
    "feature_columns = [domain, hour, device_type]"
   ]
  },
  {
   "cell_type": "code",
   "execution_count": null,
   "metadata": {},
   "outputs": [
    {
     "name": "stdout",
     "output_type": "stream",
     "text": [
      "INFO:tensorflow:Using default config.\n",
      "INFO:tensorflow:Using config: {'_model_dir': '.', '_tf_random_seed': None, '_save_summary_steps': 100, '_save_checkpoints_steps': None, '_save_checkpoints_secs': 600, '_session_config': allow_soft_placement: true\n",
      "graph_options {\n",
      "  rewrite_options {\n",
      "    meta_optimizer_iterations: ONE\n",
      "  }\n",
      "}\n",
      ", '_keep_checkpoint_max': 5, '_keep_checkpoint_every_n_hours': 10000, '_log_step_count_steps': 100, '_train_distribute': None, '_device_fn': None, '_protocol': None, '_eval_distribute': None, '_experimental_distribute': None, '_service': None, '_cluster_spec': <tensorflow.python.training.server_lib.ClusterSpec object at 0x00000204312119E8>, '_task_type': 'worker', '_task_id': 0, '_global_id_in_cluster': 0, '_master': '', '_evaluation_master': '', '_is_chief': True, '_num_ps_replicas': 0, '_num_worker_replicas': 1}\n",
      "INFO:tensorflow:Calling model_fn.\n",
      "INFO:tensorflow:Done calling model_fn.\n",
      "INFO:tensorflow:Create CheckpointSaverHook.\n",
      "INFO:tensorflow:Graph was finalized.\n",
      "INFO:tensorflow:Restoring parameters from .\\model.ckpt-0\n",
      "INFO:tensorflow:Running local_init_op.\n",
      "INFO:tensorflow:Done running local_init_op.\n",
      "INFO:tensorflow:Saving checkpoints for 0 into .\\model.ckpt.\n"
     ]
    }
   ],
   "source": [
    "# actual model setup\n",
    "ftrl = tf.train.FtrlOptimizer(\n",
    "    learning_rate=0.1,\n",
    "    learning_rate_power=-0.5,\n",
    "    l1_regularization_strength=0.001,\n",
    "    l2_regularization_strength=0.0\n",
    "    )\n",
    "\n",
    "model_dir = \".\"\n",
    "estimator = tf.estimator.LinearClassifier(\n",
    "    feature_columns=feature_columns,\n",
    "    optimizer=ftrl,\n",
    "    model_dir=model_dir\n",
    "    )\n",
    "\n",
    "\n",
    "def input_fn(paths):\n",
    "    \"\"\" model input function \"\"\"\n",
    "\n",
    "    names = [\"domain\", \"hour\", \"device_type\", \"is_click\"]\n",
    "    record_defaults = [[\"\"], [0], [\"desktop\"], [0]]\n",
    "\n",
    "    def _parse_csv(rows_string_tensor):\n",
    "        columns = tf.decode_csv(rows_string_tensor, record_defaults)\n",
    "        features = dict(zip(names, columns[:-1]))\n",
    "        labels = columns[-1]\n",
    "        return features, labels\n",
    "\n",
    "    def _input_fn():\n",
    "        dataset = tf.data.TextLineDataset(paths)\n",
    "        dataset = dataset.map(_parse_csv)\n",
    "        dataset = dataset.batch(100)\n",
    "        iterator = dataset.make_one_shot_iterator()\n",
    "        features, labels = iterator.get_next()\n",
    "        return features, labels\n",
    "\n",
    "    return _input_fn\n",
    "\n",
    "\n",
    "# Train the model.\n",
    "paths = [\"example.csv\"]\n",
    "estimator.train(input_fn=input_fn(paths), steps=None)\n",
    "\n",
    "\n",
    "# Export our model\n",
    "columns = [('hour', tf.int64),\n",
    "           ('domain', tf.string),\n",
    "           ('device_type', tf.string)]\n",
    "feature_placeholders = {\n",
    " name: tf.placeholder(dtype, [1], name=name + \"_placeholder\")\n",
    " for name, dtype in columns\n",
    "}\n",
    "export_input_fn = tf.estimator.export.build_raw_serving_input_receiver_fn(\n",
    "    feature_placeholders)\n",
    "path = estimator.export_savedmodel(model_dir, export_input_fn)\n",
    "\n",
    "# rename export directory\n",
    "shutil.move(path, \"EXPORT\")"
   ]
  }
 ],
 "metadata": {
  "kernelspec": {
   "display_name": "Python 3",
   "language": "python",
   "name": "python3"
  },
  "language_info": {
   "codemirror_mode": {
    "name": "ipython",
    "version": 3
   },
   "file_extension": ".py",
   "mimetype": "text/x-python",
   "name": "python",
   "nbconvert_exporter": "python",
   "pygments_lexer": "ipython3",
   "version": "3.6.5"
  }
 },
 "nbformat": 4,
 "nbformat_minor": 2
}
