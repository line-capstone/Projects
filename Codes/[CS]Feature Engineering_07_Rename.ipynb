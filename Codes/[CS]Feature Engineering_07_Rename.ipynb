{
 "cells": [
  {
   "cell_type": "markdown",
   "metadata": {},
   "source": [
    "## Sampling & Splitting Data"
   ]
  },
  {
   "cell_type": "markdown",
   "metadata": {},
   "source": [
    "## Part A: 분석을 위한 환경 설정"
   ]
  },
  {
   "cell_type": "markdown",
   "metadata": {},
   "source": [
    "### 모듈/패키지 로드"
   ]
  },
  {
   "cell_type": "code",
   "execution_count": 87,
   "metadata": {},
   "outputs": [],
   "source": [
    "evaluation = True\n",
    "evaluation_verbose = False\n",
    "\n",
    "OUTPUT_BUCKET_FOLDER = \"gs://cap-18/output/\"\n",
    "DATA_BUCKET_FOLDER = \"gs://cap-18/data/\""
   ]
  },
  {
   "cell_type": "code",
   "execution_count": 88,
   "metadata": {},
   "outputs": [],
   "source": [
    "from IPython.display import display"
   ]
  },
  {
   "cell_type": "code",
   "execution_count": 89,
   "metadata": {},
   "outputs": [],
   "source": [
    "from pyspark.sql.types import *\n",
    "import pyspark.sql.functions as F\n",
    "from pyspark.ml.linalg import Vectors, SparseVector, VectorUDT"
   ]
  },
  {
   "cell_type": "code",
   "execution_count": 90,
   "metadata": {},
   "outputs": [],
   "source": [
    "from IPython.core.interactiveshell import InteractiveShell \n",
    "InteractiveShell.ast_node_interactivity = \"all\" # 한 셀(cell)에서의 코드 실행 결과가 다 보이도록 설정"
   ]
  },
  {
   "cell_type": "code",
   "execution_count": 91,
   "metadata": {},
   "outputs": [],
   "source": [
    "import numpy as np\n",
    "import scipy.sparse"
   ]
  },
  {
   "cell_type": "code",
   "execution_count": 92,
   "metadata": {},
   "outputs": [],
   "source": [
    "import warnings \n",
    "warnings.filterwarnings('ignore') # warning 메시지 반환되지 않도록 설정"
   ]
  },
  {
   "cell_type": "code",
   "execution_count": 93,
   "metadata": {},
   "outputs": [],
   "source": [
    "import math\n",
    "import datetime\n",
    "import time\n",
    "import itertools"
   ]
  },
  {
   "cell_type": "code",
   "execution_count": 94,
   "metadata": {},
   "outputs": [],
   "source": [
    "import pickle"
   ]
  },
  {
   "cell_type": "code",
   "execution_count": 95,
   "metadata": {},
   "outputs": [],
   "source": [
    "import random\n",
    "random.seed(42)"
   ]
  },
  {
   "cell_type": "code",
   "execution_count": 96,
   "metadata": {},
   "outputs": [],
   "source": [
    "import pandas as pd\n",
    "%matplotlib inline"
   ]
  },
  {
   "cell_type": "markdown",
   "metadata": {},
   "source": [
    "## Part B: 변수별 결측치 확인"
   ]
  },
  {
   "cell_type": "code",
   "execution_count": 97,
   "metadata": {},
   "outputs": [],
   "source": [
    "# 테이블 로드\n",
    "train_valid_merged_df = spark.read.parquet(\"gs://cap-18/output/train_subset_final\")"
   ]
  },
  {
   "cell_type": "code",
   "execution_count": 98,
   "metadata": {},
   "outputs": [],
   "source": [
    "## cf) 판다스 데이터 프레임 구조 깨지지 않게 보기:\n",
    "pd.set_option('display.max_columns', 100)"
   ]
  },
  {
   "cell_type": "code",
   "execution_count": 99,
   "metadata": {},
   "outputs": [],
   "source": [
    "documents_categories_schema = StructType(\n",
    "                    [StructField(\"document_id_cat\", IntegerType(), True),\n",
    "                    StructField(\"category_id\", IntegerType(), True),                    \n",
    "                    StructField(\"confidence_level_cat\", FloatType(), True)]\n",
    "                    )\n",
    "\n",
    "documents_categories_df = spark.read.schema(documents_categories_schema).options(header='true', inferschema='false', nullValue='\\\\N') \\\n",
    "                .csv(DATA_BUCKET_FOLDER+\"documents_categories.csv\") \\\n",
    "                .alias('documents_categories').cache()\n",
    "    \n",
    "documents_categories_grouped_df = documents_categories_df.groupBy('document_id_cat') \\\n",
    "                                            .agg(F.collect_list('category_id').alias('category_id_list'),\n",
    "                                                 F.collect_list('confidence_level_cat').alias('confidence_level_cat_list')) \\\n",
    "                                            .withColumn('dummyDocumentsCategory', F.lit(1)) \\\n",
    "                                            .alias('documents_categories_grouped')"
   ]
  },
  {
   "cell_type": "code",
   "execution_count": 100,
   "metadata": {},
   "outputs": [],
   "source": [
    "documents_topics_schema = StructType(\n",
    "                    [StructField(\"document_id_top\", IntegerType(), True),\n",
    "                    StructField(\"topic_id\", IntegerType(), True),                    \n",
    "                    StructField(\"confidence_level_top\", FloatType(), True)]\n",
    "                    )\n",
    "\n",
    "documents_topics_df = spark.read.schema(documents_topics_schema).options(header='true', inferschema='false', nullValue='\\\\N') \\\n",
    "                .csv(DATA_BUCKET_FOLDER+\"documents_topics.csv\")  \\\n",
    "                .alias('documents_topics').cache()\n",
    "    \n",
    "documents_topics_grouped_df = documents_topics_df.groupBy('document_id_top') \\\n",
    "                                            .agg(F.collect_list('topic_id').alias('topic_id_list'),\n",
    "                                                 F.collect_list('confidence_level_top').alias('confidence_level_top_list')) \\\n",
    "                                            .withColumn('dummyDocumentsTopics', F.lit(1)) \\\n",
    "                                            .alias('documents_topics_grouped')"
   ]
  },
  {
   "cell_type": "markdown",
   "metadata": {},
   "source": [
    "다음의 코드로 변수별 결측치를 한번에 확인할 수 있다."
   ]
  },
  {
   "cell_type": "code",
   "execution_count": 101,
   "metadata": {},
   "outputs": [],
   "source": [
    "## cf) 판다스 100행까지 보기:\n",
    "pd.set_option('display.max_rows', 100)"
   ]
  },
  {
   "cell_type": "code",
   "execution_count": 102,
   "metadata": {},
   "outputs": [],
   "source": [
    "# train_valid_merged_df.select([F.count(F.when(F.isnan(c) | F.col(c).isNull(), c)).alias(c) for c in train_valid_merged_df.columns]).toPandas().transpose()"
   ]
  },
  {
   "cell_type": "markdown",
   "metadata": {},
   "source": [
    "### 필요없는 columns 제거"
   ]
  },
  {
   "cell_type": "code",
   "execution_count": 103,
   "metadata": {},
   "outputs": [],
   "source": [
    "train_valid_merged_df = train_valid_merged_df.drop('doc_event_hour', 'pop_source_id_country', 'pop_source_id_country_conf', 'pop_source_id_country_conf_multipl',\n",
    "                                                  'pop_category_id_country', 'pop_category_id_country_conf', 'pop_category_id_country_conf_multipl',\n",
    "                                                  'platform_event', 'doc_id','document_id_cat','document_id_top',\n",
    "                                                  'timestamp_event')"
   ]
  },
  {
   "cell_type": "code",
   "execution_count": 104,
   "metadata": {},
   "outputs": [
    {
     "data": {
      "text/plain": [
       "58"
      ]
     },
     "execution_count": 104,
     "metadata": {},
     "output_type": "execute_result"
    }
   ],
   "source": [
    "len(train_valid_merged_df.columns)"
   ]
  },
  {
   "cell_type": "markdown",
   "metadata": {},
   "source": [
    "### 칼럼명 변경"
   ]
  },
  {
   "cell_type": "code",
   "execution_count": 105,
   "metadata": {},
   "outputs": [],
   "source": [
    "train_imputing_df = train_valid_merged_df"
   ]
  },
  {
   "cell_type": "code",
   "execution_count": 106,
   "metadata": {},
   "outputs": [
    {
     "data": {
      "text/plain": [
       "['display_id',\n",
       " 'ad_id',\n",
       " 'label',\n",
       " 'is_leak',\n",
       " 'event_weekend',\n",
       " 'user_views',\n",
       " 'ad_views',\n",
       " 'doc_views',\n",
       " 'pop_ad_id',\n",
       " 'pop_ad_id_conf',\n",
       " 'pop_ad_id_conf_multipl',\n",
       " 'pop_document_id',\n",
       " 'pop_document_id_conf',\n",
       " 'pop_document_id_conf_multipl',\n",
       " 'pop_publisher_id',\n",
       " 'pop_publisher_id_conf',\n",
       " 'pop_publisher_id_conf_multipl',\n",
       " 'pop_advertiser_id',\n",
       " 'pop_advertiser_id_conf',\n",
       " 'pop_advertiser_id_conf_multipl',\n",
       " 'pop_campaign_id',\n",
       " 'pop_campaign_id_conf',\n",
       " 'pop_campaign_id_conf_multipl',\n",
       " 'pop_doc_event_doc_ad',\n",
       " 'pop_doc_event_doc_ad_conf',\n",
       " 'pop_doc_event_doc_ad_conf_multipl',\n",
       " 'pop_source_id',\n",
       " 'pop_source_id_conf',\n",
       " 'pop_source_id_conf_multipl',\n",
       " 'pop_topic_id',\n",
       " 'pop_topic_id_conf',\n",
       " 'pop_topic_id_conf_multipl',\n",
       " 'pop_category_id',\n",
       " 'pop_category_id_conf',\n",
       " 'pop_category_id_conf_multipl',\n",
       " 'doc_event_publisher_id',\n",
       " 'doc_event_source_id',\n",
       " 'event_hour',\n",
       " 'event_platform',\n",
       " 'traffic_source',\n",
       " 'is_train',\n",
       " 'uuid',\n",
       " 'view_doc_id',\n",
       " 'event_country',\n",
       " 'day_event',\n",
       " 'ad_doc_id',\n",
       " 'campaign_id',\n",
       " 'advertiser_id',\n",
       " 'ad_category_id',\n",
       " 'ad_category_conf',\n",
       " 'ad_topic_id',\n",
       " 'ad_topic_conf',\n",
       " 'view_category_id',\n",
       " 'view_category_conf',\n",
       " 'view_topic_id',\n",
       " 'view_topic_conf',\n",
       " 'ad_source_id',\n",
       " 'ad_publisher_id']"
      ]
     },
     "execution_count": 106,
     "metadata": {},
     "output_type": "execute_result"
    }
   ],
   "source": [
    "train_imputing_df.schema.names"
   ]
  },
  {
   "cell_type": "code",
   "execution_count": 107,
   "metadata": {},
   "outputs": [],
   "source": [
    "train_imputing_df = train_imputing_df.withColumnRenamed('pop_document_id', 'pop_ad_doc_id') \\\n",
    "                                    .withColumnRenamed('pop_document_id_conf', 'pop_ad_doc_id_conf').withColumnRenamed('pop_publisher_id', 'pop_ad_publisher_id') \\\n",
    "                                    .withColumnRenamed('pop_document_id_conf_multipl', 'pop_ad_doc_id_conf_multipl') \\\n",
    "                                    .withColumnRenamed('pop_publisher_id_conf', 'pop_ad_publisher_id_conf') \\\n",
    "                                    .withColumnRenamed('pop_publisher_id_conf_multipl', 'pop_ad_publisher_id_conf_multipl') \\\n",
    "                                    .withColumnRenamed('pop_doc_event_doc_ad', 'pop_view_doc_ad_doc') \\\n",
    "                                    .withColumnRenamed('pop_doc_event_doc_ad_conf', 'pop_view_doc_ad_doc_conf') \\\n",
    "                                    .withColumnRenamed('pop_doc_event_doc_ad_conf_multipl', 'pop_view_doc_ad_doc_conf_multipl') \\\n",
    "                                    .withColumnRenamed('pop_source_id', 'pop_ad_source_id') \\\n",
    "                                    .withColumnRenamed('pop_source_id_conf', 'pop_ad_source_id_conf') \\\n",
    "                                    .withColumnRenamed('pop_source_id_conf_multipl', 'pop_ad_source_id_conf_multipl') \\\n",
    "                                    .withColumnRenamed('pop_topic_id', 'pop_ad_topic_id') \\\n",
    "                                    .withColumnRenamed('pop_topic_id_conf', 'pop_ad_topic_id_conf') \\\n",
    "                                    .withColumnRenamed('pop_topic_id_conf_multipl', 'pop_ad_topic_id_conf_multipl') \\\n",
    "                                    .withColumnRenamed('pop_category_id', 'pop_ad_category_id') \\\n",
    "                                    .withColumnRenamed('pop_category_id_conf', 'pop_ad_category_id_conf') \\\n",
    "                                    .withColumnRenamed('pop_category_id_conf_multipl', 'pop_ad_category_id_conf_multipl') \\\n",
    "                                    .withColumnRenamed('doc_event_publisher_id', 'view_publisher_id') \\\n",
    "                                    .withColumnRenamed('doc_event_source_id', 'view_source_id') \\\n",
    "                                    .withColumnRenamed('event_hour', 'hour') \\\n",
    "                                    .withColumnRenamed('event_platform', 'platform') \\\n",
    "                                    .withColumnRenamed('event_country', 'country') \\\n",
    "                                    .withColumnRenamed('event_weekend', 'weekend')"
   ]
  },
  {
   "cell_type": "code",
   "execution_count": 108,
   "metadata": {},
   "outputs": [
    {
     "name": "stdout",
     "output_type": "stream",
     "text": [
      "['display_id', 'ad_id', 'label', 'is_leak', 'weekend', 'user_views', 'ad_views', 'doc_views', 'pop_ad_id', 'pop_ad_id_conf', 'pop_ad_id_conf_multipl', 'pop_ad_doc_id', 'pop_ad_doc_id_conf', 'pop_ad_doc_id_conf_multipl', 'pop_ad_publisher_id', 'pop_ad_publisher_id_conf', 'pop_ad_publisher_id_conf_multipl', 'pop_advertiser_id', 'pop_advertiser_id_conf', 'pop_advertiser_id_conf_multipl', 'pop_campaign_id', 'pop_campaign_id_conf', 'pop_campaign_id_conf_multipl', 'pop_view_doc_ad_doc', 'pop_view_doc_ad_doc_conf', 'pop_view_doc_ad_doc_conf_multipl', 'pop_ad_source_id', 'pop_ad_source_id_conf', 'pop_ad_source_id_conf_multipl', 'pop_ad_topic_id', 'pop_ad_topic_id_conf', 'pop_ad_topic_id_conf_multipl', 'pop_ad_category_id', 'pop_ad_category_id_conf', 'pop_ad_category_id_conf_multipl', 'view_publisher_id', 'view_source_id', 'hour', 'platform', 'traffic_source', 'is_train', 'uuid', 'view_doc_id', 'country', 'day_event', 'ad_doc_id', 'campaign_id', 'advertiser_id', 'ad_category_id', 'ad_category_conf', 'ad_topic_id', 'ad_topic_conf', 'view_category_id', 'view_category_conf', 'view_topic_id', 'view_topic_conf', 'ad_source_id', 'ad_publisher_id']\n"
     ]
    },
    {
     "data": {
      "text/plain": [
       "58"
      ]
     },
     "execution_count": 108,
     "metadata": {},
     "output_type": "execute_result"
    }
   ],
   "source": [
    "print(train_imputing_df.schema.names)\n",
    "len(train_imputing_df.schema.names)"
   ]
  },
  {
   "cell_type": "markdown",
   "metadata": {},
   "source": [
    "### NA처리"
   ]
  },
  {
   "cell_type": "code",
   "execution_count": 109,
   "metadata": {},
   "outputs": [
    {
     "data": {
      "text/html": [
       "<div>\n",
       "<style scoped>\n",
       "    .dataframe tbody tr th:only-of-type {\n",
       "        vertical-align: middle;\n",
       "    }\n",
       "\n",
       "    .dataframe tbody tr th {\n",
       "        vertical-align: top;\n",
       "    }\n",
       "\n",
       "    .dataframe thead th {\n",
       "        text-align: right;\n",
       "    }\n",
       "</style>\n",
       "<table border=\"1\" class=\"dataframe\">\n",
       "  <thead>\n",
       "    <tr style=\"text-align: right;\">\n",
       "      <th></th>\n",
       "      <th>0</th>\n",
       "    </tr>\n",
       "  </thead>\n",
       "  <tbody>\n",
       "    <tr>\n",
       "      <th>display_id</th>\n",
       "      <td>0</td>\n",
       "    </tr>\n",
       "    <tr>\n",
       "      <th>ad_id</th>\n",
       "      <td>0</td>\n",
       "    </tr>\n",
       "    <tr>\n",
       "      <th>label</th>\n",
       "      <td>0</td>\n",
       "    </tr>\n",
       "    <tr>\n",
       "      <th>is_leak</th>\n",
       "      <td>0</td>\n",
       "    </tr>\n",
       "    <tr>\n",
       "      <th>weekend</th>\n",
       "      <td>0</td>\n",
       "    </tr>\n",
       "    <tr>\n",
       "      <th>user_views</th>\n",
       "      <td>55311626</td>\n",
       "    </tr>\n",
       "    <tr>\n",
       "      <th>ad_views</th>\n",
       "      <td>33833186</td>\n",
       "    </tr>\n",
       "    <tr>\n",
       "      <th>doc_views</th>\n",
       "      <td>52700407</td>\n",
       "    </tr>\n",
       "    <tr>\n",
       "      <th>pop_ad_id</th>\n",
       "      <td>1501513</td>\n",
       "    </tr>\n",
       "    <tr>\n",
       "      <th>pop_ad_id_conf</th>\n",
       "      <td>1501513</td>\n",
       "    </tr>\n",
       "    <tr>\n",
       "      <th>pop_ad_id_conf_multipl</th>\n",
       "      <td>1501513</td>\n",
       "    </tr>\n",
       "    <tr>\n",
       "      <th>pop_ad_doc_id</th>\n",
       "      <td>567008</td>\n",
       "    </tr>\n",
       "    <tr>\n",
       "      <th>pop_ad_doc_id_conf</th>\n",
       "      <td>567008</td>\n",
       "    </tr>\n",
       "    <tr>\n",
       "      <th>pop_ad_doc_id_conf_multipl</th>\n",
       "      <td>567008</td>\n",
       "    </tr>\n",
       "    <tr>\n",
       "      <th>pop_ad_publisher_id</th>\n",
       "      <td>53234319</td>\n",
       "    </tr>\n",
       "    <tr>\n",
       "      <th>pop_ad_publisher_id_conf</th>\n",
       "      <td>53234319</td>\n",
       "    </tr>\n",
       "    <tr>\n",
       "      <th>pop_ad_publisher_id_conf_multipl</th>\n",
       "      <td>53234319</td>\n",
       "    </tr>\n",
       "    <tr>\n",
       "      <th>pop_advertiser_id</th>\n",
       "      <td>38189</td>\n",
       "    </tr>\n",
       "    <tr>\n",
       "      <th>pop_advertiser_id_conf</th>\n",
       "      <td>38189</td>\n",
       "    </tr>\n",
       "    <tr>\n",
       "      <th>pop_advertiser_id_conf_multipl</th>\n",
       "      <td>38189</td>\n",
       "    </tr>\n",
       "    <tr>\n",
       "      <th>pop_campaign_id</th>\n",
       "      <td>214394</td>\n",
       "    </tr>\n",
       "    <tr>\n",
       "      <th>pop_campaign_id_conf</th>\n",
       "      <td>214394</td>\n",
       "    </tr>\n",
       "    <tr>\n",
       "      <th>pop_campaign_id_conf_multipl</th>\n",
       "      <td>214394</td>\n",
       "    </tr>\n",
       "    <tr>\n",
       "      <th>pop_view_doc_ad_doc</th>\n",
       "      <td>43315606</td>\n",
       "    </tr>\n",
       "    <tr>\n",
       "      <th>pop_view_doc_ad_doc_conf</th>\n",
       "      <td>43315606</td>\n",
       "    </tr>\n",
       "    <tr>\n",
       "      <th>pop_view_doc_ad_doc_conf_multipl</th>\n",
       "      <td>43315606</td>\n",
       "    </tr>\n",
       "    <tr>\n",
       "      <th>pop_ad_source_id</th>\n",
       "      <td>74740</td>\n",
       "    </tr>\n",
       "    <tr>\n",
       "      <th>pop_ad_source_id_conf</th>\n",
       "      <td>74740</td>\n",
       "    </tr>\n",
       "    <tr>\n",
       "      <th>pop_ad_source_id_conf_multipl</th>\n",
       "      <td>74740</td>\n",
       "    </tr>\n",
       "    <tr>\n",
       "      <th>pop_ad_topic_id</th>\n",
       "      <td>887349</td>\n",
       "    </tr>\n",
       "    <tr>\n",
       "      <th>pop_ad_topic_id_conf</th>\n",
       "      <td>887349</td>\n",
       "    </tr>\n",
       "    <tr>\n",
       "      <th>pop_ad_topic_id_conf_multipl</th>\n",
       "      <td>887349</td>\n",
       "    </tr>\n",
       "    <tr>\n",
       "      <th>pop_ad_category_id</th>\n",
       "      <td>80508</td>\n",
       "    </tr>\n",
       "    <tr>\n",
       "      <th>pop_ad_category_id_conf</th>\n",
       "      <td>80508</td>\n",
       "    </tr>\n",
       "    <tr>\n",
       "      <th>pop_ad_category_id_conf_multipl</th>\n",
       "      <td>80508</td>\n",
       "    </tr>\n",
       "    <tr>\n",
       "      <th>view_publisher_id</th>\n",
       "      <td>1776</td>\n",
       "    </tr>\n",
       "    <tr>\n",
       "      <th>view_source_id</th>\n",
       "      <td>7480739</td>\n",
       "    </tr>\n",
       "    <tr>\n",
       "      <th>hour</th>\n",
       "      <td>0</td>\n",
       "    </tr>\n",
       "    <tr>\n",
       "      <th>platform</th>\n",
       "      <td>30</td>\n",
       "    </tr>\n",
       "    <tr>\n",
       "      <th>traffic_source</th>\n",
       "      <td>195463</td>\n",
       "    </tr>\n",
       "    <tr>\n",
       "      <th>is_train</th>\n",
       "      <td>0</td>\n",
       "    </tr>\n",
       "    <tr>\n",
       "      <th>uuid</th>\n",
       "      <td>0</td>\n",
       "    </tr>\n",
       "    <tr>\n",
       "      <th>view_doc_id</th>\n",
       "      <td>0</td>\n",
       "    </tr>\n",
       "    <tr>\n",
       "      <th>country</th>\n",
       "      <td>0</td>\n",
       "    </tr>\n",
       "    <tr>\n",
       "      <th>day_event</th>\n",
       "      <td>0</td>\n",
       "    </tr>\n",
       "    <tr>\n",
       "      <th>ad_doc_id</th>\n",
       "      <td>0</td>\n",
       "    </tr>\n",
       "    <tr>\n",
       "      <th>campaign_id</th>\n",
       "      <td>0</td>\n",
       "    </tr>\n",
       "    <tr>\n",
       "      <th>advertiser_id</th>\n",
       "      <td>0</td>\n",
       "    </tr>\n",
       "    <tr>\n",
       "      <th>ad_category_id</th>\n",
       "      <td>80508</td>\n",
       "    </tr>\n",
       "    <tr>\n",
       "      <th>ad_category_conf</th>\n",
       "      <td>80508</td>\n",
       "    </tr>\n",
       "    <tr>\n",
       "      <th>ad_topic_id</th>\n",
       "      <td>887349</td>\n",
       "    </tr>\n",
       "    <tr>\n",
       "      <th>ad_topic_conf</th>\n",
       "      <td>887349</td>\n",
       "    </tr>\n",
       "    <tr>\n",
       "      <th>view_category_id</th>\n",
       "      <td>3830600</td>\n",
       "    </tr>\n",
       "    <tr>\n",
       "      <th>view_category_conf</th>\n",
       "      <td>3830600</td>\n",
       "    </tr>\n",
       "    <tr>\n",
       "      <th>view_topic_id</th>\n",
       "      <td>8558654</td>\n",
       "    </tr>\n",
       "    <tr>\n",
       "      <th>view_topic_conf</th>\n",
       "      <td>8558654</td>\n",
       "    </tr>\n",
       "    <tr>\n",
       "      <th>ad_source_id</th>\n",
       "      <td>59406</td>\n",
       "    </tr>\n",
       "    <tr>\n",
       "      <th>ad_publisher_id</th>\n",
       "      <td>53233366</td>\n",
       "    </tr>\n",
       "  </tbody>\n",
       "</table>\n",
       "</div>"
      ],
      "text/plain": [
       "                                         0\n",
       "display_id                               0\n",
       "ad_id                                    0\n",
       "label                                    0\n",
       "is_leak                                  0\n",
       "weekend                                  0\n",
       "user_views                        55311626\n",
       "ad_views                          33833186\n",
       "doc_views                         52700407\n",
       "pop_ad_id                          1501513\n",
       "pop_ad_id_conf                     1501513\n",
       "pop_ad_id_conf_multipl             1501513\n",
       "pop_ad_doc_id                       567008\n",
       "pop_ad_doc_id_conf                  567008\n",
       "pop_ad_doc_id_conf_multipl          567008\n",
       "pop_ad_publisher_id               53234319\n",
       "pop_ad_publisher_id_conf          53234319\n",
       "pop_ad_publisher_id_conf_multipl  53234319\n",
       "pop_advertiser_id                    38189\n",
       "pop_advertiser_id_conf               38189\n",
       "pop_advertiser_id_conf_multipl       38189\n",
       "pop_campaign_id                     214394\n",
       "pop_campaign_id_conf                214394\n",
       "pop_campaign_id_conf_multipl        214394\n",
       "pop_view_doc_ad_doc               43315606\n",
       "pop_view_doc_ad_doc_conf          43315606\n",
       "pop_view_doc_ad_doc_conf_multipl  43315606\n",
       "pop_ad_source_id                     74740\n",
       "pop_ad_source_id_conf                74740\n",
       "pop_ad_source_id_conf_multipl        74740\n",
       "pop_ad_topic_id                     887349\n",
       "pop_ad_topic_id_conf                887349\n",
       "pop_ad_topic_id_conf_multipl        887349\n",
       "pop_ad_category_id                   80508\n",
       "pop_ad_category_id_conf              80508\n",
       "pop_ad_category_id_conf_multipl      80508\n",
       "view_publisher_id                     1776\n",
       "view_source_id                     7480739\n",
       "hour                                     0\n",
       "platform                                30\n",
       "traffic_source                      195463\n",
       "is_train                                 0\n",
       "uuid                                     0\n",
       "view_doc_id                              0\n",
       "country                                  0\n",
       "day_event                                0\n",
       "ad_doc_id                                0\n",
       "campaign_id                              0\n",
       "advertiser_id                            0\n",
       "ad_category_id                       80508\n",
       "ad_category_conf                     80508\n",
       "ad_topic_id                         887349\n",
       "ad_topic_conf                       887349\n",
       "view_category_id                   3830600\n",
       "view_category_conf                 3830600\n",
       "view_topic_id                      8558654\n",
       "view_topic_conf                    8558654\n",
       "ad_source_id                         59406\n",
       "ad_publisher_id                   53233366"
      ]
     },
     "execution_count": 109,
     "metadata": {},
     "output_type": "execute_result"
    }
   ],
   "source": [
    "# 결측치를 다시한번 확인하자\n",
    "train_imputing_df.select([F.count(F.when(F.isnan(c) | F.col(c).isNull(), c)).alias(c) for c in train_imputing_df.columns]).toPandas().transpose()"
   ]
  },
  {
   "cell_type": "markdown",
   "metadata": {},
   "source": [
    "`user_views`, `ad_views`, `doc_views`는 참조할 사전 데이터가 없는 경우에 발생하기 때문에 1로 채워넣었다."
   ]
  },
  {
   "cell_type": "code",
   "execution_count": 110,
   "metadata": {},
   "outputs": [],
   "source": [
    "train_imputing_df = train_imputing_df.na.fill({'user_views': 1, 'ad_views': 1, 'doc_views': 1})"
   ]
  },
  {
   "cell_type": "markdown",
   "metadata": {},
   "source": [
    "`traffic_source`와 `platform_event`는 최빈값인 1로 채우자."
   ]
  },
  {
   "cell_type": "code",
   "execution_count": 111,
   "metadata": {},
   "outputs": [],
   "source": [
    "train_imputing_df = train_imputing_df.na.fill({'traffic_source': 1, 'platform': 1})"
   ]
  },
  {
   "cell_type": "markdown",
   "metadata": {},
   "source": [
    "pop-으로 시작하는 CTR과 그 외 범주형 변수의 결측치는 알려지지 않음(U: Unknown)으로 대체하자."
   ]
  },
  {
   "cell_type": "code",
   "execution_count": 112,
   "metadata": {},
   "outputs": [],
   "source": [
    "train_imputing_df = train_imputing_df.na.fill({'ad_source_id': 'U', 'view_topic_id': 'U',\n",
    "                                              'view_category_id': 'U', 'ad_topic_id': 'U', 'ad_category_id': 'U',\n",
    "                                              'view_source_id': 'U', 'ad_publisher_id': 'U',\n",
    "                                              'view_category_conf' : 'U', 'ad_topic_conf' : 'U', 'ad_category_conf': 'U',\n",
    "                                              'view_publisher_id' : 'U', \n",
    "                                               'pop_ad_category_id_conf_multipl' : 'U',\n",
    "                                               'pop_ad_category_id_conf' : 'U',\n",
    "                                               'pop_ad_category_id' : 'U',\n",
    "                                               'pop_ad_topic_id_conf_multipl' : 'U',\n",
    "                                               'pop_ad_topic_id_conf' : 'U',\n",
    "                                               'pop_ad_topic_id' : 'U',\n",
    "                                               'pop_ad_source_id_conf_multipl' : 'U',\n",
    "                                               'pop_ad_source_id_conf' : 'U',\n",
    "                                               'pop_ad_source_id' : 'U',\n",
    "                                               'pop_view_doc_ad_doc_conf_multipl' : 'U',\n",
    "                                               'pop_view_doc_ad_doc_conf' : 'U',\n",
    "                                               'pop_view_doc_ad_doc' : 'U',\n",
    "                                               'pop_campaign_id_conf_multipl' : 'U',\n",
    "                                               'pop_campaign_id_conf' : 'U',\n",
    "                                               'pop_campaign_id' : 'U',\n",
    "                                               'pop_advertiser_id_conf_multipl' : 'U',\n",
    "                                               'pop_advertiser_id_conf' : 'U',\n",
    "                                               'pop_advertiser_id' : 'U',\n",
    "                                               'pop_ad_publisher_id_conf_multipl' : 'U',\n",
    "                                               'pop_ad_publisher_id_conf' : 'U',\n",
    "                                               'pop_ad_publisher_id' : 'U',\n",
    "                                               'pop_ad_doc_id_conf_multipl' : 'U',\n",
    "                                               'pop_ad_doc_id_conf' : 'U',\n",
    "                                               'pop_ad_doc_id' : 'U',\n",
    "                                               'pop_ad_id_conf_multipl' : 'U',\n",
    "                                               'pop_ad_id_conf' : 'U',\n",
    "                                               'pop_ad_id' : 'U'\n",
    "                                              })\n",
    "\n",
    "# ad_publisher_id 유난히 NA가 많음 => 확인 필요 => okay. 원래 데이터에서도 그렇다.\n",
    "# document_id_top, document_id_cat 삭제 => okay. Feature Enginnering_05 코드에 반영하였음. 재실행 시 해당 변수가 사라져 있을 것!"
   ]
  },
  {
   "cell_type": "markdown",
   "metadata": {},
   "source": [
    "### 추가적으로 빼기로 한 변수 제거 + 모델에 필요없는 변수 제거"
   ]
  },
  {
   "cell_type": "code",
   "execution_count": 113,
   "metadata": {},
   "outputs": [],
   "source": [
    "# 모델에 필요없는 변수 제거\n",
    "train_imputing_df = train_imputing_df.drop('display_id', 'ad_id', 'ad_doc_id', 'uuid', 'view_doc_id')\n",
    "\n",
    "# 'is_train'과 'day_event'는 train, valid 나눌 때 필요해서 남겨 둠. 모델링에는 필요 없음."
   ]
  },
  {
   "cell_type": "code",
   "execution_count": 114,
   "metadata": {},
   "outputs": [],
   "source": [
    "# 추가로 빼기로 한 변수 제거\n",
    "train_imputing_df = train_imputing_df.drop('user_views', 'ad_views', 'doc_views', \n",
    "                                                  'pop_ad_id_conf','pop_ad_id_conf_multipl', 'pop_ad_doc_id_conf', 'pop_ad_doc_id_conf_multipl',\n",
    "                                                  'pop_ad_publisher_id_conf_multipl', 'pop_ad_publisher_id_conf', 'pop_advertiser_id_conf_multipl', 'pop_advertiser_id_conf',\n",
    "                                                  'pop_campaign_id_conf_multipl', 'pop_campaign_id_conf', 'pop_view_doc_ad_doc_conf_multipl', 'pop_view_doc_ad_doc_conf',\n",
    "                                                  'pop_ad_source_id_conf_multipl', 'pop_ad_source_id_conf', 'pop_ad_topic_id_conf_multipl', 'pop_ad_topic_id_conf',\n",
    "                                                  'pop_ad_category_id_conf_multipl', 'pop_ad_category_id_conf', 'view_category_conf', 'ad_topic_conf', 'ad_category_conf', 'view_topic_conf')"
   ]
  },
  {
   "cell_type": "code",
   "execution_count": 115,
   "metadata": {},
   "outputs": [
    {
     "name": "stdout",
     "output_type": "stream",
     "text": [
      "['label', 'is_leak', 'weekend', 'pop_ad_id', 'pop_ad_doc_id', 'pop_ad_publisher_id', 'pop_advertiser_id', 'pop_campaign_id', 'pop_view_doc_ad_doc', 'pop_ad_source_id', 'pop_ad_topic_id', 'pop_ad_category_id', 'view_publisher_id', 'view_source_id', 'hour', 'platform', 'traffic_source', 'is_train', 'country', 'day_event', 'campaign_id', 'advertiser_id', 'ad_category_id', 'ad_topic_id', 'view_category_id', 'view_topic_id', 'ad_source_id', 'ad_publisher_id']\n"
     ]
    },
    {
     "data": {
      "text/plain": [
       "28"
      ]
     },
     "execution_count": 115,
     "metadata": {},
     "output_type": "execute_result"
    }
   ],
   "source": [
    "print(train_imputing_df.columns)\n",
    "len(train_imputing_df.columns)"
   ]
  },
  {
   "cell_type": "code",
   "execution_count": 116,
   "metadata": {},
   "outputs": [
    {
     "data": {
      "text/html": [
       "<div>\n",
       "<style scoped>\n",
       "    .dataframe tbody tr th:only-of-type {\n",
       "        vertical-align: middle;\n",
       "    }\n",
       "\n",
       "    .dataframe tbody tr th {\n",
       "        vertical-align: top;\n",
       "    }\n",
       "\n",
       "    .dataframe thead th {\n",
       "        text-align: right;\n",
       "    }\n",
       "</style>\n",
       "<table border=\"1\" class=\"dataframe\">\n",
       "  <thead>\n",
       "    <tr style=\"text-align: right;\">\n",
       "      <th></th>\n",
       "      <th>0</th>\n",
       "    </tr>\n",
       "  </thead>\n",
       "  <tbody>\n",
       "    <tr>\n",
       "      <th>label</th>\n",
       "      <td>0</td>\n",
       "    </tr>\n",
       "    <tr>\n",
       "      <th>is_leak</th>\n",
       "      <td>0</td>\n",
       "    </tr>\n",
       "    <tr>\n",
       "      <th>weekend</th>\n",
       "      <td>0</td>\n",
       "    </tr>\n",
       "    <tr>\n",
       "      <th>pop_ad_id</th>\n",
       "      <td>1501513</td>\n",
       "    </tr>\n",
       "    <tr>\n",
       "      <th>pop_ad_doc_id</th>\n",
       "      <td>567008</td>\n",
       "    </tr>\n",
       "    <tr>\n",
       "      <th>pop_ad_publisher_id</th>\n",
       "      <td>53234319</td>\n",
       "    </tr>\n",
       "    <tr>\n",
       "      <th>pop_advertiser_id</th>\n",
       "      <td>38189</td>\n",
       "    </tr>\n",
       "    <tr>\n",
       "      <th>pop_campaign_id</th>\n",
       "      <td>214394</td>\n",
       "    </tr>\n",
       "    <tr>\n",
       "      <th>pop_view_doc_ad_doc</th>\n",
       "      <td>43315606</td>\n",
       "    </tr>\n",
       "    <tr>\n",
       "      <th>pop_ad_source_id</th>\n",
       "      <td>74740</td>\n",
       "    </tr>\n",
       "    <tr>\n",
       "      <th>pop_ad_topic_id</th>\n",
       "      <td>887349</td>\n",
       "    </tr>\n",
       "    <tr>\n",
       "      <th>pop_ad_category_id</th>\n",
       "      <td>80508</td>\n",
       "    </tr>\n",
       "    <tr>\n",
       "      <th>view_publisher_id</th>\n",
       "      <td>1776</td>\n",
       "    </tr>\n",
       "    <tr>\n",
       "      <th>view_source_id</th>\n",
       "      <td>7480739</td>\n",
       "    </tr>\n",
       "    <tr>\n",
       "      <th>hour</th>\n",
       "      <td>0</td>\n",
       "    </tr>\n",
       "    <tr>\n",
       "      <th>platform</th>\n",
       "      <td>0</td>\n",
       "    </tr>\n",
       "    <tr>\n",
       "      <th>traffic_source</th>\n",
       "      <td>0</td>\n",
       "    </tr>\n",
       "    <tr>\n",
       "      <th>is_train</th>\n",
       "      <td>0</td>\n",
       "    </tr>\n",
       "    <tr>\n",
       "      <th>country</th>\n",
       "      <td>0</td>\n",
       "    </tr>\n",
       "    <tr>\n",
       "      <th>day_event</th>\n",
       "      <td>0</td>\n",
       "    </tr>\n",
       "    <tr>\n",
       "      <th>campaign_id</th>\n",
       "      <td>0</td>\n",
       "    </tr>\n",
       "    <tr>\n",
       "      <th>advertiser_id</th>\n",
       "      <td>0</td>\n",
       "    </tr>\n",
       "    <tr>\n",
       "      <th>ad_category_id</th>\n",
       "      <td>0</td>\n",
       "    </tr>\n",
       "    <tr>\n",
       "      <th>ad_topic_id</th>\n",
       "      <td>0</td>\n",
       "    </tr>\n",
       "    <tr>\n",
       "      <th>view_category_id</th>\n",
       "      <td>0</td>\n",
       "    </tr>\n",
       "    <tr>\n",
       "      <th>view_topic_id</th>\n",
       "      <td>0</td>\n",
       "    </tr>\n",
       "    <tr>\n",
       "      <th>ad_source_id</th>\n",
       "      <td>59406</td>\n",
       "    </tr>\n",
       "    <tr>\n",
       "      <th>ad_publisher_id</th>\n",
       "      <td>53233366</td>\n",
       "    </tr>\n",
       "  </tbody>\n",
       "</table>\n",
       "</div>"
      ],
      "text/plain": [
       "                            0\n",
       "label                       0\n",
       "is_leak                     0\n",
       "weekend                     0\n",
       "pop_ad_id             1501513\n",
       "pop_ad_doc_id          567008\n",
       "pop_ad_publisher_id  53234319\n",
       "pop_advertiser_id       38189\n",
       "pop_campaign_id        214394\n",
       "pop_view_doc_ad_doc  43315606\n",
       "pop_ad_source_id        74740\n",
       "pop_ad_topic_id        887349\n",
       "pop_ad_category_id      80508\n",
       "view_publisher_id        1776\n",
       "view_source_id        7480739\n",
       "hour                        0\n",
       "platform                    0\n",
       "traffic_source              0\n",
       "is_train                    0\n",
       "country                     0\n",
       "day_event                   0\n",
       "campaign_id                 0\n",
       "advertiser_id               0\n",
       "ad_category_id              0\n",
       "ad_topic_id                 0\n",
       "view_category_id            0\n",
       "view_topic_id               0\n",
       "ad_source_id            59406\n",
       "ad_publisher_id      53233366"
      ]
     },
     "execution_count": 116,
     "metadata": {},
     "output_type": "execute_result"
    }
   ],
   "source": [
    "# 결측치 처리됐는지 확인\n",
    "train_imputing_df.select([F.count(F.when(F.isnan(c) | F.col(c).isNull(), c)).alias(c) for c in train_imputing_df.columns]).toPandas().transpose()"
   ]
  },
  {
   "cell_type": "markdown",
   "metadata": {},
   "source": [
    "## Part C: OHE(One-Hot Encoding)"
   ]
  },
  {
   "cell_type": "code",
   "execution_count": null,
   "metadata": {},
   "outputs": [],
   "source": [
    "from pyspark.ml import Pipeline\n",
    "from pyspark.ml.feature import OneHotEncoderEstimator, StringIndexer, VectorAssembler"
   ]
  },
  {
   "cell_type": "markdown",
   "metadata": {},
   "source": [
    "`train`에서 세 개의 컬럼만 빼서 logistic regression으로 적합시켜보자."
   ]
  },
  {
   "cell_type": "code",
   "execution_count": null,
   "metadata": {},
   "outputs": [],
   "source": [
    "train_light = train.select('label', 'event_weekend', 'doc_event_hour', 'pop_advertiser_id')"
   ]
  },
  {
   "cell_type": "markdown",
   "metadata": {},
   "source": [
    "결측치가 포함되어 있으면 VectorAssembler가 작동하지 않는다."
   ]
  },
  {
   "cell_type": "code",
   "execution_count": null,
   "metadata": {},
   "outputs": [],
   "source": [
    "train_light = train_light.dropna() ### 테스트 용으로 생성하였음. "
   ]
  },
  {
   "cell_type": "code",
   "execution_count": null,
   "metadata": {},
   "outputs": [],
   "source": [
    "categorical_columns= ['event_weekend', 'doc_event_hour']\n",
    "\n",
    "indexers = [\n",
    "    StringIndexer(inputCol=c, outputCol=\"{0}_indexed\".format(c))\n",
    "    for c in categorical_columns\n",
    "]\n",
    "\n",
    "encoders = [OneHotEncoder(dropLast=False,inputCol=indexer.getOutputCol(),\n",
    "            outputCol=\"{0}_encoded\".format(indexer.getOutputCol())) \n",
    "    for indexer in indexers\n",
    "]\n",
    "\n",
    "numericCols = [\"pop_advertiser_id\"]\n",
    "\n",
    "assemblerInputs = [encoder.getOutputCol() for encoder in encoders] + numericCols\n",
    "assembler = VectorAssembler(inputCols= assemblerInputs, outputCol=\"features\")"
   ]
  },
  {
   "cell_type": "code",
   "execution_count": null,
   "metadata": {},
   "outputs": [],
   "source": [
    "pipeline = Pipeline(stages=indexers + encoders+[assembler])\n",
    "model=pipeline.fit(train_light)"
   ]
  },
  {
   "cell_type": "code",
   "execution_count": null,
   "metadata": {},
   "outputs": [],
   "source": [
    "transformed = model.transform(train_light)\n",
    "transformed.show(5)"
   ]
  },
  {
   "cell_type": "code",
   "execution_count": null,
   "metadata": {},
   "outputs": [],
   "source": [
    "lrModel = LogisticRegression().fit(transformed)"
   ]
  },
  {
   "cell_type": "code",
   "execution_count": null,
   "metadata": {},
   "outputs": [],
   "source": [
    "print(\"Coefficients: \" + str(lrModel.coefficients))\n",
    "print(\"Intercept: \" + str(lrModel.intercept))"
   ]
  }
 ],
 "metadata": {
  "kernelspec": {
   "display_name": "Python 3",
   "language": "python",
   "name": "python3"
  },
  "language_info": {
   "codemirror_mode": {
    "name": "ipython",
    "version": 3
   },
   "file_extension": ".py",
   "mimetype": "text/x-python",
   "name": "python",
   "nbconvert_exporter": "python",
   "pygments_lexer": "ipython3",
   "version": "3.5.6"
  }
 },
 "nbformat": 4,
 "nbformat_minor": 2
}
