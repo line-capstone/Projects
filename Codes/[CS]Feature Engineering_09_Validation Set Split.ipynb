{
 "cells": [
  {
   "cell_type": "markdown",
   "metadata": {},
   "source": [
    "# Validation Set Split\n",
    "\n",
    "As of Dec 06, 2018"
   ]
  },
  {
   "cell_type": "markdown",
   "metadata": {},
   "source": [
    "## Part A: 분석을 위한 환경 설정"
   ]
  },
  {
   "cell_type": "markdown",
   "metadata": {},
   "source": [
    "### A-1) 모듈/패키지 로드"
   ]
  },
  {
   "cell_type": "code",
   "execution_count": 1,
   "metadata": {},
   "outputs": [],
   "source": [
    "evaluation = True\n",
    "evaluation_verbose = False\n",
    "\n",
    "OUTPUT_BUCKET_FOLDER = \"gs://line_2018/output/\"\n",
    "DATA_BUCKET_FOLDER = \"gs://upload-bigquery180927/data/\""
   ]
  },
  {
   "cell_type": "code",
   "execution_count": 2,
   "metadata": {},
   "outputs": [],
   "source": [
    "from IPython.display import display"
   ]
  },
  {
   "cell_type": "code",
   "execution_count": 3,
   "metadata": {},
   "outputs": [],
   "source": [
    "from pyspark.sql.types import *\n",
    "import pyspark.sql.functions as F\n",
    "from pyspark.ml.linalg import Vectors, SparseVector, VectorUDT"
   ]
  },
  {
   "cell_type": "code",
   "execution_count": 4,
   "metadata": {},
   "outputs": [],
   "source": [
    "from IPython.core.interactiveshell import InteractiveShell \n",
    "InteractiveShell.ast_node_interactivity = \"all\" # 한 셀(cell)에서의 코드 실행 결과가 다 보이도록 설정"
   ]
  },
  {
   "cell_type": "code",
   "execution_count": 5,
   "metadata": {},
   "outputs": [],
   "source": [
    "import numpy as np\n",
    "import scipy.sparse"
   ]
  },
  {
   "cell_type": "code",
   "execution_count": 6,
   "metadata": {},
   "outputs": [],
   "source": [
    "import warnings \n",
    "warnings.filterwarnings('ignore') # warning 메시지 반환되지 않도록 설정"
   ]
  },
  {
   "cell_type": "code",
   "execution_count": 7,
   "metadata": {},
   "outputs": [],
   "source": [
    "import math\n",
    "import datetime\n",
    "import time\n",
    "import itertools"
   ]
  },
  {
   "cell_type": "code",
   "execution_count": 8,
   "metadata": {},
   "outputs": [],
   "source": [
    "import pickle"
   ]
  },
  {
   "cell_type": "code",
   "execution_count": 9,
   "metadata": {},
   "outputs": [],
   "source": [
    "import random\n",
    "random.seed(42)"
   ]
  },
  {
   "cell_type": "code",
   "execution_count": 10,
   "metadata": {},
   "outputs": [],
   "source": [
    "import pandas as pd\n",
    "%matplotlib inline"
   ]
  },
  {
   "cell_type": "code",
   "execution_count": 11,
   "metadata": {},
   "outputs": [],
   "source": [
    "# 테이블 로드\n",
    "train_valid_merged_df = spark.read.parquet(\"gs://line-2018-1/output/train_final_3\")"
   ]
  },
  {
   "cell_type": "markdown",
   "metadata": {},
   "source": [
    "## Part B: 테이블 합치기"
   ]
  },
  {
   "cell_type": "code",
   "execution_count": 12,
   "metadata": {},
   "outputs": [],
   "source": [
    "# CTR에 해당하는 컬럼 제외\n",
    "train_valid_merged_df = train_valid_merged_df.drop('pop_ad_id',\n",
    " 'pop_ad_doc_id',\n",
    " 'pop_ad_publisher_id',\n",
    " 'pop_advertiser_id',\n",
    " 'pop_campaign_id',\n",
    " 'pop_view_doc_ad_doc',\n",
    " 'pop_ad_source_id',\n",
    " 'pop_ad_topic_id',\n",
    " 'pop_ad_category_id')"
   ]
  },
  {
   "cell_type": "code",
   "execution_count": 13,
   "metadata": {},
   "outputs": [
    {
     "data": {
      "text/plain": [
       "['display_id',\n",
       " 'ad_id',\n",
       " 'label',\n",
       " 'is_leak',\n",
       " 'weekend',\n",
       " 'view_publisher_id',\n",
       " 'view_source_id',\n",
       " 'hour',\n",
       " 'platform',\n",
       " 'traffic_source',\n",
       " 'is_train',\n",
       " 'country',\n",
       " 'day_event',\n",
       " 'campaign_id',\n",
       " 'advertiser_id',\n",
       " 'ad_category_id',\n",
       " 'ad_topic_id',\n",
       " 'view_category_id',\n",
       " 'view_topic_id',\n",
       " 'timestamp_event',\n",
       " 'ad_source_id',\n",
       " 'ad_publisher_id']"
      ]
     },
     "execution_count": 13,
     "metadata": {},
     "output_type": "execute_result"
    }
   ],
   "source": [
    "# train_valid_merged_df.columns"
   ]
  },
  {
   "cell_type": "code",
   "execution_count": 14,
   "metadata": {},
   "outputs": [],
   "source": [
    "# column별 수준 수 세기\n",
    "# for col in train_valid_merged_df.columns:\n",
    "#   print(col, train_valid_merged_df.select(col).distinct().count())"
   ]
  },
  {
   "cell_type": "code",
   "execution_count": 15,
   "metadata": {},
   "outputs": [],
   "source": [
    "# column별 NA 세기\n",
    "# train_valid_merged_df.select([F.count(F.when(F.isnan(c) | F.col(c).isNull(), c)).alias(c) for c in train_valid_merged_df.columns]).show()"
   ]
  },
  {
   "cell_type": "code",
   "execution_count": 13,
   "metadata": {},
   "outputs": [],
   "source": [
    "train_valid_merged_df2 = train_valid_merged_df"
   ]
  },
  {
   "cell_type": "code",
   "execution_count": 14,
   "metadata": {},
   "outputs": [],
   "source": [
    "# 상당수를 차지하는 미국, 캐나다, 영국이 아닌 경우 U로 할당\n",
    "train_valid_merged_df2 = train_valid_merged_df2.withColumn(\"country\", \\\n",
    "              F.when((train_valid_merged_df2[\"country\"] != 'US') &\n",
    "                     (train_valid_merged_df2[\"country\"] != 'CA') &\n",
    "                     (train_valid_merged_df2[\"country\"] != 'GB'), 'U').otherwise(train_valid_merged_df2[\"country\"]))"
   ]
  },
  {
   "cell_type": "code",
   "execution_count": 18,
   "metadata": {},
   "outputs": [
    {
     "data": {
      "text/plain": [
       "4"
      ]
     },
     "execution_count": 18,
     "metadata": {},
     "output_type": "execute_result"
    }
   ],
   "source": [
    "# train_valid_merged_df2.select('country').distinct().count()"
   ]
  },
  {
   "cell_type": "code",
   "execution_count": 19,
   "metadata": {},
   "outputs": [],
   "source": [
    "# train_valid_merged_df2.select('country').groupBy('country').count().show()"
   ]
  },
  {
   "cell_type": "code",
   "execution_count": 15,
   "metadata": {},
   "outputs": [],
   "source": [
    "cont_binned_schema = StructType(\n",
    "                    [StructField(\"pop_ad_id\", StringType(), True),\n",
    "                    StructField(\"pop_ad_doc_id\", StringType(), True),                    \n",
    "                    StructField(\"pop_ad_publisher_id\", StringType(), True),\n",
    "                    StructField(\"pop_advertiser_id\", StringType(), True),\n",
    "                    StructField(\"pop_campaign_id\", StringType(), True),\n",
    "                    StructField(\"pop_view_doc_ad_doc\", StringType(), True),\n",
    "                     StructField(\"pop_ad_source_id\", StringType(), True),\n",
    "                     StructField(\"pop_ad_topic_id\", StringType(), True),\n",
    "                     StructField(\"pop_ad_category_id\", StringType(), True),\n",
    "                    ]\n",
    "                    )\n",
    "\n",
    "cont_binned_df = spark.read.schema(cont_binned_schema).options(header='true', inferschema='false', nullValue='\\\\N') \\\n",
    "                .csv(DATA_BUCKET_FOLDER + \"train_bin.csv\")"
   ]
  },
  {
   "cell_type": "code",
   "execution_count": 21,
   "metadata": {},
   "outputs": [],
   "source": [
    "# # column별 수준 수 세기 \n",
    "# for col in cont_binned_df.columns:\n",
    "#   print(col, cont_binned_df.select(col).distinct().count())"
   ]
  },
  {
   "cell_type": "code",
   "execution_count": 22,
   "metadata": {},
   "outputs": [],
   "source": [
    "# cont_binned_df.count()"
   ]
  },
  {
   "cell_type": "code",
   "execution_count": 23,
   "metadata": {},
   "outputs": [],
   "source": [
    "# train_valid_merged_df2.count()"
   ]
  },
  {
   "cell_type": "code",
   "execution_count": 24,
   "metadata": {},
   "outputs": [],
   "source": [
    "# column별 NA 세기\n",
    "# cont_binned_df.select([F.count(F.when(F.isnan(c) | F.col(c).isNull(), c)).alias(c) for c in cont_binned_df.columns]).show()"
   ]
  },
  {
   "cell_type": "code",
   "execution_count": 25,
   "metadata": {},
   "outputs": [],
   "source": [
    "# cont_binned_df.select('pop_ad_id').groupBy('pop_ad_id').count().show()"
   ]
  },
  {
   "cell_type": "code",
   "execution_count": 16,
   "metadata": {},
   "outputs": [],
   "source": [
    "# NA인 값을 U로 바꾸기\n",
    "for col in cont_binned_df.columns:\n",
    "  cont_binned_df = cont_binned_df.withColumn(col, F.regexp_replace(col, 'NA', 'U'))"
   ]
  },
  {
   "cell_type": "code",
   "execution_count": 27,
   "metadata": {},
   "outputs": [],
   "source": [
    "# cont_binned_df.select('pop_ad_id').groupBy('pop_ad_id').count().show()"
   ]
  },
  {
   "cell_type": "code",
   "execution_count": 28,
   "metadata": {},
   "outputs": [],
   "source": [
    "# cont_binned_df.count()"
   ]
  },
  {
   "cell_type": "code",
   "execution_count": 29,
   "metadata": {},
   "outputs": [],
   "source": [
    "# train_valid_merged_df2.count()"
   ]
  },
  {
   "cell_type": "code",
   "execution_count": 17,
   "metadata": {},
   "outputs": [],
   "source": [
    "from pyspark.sql.window import Window\n",
    "\n",
    "cont_binned_df = cont_binned_df.withColumn('index', F.row_number().over(Window.orderBy(F.lit(1))))"
   ]
  },
  {
   "cell_type": "code",
   "execution_count": 33,
   "metadata": {},
   "outputs": [
    {
     "name": "stdout",
     "output_type": "stream",
     "text": [
      "+-------+--------------------+\n",
      "|summary|               index|\n",
      "+-------+--------------------+\n",
      "|  count|            87141731|\n",
      "|   mean|         4.3570866E7|\n",
      "| stddev|2.5155651069590893E7|\n",
      "|    min|                   1|\n",
      "|    max|            87141731|\n",
      "+-------+--------------------+\n",
      "\n"
     ]
    }
   ],
   "source": [
    "# cont_binned_df.select('index').describe().show()"
   ]
  },
  {
   "cell_type": "code",
   "execution_count": 18,
   "metadata": {},
   "outputs": [],
   "source": [
    "train_valid_merged_df2 = train_valid_merged_df2.withColumn('index', F.row_number().over(Window.orderBy(F.lit(1))))"
   ]
  },
  {
   "cell_type": "code",
   "execution_count": 35,
   "metadata": {},
   "outputs": [
    {
     "name": "stdout",
     "output_type": "stream",
     "text": [
      "+-------+--------------------+\n",
      "|summary|               index|\n",
      "+-------+--------------------+\n",
      "|  count|            87141731|\n",
      "|   mean|         4.3570866E7|\n",
      "| stddev|2.5155651069590893E7|\n",
      "|    min|                   1|\n",
      "|    max|            87141731|\n",
      "+-------+--------------------+\n",
      "\n"
     ]
    }
   ],
   "source": [
    "# train_valid_merged_df2.select('index').describe().show()"
   ]
  },
  {
   "cell_type": "code",
   "execution_count": 19,
   "metadata": {},
   "outputs": [],
   "source": [
    "train_final = train_valid_merged_df2.join(cont_binned_df, 'index', how = 'left')"
   ]
  },
  {
   "cell_type": "code",
   "execution_count": 38,
   "metadata": {},
   "outputs": [
    {
     "data": {
      "text/plain": [
       "['index',\n",
       " 'display_id',\n",
       " 'ad_id',\n",
       " 'label',\n",
       " 'is_leak',\n",
       " 'weekend',\n",
       " 'view_publisher_id',\n",
       " 'view_source_id',\n",
       " 'hour',\n",
       " 'platform',\n",
       " 'traffic_source',\n",
       " 'is_train',\n",
       " 'country',\n",
       " 'day_event',\n",
       " 'campaign_id',\n",
       " 'advertiser_id',\n",
       " 'ad_category_id',\n",
       " 'ad_topic_id',\n",
       " 'view_category_id',\n",
       " 'view_topic_id',\n",
       " 'timestamp_event',\n",
       " 'ad_source_id',\n",
       " 'ad_publisher_id',\n",
       " 'pop_ad_id',\n",
       " 'pop_ad_doc_id',\n",
       " 'pop_ad_publisher_id',\n",
       " 'pop_advertiser_id',\n",
       " 'pop_campaign_id',\n",
       " 'pop_view_doc_ad_doc',\n",
       " 'pop_ad_source_id',\n",
       " 'pop_ad_topic_id',\n",
       " 'pop_ad_category_id']"
      ]
     },
     "execution_count": 38,
     "metadata": {},
     "output_type": "execute_result"
    }
   ],
   "source": [
    "# train_final.columns"
   ]
  },
  {
   "cell_type": "code",
   "execution_count": 39,
   "metadata": {},
   "outputs": [
    {
     "data": {
      "text/plain": [
       "87141731"
      ]
     },
     "execution_count": 39,
     "metadata": {},
     "output_type": "execute_result"
    }
   ],
   "source": [
    "# train_final.count() # 87141731 기원!"
   ]
  },
  {
   "cell_type": "code",
   "execution_count": null,
   "metadata": {},
   "outputs": [],
   "source": [
    "# train_final.select([F.count(F.when(F.isnan(c) | F.col(c).isNull(), c)).alias(c) for c in train_final.columns]).show()"
   ]
  },
  {
   "cell_type": "markdown",
   "metadata": {},
   "source": [
    "## Part C: Validation / Train Set으로 구분"
   ]
  },
  {
   "cell_type": "code",
   "execution_count": 20,
   "metadata": {},
   "outputs": [],
   "source": [
    "dp_id_list = train_final.select('display_id', 'timestamp_event').distinct()"
   ]
  },
  {
   "cell_type": "code",
   "execution_count": 23,
   "metadata": {},
   "outputs": [],
   "source": [
    "dp_id_list = dp_id_list.sort(\"timestamp_event\").withColumn('index', F.row_number().over(Window.orderBy(F.lit(1))))"
   ]
  },
  {
   "cell_type": "code",
   "execution_count": 46,
   "metadata": {},
   "outputs": [],
   "source": [
    "dp_id_train_sample_id = dp_id_list.filter((F.col('index') >= 1) & (F.col('index') <= 20000))\n",
    "dp_id_train_sample_id = dp_id_train_sample_id.select('display_id').toPandas()\n",
    "dp_id_train_sample_id = dp_id_train_sample_id['display_id'].tolist()"
   ]
  },
  {
   "cell_type": "code",
   "execution_count": 47,
   "metadata": {},
   "outputs": [],
   "source": [
    "dp_id_validation_sample_id = dp_id_list.filter((F.col('index') >= 20001) & (F.col('index') <= 25000))\n",
    "dp_id_validation_sample_id = dp_id_validation_sample_id.select('display_id').toPandas()\n",
    "dp_id_validation_sample_id = dp_id_validation_sample_id['display_id'].tolist()"
   ]
  },
  {
   "cell_type": "code",
   "execution_count": 48,
   "metadata": {},
   "outputs": [],
   "source": [
    "train_sample = train_final.filter(F.col('display_id').isin(dp_id_train_sample_id))"
   ]
  },
  {
   "cell_type": "code",
   "execution_count": 49,
   "metadata": {},
   "outputs": [],
   "source": [
    "valid_sample = train_final.filter(F.col('display_id').isin(dp_id_validation_sample_id))"
   ]
  },
  {
   "cell_type": "code",
   "execution_count": 50,
   "metadata": {},
   "outputs": [
    {
     "data": {
      "text/plain": [
       "102091"
      ]
     },
     "execution_count": 50,
     "metadata": {},
     "output_type": "execute_result"
    }
   ],
   "source": [
    "train_sample.count() # 80000 희망: failed"
   ]
  },
  {
   "cell_type": "code",
   "execution_count": 51,
   "metadata": {},
   "outputs": [
    {
     "data": {
      "text/plain": [
       "25656"
      ]
     },
     "execution_count": 51,
     "metadata": {},
     "output_type": "execute_result"
    }
   ],
   "source": [
    "valid_sample.count() # "
   ]
  },
  {
   "cell_type": "markdown",
   "metadata": {},
   "source": [
    "정상적으로 테이블이 생성되었다."
   ]
  },
  {
   "cell_type": "markdown",
   "metadata": {},
   "source": [
    "`index` 컬럼을 제거하자."
   ]
  },
  {
   "cell_type": "code",
   "execution_count": 52,
   "metadata": {},
   "outputs": [],
   "source": [
    "train_sample = train_sample.drop('index')"
   ]
  },
  {
   "cell_type": "code",
   "execution_count": 53,
   "metadata": {},
   "outputs": [],
   "source": [
    "valid_sample = valid_sample.drop('index')"
   ]
  },
  {
   "cell_type": "code",
   "execution_count": 54,
   "metadata": {},
   "outputs": [],
   "source": [
    "# csv 파일로 쓰기: validation_sample_df\n",
    "# valid_sample.repartition(1).write.csv(OUTPUT_BUCKET_FOLDER + 'validation_sample_df.csv', header = True)"
   ]
  },
  {
   "cell_type": "code",
   "execution_count": 55,
   "metadata": {},
   "outputs": [],
   "source": [
    "# csv 파일로 쓰기: train_sample_df\n",
    "# train_sample.repartition(1).write.csv(OUTPUT_BUCKET_FOLDER + 'train_sample_df.csv', header = True)"
   ]
  },
  {
   "cell_type": "code",
   "execution_count": 56,
   "metadata": {},
   "outputs": [],
   "source": [
    "# 파케이로 쓰기: validation_sample_df\n",
    "# valid_sample.write.parquet(OUTPUT_BUCKET_FOLDER + 'validation_sample_parquet', mode='overwrite')"
   ]
  },
  {
   "cell_type": "code",
   "execution_count": null,
   "metadata": {},
   "outputs": [],
   "source": [
    "# # 파케이로 쓰기: train_sample_df\n",
    "# train_sample.write.parquet(OUTPUT_BUCKET_FOLDER + 'train_sample_parquet', mode='overwrite')"
   ]
  },
  {
   "cell_type": "markdown",
   "metadata": {},
   "source": [
    "## Part D: 최종 Train Set 생성"
   ]
  },
  {
   "cell_type": "markdown",
   "metadata": {},
   "source": [
    "최종 Train Set을 파케이로 만들어보자."
   ]
  },
  {
   "cell_type": "code",
   "execution_count": null,
   "metadata": {},
   "outputs": [],
   "source": [
    "# index 컬럼 없애기\n",
    "train_final = train_final.drop('index')"
   ]
  },
  {
   "cell_type": "code",
   "execution_count": null,
   "metadata": {},
   "outputs": [],
   "source": [
    "# 파케이로 쓰기: train_final\n",
    "train_final.write.parquet(OUTPUT_BUCKET_FOLDER + 'train_final_parquet', mode='overwrite')"
   ]
  }
 ],
 "metadata": {
  "kernelspec": {
   "display_name": "Python 2",
   "language": "python",
   "name": "python2"
  },
  "language_info": {
   "codemirror_mode": {
    "name": "ipython",
    "version": 2
   },
   "file_extension": ".py",
   "mimetype": "text/x-python",
   "name": "python",
   "nbconvert_exporter": "python",
   "pygments_lexer": "ipython2",
   "version": "2.7.15"
  }
 },
 "nbformat": 4,
 "nbformat_minor": 2
}
