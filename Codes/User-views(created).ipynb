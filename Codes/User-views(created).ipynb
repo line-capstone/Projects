{
 "cells": [
  {
   "cell_type": "markdown",
   "metadata": {},
   "source": [
    "# Creating user_views, page_views, ad_views & Train-Test Set Split"
   ]
  },
  {
   "cell_type": "markdown",
   "metadata": {},
   "source": [
    "As of Dec 13, 2018"
   ]
  },
  {
   "cell_type": "markdown",
   "metadata": {},
   "source": [
    "## Part A: 데이터 로드 및 환경 설정"
   ]
  },
  {
   "cell_type": "code",
   "execution_count": 2,
   "metadata": {},
   "outputs": [],
   "source": [
    "from pyspark.sql import Window"
   ]
  },
  {
   "cell_type": "code",
   "execution_count": 3,
   "metadata": {},
   "outputs": [],
   "source": [
    "from IPython.display import display\n",
    "from IPython.core.interactiveshell import InteractiveShell \n",
    "InteractiveShell.ast_node_interactivity = \"all\" # 한 셀(cell)에서의 코드 실행 결과가 다 보이도록 설정\n",
    "import numpy as np\n",
    "import scipy.sparse\n",
    "import math\n",
    "import datetime\n",
    "import time\n",
    "import itertools\n",
    "import random\n",
    "random.seed(42)\n",
    "import pandas as pd\n",
    "%matplotlib inline"
   ]
  },
  {
   "cell_type": "code",
   "execution_count": 4,
   "metadata": {},
   "outputs": [],
   "source": [
    "from pyspark.sql.types import *\n",
    "import pyspark.sql.functions as F"
   ]
  },
  {
   "cell_type": "code",
   "execution_count": 5,
   "metadata": {},
   "outputs": [],
   "source": [
    "OUTPUT_BUCKET_FOLDER = \"gs://line-2018-2/output/\"\n",
    "DATA_BUCKET_FOLDER = \"gs://upload-bigquery180927/data/\""
   ]
  },
  {
   "cell_type": "code",
   "execution_count": 26,
   "metadata": {},
   "outputs": [],
   "source": [
    "page_views_schema = StructType(\n",
    "                    [StructField(\"uuid_pv\", StringType(), True),\n",
    "                    StructField(\"document_id\", IntegerType(), True),\n",
    "                    StructField(\"timestamp_pv\", IntegerType(), True),\n",
    "                    StructField(\"platform\", IntegerType(), True),\n",
    "                    StructField(\"geo_location\", StringType(), True),\n",
    "                    StructField(\"traffic_source\", IntegerType(), True)]\n",
    "                    )\n",
    "#Data is read from Google Cloud Storage, a distributed filesystem like HDFS stored externally to the cluster\n",
    "#If you wanna use your own HDFS, just prefix the file path with the absolute path 'hdfs:' or \n",
    "#with the relative path if HDFS is your cluster default filesystem\n",
    "page_views_df = spark.read.schema(page_views_schema).options(header='true', inferschema='false', nullValue='\\\\N') \\\n",
    "                .csv(DATA_BUCKET_FOLDER + \"page_views.csv\")"
   ]
  },
  {
   "cell_type": "code",
   "execution_count": 18,
   "metadata": {},
   "outputs": [],
   "source": [
    "events_schema = StructType(\n",
    "                    [StructField(\"display_id\", IntegerType(), True),\n",
    "                    StructField(\"uuid_event\", StringType(), True),\n",
    "                    StructField(\"document_id\", IntegerType(), True),\n",
    "                    StructField(\"timestamp_event\", IntegerType(), True),\n",
    "                    StructField(\"platform\", IntegerType(), True),\n",
    "                    StructField(\"geo_location\", StringType(), True)]\n",
    "                    )\n",
    "\n",
    "events_df = spark.read \\\n",
    "            .schema(events_schema) \\\n",
    "            .options(header='true', inferschema='false', nullValue='\\\\N') \\\n",
    "            .csv(DATA_BUCKET_FOLDER + \"events.csv\").cache()"
   ]
  },
  {
   "cell_type": "code",
   "execution_count": 27,
   "metadata": {},
   "outputs": [],
   "source": [
    "page_views_df = page_views_df.withColumn('dummyPageView', F.lit(1))\n",
    "events_df = events_df.withColumn('dummyEvent', F.lit(1))"
   ]
  },
  {
   "cell_type": "code",
   "execution_count": 28,
   "metadata": {},
   "outputs": [],
   "source": [
    "clicks_train_schema = StructType(\n",
    "                    [StructField(\"display_id\", IntegerType(), True),\n",
    "                    StructField(\"ad_id\", IntegerType(), True),                    \n",
    "                    StructField(\"clicked\", IntegerType(), True)]\n",
    "                    )\n",
    "\n",
    "clicks_train_df = spark.read.schema(clicks_train_schema).options(header='true', inferschema='false', nullValue='\\\\N') \\\n",
    "                .csv(DATA_BUCKET_FOLDER+\"clicks_train.csv\") \\\n",
    "                .withColumn('dummyClicksTrain', F.lit(1)).alias('clicks_train').cache()"
   ]
  },
  {
   "cell_type": "code",
   "execution_count": 29,
   "metadata": {},
   "outputs": [],
   "source": [
    "promoted_content_schema = StructType(\n",
    "                    [StructField(\"ad_id\", IntegerType(), True),\n",
    "                    StructField(\"document_id_promo\", IntegerType(), True),                    \n",
    "                    StructField(\"campaign_id\", IntegerType(), True),\n",
    "                    StructField(\"advertiser_id\", IntegerType(), True)]\n",
    "                    )\n",
    "\n",
    "promoted_content_df = spark.read.schema(promoted_content_schema).options(header='true', inferschema='false', nullValue='\\\\N') \\\n",
    "                .csv(DATA_BUCKET_FOLDER+\"promoted_content.csv\") \\\n",
    "                .withColumn('dummyPromotedContent', F.lit(1)).alias('promoted_content').cache()"
   ]
  },
  {
   "cell_type": "code",
   "execution_count": 30,
   "metadata": {},
   "outputs": [],
   "source": [
    "clicks_train_joined_df = clicks_train_df \\\n",
    "                         .join(promoted_content_df, on='ad_id', how='left') \\\n",
    "                         .join(events_df, on='display_id', how='left').cache()                      "
   ]
  },
  {
   "cell_type": "code",
   "execution_count": 31,
   "metadata": {},
   "outputs": [
    {
     "data": {
      "text/plain": [
       "['display_id',\n",
       " 'ad_id',\n",
       " 'clicked',\n",
       " 'dummyClicksTrain',\n",
       " 'document_id_promo',\n",
       " 'campaign_id',\n",
       " 'advertiser_id',\n",
       " 'dummyPromotedContent',\n",
       " 'uuid_event',\n",
       " 'document_id',\n",
       " 'timestamp_event',\n",
       " 'platform',\n",
       " 'geo_location',\n",
       " 'dummyEvent']"
      ]
     },
     "execution_count": 31,
     "metadata": {},
     "output_type": "execute_result"
    }
   ],
   "source": [
    "clicks_train_joined_df.columns"
   ]
  },
  {
   "cell_type": "markdown",
   "metadata": {},
   "source": [
    "## Part B: user_views(유저의 누적 페이지 뷰 수 카운팅) 생성하기"
   ]
  },
  {
   "cell_type": "code",
   "execution_count": 13,
   "metadata": {},
   "outputs": [],
   "source": [
    "truncate_day_from_timestamp_udf = F.udf(lambda ts: int(ts / 1000 / 60 / 60 / 24), IntegerType())"
   ]
  },
  {
   "cell_type": "code",
   "execution_count": 32,
   "metadata": {},
   "outputs": [],
   "source": [
    "page_views_with_day_df = page_views_df.withColumn('day', truncate_day_from_timestamp_udf('timestamp_pv')).withColumn('dummyPageView', F.lit(1))"
   ]
  },
  {
   "cell_type": "code",
   "execution_count": 33,
   "metadata": {},
   "outputs": [
    {
     "data": {
      "text/plain": [
       "['uuid_pv',\n",
       " 'document_id',\n",
       " 'timestamp_pv',\n",
       " 'platform',\n",
       " 'geo_location',\n",
       " 'traffic_source',\n",
       " 'dummyPageView',\n",
       " 'day']"
      ]
     },
     "execution_count": 33,
     "metadata": {},
     "output_type": "execute_result"
    }
   ],
   "source": [
    "page_views_with_day_df.columns"
   ]
  },
  {
   "cell_type": "code",
   "execution_count": 34,
   "metadata": {},
   "outputs": [],
   "source": [
    "events_with_day_df = events_df.withColumn('day', truncate_day_from_timestamp_udf('timestamp_event')).withColumn('dummyEvent', F.lit(1))"
   ]
  },
  {
   "cell_type": "code",
   "execution_count": 35,
   "metadata": {},
   "outputs": [],
   "source": [
    "unique_users_df = clicks_train_joined_df.select('uuid_event').distinct()"
   ]
  },
  {
   "cell_type": "code",
   "execution_count": null,
   "metadata": {},
   "outputs": [],
   "source": [
    "unique_users_df.count() # clicks_train에 포함된 고유한 uuid 수: 14814344"
   ]
  },
  {
   "cell_type": "code",
   "execution_count": 36,
   "metadata": {},
   "outputs": [],
   "source": [
    "page_views_unique_df = page_views_with_day_df \\\n",
    "                    .join(unique_users_df, on=[F.col('uuid_pv') == F.col('uuid_event')], how = 'inner').cache()"
   ]
  },
  {
   "cell_type": "code",
   "execution_count": null,
   "metadata": {},
   "outputs": [],
   "source": [
    "page_views_unique_df.count() # 154011175"
   ]
  },
  {
   "cell_type": "code",
   "execution_count": 37,
   "metadata": {},
   "outputs": [
    {
     "data": {
      "text/plain": [
       "['uuid_pv',\n",
       " 'document_id',\n",
       " 'timestamp_pv',\n",
       " 'platform',\n",
       " 'geo_location',\n",
       " 'traffic_source',\n",
       " 'dummyPageView',\n",
       " 'day',\n",
       " 'uuid_event']"
      ]
     },
     "execution_count": 37,
     "metadata": {},
     "output_type": "execute_result"
    }
   ],
   "source": [
    "page_views_unique_df.columns"
   ]
  },
  {
   "cell_type": "code",
   "execution_count": 38,
   "metadata": {},
   "outputs": [
    {
     "data": {
      "text/plain": [
       "['display_id',\n",
       " 'uuid_event',\n",
       " 'document_id',\n",
       " 'timestamp_event',\n",
       " 'platform',\n",
       " 'geo_location',\n",
       " 'dummyEvent',\n",
       " 'day']"
      ]
     },
     "execution_count": 38,
     "metadata": {},
     "output_type": "execute_result"
    }
   ],
   "source": [
    "events_with_day_df.columns"
   ]
  },
  {
   "cell_type": "code",
   "execution_count": 39,
   "metadata": {},
   "outputs": [],
   "source": [
    "page_views_left_join_events_df = page_views_unique_df \\\n",
    "                                        .join(events_with_day_df, \n",
    "                                              on=['uuid_event','document_id','platform','geo_location','day'], \n",
    "                                              how='left')"
   ]
  },
  {
   "cell_type": "code",
   "execution_count": 41,
   "metadata": {},
   "outputs": [],
   "source": [
    "# page_views_left_join_events_df.count() # 154,382,412"
   ]
  },
  {
   "cell_type": "code",
   "execution_count": 42,
   "metadata": {},
   "outputs": [
    {
     "data": {
      "text/plain": [
       "['uuid_event',\n",
       " 'document_id',\n",
       " 'platform',\n",
       " 'geo_location',\n",
       " 'day',\n",
       " 'uuid_pv',\n",
       " 'timestamp_pv',\n",
       " 'traffic_source',\n",
       " 'dummyPageView',\n",
       " 'display_id',\n",
       " 'timestamp_event',\n",
       " 'dummyEvent']"
      ]
     },
     "execution_count": 42,
     "metadata": {},
     "output_type": "execute_result"
    }
   ],
   "source": [
    "page_views_left_join_events_df.columns"
   ]
  },
  {
   "cell_type": "code",
   "execution_count": null,
   "metadata": {},
   "outputs": [],
   "source": [
    "# page_views_left_join_events_df.select('uuid_event').distinct().count() # 14,814,344명"
   ]
  },
  {
   "cell_type": "code",
   "execution_count": 43,
   "metadata": {},
   "outputs": [],
   "source": [
    "page_views_events_df = page_views_left_join_events_df.sort('timestamp_pv', ascending = True)"
   ]
  },
  {
   "cell_type": "code",
   "execution_count": null,
   "metadata": {},
   "outputs": [],
   "source": [
    "# page_views_events_df.show(3)"
   ]
  },
  {
   "cell_type": "code",
   "execution_count": 44,
   "metadata": {},
   "outputs": [],
   "source": [
    "windowval = (Window.partitionBy('uuid_event').orderBy('timestamp_pv')\n",
    "             .rangeBetween(Window.unboundedPreceding, 0))"
   ]
  },
  {
   "cell_type": "code",
   "execution_count": 45,
   "metadata": {},
   "outputs": [],
   "source": [
    "user_views_df = page_views_events_df.withColumn('user_views', F.count('uuid_event').over(windowval))"
   ]
  },
  {
   "cell_type": "code",
   "execution_count": null,
   "metadata": {},
   "outputs": [],
   "source": [
    "# user_views_df.select('user_views').describe('user_views').show()"
   ]
  },
  {
   "cell_type": "code",
   "execution_count": 47,
   "metadata": {},
   "outputs": [],
   "source": [
    "# user_views_df.filter((user_views_df[\"user_views\"] == \"\") | user_views_df[\"user_views\"].isNull() | F.isnan(user_views_df[\"user_views\"])).count()"
   ]
  },
  {
   "cell_type": "code",
   "execution_count": 48,
   "metadata": {},
   "outputs": [],
   "source": [
    "train_merged_df = spark.read.parquet(\"gs://line_2018/outputtrain_final_3\")"
   ]
  },
  {
   "cell_type": "code",
   "execution_count": 49,
   "metadata": {},
   "outputs": [
    {
     "data": {
      "text/plain": [
       "['display_id',\n",
       " 'ad_id',\n",
       " 'label',\n",
       " 'is_leak',\n",
       " 'weekend',\n",
       " 'pop_ad_id',\n",
       " 'pop_ad_doc_id',\n",
       " 'pop_ad_publisher_id',\n",
       " 'pop_advertiser_id',\n",
       " 'pop_campaign_id',\n",
       " 'pop_view_doc_ad_doc',\n",
       " 'pop_ad_source_id',\n",
       " 'pop_ad_topic_id',\n",
       " 'pop_ad_category_id',\n",
       " 'view_publisher_id',\n",
       " 'view_source_id',\n",
       " 'hour',\n",
       " 'platform',\n",
       " 'traffic_source',\n",
       " 'is_train',\n",
       " 'country',\n",
       " 'day_event',\n",
       " 'campaign_id',\n",
       " 'advertiser_id',\n",
       " 'ad_category_id',\n",
       " 'ad_topic_id',\n",
       " 'view_category_id',\n",
       " 'view_topic_id',\n",
       " 'timestamp_event',\n",
       " 'ad_source_id',\n",
       " 'ad_publisher_id']"
      ]
     },
     "execution_count": 49,
     "metadata": {},
     "output_type": "execute_result"
    }
   ],
   "source": [
    "train_merged_df.columns"
   ]
  },
  {
   "cell_type": "code",
   "execution_count": 50,
   "metadata": {},
   "outputs": [],
   "source": [
    "user_views_df = user_views_df.select('uuid_event', 'user_views', 'timestamp_event', 'display_id')"
   ]
  },
  {
   "cell_type": "code",
   "execution_count": 57,
   "metadata": {},
   "outputs": [],
   "source": [
    "train_user_added_df = train_merged_df \\\n",
    "                    .join(user_views_df, on = [\"display_id\", \"timestamp_event\"], how = 'left')"
   ]
  },
  {
   "cell_type": "code",
   "execution_count": 53,
   "metadata": {},
   "outputs": [
    {
     "data": {
      "text/plain": [
       "195463"
      ]
     },
     "execution_count": 53,
     "metadata": {},
     "output_type": "execute_result"
    }
   ],
   "source": [
    "train_user_added_df.filter((train_user_added_df[\"user_views\"] == \"\") | train_user_added_df[\"user_views\"].isNull() | F.isnan(train_user_added_df[\"user_views\"])).count()"
   ]
  },
  {
   "cell_type": "markdown",
   "metadata": {},
   "source": [
    "cf) 결측치가 생기는 원인 파악 필요"
   ]
  },
  {
   "cell_type": "code",
   "execution_count": 58,
   "metadata": {},
   "outputs": [],
   "source": [
    "train_user_added_df = train_user_added_df.fillna({\"user_views\":1})"
   ]
  },
  {
   "cell_type": "code",
   "execution_count": 59,
   "metadata": {},
   "outputs": [
    {
     "data": {
      "text/plain": [
       "0"
      ]
     },
     "execution_count": 59,
     "metadata": {},
     "output_type": "execute_result"
    }
   ],
   "source": [
    "train_user_added_df.filter((train_user_added_df[\"user_views\"] == \"\") | train_user_added_df[\"user_views\"].isNull() | F.isnan(train_user_added_df[\"user_views\"])).count()"
   ]
  },
  {
   "cell_type": "code",
   "execution_count": 60,
   "metadata": {},
   "outputs": [
    {
     "data": {
      "text/plain": [
       "['display_id',\n",
       " 'timestamp_event',\n",
       " 'ad_id',\n",
       " 'label',\n",
       " 'is_leak',\n",
       " 'weekend',\n",
       " 'pop_ad_id',\n",
       " 'pop_ad_doc_id',\n",
       " 'pop_ad_publisher_id',\n",
       " 'pop_advertiser_id',\n",
       " 'pop_campaign_id',\n",
       " 'pop_view_doc_ad_doc',\n",
       " 'pop_ad_source_id',\n",
       " 'pop_ad_topic_id',\n",
       " 'pop_ad_category_id',\n",
       " 'view_publisher_id',\n",
       " 'view_source_id',\n",
       " 'hour',\n",
       " 'platform',\n",
       " 'traffic_source',\n",
       " 'is_train',\n",
       " 'country',\n",
       " 'day_event',\n",
       " 'campaign_id',\n",
       " 'advertiser_id',\n",
       " 'ad_category_id',\n",
       " 'ad_topic_id',\n",
       " 'view_category_id',\n",
       " 'view_topic_id',\n",
       " 'ad_source_id',\n",
       " 'ad_publisher_id',\n",
       " 'uuid_event',\n",
       " 'user_views']"
      ]
     },
     "execution_count": 60,
     "metadata": {},
     "output_type": "execute_result"
    }
   ],
   "source": [
    "train_user_added_df.columns"
   ]
  },
  {
   "cell_type": "markdown",
   "metadata": {},
   "source": [
    "## Part C: ad_views(광고 누적 뷰 수 카운팅) 생성하기"
   ]
  },
  {
   "cell_type": "code",
   "execution_count": 61,
   "metadata": {},
   "outputs": [],
   "source": [
    "windowval2 = (Window.partitionBy(\"ad_id\").orderBy(\"timestamp_event\")\n",
    "             .rangeBetween(Window.unboundedPreceding, 0))"
   ]
  },
  {
   "cell_type": "code",
   "execution_count": 62,
   "metadata": {},
   "outputs": [],
   "source": [
    "train_user_ad_added_df = train_user_added_df.withColumn(\"ad_views\", F.count(\"ad_id\").over(windowval2))"
   ]
  },
  {
   "cell_type": "code",
   "execution_count": 63,
   "metadata": {},
   "outputs": [
    {
     "data": {
      "text/plain": [
       "0"
      ]
     },
     "execution_count": 63,
     "metadata": {},
     "output_type": "execute_result"
    }
   ],
   "source": [
    "train_user_ad_added_df.filter((train_user_ad_added_df[\"ad_views\"] == \"\") | train_user_ad_added_df[\"ad_views\"].isNull() | F.isnan(train_user_ad_added_df[\"ad_views\"])).count()"
   ]
  },
  {
   "cell_type": "code",
   "execution_count": null,
   "metadata": {},
   "outputs": [],
   "source": [
    "# train_user_added_df.count() # 87141731"
   ]
  },
  {
   "cell_type": "markdown",
   "metadata": {},
   "source": [
    "## Part D: ad_doc_view(랜딩 페이지의 누적 페이지 뷰 수 카운팅) 생성하기"
   ]
  },
  {
   "cell_type": "code",
   "execution_count": 142,
   "metadata": {},
   "outputs": [],
   "source": [
    "page_views_ad_doc_unique_df = page_views_with_day_df \\\n",
    "                    .join(promoted_content_df, on=[F.col(\"document_id\") == F.col(\"document_id_promo\")], how = 'inner').cache()"
   ]
  },
  {
   "cell_type": "code",
   "execution_count": 146,
   "metadata": {},
   "outputs": [
    {
     "data": {
      "text/plain": [
       "['display_id',\n",
       " 'uuid',\n",
       " 'document_id',\n",
       " 'timestamp_event',\n",
       " 'platform',\n",
       " 'geo_location',\n",
       " 'dummyEvent',\n",
       " 'day']"
      ]
     },
     "execution_count": 146,
     "metadata": {},
     "output_type": "execute_result"
    }
   ],
   "source": [
    "events_with_day_df.columns"
   ]
  },
  {
   "cell_type": "code",
   "execution_count": 145,
   "metadata": {},
   "outputs": [
    {
     "data": {
      "text/plain": [
       "['uuid_pv',\n",
       " 'document_id',\n",
       " 'timestamp_pv',\n",
       " 'platform',\n",
       " 'geo_location',\n",
       " 'traffic_source',\n",
       " 'dummyPageView',\n",
       " 'day',\n",
       " 'ad_id',\n",
       " 'document_id_promo',\n",
       " 'campaign_id',\n",
       " 'advertiser_id',\n",
       " 'dummyPromotedContent']"
      ]
     },
     "execution_count": 145,
     "metadata": {},
     "output_type": "execute_result"
    }
   ],
   "source": [
    "page_views_ad_doc_unique_df.columns"
   ]
  },
  {
   "cell_type": "code",
   "execution_count": 149,
   "metadata": {},
   "outputs": [],
   "source": [
    "page_views_ad_doc_unique_df = page_views_ad_doc_unique_df.withColumnRenamed(\"uuid_pv\", \"uuid\")"
   ]
  },
  {
   "cell_type": "code",
   "execution_count": 150,
   "metadata": {},
   "outputs": [],
   "source": [
    "page_views_event_joined_df = page_views_ad_doc_unique_df \\\n",
    "                                        .join(events_with_day_df, \n",
    "                                              on=[\"uuid\", \"document_id\", \"day\", \"platform\", \"geo_location\"],\n",
    "                                              how='left')"
   ]
  },
  {
   "cell_type": "code",
   "execution_count": 151,
   "metadata": {},
   "outputs": [],
   "source": [
    "windowval3 = (Window.partitionBy('document_id').orderBy('timestamp_pv')\n",
    "             .rangeBetween(Window.unboundedPreceding, 0))"
   ]
  },
  {
   "cell_type": "code",
   "execution_count": 152,
   "metadata": {},
   "outputs": [],
   "source": [
    "page_views_event_joined_df = page_views_event_joined_df.withColumn('ad_doc_views', F.count('document_id').over(windowval3))"
   ]
  },
  {
   "cell_type": "code",
   "execution_count": 153,
   "metadata": {},
   "outputs": [
    {
     "data": {
      "text/plain": [
       "['uuid',\n",
       " 'document_id',\n",
       " 'day',\n",
       " 'platform',\n",
       " 'geo_location',\n",
       " 'timestamp_pv',\n",
       " 'traffic_source',\n",
       " 'dummyPageView',\n",
       " 'ad_id',\n",
       " 'document_id_promo',\n",
       " 'campaign_id',\n",
       " 'advertiser_id',\n",
       " 'dummyPromotedContent',\n",
       " 'display_id',\n",
       " 'timestamp_event',\n",
       " 'dummyEvent',\n",
       " 'ad_doc_views']"
      ]
     },
     "execution_count": 153,
     "metadata": {},
     "output_type": "execute_result"
    }
   ],
   "source": [
    "page_views_event_joined_df.columns"
   ]
  },
  {
   "cell_type": "code",
   "execution_count": 116,
   "metadata": {},
   "outputs": [
    {
     "data": {
      "text/plain": [
       "['display_id',\n",
       " 'timestamp_event',\n",
       " 'ad_id',\n",
       " 'label',\n",
       " 'is_leak',\n",
       " 'weekend',\n",
       " 'pop_ad_id',\n",
       " 'pop_ad_doc_id',\n",
       " 'pop_ad_publisher_id',\n",
       " 'pop_advertiser_id',\n",
       " 'pop_campaign_id',\n",
       " 'pop_view_doc_ad_doc',\n",
       " 'pop_ad_source_id',\n",
       " 'pop_ad_topic_id',\n",
       " 'pop_ad_category_id',\n",
       " 'view_publisher_id',\n",
       " 'view_source_id',\n",
       " 'hour',\n",
       " 'platform',\n",
       " 'traffic_source',\n",
       " 'is_train',\n",
       " 'country',\n",
       " 'day_event',\n",
       " 'campaign_id',\n",
       " 'advertiser_id',\n",
       " 'ad_category_id',\n",
       " 'ad_topic_id',\n",
       " 'view_category_id',\n",
       " 'view_topic_id',\n",
       " 'ad_source_id',\n",
       " 'ad_publisher_id',\n",
       " 'uuid_event',\n",
       " 'user_views',\n",
       " 'ad_views']"
      ]
     },
     "execution_count": 116,
     "metadata": {},
     "output_type": "execute_result"
    }
   ],
   "source": [
    "train_user_ad_added_df.columns"
   ]
  },
  {
   "cell_type": "code",
   "execution_count": 117,
   "metadata": {},
   "outputs": [
    {
     "data": {
      "text/plain": [
       "['ad_id',\n",
       " 'document_id_promo',\n",
       " 'campaign_id',\n",
       " 'advertiser_id',\n",
       " 'dummyPromotedContent']"
      ]
     },
     "execution_count": 117,
     "metadata": {},
     "output_type": "execute_result"
    }
   ],
   "source": [
    "promoted_content_df.columns"
   ]
  },
  {
   "cell_type": "code",
   "execution_count": 155,
   "metadata": {},
   "outputs": [],
   "source": [
    "train_user_ad_doc_added_df = train_user_ad_added_df \\\n",
    "                    .join(promoted_content_df, on= \"ad_id\", how = 'left').cache()"
   ]
  },
  {
   "cell_type": "code",
   "execution_count": 156,
   "metadata": {},
   "outputs": [
    {
     "data": {
      "text/plain": [
       "['ad_id',\n",
       " 'display_id',\n",
       " 'timestamp_event',\n",
       " 'label',\n",
       " 'is_leak',\n",
       " 'weekend',\n",
       " 'pop_ad_id',\n",
       " 'pop_ad_doc_id',\n",
       " 'pop_ad_publisher_id',\n",
       " 'pop_advertiser_id',\n",
       " 'pop_campaign_id',\n",
       " 'pop_view_doc_ad_doc',\n",
       " 'pop_ad_source_id',\n",
       " 'pop_ad_topic_id',\n",
       " 'pop_ad_category_id',\n",
       " 'view_publisher_id',\n",
       " 'view_source_id',\n",
       " 'hour',\n",
       " 'platform',\n",
       " 'traffic_source',\n",
       " 'is_train',\n",
       " 'country',\n",
       " 'day_event',\n",
       " 'campaign_id',\n",
       " 'advertiser_id',\n",
       " 'ad_category_id',\n",
       " 'ad_topic_id',\n",
       " 'view_category_id',\n",
       " 'view_topic_id',\n",
       " 'ad_source_id',\n",
       " 'ad_publisher_id',\n",
       " 'uuid_event',\n",
       " 'user_views',\n",
       " 'ad_views',\n",
       " 'document_id_promo',\n",
       " 'campaign_id',\n",
       " 'advertiser_id',\n",
       " 'dummyPromotedContent']"
      ]
     },
     "execution_count": 156,
     "metadata": {},
     "output_type": "execute_result"
    }
   ],
   "source": [
    "train_user_ad_doc_added_df.columns"
   ]
  },
  {
   "cell_type": "code",
   "execution_count": 157,
   "metadata": {},
   "outputs": [],
   "source": [
    "train_user_ad_doc_added_df = train_user_ad_doc_added_df \\\n",
    "                        .join(page_views_event_joined_df, on= [\"document_id_promo\", \"timestamp_event\", \"ad_id\", \"campaign_id\", \"advertiser_id\", \"display_id\"], how = \"left\").cache()"
   ]
  },
  {
   "cell_type": "code",
   "execution_count": 158,
   "metadata": {},
   "outputs": [
    {
     "data": {
      "text/plain": [
       "['document_id_promo',\n",
       " 'timestamp_event',\n",
       " 'ad_id',\n",
       " 'campaign_id',\n",
       " 'advertiser_id',\n",
       " 'display_id',\n",
       " 'label',\n",
       " 'is_leak',\n",
       " 'weekend',\n",
       " 'pop_ad_id',\n",
       " 'pop_ad_doc_id',\n",
       " 'pop_ad_publisher_id',\n",
       " 'pop_advertiser_id',\n",
       " 'pop_campaign_id',\n",
       " 'pop_view_doc_ad_doc',\n",
       " 'pop_ad_source_id',\n",
       " 'pop_ad_topic_id',\n",
       " 'pop_ad_category_id',\n",
       " 'view_publisher_id',\n",
       " 'view_source_id',\n",
       " 'hour',\n",
       " 'platform',\n",
       " 'traffic_source',\n",
       " 'is_train',\n",
       " 'country',\n",
       " 'day_event',\n",
       " 'ad_category_id',\n",
       " 'ad_topic_id',\n",
       " 'view_category_id',\n",
       " 'view_topic_id',\n",
       " 'ad_source_id',\n",
       " 'ad_publisher_id',\n",
       " 'uuid_event',\n",
       " 'user_views',\n",
       " 'ad_views',\n",
       " 'campaign_id',\n",
       " 'advertiser_id',\n",
       " 'dummyPromotedContent',\n",
       " 'uuid',\n",
       " 'document_id',\n",
       " 'day',\n",
       " 'platform',\n",
       " 'geo_location',\n",
       " 'timestamp_pv',\n",
       " 'traffic_source',\n",
       " 'dummyPageView',\n",
       " 'dummyPromotedContent',\n",
       " 'dummyEvent',\n",
       " 'ad_doc_views']"
      ]
     },
     "execution_count": 158,
     "metadata": {},
     "output_type": "execute_result"
    }
   ],
   "source": [
    "train_user_ad_doc_added_df.columns"
   ]
  },
  {
   "cell_type": "code",
   "execution_count": 159,
   "metadata": {},
   "outputs": [
    {
     "ename": "KeyboardInterrupt",
     "evalue": "",
     "output_type": "error",
     "traceback": [
      "\u001b[0;31m\u001b[0m",
      "\u001b[0;31mKeyboardInterrupt\u001b[0mTraceback (most recent call last)",
      "\u001b[0;32m<ipython-input-159-5f49987d04cf>\u001b[0m in \u001b[0;36m<module>\u001b[0;34m()\u001b[0m\n\u001b[0;32m----> 1\u001b[0;31m \u001b[0mtrain_user_ad_doc_added_df\u001b[0m\u001b[0;34m.\u001b[0m\u001b[0mfilter\u001b[0m\u001b[0;34m(\u001b[0m\u001b[0;34m(\u001b[0m\u001b[0mtrain_user_ad_doc_added_df\u001b[0m\u001b[0;34m[\u001b[0m\u001b[0;34m\"ad_doc_views\"\u001b[0m\u001b[0;34m]\u001b[0m \u001b[0;34m==\u001b[0m \u001b[0;34m\"\"\u001b[0m\u001b[0;34m)\u001b[0m \u001b[0;34m|\u001b[0m \u001b[0mtrain_user_ad_doc_added_df\u001b[0m\u001b[0;34m[\u001b[0m\u001b[0;34m\"ad_doc_views\"\u001b[0m\u001b[0;34m]\u001b[0m\u001b[0;34m.\u001b[0m\u001b[0misNull\u001b[0m\u001b[0;34m(\u001b[0m\u001b[0;34m)\u001b[0m \u001b[0;34m|\u001b[0m \u001b[0mF\u001b[0m\u001b[0;34m.\u001b[0m\u001b[0misnan\u001b[0m\u001b[0;34m(\u001b[0m\u001b[0mtrain_user_ad_doc_added_df\u001b[0m\u001b[0;34m[\u001b[0m\u001b[0;34m\"ad_doc_views\"\u001b[0m\u001b[0;34m]\u001b[0m\u001b[0;34m)\u001b[0m\u001b[0;34m)\u001b[0m\u001b[0;34m.\u001b[0m\u001b[0mcount\u001b[0m\u001b[0;34m(\u001b[0m\u001b[0;34m)\u001b[0m\u001b[0;34m\u001b[0m\u001b[0m\n\u001b[0m",
      "\u001b[0;32m/usr/lib/spark/python/lib/pyspark.zip/pyspark/sql/dataframe.py\u001b[0m in \u001b[0;36mcount\u001b[0;34m(self)\u001b[0m\n\u001b[1;32m    453\u001b[0m         \u001b[0;36m2\u001b[0m\u001b[0;34m\u001b[0m\u001b[0m\n\u001b[1;32m    454\u001b[0m         \"\"\"\n\u001b[0;32m--> 455\u001b[0;31m         \u001b[0;32mreturn\u001b[0m \u001b[0mint\u001b[0m\u001b[0;34m(\u001b[0m\u001b[0mself\u001b[0m\u001b[0;34m.\u001b[0m\u001b[0m_jdf\u001b[0m\u001b[0;34m.\u001b[0m\u001b[0mcount\u001b[0m\u001b[0;34m(\u001b[0m\u001b[0;34m)\u001b[0m\u001b[0;34m)\u001b[0m\u001b[0;34m\u001b[0m\u001b[0m\n\u001b[0m\u001b[1;32m    456\u001b[0m \u001b[0;34m\u001b[0m\u001b[0m\n\u001b[1;32m    457\u001b[0m     \u001b[0;34m@\u001b[0m\u001b[0mignore_unicode_prefix\u001b[0m\u001b[0;34m\u001b[0m\u001b[0m\n",
      "\u001b[0;32m/usr/lib/spark/python/lib/py4j-0.10.7-src.zip/py4j/java_gateway.py\u001b[0m in \u001b[0;36m__call__\u001b[0;34m(self, *args)\u001b[0m\n\u001b[1;32m   1253\u001b[0m             \u001b[0mproto\u001b[0m\u001b[0;34m.\u001b[0m\u001b[0mEND_COMMAND_PART\u001b[0m\u001b[0;34m\u001b[0m\u001b[0m\n\u001b[1;32m   1254\u001b[0m \u001b[0;34m\u001b[0m\u001b[0m\n\u001b[0;32m-> 1255\u001b[0;31m         \u001b[0manswer\u001b[0m \u001b[0;34m=\u001b[0m \u001b[0mself\u001b[0m\u001b[0;34m.\u001b[0m\u001b[0mgateway_client\u001b[0m\u001b[0;34m.\u001b[0m\u001b[0msend_command\u001b[0m\u001b[0;34m(\u001b[0m\u001b[0mcommand\u001b[0m\u001b[0;34m)\u001b[0m\u001b[0;34m\u001b[0m\u001b[0m\n\u001b[0m\u001b[1;32m   1256\u001b[0m         return_value = get_return_value(\n\u001b[1;32m   1257\u001b[0m             answer, self.gateway_client, self.target_id, self.name)\n",
      "\u001b[0;32m/usr/lib/spark/python/lib/py4j-0.10.7-src.zip/py4j/java_gateway.py\u001b[0m in \u001b[0;36msend_command\u001b[0;34m(self, command, retry, binary)\u001b[0m\n\u001b[1;32m    983\u001b[0m         \u001b[0mconnection\u001b[0m \u001b[0;34m=\u001b[0m \u001b[0mself\u001b[0m\u001b[0;34m.\u001b[0m\u001b[0m_get_connection\u001b[0m\u001b[0;34m(\u001b[0m\u001b[0;34m)\u001b[0m\u001b[0;34m\u001b[0m\u001b[0m\n\u001b[1;32m    984\u001b[0m         \u001b[0;32mtry\u001b[0m\u001b[0;34m:\u001b[0m\u001b[0;34m\u001b[0m\u001b[0m\n\u001b[0;32m--> 985\u001b[0;31m             \u001b[0mresponse\u001b[0m \u001b[0;34m=\u001b[0m \u001b[0mconnection\u001b[0m\u001b[0;34m.\u001b[0m\u001b[0msend_command\u001b[0m\u001b[0;34m(\u001b[0m\u001b[0mcommand\u001b[0m\u001b[0;34m)\u001b[0m\u001b[0;34m\u001b[0m\u001b[0m\n\u001b[0m\u001b[1;32m    986\u001b[0m             \u001b[0;32mif\u001b[0m \u001b[0mbinary\u001b[0m\u001b[0;34m:\u001b[0m\u001b[0;34m\u001b[0m\u001b[0m\n\u001b[1;32m    987\u001b[0m                 \u001b[0;32mreturn\u001b[0m \u001b[0mresponse\u001b[0m\u001b[0;34m,\u001b[0m \u001b[0mself\u001b[0m\u001b[0;34m.\u001b[0m\u001b[0m_create_connection_guard\u001b[0m\u001b[0;34m(\u001b[0m\u001b[0mconnection\u001b[0m\u001b[0;34m)\u001b[0m\u001b[0;34m\u001b[0m\u001b[0m\n",
      "\u001b[0;32m/usr/lib/spark/python/lib/py4j-0.10.7-src.zip/py4j/java_gateway.py\u001b[0m in \u001b[0;36msend_command\u001b[0;34m(self, command)\u001b[0m\n\u001b[1;32m   1150\u001b[0m \u001b[0;34m\u001b[0m\u001b[0m\n\u001b[1;32m   1151\u001b[0m         \u001b[0;32mtry\u001b[0m\u001b[0;34m:\u001b[0m\u001b[0;34m\u001b[0m\u001b[0m\n\u001b[0;32m-> 1152\u001b[0;31m             \u001b[0manswer\u001b[0m \u001b[0;34m=\u001b[0m \u001b[0msmart_decode\u001b[0m\u001b[0;34m(\u001b[0m\u001b[0mself\u001b[0m\u001b[0;34m.\u001b[0m\u001b[0mstream\u001b[0m\u001b[0;34m.\u001b[0m\u001b[0mreadline\u001b[0m\u001b[0;34m(\u001b[0m\u001b[0;34m)\u001b[0m\u001b[0;34m[\u001b[0m\u001b[0;34m:\u001b[0m\u001b[0;34m-\u001b[0m\u001b[0;36m1\u001b[0m\u001b[0;34m]\u001b[0m\u001b[0;34m)\u001b[0m\u001b[0;34m\u001b[0m\u001b[0m\n\u001b[0m\u001b[1;32m   1153\u001b[0m             \u001b[0mlogger\u001b[0m\u001b[0;34m.\u001b[0m\u001b[0mdebug\u001b[0m\u001b[0;34m(\u001b[0m\u001b[0;34m\"Answer received: {0}\"\u001b[0m\u001b[0;34m.\u001b[0m\u001b[0mformat\u001b[0m\u001b[0;34m(\u001b[0m\u001b[0manswer\u001b[0m\u001b[0;34m)\u001b[0m\u001b[0;34m)\u001b[0m\u001b[0;34m\u001b[0m\u001b[0m\n\u001b[1;32m   1154\u001b[0m             \u001b[0;32mif\u001b[0m \u001b[0manswer\u001b[0m\u001b[0;34m.\u001b[0m\u001b[0mstartswith\u001b[0m\u001b[0;34m(\u001b[0m\u001b[0mproto\u001b[0m\u001b[0;34m.\u001b[0m\u001b[0mRETURN_MESSAGE\u001b[0m\u001b[0;34m)\u001b[0m\u001b[0;34m:\u001b[0m\u001b[0;34m\u001b[0m\u001b[0m\n",
      "\u001b[0;32m/usr/local/envs/py2env/lib/python2.7/socket.pyc\u001b[0m in \u001b[0;36mreadline\u001b[0;34m(self, size)\u001b[0m\n\u001b[1;32m    449\u001b[0m             \u001b[0;32mwhile\u001b[0m \u001b[0mTrue\u001b[0m\u001b[0;34m:\u001b[0m\u001b[0;34m\u001b[0m\u001b[0m\n\u001b[1;32m    450\u001b[0m                 \u001b[0;32mtry\u001b[0m\u001b[0;34m:\u001b[0m\u001b[0;34m\u001b[0m\u001b[0m\n\u001b[0;32m--> 451\u001b[0;31m                     \u001b[0mdata\u001b[0m \u001b[0;34m=\u001b[0m \u001b[0mself\u001b[0m\u001b[0;34m.\u001b[0m\u001b[0m_sock\u001b[0m\u001b[0;34m.\u001b[0m\u001b[0mrecv\u001b[0m\u001b[0;34m(\u001b[0m\u001b[0mself\u001b[0m\u001b[0;34m.\u001b[0m\u001b[0m_rbufsize\u001b[0m\u001b[0;34m)\u001b[0m\u001b[0;34m\u001b[0m\u001b[0m\n\u001b[0m\u001b[1;32m    452\u001b[0m                 \u001b[0;32mexcept\u001b[0m \u001b[0merror\u001b[0m\u001b[0;34m,\u001b[0m \u001b[0me\u001b[0m\u001b[0;34m:\u001b[0m\u001b[0;34m\u001b[0m\u001b[0m\n\u001b[1;32m    453\u001b[0m                     \u001b[0;32mif\u001b[0m \u001b[0me\u001b[0m\u001b[0;34m.\u001b[0m\u001b[0margs\u001b[0m\u001b[0;34m[\u001b[0m\u001b[0;36m0\u001b[0m\u001b[0;34m]\u001b[0m \u001b[0;34m==\u001b[0m \u001b[0mEINTR\u001b[0m\u001b[0;34m:\u001b[0m\u001b[0;34m\u001b[0m\u001b[0m\n",
      "\u001b[0;31mKeyboardInterrupt\u001b[0m: "
     ]
    }
   ],
   "source": [
    "train_user_ad_doc_added_df.filter((train_user_ad_doc_added_df[\"ad_doc_views\"] == \"\") | train_user_ad_doc_added_df[\"ad_doc_views\"].isNull() | F.isnan(train_user_ad_doc_added_df[\"ad_doc_views\"])).count()"
   ]
  },
  {
   "cell_type": "markdown",
   "metadata": {},
   "source": [
    "## Part E: 테이블 합치기"
   ]
  },
  {
   "cell_type": "code",
   "execution_count": 160,
   "metadata": {},
   "outputs": [],
   "source": [
    "train_user_ad_doc_added_df = train_user_ad_doc_added_df.drop('dummyEvent', 'dummyPromotedContent', 'dummyPageView', 'timestamp_pv', 'geo_location', 'document_id', 'day_event', 'document_id_promo')"
   ]
  },
  {
   "cell_type": "code",
   "execution_count": 132,
   "metadata": {},
   "outputs": [],
   "source": [
    "# # binning:\n",
    "# table = train_user_ad_doc_added_df.select('display_id', 'ad_id', 'ad_views', 'ad_doc_views', 'user_views')"
   ]
  },
  {
   "cell_type": "code",
   "execution_count": 161,
   "metadata": {},
   "outputs": [],
   "source": [
    "table2 = train_user_ad_doc_added_df.select('ad_id', 'ad_doc_views')"
   ]
  },
  {
   "cell_type": "code",
   "execution_count": 133,
   "metadata": {},
   "outputs": [],
   "source": [
    "# # csv 파일로 쓰기: binning.csv\n",
    "# table.repartition(1).write.csv(OUTPUT_BUCKET_FOLDER + 'binning.csv', header = True)"
   ]
  },
  {
   "cell_type": "code",
   "execution_count": 162,
   "metadata": {},
   "outputs": [],
   "source": [
    "# # csv 파일로 쓰기: binning.csv\n",
    "# table2.repartition(1).write.csv(OUTPUT_BUCKET_FOLDER + 'binning2.csv', header = True)"
   ]
  },
  {
   "cell_type": "code",
   "execution_count": 163,
   "metadata": {},
   "outputs": [],
   "source": [
    "train_user_ad_doc_added_df2 = train_user_ad_doc_added_df.drop('pop_ad_id',\n",
    " 'pop_ad_doc_id',\n",
    " 'pop_ad_publisher_id',\n",
    " 'pop_advertiser_id',\n",
    " 'pop_campaign_id',\n",
    " 'pop_view_doc_ad_doc',\n",
    " 'pop_ad_source_id',\n",
    " 'pop_ad_topic_id',\n",
    " 'pop_ad_category_id', 'user_views', 'ad_doc_views', 'ad_views')"
   ]
  },
  {
   "cell_type": "code",
   "execution_count": 137,
   "metadata": {},
   "outputs": [],
   "source": [
    "# # column별 수준 수 세기\n",
    "# for col in train_valid_merged_df.columns:\n",
    "#   print(col, train_valid_merged_df.select(col).distinct().count())"
   ]
  },
  {
   "cell_type": "code",
   "execution_count": null,
   "metadata": {},
   "outputs": [],
   "source": [
    "# # column별 NA 세기\n",
    "# train_valid_merged_df.select([F.count(F.when(F.isnan(c) | F.col(c).isNull(), c)).alias(c) for c in train_valid_merged_df.columns]).show()"
   ]
  },
  {
   "cell_type": "code",
   "execution_count": 164,
   "metadata": {},
   "outputs": [],
   "source": [
    "train_valid_merged_df2 = train_user_ad_doc_added_df2"
   ]
  },
  {
   "cell_type": "code",
   "execution_count": 165,
   "metadata": {},
   "outputs": [],
   "source": [
    "# 미국, 캐나다, 영국이 아닌 경우 U로 할당\n",
    "train_valid_merged_df2 = train_valid_merged_df2.withColumn(\"country\", \\\n",
    "              F.when((train_valid_merged_df2[\"country\"] != 'US') &\n",
    "                     (train_valid_merged_df2[\"country\"] != 'CA') &\n",
    "                     (train_valid_merged_df2[\"country\"] != 'GB'), 'U').otherwise(train_valid_merged_df2[\"country\"]))"
   ]
  },
  {
   "cell_type": "code",
   "execution_count": 166,
   "metadata": {},
   "outputs": [],
   "source": [
    "cont_binned_schema = StructType(\n",
    "                    [StructField(\"pop_ad_id\", StringType(), True),\n",
    "                    StructField(\"pop_ad_doc_id\", StringType(), True),                    \n",
    "                    StructField(\"pop_ad_publisher_id\", StringType(), True),\n",
    "                    StructField(\"pop_advertiser_id\", StringType(), True),\n",
    "                    StructField(\"pop_campaign_id\", StringType(), True),\n",
    "                    StructField(\"pop_view_doc_ad_doc\", StringType(), True),\n",
    "                     StructField(\"pop_ad_source_id\", StringType(), True),\n",
    "                     StructField(\"pop_ad_topic_id\", StringType(), True),\n",
    "                     StructField(\"pop_ad_category_id\", StringType(), True)\n",
    "                     \n",
    "                    ]\n",
    "                    )\n",
    "\n",
    "cont_binned_df = spark.read.schema(cont_binned_schema).options(header='true', inferschema='false', nullValue='\\\\N') \\\n",
    "                .csv(DATA_BUCKET_FOLDER + \"train_bin.csv\")"
   ]
  },
  {
   "cell_type": "code",
   "execution_count": null,
   "metadata": {},
   "outputs": [],
   "source": [
    "# # column별 수준 수 세기\n",
    "# for col in cont_binned_df.columns:\n",
    "#   print(col, cont_binned_df.select(col).distinct().count())"
   ]
  },
  {
   "cell_type": "code",
   "execution_count": null,
   "metadata": {},
   "outputs": [],
   "source": [
    "# # column별 NA 세기\n",
    "# cont_binned_df.select([F.count(F.when(F.isnan(c) | F.col(c).isNull(), c)).alias(c) for c in cont_binned_df.columns]).show()"
   ]
  },
  {
   "cell_type": "code",
   "execution_count": 167,
   "metadata": {},
   "outputs": [],
   "source": [
    "# NA인 값을 U로 바꾸기\n",
    "for col in cont_binned_df.columns:\n",
    "  cont_binned_df = cont_binned_df.withColumn(col, F.regexp_replace(col, 'NA', 'U'))"
   ]
  },
  {
   "cell_type": "code",
   "execution_count": 169,
   "metadata": {},
   "outputs": [],
   "source": [
    "cont_binned_df = cont_binned_df.withColumn('index', F.row_number().over(Window.orderBy(F.lit(1))))"
   ]
  },
  {
   "cell_type": "code",
   "execution_count": 170,
   "metadata": {},
   "outputs": [],
   "source": [
    "train_valid_merged_df2 = train_valid_merged_df2.withColumn('index', F.row_number().over(Window.orderBy(F.lit(1))))"
   ]
  },
  {
   "cell_type": "code",
   "execution_count": 171,
   "metadata": {},
   "outputs": [],
   "source": [
    "train_final = train_valid_merged_df2.join(cont_binned_df, 'index', how = 'left')"
   ]
  },
  {
   "cell_type": "code",
   "execution_count": 175,
   "metadata": {},
   "outputs": [
    {
     "ename": "AnalysisException",
     "evalue": "u'Found duplicate column(s) when inserting into gs://line-2018-2/output/train_final(ing)_parquet: `traffic_source`, `advertiser_id`, `platform`, `campaign_id`;'",
     "output_type": "error",
     "traceback": [
      "\u001b[0;31m\u001b[0m",
      "\u001b[0;31mAnalysisException\u001b[0mTraceback (most recent call last)",
      "\u001b[0;32m<ipython-input-175-0ee56954522f>\u001b[0m in \u001b[0;36m<module>\u001b[0;34m()\u001b[0m\n\u001b[0;32m----> 1\u001b[0;31m \u001b[0mtrain_final\u001b[0m\u001b[0;34m.\u001b[0m\u001b[0mwrite\u001b[0m\u001b[0;34m.\u001b[0m\u001b[0mparquet\u001b[0m\u001b[0;34m(\u001b[0m\u001b[0mOUTPUT_BUCKET_FOLDER\u001b[0m \u001b[0;34m+\u001b[0m \u001b[0;34m'train_final(ing)_parquet'\u001b[0m\u001b[0;34m,\u001b[0m \u001b[0mmode\u001b[0m\u001b[0;34m=\u001b[0m\u001b[0;34m'overwrite'\u001b[0m\u001b[0;34m)\u001b[0m\u001b[0;34m\u001b[0m\u001b[0m\n\u001b[0m",
      "\u001b[0;32m/usr/lib/spark/python/lib/pyspark.zip/pyspark/sql/readwriter.py\u001b[0m in \u001b[0;36mparquet\u001b[0;34m(self, path, mode, partitionBy, compression)\u001b[0m\n\u001b[1;32m    802\u001b[0m             \u001b[0mself\u001b[0m\u001b[0;34m.\u001b[0m\u001b[0mpartitionBy\u001b[0m\u001b[0;34m(\u001b[0m\u001b[0mpartitionBy\u001b[0m\u001b[0;34m)\u001b[0m\u001b[0;34m\u001b[0m\u001b[0m\n\u001b[1;32m    803\u001b[0m         \u001b[0mself\u001b[0m\u001b[0;34m.\u001b[0m\u001b[0m_set_opts\u001b[0m\u001b[0;34m(\u001b[0m\u001b[0mcompression\u001b[0m\u001b[0;34m=\u001b[0m\u001b[0mcompression\u001b[0m\u001b[0;34m)\u001b[0m\u001b[0;34m\u001b[0m\u001b[0m\n\u001b[0;32m--> 804\u001b[0;31m         \u001b[0mself\u001b[0m\u001b[0;34m.\u001b[0m\u001b[0m_jwrite\u001b[0m\u001b[0;34m.\u001b[0m\u001b[0mparquet\u001b[0m\u001b[0;34m(\u001b[0m\u001b[0mpath\u001b[0m\u001b[0;34m)\u001b[0m\u001b[0;34m\u001b[0m\u001b[0m\n\u001b[0m\u001b[1;32m    805\u001b[0m \u001b[0;34m\u001b[0m\u001b[0m\n\u001b[1;32m    806\u001b[0m     \u001b[0;34m@\u001b[0m\u001b[0msince\u001b[0m\u001b[0;34m(\u001b[0m\u001b[0;36m1.6\u001b[0m\u001b[0;34m)\u001b[0m\u001b[0;34m\u001b[0m\u001b[0m\n",
      "\u001b[0;32m/usr/lib/spark/python/lib/py4j-0.10.7-src.zip/py4j/java_gateway.py\u001b[0m in \u001b[0;36m__call__\u001b[0;34m(self, *args)\u001b[0m\n\u001b[1;32m   1255\u001b[0m         \u001b[0manswer\u001b[0m \u001b[0;34m=\u001b[0m \u001b[0mself\u001b[0m\u001b[0;34m.\u001b[0m\u001b[0mgateway_client\u001b[0m\u001b[0;34m.\u001b[0m\u001b[0msend_command\u001b[0m\u001b[0;34m(\u001b[0m\u001b[0mcommand\u001b[0m\u001b[0;34m)\u001b[0m\u001b[0;34m\u001b[0m\u001b[0m\n\u001b[1;32m   1256\u001b[0m         return_value = get_return_value(\n\u001b[0;32m-> 1257\u001b[0;31m             answer, self.gateway_client, self.target_id, self.name)\n\u001b[0m\u001b[1;32m   1258\u001b[0m \u001b[0;34m\u001b[0m\u001b[0m\n\u001b[1;32m   1259\u001b[0m         \u001b[0;32mfor\u001b[0m \u001b[0mtemp_arg\u001b[0m \u001b[0;32min\u001b[0m \u001b[0mtemp_args\u001b[0m\u001b[0;34m:\u001b[0m\u001b[0;34m\u001b[0m\u001b[0m\n",
      "\u001b[0;32m/usr/lib/spark/python/lib/pyspark.zip/pyspark/sql/utils.py\u001b[0m in \u001b[0;36mdeco\u001b[0;34m(*a, **kw)\u001b[0m\n\u001b[1;32m     67\u001b[0m                                              e.java_exception.getStackTrace()))\n\u001b[1;32m     68\u001b[0m             \u001b[0;32mif\u001b[0m \u001b[0ms\u001b[0m\u001b[0;34m.\u001b[0m\u001b[0mstartswith\u001b[0m\u001b[0;34m(\u001b[0m\u001b[0;34m'org.apache.spark.sql.AnalysisException: '\u001b[0m\u001b[0;34m)\u001b[0m\u001b[0;34m:\u001b[0m\u001b[0;34m\u001b[0m\u001b[0m\n\u001b[0;32m---> 69\u001b[0;31m                 \u001b[0;32mraise\u001b[0m \u001b[0mAnalysisException\u001b[0m\u001b[0;34m(\u001b[0m\u001b[0ms\u001b[0m\u001b[0;34m.\u001b[0m\u001b[0msplit\u001b[0m\u001b[0;34m(\u001b[0m\u001b[0;34m': '\u001b[0m\u001b[0;34m,\u001b[0m \u001b[0;36m1\u001b[0m\u001b[0;34m)\u001b[0m\u001b[0;34m[\u001b[0m\u001b[0;36m1\u001b[0m\u001b[0;34m]\u001b[0m\u001b[0;34m,\u001b[0m \u001b[0mstackTrace\u001b[0m\u001b[0;34m)\u001b[0m\u001b[0;34m\u001b[0m\u001b[0m\n\u001b[0m\u001b[1;32m     70\u001b[0m             \u001b[0;32mif\u001b[0m \u001b[0ms\u001b[0m\u001b[0;34m.\u001b[0m\u001b[0mstartswith\u001b[0m\u001b[0;34m(\u001b[0m\u001b[0;34m'org.apache.spark.sql.catalyst.analysis'\u001b[0m\u001b[0;34m)\u001b[0m\u001b[0;34m:\u001b[0m\u001b[0;34m\u001b[0m\u001b[0m\n\u001b[1;32m     71\u001b[0m                 \u001b[0;32mraise\u001b[0m \u001b[0mAnalysisException\u001b[0m\u001b[0;34m(\u001b[0m\u001b[0ms\u001b[0m\u001b[0;34m.\u001b[0m\u001b[0msplit\u001b[0m\u001b[0;34m(\u001b[0m\u001b[0;34m': '\u001b[0m\u001b[0;34m,\u001b[0m \u001b[0;36m1\u001b[0m\u001b[0;34m)\u001b[0m\u001b[0;34m[\u001b[0m\u001b[0;36m1\u001b[0m\u001b[0;34m]\u001b[0m\u001b[0;34m,\u001b[0m \u001b[0mstackTrace\u001b[0m\u001b[0;34m)\u001b[0m\u001b[0;34m\u001b[0m\u001b[0m\n",
      "\u001b[0;31mAnalysisException\u001b[0m: u'Found duplicate column(s) when inserting into gs://line-2018-2/output/train_final(ing)_parquet: `traffic_source`, `advertiser_id`, `platform`, `campaign_id`;'"
     ]
    }
   ],
   "source": [
    "train_sample.repartition(1).write.csv(OUTPUT_BUCKET_FOLDER + 'train_final.csv', header = True)"
   ]
  },
  {
   "cell_type": "markdown",
   "metadata": {},
   "source": [
    "## Part F: Train - Test Set으로 구분"
   ]
  }
 ],
 "metadata": {
  "kernelspec": {
   "display_name": "Python 2",
   "language": "python",
   "name": "python2"
  },
  "language_info": {
   "codemirror_mode": {
    "name": "ipython",
    "version": 2
   },
   "file_extension": ".py",
   "mimetype": "text/x-python",
   "name": "python",
   "nbconvert_exporter": "python",
   "pygments_lexer": "ipython2",
   "version": "2.7.15"
  }
 },
 "nbformat": 4,
 "nbformat_minor": 1
}
