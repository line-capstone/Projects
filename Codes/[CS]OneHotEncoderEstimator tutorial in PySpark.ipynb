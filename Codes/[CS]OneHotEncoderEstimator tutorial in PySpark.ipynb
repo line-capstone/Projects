{
 "cells": [
  {
   "cell_type": "markdown",
   "metadata": {},
   "source": [
    "# OneHotEncoderEstimator tutorial in PySpark"
   ]
  },
  {
   "cell_type": "code",
   "execution_count": 47,
   "metadata": {},
   "outputs": [],
   "source": [
    "from pyspark.ml import Pipeline\n",
    "from pyspark.ml.feature import StringIndexer, OneHotEncoderEstimator"
   ]
  },
  {
   "cell_type": "markdown",
   "metadata": {},
   "source": [
    "- 두 개의 변수를 갖는 샘플 데이터프레임을 생성한다.\n",
    "- category1 변수는 categorical 변수이고, category2 변수는 numeric 변수이다."
   ]
  },
  {
   "cell_type": "code",
   "execution_count": 48,
   "metadata": {},
   "outputs": [
    {
     "name": "stdout",
     "output_type": "stream",
     "text": [
      "+---+---------+---------+\n",
      "| id|category1|category2|\n",
      "+---+---------+---------+\n",
      "|  0|        a|        1|\n",
      "|  1|        b|        2|\n",
      "|  2|        c|        3|\n",
      "|  3|        a|        4|\n",
      "|  4|        a|        4|\n",
      "|  5|        c|        3|\n",
      "+---+---------+---------+\n",
      "\n"
     ]
    }
   ],
   "source": [
    "df = spark.createDataFrame([(0, \"a\", 1),\n",
    "                            (1, \"b\", 2),\n",
    "                            (2, \"c\", 3),\n",
    "                            (3, \"a\", 4),\n",
    "                            (4, \"a\", 4),\n",
    "                            (5, \"c\", 3)],\n",
    "                           [\"id\", \"category1\", \"category2\"])\n",
    "df.show()"
   ]
  },
  {
   "cell_type": "markdown",
   "metadata": {},
   "source": [
    "- 먼저, `OneHotEncoderEstimator`에 넣는 input은 모두 numeric이어야 한다. 따라서 값들이 string인 categorical 변수들은 모두 numeric으로 변환해야 한다.\n",
    "- 이때 `StringIndexer`를 사용한다. 따라서 아래의 코드를 보면, categorical 변수인 category1만 `StringIndexer`으로 변환해주었다.\n",
    "- `StringIndexer`의 기능\n",
    "    - categorical 변수를 numeric으로 변환한다.\n",
    "    - categorical 변수의 값들의 빈도를 계산한다. 최빈값의 Index가 가장 낮다."
   ]
  },
  {
   "cell_type": "code",
   "execution_count": 49,
   "metadata": {},
   "outputs": [
    {
     "name": "stdout",
     "output_type": "stream",
     "text": [
      "+---+---------+---------+--------------+-------------+-------------+\n",
      "| id|category1|category2|category1Index| categoryVec1| categoryVec2|\n",
      "+---+---------+---------+--------------+-------------+-------------+\n",
      "|  0|        a|        1|           0.0|(2,[0],[1.0])|(4,[1],[1.0])|\n",
      "|  1|        b|        2|           2.0|    (2,[],[])|(4,[2],[1.0])|\n",
      "|  2|        c|        3|           1.0|(2,[1],[1.0])|(4,[3],[1.0])|\n",
      "|  3|        a|        4|           0.0|(2,[0],[1.0])|    (4,[],[])|\n",
      "|  4|        a|        4|           0.0|(2,[0],[1.0])|    (4,[],[])|\n",
      "|  5|        c|        3|           1.0|(2,[1],[1.0])|(4,[3],[1.0])|\n",
      "+---+---------+---------+--------------+-------------+-------------+\n",
      "\n"
     ]
    }
   ],
   "source": [
    "indexer = StringIndexer(inputCol=\"category1\", outputCol=\"category1Index\") # StringIndexer를 통해 categorical 변수의 categoryIndex를 계산한다.\n",
    "inputs = [indexer.getOutputCol(), \"category2\"] # 위에서 설정한 indexer의 outputCol인 category1Index를 가져와서 numeric 변수인 category2와 함께 리스트로 만든다.\n",
    "encoder = OneHotEncoderEstimator(inputCols=inputs, outputCols=[\"categoryVec1\", \"categoryVec2\"])\n",
    "pipeline = Pipeline(stages=[indexer, encoder])\n",
    "pipeline.fit(df).transform(df).show()"
   ]
  },
  {
   "cell_type": "markdown",
   "metadata": {},
   "source": [
    "- categorical 변수는 K-1개의 더미변수가 생성되고 numeric 변수는 K개의 더미변수가 생성된다.\n",
    "- categorical 변수는 빈도가 가장 낮은 레벨이 베이스라인이 되지만, numeric 변수는 빈도가 가장 높은 레벨이 베이스라인이 된다."
   ]
  },
  {
   "cell_type": "code",
   "execution_count": 50,
   "metadata": {},
   "outputs": [
    {
     "data": {
      "text/html": [
       "<div>\n",
       "<style scoped>\n",
       "    .dataframe tbody tr th:only-of-type {\n",
       "        vertical-align: middle;\n",
       "    }\n",
       "\n",
       "    .dataframe tbody tr th {\n",
       "        vertical-align: top;\n",
       "    }\n",
       "\n",
       "    .dataframe thead th {\n",
       "        text-align: right;\n",
       "    }\n",
       "</style>\n",
       "<table border=\"1\" class=\"dataframe\">\n",
       "  <thead>\n",
       "    <tr style=\"text-align: right;\">\n",
       "      <th></th>\n",
       "      <th>id</th>\n",
       "      <th>category1</th>\n",
       "      <th>category2</th>\n",
       "      <th>category1Index</th>\n",
       "      <th>categoryVec1</th>\n",
       "      <th>categoryVec2</th>\n",
       "    </tr>\n",
       "  </thead>\n",
       "  <tbody>\n",
       "    <tr>\n",
       "      <th>0</th>\n",
       "      <td>0</td>\n",
       "      <td>a</td>\n",
       "      <td>1</td>\n",
       "      <td>0.0</td>\n",
       "      <td>(1.0, 0.0)</td>\n",
       "      <td>(0.0, 1.0, 0.0, 0.0)</td>\n",
       "    </tr>\n",
       "    <tr>\n",
       "      <th>1</th>\n",
       "      <td>1</td>\n",
       "      <td>b</td>\n",
       "      <td>2</td>\n",
       "      <td>2.0</td>\n",
       "      <td>(0.0, 0.0)</td>\n",
       "      <td>(0.0, 0.0, 1.0, 0.0)</td>\n",
       "    </tr>\n",
       "    <tr>\n",
       "      <th>2</th>\n",
       "      <td>2</td>\n",
       "      <td>c</td>\n",
       "      <td>3</td>\n",
       "      <td>1.0</td>\n",
       "      <td>(0.0, 1.0)</td>\n",
       "      <td>(0.0, 0.0, 0.0, 1.0)</td>\n",
       "    </tr>\n",
       "    <tr>\n",
       "      <th>3</th>\n",
       "      <td>3</td>\n",
       "      <td>a</td>\n",
       "      <td>4</td>\n",
       "      <td>0.0</td>\n",
       "      <td>(1.0, 0.0)</td>\n",
       "      <td>(0.0, 0.0, 0.0, 0.0)</td>\n",
       "    </tr>\n",
       "    <tr>\n",
       "      <th>4</th>\n",
       "      <td>4</td>\n",
       "      <td>a</td>\n",
       "      <td>4</td>\n",
       "      <td>0.0</td>\n",
       "      <td>(1.0, 0.0)</td>\n",
       "      <td>(0.0, 0.0, 0.0, 0.0)</td>\n",
       "    </tr>\n",
       "    <tr>\n",
       "      <th>5</th>\n",
       "      <td>5</td>\n",
       "      <td>c</td>\n",
       "      <td>3</td>\n",
       "      <td>1.0</td>\n",
       "      <td>(0.0, 1.0)</td>\n",
       "      <td>(0.0, 0.0, 0.0, 1.0)</td>\n",
       "    </tr>\n",
       "  </tbody>\n",
       "</table>\n",
       "</div>"
      ],
      "text/plain": [
       "   id category1  category2  category1Index categoryVec1          categoryVec2\n",
       "0   0         a          1             0.0   (1.0, 0.0)  (0.0, 1.0, 0.0, 0.0)\n",
       "1   1         b          2             2.0   (0.0, 0.0)  (0.0, 0.0, 1.0, 0.0)\n",
       "2   2         c          3             1.0   (0.0, 1.0)  (0.0, 0.0, 0.0, 1.0)\n",
       "3   3         a          4             0.0   (1.0, 0.0)  (0.0, 0.0, 0.0, 0.0)\n",
       "4   4         a          4             0.0   (1.0, 0.0)  (0.0, 0.0, 0.0, 0.0)\n",
       "5   5         c          3             1.0   (0.0, 1.0)  (0.0, 0.0, 0.0, 1.0)"
      ]
     },
     "execution_count": 50,
     "metadata": {},
     "output_type": "execute_result"
    }
   ],
   "source": [
    "a = pipeline.fit(df).transform(df)\n",
    "a.toPandas()"
   ]
  }
 ],
 "metadata": {
  "kernelspec": {
   "display_name": "Python 2",
   "language": "python",
   "name": "python2"
  },
  "language_info": {
   "codemirror_mode": {
    "name": "ipython",
    "version": 2
   },
   "file_extension": ".py",
   "mimetype": "text/x-python",
   "name": "python",
   "nbconvert_exporter": "python",
   "pygments_lexer": "ipython2",
   "version": "2.7.15"
  }
 },
 "nbformat": 4,
 "nbformat_minor": 2
}
