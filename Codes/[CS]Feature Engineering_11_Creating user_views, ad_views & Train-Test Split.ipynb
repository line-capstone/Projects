{
 "cells": [
  {
   "cell_type": "markdown",
   "metadata": {},
   "source": [
    "# Creating user_views, ad_views & Train-Test Set Split"
   ]
  },
  {
   "cell_type": "markdown",
   "metadata": {},
   "source": [
    "As of Dec 13, 2018"
   ]
  },
  {
   "cell_type": "markdown",
   "metadata": {},
   "source": [
    "## Part A: 데이터 로드 및 환경 설정"
   ]
  },
  {
   "cell_type": "code",
   "execution_count": 1,
   "metadata": {},
   "outputs": [],
   "source": [
    "from pyspark.sql import Window"
   ]
  },
  {
   "cell_type": "code",
   "execution_count": 2,
   "metadata": {},
   "outputs": [],
   "source": [
    "from IPython.display import display\n",
    "from IPython.core.interactiveshell import InteractiveShell \n",
    "InteractiveShell.ast_node_interactivity = \"all\" # 한 셀(cell)에서의 코드 실행 결과가 다 보이도록 설정\n",
    "import numpy as np\n",
    "import scipy.sparse\n",
    "import math\n",
    "import datetime\n",
    "import time\n",
    "import itertools\n",
    "import random\n",
    "random.seed(42)\n",
    "import pandas as pd\n",
    "%matplotlib inline"
   ]
  },
  {
   "cell_type": "code",
   "execution_count": 3,
   "metadata": {},
   "outputs": [],
   "source": [
    "from pyspark.sql.types import *\n",
    "import pyspark.sql.functions as F"
   ]
  },
  {
   "cell_type": "code",
   "execution_count": 4,
   "metadata": {},
   "outputs": [],
   "source": [
    "OUTPUT_BUCKET_FOLDER = \"gs://line-2018-2/output/\"\n",
    "DATA_BUCKET_FOLDER = \"gs://upload-bigquery180927/data/\""
   ]
  },
  {
   "cell_type": "code",
   "execution_count": 22,
   "metadata": {},
   "outputs": [],
   "source": [
    "page_views_schema = StructType(\n",
    "                    [StructField(\"uuid\", StringType(), True),\n",
    "                    StructField(\"document_id\", IntegerType(), True),\n",
    "                    StructField(\"timestamp_pv\", IntegerType(), True),\n",
    "                    StructField(\"platform\", IntegerType(), True),\n",
    "                    StructField(\"geo_location\", StringType(), True),\n",
    "                    StructField(\"traffic_source\", IntegerType(), True)]\n",
    "                    )\n",
    "#Data is read from Google Cloud Storage, a distributed filesystem like HDFS stored externally to the cluster\n",
    "#If you wanna use your own HDFS, just prefix the file path with the absolute path 'hdfs:' or \n",
    "#with the relative path if HDFS is your cluster default filesystem\n",
    "page_views_df = spark.read.schema(page_views_schema).options(header='true', inferschema='false', nullValue='\\\\N') \\\n",
    "                .csv(DATA_BUCKET_FOLDER + \"page_views.csv\")"
   ]
  },
  {
   "cell_type": "code",
   "execution_count": 23,
   "metadata": {},
   "outputs": [],
   "source": [
    "events_schema = StructType(\n",
    "                    [StructField(\"display_id\", IntegerType(), True),\n",
    "                    StructField(\"uuid\", StringType(), True),\n",
    "                    StructField(\"document_id\", IntegerType(), True),\n",
    "                    StructField(\"timestamp_event\", IntegerType(), True),\n",
    "                    StructField(\"platform\", IntegerType(), True),\n",
    "                    StructField(\"geo_location\", StringType(), True)]\n",
    "                    )\n",
    "\n",
    "events_df = spark.read \\\n",
    "            .schema(events_schema) \\\n",
    "            .options(header='true', inferschema='false', nullValue='\\\\N') \\\n",
    "            .csv(DATA_BUCKET_FOLDER + \"events.csv\").cache()"
   ]
  },
  {
   "cell_type": "code",
   "execution_count": 24,
   "metadata": {},
   "outputs": [],
   "source": [
    "page_views_df = page_views_df.withColumn('dummyPageView', F.lit(1))\n",
    "events_df = events_df.withColumn('dummyEvent', F.lit(1))"
   ]
  },
  {
   "cell_type": "code",
   "execution_count": 25,
   "metadata": {},
   "outputs": [],
   "source": [
    "clicks_train_schema = StructType(\n",
    "                    [StructField(\"display_id\", IntegerType(), True),\n",
    "                    StructField(\"ad_id\", IntegerType(), True),                    \n",
    "                    StructField(\"clicked\", IntegerType(), True)]\n",
    "                    )\n",
    "\n",
    "clicks_train_df = spark.read.schema(clicks_train_schema).options(header='true', inferschema='false', nullValue='\\\\N') \\\n",
    "                .csv(DATA_BUCKET_FOLDER+\"clicks_train.csv\") \\\n",
    "                .withColumn('dummyClicksTrain', F.lit(1)).alias('clicks_train').cache()"
   ]
  },
  {
   "cell_type": "code",
   "execution_count": 26,
   "metadata": {},
   "outputs": [],
   "source": [
    "promoted_content_schema = StructType(\n",
    "                    [StructField(\"ad_id\", IntegerType(), True),\n",
    "                    StructField(\"document_id_promo\", IntegerType(), True),                    \n",
    "                    StructField(\"campaign_id\", IntegerType(), True),\n",
    "                    StructField(\"advertiser_id\", IntegerType(), True)]\n",
    "                    )\n",
    "\n",
    "promoted_content_df = spark.read.schema(promoted_content_schema).options(header='true', inferschema='false', nullValue='\\\\N') \\\n",
    "                .csv(DATA_BUCKET_FOLDER+\"promoted_content.csv\") \\\n",
    "                .withColumn('dummyPromotedContent', F.lit(1)).alias('promoted_content').cache()"
   ]
  },
  {
   "cell_type": "code",
   "execution_count": 27,
   "metadata": {},
   "outputs": [],
   "source": [
    "clicks_train_joined_df = clicks_train_df \\\n",
    "                         .join(promoted_content_df, on='ad_id', how='left') \\\n",
    "                         .join(events_df, on='display_id', how='left').cache()                      "
   ]
  },
  {
   "cell_type": "code",
   "execution_count": 28,
   "metadata": {},
   "outputs": [
    {
     "data": {
      "text/plain": [
       "['display_id',\n",
       " 'ad_id',\n",
       " 'clicked',\n",
       " 'dummyClicksTrain',\n",
       " 'document_id_promo',\n",
       " 'campaign_id',\n",
       " 'advertiser_id',\n",
       " 'dummyPromotedContent',\n",
       " 'uuid',\n",
       " 'document_id',\n",
       " 'timestamp_event',\n",
       " 'platform',\n",
       " 'geo_location',\n",
       " 'dummyEvent']"
      ]
     },
     "execution_count": 28,
     "metadata": {},
     "output_type": "execute_result"
    }
   ],
   "source": [
    "clicks_train_joined_df.columns"
   ]
  },
  {
   "cell_type": "markdown",
   "metadata": {},
   "source": [
    "## Part B: user_views(유저의 누적 페이지 뷰 수 카운팅) 생성하기"
   ]
  },
  {
   "cell_type": "code",
   "execution_count": 29,
   "metadata": {},
   "outputs": [],
   "source": [
    "truncate_day_from_timestamp_udf = F.udf(lambda ts: int(ts / 1000 / 60 / 60 / 24), IntegerType())"
   ]
  },
  {
   "cell_type": "code",
   "execution_count": 30,
   "metadata": {},
   "outputs": [],
   "source": [
    "page_views_with_day_df = page_views_df.withColumn('day', truncate_day_from_timestamp_udf('timestamp_pv')).withColumn('dummyPageView', F.lit(1))"
   ]
  },
  {
   "cell_type": "code",
   "execution_count": 33,
   "metadata": {},
   "outputs": [
    {
     "data": {
      "text/plain": [
       "['uuid_pv',\n",
       " 'document_id',\n",
       " 'timestamp_pv',\n",
       " 'platform',\n",
       " 'geo_location',\n",
       " 'traffic_source',\n",
       " 'dummyPageView',\n",
       " 'day']"
      ]
     },
     "execution_count": 33,
     "metadata": {},
     "output_type": "execute_result"
    }
   ],
   "source": [
    "page_views_with_day_df.columns"
   ]
  },
  {
   "cell_type": "code",
   "execution_count": 31,
   "metadata": {},
   "outputs": [],
   "source": [
    "events_with_day_df = events_df.withColumn('day', truncate_day_from_timestamp_udf('timestamp_event')).withColumn('dummyEvent', F.lit(1))"
   ]
  },
  {
   "cell_type": "code",
   "execution_count": 35,
   "metadata": {},
   "outputs": [],
   "source": [
    "unique_users_df = clicks_train_joined_df.select('uuid_event').distinct()"
   ]
  },
  {
   "cell_type": "code",
   "execution_count": null,
   "metadata": {},
   "outputs": [],
   "source": [
    "unique_users_df.count() # clicks_train에 포함된 고유한 uuid 수: 14814344"
   ]
  },
  {
   "cell_type": "code",
   "execution_count": 36,
   "metadata": {},
   "outputs": [],
   "source": [
    "page_views_unique_df = page_views_with_day_df \\\n",
    "                    .join(unique_users_df, on=[F.col('uuid_pv') == F.col('uuid_event')], how = 'inner').cache()"
   ]
  },
  {
   "cell_type": "code",
   "execution_count": null,
   "metadata": {},
   "outputs": [],
   "source": [
    "page_views_unique_df.count() # 154011175"
   ]
  },
  {
   "cell_type": "code",
   "execution_count": 37,
   "metadata": {},
   "outputs": [
    {
     "data": {
      "text/plain": [
       "['uuid_pv',\n",
       " 'document_id',\n",
       " 'timestamp_pv',\n",
       " 'platform',\n",
       " 'geo_location',\n",
       " 'traffic_source',\n",
       " 'dummyPageView',\n",
       " 'day',\n",
       " 'uuid_event']"
      ]
     },
     "execution_count": 37,
     "metadata": {},
     "output_type": "execute_result"
    }
   ],
   "source": [
    "page_views_unique_df.columns"
   ]
  },
  {
   "cell_type": "code",
   "execution_count": 38,
   "metadata": {},
   "outputs": [
    {
     "data": {
      "text/plain": [
       "['display_id',\n",
       " 'uuid_event',\n",
       " 'document_id',\n",
       " 'timestamp_event',\n",
       " 'platform',\n",
       " 'geo_location',\n",
       " 'dummyEvent',\n",
       " 'day']"
      ]
     },
     "execution_count": 38,
     "metadata": {},
     "output_type": "execute_result"
    }
   ],
   "source": [
    "events_with_day_df.columns"
   ]
  },
  {
   "cell_type": "code",
   "execution_count": 39,
   "metadata": {},
   "outputs": [],
   "source": [
    "page_views_left_join_events_df = page_views_unique_df \\\n",
    "                                        .join(events_with_day_df, \n",
    "                                              on=['uuid_event','document_id','platform','geo_location','day'], \n",
    "                                              how='left')"
   ]
  },
  {
   "cell_type": "code",
   "execution_count": 41,
   "metadata": {},
   "outputs": [],
   "source": [
    "# page_views_left_join_events_df.count() # 154,382,412"
   ]
  },
  {
   "cell_type": "code",
   "execution_count": 42,
   "metadata": {},
   "outputs": [
    {
     "data": {
      "text/plain": [
       "['uuid_event',\n",
       " 'document_id',\n",
       " 'platform',\n",
       " 'geo_location',\n",
       " 'day',\n",
       " 'uuid_pv',\n",
       " 'timestamp_pv',\n",
       " 'traffic_source',\n",
       " 'dummyPageView',\n",
       " 'display_id',\n",
       " 'timestamp_event',\n",
       " 'dummyEvent']"
      ]
     },
     "execution_count": 42,
     "metadata": {},
     "output_type": "execute_result"
    }
   ],
   "source": [
    "page_views_left_join_events_df.columns"
   ]
  },
  {
   "cell_type": "code",
   "execution_count": null,
   "metadata": {},
   "outputs": [],
   "source": [
    "# page_views_left_join_events_df.select('uuid_event').distinct().count() # 14,814,344명"
   ]
  },
  {
   "cell_type": "code",
   "execution_count": 43,
   "metadata": {},
   "outputs": [],
   "source": [
    "page_views_events_df = page_views_left_join_events_df.sort('timestamp_pv', ascending = True)"
   ]
  },
  {
   "cell_type": "code",
   "execution_count": null,
   "metadata": {},
   "outputs": [],
   "source": [
    "# page_views_events_df.show(3)"
   ]
  },
  {
   "cell_type": "code",
   "execution_count": 44,
   "metadata": {},
   "outputs": [],
   "source": [
    "windowval = (Window.partitionBy('uuid_event').orderBy('timestamp_pv')\n",
    "             .rangeBetween(Window.unboundedPreceding, 0))"
   ]
  },
  {
   "cell_type": "code",
   "execution_count": 45,
   "metadata": {},
   "outputs": [],
   "source": [
    "user_views_df = page_views_events_df.withColumn('user_views', F.count('uuid_event').over(windowval))"
   ]
  },
  {
   "cell_type": "code",
   "execution_count": null,
   "metadata": {},
   "outputs": [],
   "source": [
    "# user_views_df.select('user_views').describe('user_views').show()"
   ]
  },
  {
   "cell_type": "code",
   "execution_count": 47,
   "metadata": {},
   "outputs": [],
   "source": [
    "# user_views_df.filter((user_views_df[\"user_views\"] == \"\") | user_views_df[\"user_views\"].isNull() | F.isnan(user_views_df[\"user_views\"])).count()"
   ]
  },
  {
   "cell_type": "code",
   "execution_count": 48,
   "metadata": {},
   "outputs": [],
   "source": [
    "train_merged_df = spark.read.parquet(\"gs://line_2018/outputtrain_final_3\")"
   ]
  },
  {
   "cell_type": "code",
   "execution_count": 60,
   "metadata": {},
   "outputs": [
    {
     "data": {
      "text/plain": [
       "['display_id',\n",
       " 'ad_id',\n",
       " 'label',\n",
       " 'is_leak',\n",
       " 'weekend',\n",
       " 'pop_ad_id',\n",
       " 'pop_ad_doc_id',\n",
       " 'pop_ad_publisher_id',\n",
       " 'pop_advertiser_id',\n",
       " 'pop_campaign_id',\n",
       " 'pop_view_doc_ad_doc',\n",
       " 'pop_ad_source_id',\n",
       " 'pop_ad_topic_id',\n",
       " 'pop_ad_category_id',\n",
       " 'view_publisher_id',\n",
       " 'view_source_id',\n",
       " 'hour',\n",
       " 'platform',\n",
       " 'traffic_source',\n",
       " 'is_train',\n",
       " 'country',\n",
       " 'day_event',\n",
       " 'campaign_id',\n",
       " 'advertiser_id',\n",
       " 'ad_category_id',\n",
       " 'ad_topic_id',\n",
       " 'view_category_id',\n",
       " 'view_topic_id',\n",
       " 'timestamp_event',\n",
       " 'ad_source_id',\n",
       " 'ad_publisher_id',\n",
       " 'uuid',\n",
       " 'document_id',\n",
       " 'timestamp_event',\n",
       " 'platform',\n",
       " 'geo_location',\n",
       " 'dummyEvent']"
      ]
     },
     "execution_count": 60,
     "metadata": {},
     "output_type": "execute_result"
    }
   ],
   "source": [
    "train_merged_df.columns"
   ]
  },
  {
   "cell_type": "code",
   "execution_count": 50,
   "metadata": {},
   "outputs": [],
   "source": [
    "user_views_df = user_views_df.select('uuid_event', 'user_views', 'timestamp_event', 'display_id')"
   ]
  },
  {
   "cell_type": "code",
   "execution_count": 57,
   "metadata": {},
   "outputs": [],
   "source": [
    "train_user_added_df = train_merged_df \\\n",
    "                    .join(user_views_df, on = [\"display_id\", \"timestamp_event\"], how = 'left')"
   ]
  },
  {
   "cell_type": "code",
   "execution_count": 53,
   "metadata": {},
   "outputs": [
    {
     "data": {
      "text/plain": [
       "195463"
      ]
     },
     "execution_count": 53,
     "metadata": {},
     "output_type": "execute_result"
    }
   ],
   "source": [
    "train_user_added_df.filter((train_user_added_df[\"user_views\"] == \"\") | train_user_added_df[\"user_views\"].isNull() | F.isnan(train_user_added_df[\"user_views\"])).count()"
   ]
  },
  {
   "cell_type": "markdown",
   "metadata": {},
   "source": [
    "cf) 결측치가 생기는 원인 파악 필요"
   ]
  },
  {
   "cell_type": "code",
   "execution_count": 58,
   "metadata": {},
   "outputs": [],
   "source": [
    "train_user_added_df = train_user_added_df.fillna({\"user_views\":1})"
   ]
  },
  {
   "cell_type": "code",
   "execution_count": 59,
   "metadata": {},
   "outputs": [
    {
     "data": {
      "text/plain": [
       "0"
      ]
     },
     "execution_count": 59,
     "metadata": {},
     "output_type": "execute_result"
    }
   ],
   "source": [
    "train_user_added_df.filter((train_user_added_df[\"user_views\"] == \"\") | train_user_added_df[\"user_views\"].isNull() | F.isnan(train_user_added_df[\"user_views\"])).count()"
   ]
  },
  {
   "cell_type": "code",
   "execution_count": 60,
   "metadata": {},
   "outputs": [
    {
     "data": {
      "text/plain": [
       "['display_id',\n",
       " 'timestamp_event',\n",
       " 'ad_id',\n",
       " 'label',\n",
       " 'is_leak',\n",
       " 'weekend',\n",
       " 'pop_ad_id',\n",
       " 'pop_ad_doc_id',\n",
       " 'pop_ad_publisher_id',\n",
       " 'pop_advertiser_id',\n",
       " 'pop_campaign_id',\n",
       " 'pop_view_doc_ad_doc',\n",
       " 'pop_ad_source_id',\n",
       " 'pop_ad_topic_id',\n",
       " 'pop_ad_category_id',\n",
       " 'view_publisher_id',\n",
       " 'view_source_id',\n",
       " 'hour',\n",
       " 'platform',\n",
       " 'traffic_source',\n",
       " 'is_train',\n",
       " 'country',\n",
       " 'day_event',\n",
       " 'campaign_id',\n",
       " 'advertiser_id',\n",
       " 'ad_category_id',\n",
       " 'ad_topic_id',\n",
       " 'view_category_id',\n",
       " 'view_topic_id',\n",
       " 'ad_source_id',\n",
       " 'ad_publisher_id',\n",
       " 'uuid_event',\n",
       " 'user_views']"
      ]
     },
     "execution_count": 60,
     "metadata": {},
     "output_type": "execute_result"
    }
   ],
   "source": [
    "train_user_added_df.columns"
   ]
  },
  {
   "cell_type": "markdown",
   "metadata": {},
   "source": [
    "## Part C: ad_views(광고 누적 뷰 수 카운팅) 생성하기"
   ]
  },
  {
   "cell_type": "code",
   "execution_count": 162,
   "metadata": {},
   "outputs": [],
   "source": [
    "windowval2 = (Window.partitionBy(\"ad_id\").orderBy(\"timestamp_event\")\n",
    "             .rangeBetween(Window.unboundedPreceding, 0))"
   ]
  },
  {
   "cell_type": "code",
   "execution_count": 164,
   "metadata": {},
   "outputs": [],
   "source": [
    "train_ad_added_df = train_merged_df.withColumn(\"ad_views\", F.count(\"ad_id\").over(windowval2))"
   ]
  },
  {
   "cell_type": "code",
   "execution_count": 63,
   "metadata": {},
   "outputs": [
    {
     "data": {
      "text/plain": [
       "0"
      ]
     },
     "execution_count": 63,
     "metadata": {},
     "output_type": "execute_result"
    }
   ],
   "source": [
    "train_user_ad_added_df.filter((train_user_ad_added_df[\"ad_views\"] == \"\") | train_user_ad_added_df[\"ad_views\"].isNull() | F.isnan(train_user_ad_added_df[\"ad_views\"])).count()"
   ]
  },
  {
   "cell_type": "code",
   "execution_count": null,
   "metadata": {},
   "outputs": [],
   "source": [
    "# train_user_added_df.count() # 87141731"
   ]
  },
  {
   "cell_type": "markdown",
   "metadata": {},
   "source": [
    "## Part D: ad_doc_view(랜딩 페이지의 누적 페이지 뷰 수 카운팅) 생성하기"
   ]
  },
  {
   "cell_type": "code",
   "execution_count": 32,
   "metadata": {},
   "outputs": [],
   "source": [
    "page_views_ad_doc_unique_df = page_views_with_day_df \\\n",
    "                    .join(promoted_content_df, on=[F.col(\"document_id\") == F.col(\"document_id_promo\")], how = 'inner').cache()"
   ]
  },
  {
   "cell_type": "code",
   "execution_count": 33,
   "metadata": {},
   "outputs": [
    {
     "data": {
      "text/plain": [
       "['uuid',\n",
       " 'document_id',\n",
       " 'timestamp_pv',\n",
       " 'platform',\n",
       " 'geo_location',\n",
       " 'traffic_source',\n",
       " 'dummyPageView',\n",
       " 'day',\n",
       " 'ad_id',\n",
       " 'document_id_promo',\n",
       " 'campaign_id',\n",
       " 'advertiser_id',\n",
       " 'dummyPromotedContent']"
      ]
     },
     "execution_count": 33,
     "metadata": {},
     "output_type": "execute_result"
    }
   ],
   "source": [
    "page_views_ad_doc_unique_df.columns"
   ]
  },
  {
   "cell_type": "code",
   "execution_count": 94,
   "metadata": {},
   "outputs": [],
   "source": [
    "page_views_event_joined_df = page_views_ad_doc_unique_df \\\n",
    "                                        .join(events_with_day_df, \n",
    "                                              on=[\"uuid\", \"document_id\", \"day\", \"platform\", \"geo_location\"],\n",
    "                                              how='left')"
   ]
  },
  {
   "cell_type": "code",
   "execution_count": 95,
   "metadata": {},
   "outputs": [],
   "source": [
    "windowval3 = (Window.partitionBy('document_id').orderBy('timestamp_pv')\n",
    "             .rangeBetween(Window.unboundedPreceding, 0))"
   ]
  },
  {
   "cell_type": "code",
   "execution_count": 96,
   "metadata": {},
   "outputs": [],
   "source": [
    "page_views_event_joined_df = page_views_event_joined_df.withColumn('ad_doc_views', F.count('document_id').over(windowval3)).cache()"
   ]
  },
  {
   "cell_type": "code",
   "execution_count": 97,
   "metadata": {},
   "outputs": [
    {
     "data": {
      "text/plain": [
       "['uuid',\n",
       " 'document_id',\n",
       " 'day',\n",
       " 'platform',\n",
       " 'geo_location',\n",
       " 'timestamp_pv',\n",
       " 'traffic_source',\n",
       " 'dummyPageView',\n",
       " 'ad_id',\n",
       " 'document_id_promo',\n",
       " 'campaign_id',\n",
       " 'advertiser_id',\n",
       " 'dummyPromotedContent',\n",
       " 'display_id',\n",
       " 'timestamp_event',\n",
       " 'dummyEvent',\n",
       " 'ad_doc_views']"
      ]
     },
     "execution_count": 97,
     "metadata": {},
     "output_type": "execute_result"
    }
   ],
   "source": [
    "page_views_event_joined_df.columns"
   ]
  },
  {
   "cell_type": "code",
   "execution_count": 106,
   "metadata": {},
   "outputs": [
    {
     "name": "stdout",
     "output_type": "stream",
     "text": [
      "+--------------+-----------+---+--------+------------+------------+--------------+-------------+------+-----------------+-----------+-------------+--------------------+----------+---------------+----------+------------+\n",
      "|          uuid|document_id|day|platform|geo_location|timestamp_pv|traffic_source|dummyPageView| ad_id|document_id_promo|campaign_id|advertiser_id|dummyPromotedContent|display_id|timestamp_event|dummyEvent|ad_doc_views|\n",
      "+--------------+-----------+---+--------+------------+------------+--------------+-------------+------+-----------------+-----------+-------------+--------------------+----------+---------------+----------+------------+\n",
      "|3c889cceac8ce6|      90461|  0|       1|          PK|     2801334|             2|            1|240962|            90461|      25864|          128|                   1|      null|           null|      null|           1|\n",
      "|382a5a300415e3|      90461|  0|       1|   US>NV>839|     2887274|             2|            1|240962|            90461|      25864|          128|                   1|      null|           null|      null|           2|\n",
      "+--------------+-----------+---+--------+------------+------------+--------------+-------------+------+-----------------+-----------+-------------+--------------------+----------+---------------+----------+------------+\n",
      "only showing top 2 rows\n",
      "\n"
     ]
    }
   ],
   "source": [
    "page_views_event_joined_df.show(2)"
   ]
  },
  {
   "cell_type": "code",
   "execution_count": 117,
   "metadata": {},
   "outputs": [
    {
     "data": {
      "text/plain": [
       "['ad_id',\n",
       " 'document_id_promo',\n",
       " 'campaign_id',\n",
       " 'advertiser_id',\n",
       " 'dummyPromotedContent']"
      ]
     },
     "execution_count": 117,
     "metadata": {},
     "output_type": "execute_result"
    }
   ],
   "source": [
    "promoted_content_df.columns"
   ]
  },
  {
   "cell_type": "code",
   "execution_count": 101,
   "metadata": {},
   "outputs": [],
   "source": [
    "train_merged_df = spark.read.parquet(\"gs://line_2018/outputtrain_final_3\")"
   ]
  },
  {
   "cell_type": "code",
   "execution_count": 102,
   "metadata": {},
   "outputs": [],
   "source": [
    "train_merged_df = train_merged_df \\\n",
    "                         .join(events_df, on=['display_id', 'timestamp_event', 'platform'], how='left').cache()"
   ]
  },
  {
   "cell_type": "code",
   "execution_count": 103,
   "metadata": {},
   "outputs": [
    {
     "data": {
      "text/plain": [
       "['display_id',\n",
       " 'timestamp_event',\n",
       " 'platform',\n",
       " 'ad_id',\n",
       " 'label',\n",
       " 'is_leak',\n",
       " 'weekend',\n",
       " 'pop_ad_id',\n",
       " 'pop_ad_doc_id',\n",
       " 'pop_ad_publisher_id',\n",
       " 'pop_advertiser_id',\n",
       " 'pop_campaign_id',\n",
       " 'pop_view_doc_ad_doc',\n",
       " 'pop_ad_source_id',\n",
       " 'pop_ad_topic_id',\n",
       " 'pop_ad_category_id',\n",
       " 'view_publisher_id',\n",
       " 'view_source_id',\n",
       " 'hour',\n",
       " 'traffic_source',\n",
       " 'is_train',\n",
       " 'country',\n",
       " 'day_event',\n",
       " 'campaign_id',\n",
       " 'advertiser_id',\n",
       " 'ad_category_id',\n",
       " 'ad_topic_id',\n",
       " 'view_category_id',\n",
       " 'view_topic_id',\n",
       " 'ad_source_id',\n",
       " 'ad_publisher_id',\n",
       " 'uuid',\n",
       " 'document_id',\n",
       " 'geo_location',\n",
       " 'dummyEvent']"
      ]
     },
     "execution_count": 103,
     "metadata": {},
     "output_type": "execute_result"
    }
   ],
   "source": [
    "train_merged_df.columns"
   ]
  },
  {
   "cell_type": "code",
   "execution_count": 104,
   "metadata": {},
   "outputs": [],
   "source": [
    "train_merged_ad_doc_df = train_merged_df \\\n",
    "                    .join(promoted_content_df, on= [\"ad_id\", \"campaign_id\", \"advertiser_id\"], how = 'left').cache()"
   ]
  },
  {
   "cell_type": "code",
   "execution_count": 105,
   "metadata": {},
   "outputs": [
    {
     "data": {
      "text/plain": [
       "['ad_id',\n",
       " 'campaign_id',\n",
       " 'advertiser_id',\n",
       " 'display_id',\n",
       " 'timestamp_event',\n",
       " 'platform',\n",
       " 'label',\n",
       " 'is_leak',\n",
       " 'weekend',\n",
       " 'pop_ad_id',\n",
       " 'pop_ad_doc_id',\n",
       " 'pop_ad_publisher_id',\n",
       " 'pop_advertiser_id',\n",
       " 'pop_campaign_id',\n",
       " 'pop_view_doc_ad_doc',\n",
       " 'pop_ad_source_id',\n",
       " 'pop_ad_topic_id',\n",
       " 'pop_ad_category_id',\n",
       " 'view_publisher_id',\n",
       " 'view_source_id',\n",
       " 'hour',\n",
       " 'traffic_source',\n",
       " 'is_train',\n",
       " 'country',\n",
       " 'day_event',\n",
       " 'ad_category_id',\n",
       " 'ad_topic_id',\n",
       " 'view_category_id',\n",
       " 'view_topic_id',\n",
       " 'ad_source_id',\n",
       " 'ad_publisher_id',\n",
       " 'uuid',\n",
       " 'document_id',\n",
       " 'geo_location',\n",
       " 'dummyEvent',\n",
       " 'document_id_promo',\n",
       " 'dummyPromotedContent']"
      ]
     },
     "execution_count": 105,
     "metadata": {},
     "output_type": "execute_result"
    }
   ],
   "source": [
    "train_merged_ad_doc_df.columns"
   ]
  },
  {
   "cell_type": "code",
   "execution_count": 75,
   "metadata": {},
   "outputs": [],
   "source": [
    "# train_merged_ad_doc_df3 = train_merged_ad_doc_df.drop('document_id')"
   ]
  },
  {
   "cell_type": "code",
   "execution_count": 107,
   "metadata": {},
   "outputs": [],
   "source": [
    "pv_joined_df = page_views_event_joined_df.select('document_id', 'platform', 'ad_id', 'traffic_source', 'display_id', 'timestamp_event', 'ad_doc_views')"
   ]
  },
  {
   "cell_type": "code",
   "execution_count": 108,
   "metadata": {},
   "outputs": [],
   "source": [
    "train_merged_ad_doc_df = train_merged_ad_doc_df \\\n",
    "                        .join(pv_joined_df, on= ['document_id', 'platform', 'traffic_source', 'display_id', 'ad_id'], how = 'left')"
   ]
  },
  {
   "cell_type": "code",
   "execution_count": 109,
   "metadata": {},
   "outputs": [
    {
     "data": {
      "text/plain": [
       "['document_id',\n",
       " 'platform',\n",
       " 'traffic_source',\n",
       " 'display_id',\n",
       " 'ad_id',\n",
       " 'campaign_id',\n",
       " 'advertiser_id',\n",
       " 'timestamp_event',\n",
       " 'label',\n",
       " 'is_leak',\n",
       " 'weekend',\n",
       " 'pop_ad_id',\n",
       " 'pop_ad_doc_id',\n",
       " 'pop_ad_publisher_id',\n",
       " 'pop_advertiser_id',\n",
       " 'pop_campaign_id',\n",
       " 'pop_view_doc_ad_doc',\n",
       " 'pop_ad_source_id',\n",
       " 'pop_ad_topic_id',\n",
       " 'pop_ad_category_id',\n",
       " 'view_publisher_id',\n",
       " 'view_source_id',\n",
       " 'hour',\n",
       " 'is_train',\n",
       " 'country',\n",
       " 'day_event',\n",
       " 'ad_category_id',\n",
       " 'ad_topic_id',\n",
       " 'view_category_id',\n",
       " 'view_topic_id',\n",
       " 'ad_source_id',\n",
       " 'ad_publisher_id',\n",
       " 'uuid',\n",
       " 'geo_location',\n",
       " 'dummyEvent',\n",
       " 'document_id_promo',\n",
       " 'dummyPromotedContent',\n",
       " 'timestamp_event',\n",
       " 'ad_doc_views']"
      ]
     },
     "execution_count": 109,
     "metadata": {},
     "output_type": "execute_result"
    }
   ],
   "source": [
    "train_merged_ad_doc_df.columns"
   ]
  },
  {
   "cell_type": "code",
   "execution_count": 110,
   "metadata": {},
   "outputs": [],
   "source": [
    "train_merged_ad_doc_df2 = train_merged_ad_doc_df.select('display_id', 'ad_id', 'ad_doc_views', 'document_id').cache()"
   ]
  },
  {
   "cell_type": "code",
   "execution_count": 113,
   "metadata": {},
   "outputs": [
    {
     "data": {
      "text/plain": [
       "87141731"
      ]
     },
     "execution_count": 113,
     "metadata": {},
     "output_type": "execute_result"
    }
   ],
   "source": [
    "train_merged_ad_doc_df2.filter((train_merged_ad_doc_df2[\"ad_doc_views\"] == \"\") | train_merged_ad_doc_df2[\"ad_doc_views\"].isNull() | F.isnan(train_merged_ad_doc_df2[\"ad_doc_views\"])).count()"
   ]
  },
  {
   "cell_type": "code",
   "execution_count": null,
   "metadata": {},
   "outputs": [],
   "source": [
    "# csv 파일로 쓰기: binning3.csv\n",
    "# train_merged_ad_doc_df2.repartition(1).write.csv(OUTPUT_BUCKET_FOLDER + 'binning3.csv', header = True)"
   ]
  },
  {
   "cell_type": "markdown",
   "metadata": {},
   "source": [
    "## Part E: 테이블 합치기"
   ]
  },
  {
   "cell_type": "code",
   "execution_count": 160,
   "metadata": {},
   "outputs": [],
   "source": [
    "# train_user_ad_doc_added_df = train_merged_ad_doc_df.drop('document_id_promo', 'dummyPromotedContent', 'timestamp_event_pv', 'platform_pv',\n",
    "#                                                          , 'document_id_promo')"
   ]
  },
  {
   "cell_type": "code",
   "execution_count": 132,
   "metadata": {},
   "outputs": [],
   "source": [
    "# # binning:\n",
    "# table = train_user_ad_doc_added_df.select('display_id', 'ad_id', 'ad_views', 'ad_doc_views', 'user_views')"
   ]
  },
  {
   "cell_type": "code",
   "execution_count": 161,
   "metadata": {},
   "outputs": [],
   "source": [
    "# table2 = train_user_ad_doc_added_df.select('ad_id', 'ad_doc_views')"
   ]
  },
  {
   "cell_type": "code",
   "execution_count": 133,
   "metadata": {},
   "outputs": [],
   "source": [
    "# # csv 파일로 쓰기: binning.csv\n",
    "# table.repartition(1).write.csv(OUTPUT_BUCKET_FOLDER + 'binning.csv', header = True)"
   ]
  },
  {
   "cell_type": "code",
   "execution_count": 162,
   "metadata": {},
   "outputs": [],
   "source": [
    "# # csv 파일로 쓰기: binning2.csv\n",
    "# table2.repartition(1).write.csv(OUTPUT_BUCKET_FOLDER + 'binning2.csv', header = True)"
   ]
  },
  {
   "cell_type": "code",
   "execution_count": 114,
   "metadata": {},
   "outputs": [
    {
     "data": {
      "text/plain": [
       "['document_id',\n",
       " 'platform',\n",
       " 'traffic_source',\n",
       " 'display_id',\n",
       " 'ad_id',\n",
       " 'campaign_id',\n",
       " 'advertiser_id',\n",
       " 'timestamp_event',\n",
       " 'label',\n",
       " 'is_leak',\n",
       " 'weekend',\n",
       " 'pop_ad_id',\n",
       " 'pop_ad_doc_id',\n",
       " 'pop_ad_publisher_id',\n",
       " 'pop_advertiser_id',\n",
       " 'pop_campaign_id',\n",
       " 'pop_view_doc_ad_doc',\n",
       " 'pop_ad_source_id',\n",
       " 'pop_ad_topic_id',\n",
       " 'pop_ad_category_id',\n",
       " 'view_publisher_id',\n",
       " 'view_source_id',\n",
       " 'hour',\n",
       " 'is_train',\n",
       " 'country',\n",
       " 'day_event',\n",
       " 'ad_category_id',\n",
       " 'ad_topic_id',\n",
       " 'view_category_id',\n",
       " 'view_topic_id',\n",
       " 'ad_source_id',\n",
       " 'ad_publisher_id',\n",
       " 'uuid',\n",
       " 'geo_location',\n",
       " 'dummyEvent',\n",
       " 'document_id_promo',\n",
       " 'dummyPromotedContent',\n",
       " 'timestamp_event',\n",
       " 'ad_doc_views']"
      ]
     },
     "execution_count": 114,
     "metadata": {},
     "output_type": "execute_result"
    }
   ],
   "source": [
    "train_merged_ad_doc_df.columns"
   ]
  },
  {
   "cell_type": "code",
   "execution_count": 115,
   "metadata": {},
   "outputs": [],
   "source": [
    "train_table = train_merged_ad_doc_df.drop('pop_ad_id',\n",
    " 'pop_ad_doc_id',\n",
    " 'pop_ad_publisher_id',\n",
    " 'pop_advertiser_id',\n",
    " 'pop_campaign_id',\n",
    " 'pop_view_doc_ad_doc',\n",
    " 'pop_ad_source_id',\n",
    " 'pop_ad_topic_id',\n",
    " 'pop_ad_category_id', 'user_views', 'ad_doc_views', 'ad_views')"
   ]
  },
  {
   "cell_type": "code",
   "execution_count": 137,
   "metadata": {},
   "outputs": [],
   "source": [
    "# # column별 수준 수 세기\n",
    "# for col in train_valid_merged_df.columns:\n",
    "#   print(col, train_valid_merged_df.select(col).distinct().count())"
   ]
  },
  {
   "cell_type": "code",
   "execution_count": null,
   "metadata": {},
   "outputs": [],
   "source": [
    "# # column별 NA 세기\n",
    "# train_valid_merged_df.select([F.count(F.when(F.isnan(c) | F.col(c).isNull(), c)).alias(c) for c in train_valid_merged_df.columns]).show()"
   ]
  },
  {
   "cell_type": "code",
   "execution_count": 119,
   "metadata": {},
   "outputs": [],
   "source": [
    "# 미국, 캐나다, 영국이 아닌 경우 U로 할당\n",
    "train_table = train_table.withColumn(\"country\", \\\n",
    "              F.when((train_table[\"country\"] != 'US') &\n",
    "                     (train_table[\"country\"] != 'CA') &\n",
    "                     (train_table[\"country\"] != 'GB'), 'U').otherwise(train_table[\"country\"]))"
   ]
  },
  {
   "cell_type": "code",
   "execution_count": 120,
   "metadata": {},
   "outputs": [],
   "source": [
    "cont_binned_schema = StructType(\n",
    "                    [StructField(\"pop_ad_id\", StringType(), True),\n",
    "                    StructField(\"pop_ad_doc_id\", StringType(), True),                    \n",
    "                    StructField(\"pop_ad_publisher_id\", StringType(), True),\n",
    "                    StructField(\"pop_advertiser_id\", StringType(), True),\n",
    "                    StructField(\"pop_campaign_id\", StringType(), True),\n",
    "                    StructField(\"pop_view_doc_ad_doc\", StringType(), True),\n",
    "                     StructField(\"pop_ad_source_id\", StringType(), True),\n",
    "                     StructField(\"pop_ad_topic_id\", StringType(), True),\n",
    "                     StructField(\"pop_ad_category_id\", StringType(), True)\n",
    "                     \n",
    "                    ]\n",
    "                    )\n",
    "\n",
    "cont_binned_df = spark.read.schema(cont_binned_schema).options(header='true', inferschema='false', nullValue='\\\\N') \\\n",
    "                .csv(DATA_BUCKET_FOLDER + \"train_bin.csv\")"
   ]
  },
  {
   "cell_type": "code",
   "execution_count": null,
   "metadata": {},
   "outputs": [],
   "source": [
    "# # column별 수준 수 세기\n",
    "# for col in cont_binned_df.columns:\n",
    "#   print(col, cont_binned_df.select(col).distinct().count())"
   ]
  },
  {
   "cell_type": "code",
   "execution_count": null,
   "metadata": {},
   "outputs": [],
   "source": [
    "# # column별 NA 세기\n",
    "# cont_binned_df.select([F.count(F.when(F.isnan(c) | F.col(c).isNull(), c)).alias(c) for c in cont_binned_df.columns]).show()"
   ]
  },
  {
   "cell_type": "code",
   "execution_count": 121,
   "metadata": {},
   "outputs": [],
   "source": [
    "# NA인 값을 U로 바꾸기\n",
    "for col in cont_binned_df.columns:\n",
    "  cont_binned_df = cont_binned_df.withColumn(col, F.regexp_replace(col, 'NA', 'U'))"
   ]
  },
  {
   "cell_type": "code",
   "execution_count": 122,
   "metadata": {},
   "outputs": [],
   "source": [
    "cont_binned_df = cont_binned_df.withColumn('index', F.row_number().over(Window.orderBy(F.lit(1))))"
   ]
  },
  {
   "cell_type": "code",
   "execution_count": 123,
   "metadata": {},
   "outputs": [],
   "source": [
    "train_table2 = train_table.withColumn('index', F.row_number().over(Window.orderBy(F.lit(1))))"
   ]
  },
  {
   "cell_type": "code",
   "execution_count": 124,
   "metadata": {},
   "outputs": [],
   "source": [
    "train_table2 = train_table2.join(cont_binned_df, 'index', how = 'left')"
   ]
  },
  {
   "cell_type": "code",
   "execution_count": 129,
   "metadata": {},
   "outputs": [],
   "source": [
    "cont2_binned_schema = StructType(\n",
    "                    [StructField(\"display_id\", StringType(), True),\n",
    "                    StructField(\"ad_id\", StringType(), True),                    \n",
    "                    StructField(\"ad_views\", StringType(), True),\n",
    "                    StructField(\"user_views\", StringType(), True)\n",
    "                    ]\n",
    "                    )\n",
    "\n",
    "cont2_binned_df = spark.read.schema(cont2_binned_schema).options(header='true', inferschema='false', nullValue='\\\\N') \\\n",
    "                .csv(\"gs://line-2018-2/data/f.csv\")"
   ]
  },
  {
   "cell_type": "code",
   "execution_count": 130,
   "metadata": {},
   "outputs": [
    {
     "data": {
      "text/plain": [
       "['display_id', 'ad_id', 'ad_views', 'user_views']"
      ]
     },
     "execution_count": 130,
     "metadata": {},
     "output_type": "execute_result"
    }
   ],
   "source": [
    "cont2_binned_df.columns"
   ]
  },
  {
   "cell_type": "code",
   "execution_count": 131,
   "metadata": {},
   "outputs": [],
   "source": [
    "all_data = train_table2.join(cont2_binned_df, on = ['display_id', 'ad_id'], how = 'left')"
   ]
  },
  {
   "cell_type": "code",
   "execution_count": 133,
   "metadata": {},
   "outputs": [],
   "source": [
    "all_data = all_data.drop('index', 'document_id', 'day_event', 'uuid', 'geo_location', 'dummyEvent', 'document_id_promo',\n",
    "                        'dummyPromotedContent', 'timestamp_event')"
   ]
  },
  {
   "cell_type": "code",
   "execution_count": 135,
   "metadata": {},
   "outputs": [
    {
     "data": {
      "text/plain": [
       "['display_id',\n",
       " 'uuid',\n",
       " 'document_id',\n",
       " 'timestamp_event',\n",
       " 'platform',\n",
       " 'geo_location',\n",
       " 'dummyEvent']"
      ]
     },
     "execution_count": 135,
     "metadata": {},
     "output_type": "execute_result"
    }
   ],
   "source": [
    "events_df.columns"
   ]
  },
  {
   "cell_type": "code",
   "execution_count": 137,
   "metadata": {},
   "outputs": [],
   "source": [
    "all_data = all_data.join(events_df, on = ['display_id', 'platform'], how = 'left')"
   ]
  },
  {
   "cell_type": "code",
   "execution_count": 139,
   "metadata": {},
   "outputs": [
    {
     "data": {
      "text/plain": [
       "['display_id',\n",
       " 'platform',\n",
       " 'ad_id',\n",
       " 'traffic_source',\n",
       " 'campaign_id',\n",
       " 'advertiser_id',\n",
       " 'label',\n",
       " 'is_leak',\n",
       " 'weekend',\n",
       " 'view_publisher_id',\n",
       " 'view_source_id',\n",
       " 'hour',\n",
       " 'is_train',\n",
       " 'country',\n",
       " 'ad_category_id',\n",
       " 'ad_topic_id',\n",
       " 'view_category_id',\n",
       " 'view_topic_id',\n",
       " 'ad_source_id',\n",
       " 'ad_publisher_id',\n",
       " 'pop_ad_id',\n",
       " 'pop_ad_doc_id',\n",
       " 'pop_ad_publisher_id',\n",
       " 'pop_advertiser_id',\n",
       " 'pop_campaign_id',\n",
       " 'pop_view_doc_ad_doc',\n",
       " 'pop_ad_source_id',\n",
       " 'pop_ad_topic_id',\n",
       " 'pop_ad_category_id',\n",
       " 'ad_views',\n",
       " 'user_views',\n",
       " 'uuid',\n",
       " 'document_id',\n",
       " 'timestamp_event',\n",
       " 'geo_location',\n",
       " 'dummyEvent']"
      ]
     },
     "execution_count": 139,
     "metadata": {},
     "output_type": "execute_result"
    }
   ],
   "source": [
    "all_data.columns\n",
    "\n",
    "all_data = all_data.drop('geo_location', 'uuid', 'document_id', 'dummyEvent')"
   ]
  },
  {
   "cell_type": "code",
   "execution_count": 141,
   "metadata": {},
   "outputs": [
    {
     "name": "stdout",
     "output_type": "stream",
     "text": [
      "+----------+--------+-----+--------------+-----------+-------------+-----+-------+-------+-----------------+--------------+----+--------+-------+--------------+-----------+----------------+-------------+------------+---------------+---------+-------------+-------------------+-----------------+---------------+-------------------+----------------+---------------+------------------+--------+----------+---------------+\n",
      "|display_id|platform|ad_id|traffic_source|campaign_id|advertiser_id|label|is_leak|weekend|view_publisher_id|view_source_id|hour|is_train|country|ad_category_id|ad_topic_id|view_category_id|view_topic_id|ad_source_id|ad_publisher_id|pop_ad_id|pop_ad_doc_id|pop_ad_publisher_id|pop_advertiser_id|pop_campaign_id|pop_view_doc_ad_doc|pop_ad_source_id|pop_ad_topic_id|pop_ad_category_id|ad_views|user_views|timestamp_event|\n",
      "+----------+--------+-----+--------------+-----------+-------------+-----+-------+-------+-----------------+--------------+----+--------+-------+--------------+-----------+----------------+-------------+------------+---------------+---------+-------------+-------------------+-----------------+---------------+-------------------+----------------+---------------+------------------+--------+----------+---------------+\n",
      "|         0|       0|    0|             0|          0|            0|    0|      0|      0|                0|             0|   0|       0|      0|             0|          0|               0|            0|           0|              0|        0|            0|                  0|                0|              0|                  0|               0|              0|                 0|       0|         0|             30|\n",
      "+----------+--------+-----+--------------+-----------+-------------+-----+-------+-------+-----------------+--------------+----+--------+-------+--------------+-----------+----------------+-------------+------------+---------------+---------+-------------+-------------------+-----------------+---------------+-------------------+----------------+---------------+------------------+--------+----------+---------------+\n",
      "\n"
     ]
    }
   ],
   "source": [
    "# # column별 NA 세기\n",
    "# all_data.select([F.count(F.when(F.isnan(c) | F.col(c).isNull(), c)).alias(c) for c in all_data.columns]).show()\n",
    "\n",
    "# # 0일 것으로 기대..."
   ]
  },
  {
   "cell_type": "code",
   "execution_count": null,
   "metadata": {},
   "outputs": [],
   "source": [
    "# # column별 수준 수 세기\n",
    "# for col in all_data.columns:\n",
    "#   print(col, all_data.select(col).distinct().count())\n",
    "  \n",
    "# # 결과는 아래 참고\n",
    "# # ('display_id', 16874593)\n",
    "# # ('platform', 3)\n",
    "# # ('ad_id', 478950)\n",
    "# # ('traffic_source', 3)\n",
    "# # ('campaign_id', 32676)\n",
    "# # ('advertiser_id', 4174)\n",
    "# # ('label', 2)\n",
    "# # ('is_leak', 3)\n",
    "# # ('weekend', 2)\n",
    "# # ('view_publisher_id', 485)\n",
    "# # ('view_source_id', 4034)\n",
    "# # ('hour', 6)\n",
    "# # ('is_train', 2)\n",
    "# # ('country', 4)\n",
    "# # ('ad_category_id', 95)\n",
    "# # ('ad_topic_id', 301)\n",
    "# # # ('view_category_id', 91)\n",
    "# # ('ad_source_id', 6991)\n",
    "# # ('ad_publisher_id', 883)\n",
    "# # ('pop_ad_id', 5)\n",
    "# # ('pop_ad_doc_id', 5)\n",
    "# # ('pop_ad_publisher_id', 5)"
   ]
  },
  {
   "cell_type": "code",
   "execution_count": 144,
   "metadata": {},
   "outputs": [],
   "source": [
    "all_data = all_data.sort('timestamp_event', ascending = True)"
   ]
  },
  {
   "cell_type": "code",
   "execution_count": 145,
   "metadata": {},
   "outputs": [],
   "source": [
    "# 파케이로 쓰기: all_data_parquet\n",
    "all_data.write.parquet(OUTPUT_BUCKET_FOLDER + 'all_data_parquet', mode='overwrite')"
   ]
  },
  {
   "cell_type": "code",
   "execution_count": null,
   "metadata": {},
   "outputs": [],
   "source": [
    "# # csv로 쓰기: all_data.csv \n",
    "# all_data.repartition(1).write.csv(OUTPUT_BUCKET_FOLDER + 'all_data.csv', header = True)"
   ]
  },
  {
   "cell_type": "code",
   "execution_count": 148,
   "metadata": {},
   "outputs": [],
   "source": [
    "all_data = all_data.drop('is_train')"
   ]
  },
  {
   "cell_type": "code",
   "execution_count": 156,
   "metadata": {},
   "outputs": [],
   "source": [
    "# all_data.count() # 87141731 아니니...?"
   ]
  },
  {
   "cell_type": "code",
   "execution_count": 149,
   "metadata": {},
   "outputs": [],
   "source": [
    "all_data = all_data.withColumn('index', F.row_number().over(Window.orderBy(F.lit(1))))"
   ]
  },
  {
   "cell_type": "code",
   "execution_count": 157,
   "metadata": {},
   "outputs": [],
   "source": [
    "train = all_data.filter(all_data['index'] <= 60000000)"
   ]
  },
  {
   "cell_type": "code",
   "execution_count": 158,
   "metadata": {},
   "outputs": [],
   "source": [
    "test = all_data.filter(all_data['index'] > 60000000)"
   ]
  },
  {
   "cell_type": "code",
   "execution_count": 159,
   "metadata": {},
   "outputs": [
    {
     "data": {
      "text/plain": [
       "60000000"
      ]
     },
     "execution_count": 159,
     "metadata": {},
     "output_type": "execute_result"
    }
   ],
   "source": [
    "train.count() # 60000000"
   ]
  },
  {
   "cell_type": "code",
   "execution_count": 160,
   "metadata": {},
   "outputs": [
    {
     "data": {
      "text/plain": [
       "27141731"
      ]
     },
     "execution_count": 160,
     "metadata": {},
     "output_type": "execute_result"
    }
   ],
   "source": [
    "test.count() # 27141731"
   ]
  },
  {
   "cell_type": "code",
   "execution_count": 168,
   "metadata": {},
   "outputs": [],
   "source": [
    "from pyspark.sql.types import *\n",
    "from pyspark.ml.linalg import Vectors, SparseVector, VectorUDT"
   ]
  },
  {
   "cell_type": "code",
   "execution_count": 170,
   "metadata": {},
   "outputs": [],
   "source": [
    "train = train.select(*(F.col(c).cast('string').alias(c) for c in train.columns))"
   ]
  },
  {
   "cell_type": "code",
   "execution_count": 171,
   "metadata": {},
   "outputs": [],
   "source": [
    "test = test.select(*(F.col(c).cast('string').alias(c) for c in train.columns))"
   ]
  },
  {
   "cell_type": "code",
   "execution_count": 172,
   "metadata": {},
   "outputs": [],
   "source": [
    "train = train.withColumn('is_train', F.lit(1))\n",
    "test = test.withColumn('is_train', F.lit(0))"
   ]
  },
  {
   "cell_type": "code",
   "execution_count": 173,
   "metadata": {},
   "outputs": [],
   "source": [
    "union = train.union(test)"
   ]
  },
  {
   "cell_type": "code",
   "execution_count": 174,
   "metadata": {},
   "outputs": [
    {
     "data": {
      "text/plain": [
       "['display_id',\n",
       " 'platform',\n",
       " 'ad_id',\n",
       " 'traffic_source',\n",
       " 'campaign_id',\n",
       " 'advertiser_id',\n",
       " 'label',\n",
       " 'is_leak',\n",
       " 'weekend',\n",
       " 'view_publisher_id',\n",
       " 'view_source_id',\n",
       " 'hour',\n",
       " 'country',\n",
       " 'ad_category_id',\n",
       " 'ad_topic_id',\n",
       " 'view_category_id',\n",
       " 'view_topic_id',\n",
       " 'ad_source_id',\n",
       " 'ad_publisher_id',\n",
       " 'pop_ad_id',\n",
       " 'pop_ad_doc_id',\n",
       " 'pop_ad_publisher_id',\n",
       " 'pop_advertiser_id',\n",
       " 'pop_campaign_id',\n",
       " 'pop_view_doc_ad_doc',\n",
       " 'pop_ad_source_id',\n",
       " 'pop_ad_topic_id',\n",
       " 'pop_ad_category_id',\n",
       " 'ad_views',\n",
       " 'user_views',\n",
       " 'timestamp_event',\n",
       " 'index',\n",
       " 'is_train']"
      ]
     },
     "execution_count": 174,
     "metadata": {},
     "output_type": "execute_result"
    }
   ],
   "source": [
    "union.columns"
   ]
  },
  {
   "cell_type": "code",
   "execution_count": 175,
   "metadata": {},
   "outputs": [],
   "source": [
    "union = union.drop('index', 'timestamp_event')"
   ]
  },
  {
   "cell_type": "code",
   "execution_count": 177,
   "metadata": {},
   "outputs": [
    {
     "name": "stdout",
     "output_type": "stream",
     "text": [
      "root\n",
      " |-- display_id: string (nullable = true)\n",
      " |-- platform: string (nullable = true)\n",
      " |-- ad_id: string (nullable = true)\n",
      " |-- traffic_source: string (nullable = true)\n",
      " |-- campaign_id: string (nullable = true)\n",
      " |-- advertiser_id: string (nullable = true)\n",
      " |-- label: string (nullable = true)\n",
      " |-- is_leak: string (nullable = true)\n",
      " |-- weekend: string (nullable = true)\n",
      " |-- view_publisher_id: string (nullable = true)\n",
      " |-- view_source_id: string (nullable = true)\n",
      " |-- hour: string (nullable = true)\n",
      " |-- country: string (nullable = true)\n",
      " |-- ad_category_id: string (nullable = true)\n",
      " |-- ad_topic_id: string (nullable = true)\n",
      " |-- view_category_id: string (nullable = true)\n",
      " |-- view_topic_id: string (nullable = true)\n",
      " |-- ad_source_id: string (nullable = true)\n",
      " |-- ad_publisher_id: string (nullable = true)\n",
      " |-- pop_ad_id: string (nullable = true)\n",
      " |-- pop_ad_doc_id: string (nullable = true)\n",
      " |-- pop_ad_publisher_id: string (nullable = true)\n",
      " |-- pop_advertiser_id: string (nullable = true)\n",
      " |-- pop_campaign_id: string (nullable = true)\n",
      " |-- pop_view_doc_ad_doc: string (nullable = true)\n",
      " |-- pop_ad_source_id: string (nullable = true)\n",
      " |-- pop_ad_topic_id: string (nullable = true)\n",
      " |-- pop_ad_category_id: string (nullable = true)\n",
      " |-- ad_views: string (nullable = true)\n",
      " |-- user_views: string (nullable = true)\n",
      " |-- is_train: integer (nullable = false)\n",
      "\n"
     ]
    }
   ],
   "source": [
    "union.printSchema()\n",
    "union = union.withColumnRenamed('label', 'ClickOrNot')"
   ]
  },
  {
   "cell_type": "code",
   "execution_count": 178,
   "metadata": {},
   "outputs": [],
   "source": [
    "from pyspark.ml.feature import OneHotEncoderEstimator, StringIndexer, VectorAssembler"
   ]
  },
  {
   "cell_type": "code",
   "execution_count": 179,
   "metadata": {},
   "outputs": [],
   "source": [
    "categoricalColumns = categoricalColumns = ['weekend', 'view_publisher_id', 'view_source_id', 'hour', 'platform', 'traffic_source', 'country', 'campaign_id', 'advertiser_id', 'ad_category_id', 'ad_topic_id', 'view_category_id', 'view_topic_id', 'ad_source_id', 'ad_publisher_id', 'pop_ad_id', 'pop_ad_doc_id', 'pop_ad_publisher_id', 'pop_advertiser_id', 'pop_campaign_id', 'pop_view_doc_ad_doc', 'pop_ad_source_id', 'pop_ad_topic_id', 'pop_ad_category_id', 'ad_views', 'user_views']"
   ]
  },
  {
   "cell_type": "code",
   "execution_count": 180,
   "metadata": {},
   "outputs": [],
   "source": [
    "stages = []"
   ]
  },
  {
   "cell_type": "code",
   "execution_count": 181,
   "metadata": {},
   "outputs": [],
   "source": [
    "for categoricalCol in categoricalColumns:\n",
    "    stringIndexer = StringIndexer(inputCol = categoricalCol, outputCol = categoricalCol + 'Index')\n",
    "    encoder = OneHotEncoderEstimator(inputCols=[stringIndexer.getOutputCol()], outputCols=[categoricalCol + \"classVec\"])\n",
    "    stages += [stringIndexer, encoder]"
   ]
  },
  {
   "cell_type": "code",
   "execution_count": 182,
   "metadata": {},
   "outputs": [],
   "source": [
    "label_stringIdx = StringIndexer(inputCol = 'ClickOrNot', outputCol = 'label')\n",
    "stages += [label_stringIdx]"
   ]
  },
  {
   "cell_type": "code",
   "execution_count": 183,
   "metadata": {},
   "outputs": [],
   "source": [
    "assemblerInputs = [c + \"classVec\" for c in categoricalColumns]\n",
    "assembler = VectorAssembler(inputCols=assemblerInputs, outputCol=\"features\")\n",
    "stages += [assembler]"
   ]
  },
  {
   "cell_type": "code",
   "execution_count": null,
   "metadata": {},
   "outputs": [],
   "source": [
    "from pyspark.ml import Pipeline\n",
    "pipeline = Pipeline(stages = stages)\n",
    "pipelineModel = pipeline.fit(union)\n",
    "transform_df = pipelineModel.transform(union)\n",
    "cols = union.columns\n",
    "selectedCols = ['label', 'features'] + cols\n",
    "selected_df = transform_df.select(selectedCols)"
   ]
  },
  {
   "cell_type": "code",
   "execution_count": null,
   "metadata": {},
   "outputs": [],
   "source": [
    "# train - test split\n",
    "train = selected_df.filter(selected_df.is_train == 1)\n",
    "test = selected_df.filter(selected_df.is_train == 0)"
   ]
  },
  {
   "cell_type": "code",
   "execution_count": null,
   "metadata": {},
   "outputs": [],
   "source": [
    "import datetime\n",
    "start_time = time.time()"
   ]
  },
  {
   "cell_type": "code",
   "execution_count": null,
   "metadata": {},
   "outputs": [],
   "source": [
    "from pyspark.ml.classification import LogisticRegression\n",
    "\n",
    "lr = LogisticRegression(featuresCol = 'features', labelCol = 'label', maxIter = 10)\n",
    "lrModel = lr.fit(train)\n",
    "\n",
    "print(\"--- %s seconds ---\" % (time.time() - start_time))"
   ]
  },
  {
   "cell_type": "code",
   "execution_count": null,
   "metadata": {},
   "outputs": [],
   "source": [
    "lrPredictions = lrModel.transform(test)"
   ]
  },
  {
   "cell_type": "code",
   "execution_count": null,
   "metadata": {},
   "outputs": [],
   "source": [
    "logistic_final_df = lrPredictions.select('display_id', 'ad_id', 'probability')"
   ]
  },
  {
   "cell_type": "code",
   "execution_count": null,
   "metadata": {},
   "outputs": [],
   "source": [
    "logistic_final_pd = logistic_final_df.toPandas()"
   ]
  },
  {
   "cell_type": "code",
   "execution_count": null,
   "metadata": {},
   "outputs": [],
   "source": [
    "logistic_final_pd['clickprob'] = logistic_final_pd.probability"
   ]
  },
  {
   "cell_type": "code",
   "execution_count": null,
   "metadata": {},
   "outputs": [],
   "source": [
    "for i in range(len(logistic_final_pd)):\n",
    "  logistic_final_pd.clickprob[i] = logistic_final_pd.probability[i][1]"
   ]
  },
  {
   "cell_type": "code",
   "execution_count": null,
   "metadata": {},
   "outputs": [],
   "source": [
    "logistic_final_pd = logistic_final_pd[['display_id', 'ad_id', 'clickprob']]\n",
    "\n",
    "from io import BytesIO\n",
    "logistic_final_pd.to_csv('logistic.csv', index = False)\n",
    "!gsutil cp 'logistic.csv' 'gs://line-2018-2/output/logistic.csv'"
   ]
  },
  {
   "cell_type": "code",
   "execution_count": null,
   "metadata": {},
   "outputs": [],
   "source": [
    "test_label = test.select('display_id', 'ad_id', 'label').toPandas()"
   ]
  },
  {
   "cell_type": "code",
   "execution_count": null,
   "metadata": {},
   "outputs": [],
   "source": [
    "pd_merge = pd.merge(test_label, logistic_final_pd, how = 'left', left_on = ['display_id',\n",
    "                                                                           'ad_id'], right_on = ['display_id', 'ad_id'])"
   ]
  },
  {
   "cell_type": "code",
   "execution_count": null,
   "metadata": {},
   "outputs": [],
   "source": [
    "pd_merge.sort_values(['display_id', 'clickprob'], inplace= True, ascending = [True, False])"
   ]
  },
  {
   "cell_type": "code",
   "execution_count": null,
   "metadata": {},
   "outputs": [],
   "source": [
    "from ml_metrics import mapk\n",
    "\n",
    "y_ads = pd_merge[pd_merge.label == 1].ad_id.values.reshape(-1, 1)\n",
    "p_ads = pd_merge.groupby(by = 'display_id', sort = False).ad_id.apply(lambda x: x.values).values"
   ]
  },
  {
   "cell_type": "code",
   "execution_count": null,
   "metadata": {},
   "outputs": [],
   "source": [
    "score = mapk(y_ads, p_ads, 12)\n",
    "print('MAP: %.12f' % score)"
   ]
  },
  {
   "cell_type": "code",
   "execution_count": null,
   "metadata": {},
   "outputs": [],
   "source": [
    "# # 파케이로 쓰기: train_parquet\n",
    "# train.write.parquet(OUTPUT_BUCKET_FOLDER + 'train_parquet', mode='overwrite')"
   ]
  },
  {
   "cell_type": "code",
   "execution_count": null,
   "metadata": {},
   "outputs": [],
   "source": [
    "# # 파케이로 쓰기: test_parquet\n",
    "# test.write.parquet(OUTPUT_BUCKET_FOLDER + 'test_parquet', mode='overwrite')"
   ]
  },
  {
   "cell_type": "code",
   "execution_count": 161,
   "metadata": {},
   "outputs": [],
   "source": [
    "# csv로 쓰기: train_csv\n",
    "train.repartition(1).write.csv(OUTPUT_BUCKET_FOLDER + 'train_final.csv', header = True)"
   ]
  },
  {
   "cell_type": "code",
   "execution_count": 166,
   "metadata": {},
   "outputs": [
    {
     "ename": "KeyboardInterrupt",
     "evalue": "",
     "output_type": "error",
     "traceback": [
      "\u001b[0;31m\u001b[0m",
      "\u001b[0;31mKeyboardInterrupt\u001b[0mTraceback (most recent call last)",
      "\u001b[0;32m<ipython-input-166-764f67571d52>\u001b[0m in \u001b[0;36m<module>\u001b[0;34m()\u001b[0m\n\u001b[1;32m      1\u001b[0m \u001b[0;31m# csv로 쓰기: test_csv\u001b[0m\u001b[0;34m\u001b[0m\u001b[0;34m\u001b[0m\u001b[0m\n\u001b[0;32m----> 2\u001b[0;31m \u001b[0mtest\u001b[0m\u001b[0;34m.\u001b[0m\u001b[0mrepartition\u001b[0m\u001b[0;34m(\u001b[0m\u001b[0;36m1\u001b[0m\u001b[0;34m)\u001b[0m\u001b[0;34m.\u001b[0m\u001b[0mwrite\u001b[0m\u001b[0;34m.\u001b[0m\u001b[0mcsv\u001b[0m\u001b[0;34m(\u001b[0m\u001b[0mOUTPUT_BUCKET_FOLDER\u001b[0m \u001b[0;34m+\u001b[0m \u001b[0;34m'test_final.csv'\u001b[0m\u001b[0;34m,\u001b[0m \u001b[0mheader\u001b[0m \u001b[0;34m=\u001b[0m \u001b[0mTrue\u001b[0m\u001b[0;34m)\u001b[0m\u001b[0;34m\u001b[0m\u001b[0m\n\u001b[0m",
      "\u001b[0;32m/usr/lib/spark/python/lib/pyspark.zip/pyspark/sql/readwriter.py\u001b[0m in \u001b[0;36mcsv\u001b[0;34m(self, path, mode, compression, sep, quote, escape, header, nullValue, escapeQuotes, quoteAll, dateFormat, timestampFormat, ignoreLeadingWhiteSpace, ignoreTrailingWhiteSpace, charToEscapeQuoteEscaping)\u001b[0m\n\u001b[1;32m    883\u001b[0m                        \u001b[0mignoreTrailingWhiteSpace\u001b[0m\u001b[0;34m=\u001b[0m\u001b[0mignoreTrailingWhiteSpace\u001b[0m\u001b[0;34m,\u001b[0m\u001b[0;34m\u001b[0m\u001b[0m\n\u001b[1;32m    884\u001b[0m                        charToEscapeQuoteEscaping=charToEscapeQuoteEscaping)\n\u001b[0;32m--> 885\u001b[0;31m         \u001b[0mself\u001b[0m\u001b[0;34m.\u001b[0m\u001b[0m_jwrite\u001b[0m\u001b[0;34m.\u001b[0m\u001b[0mcsv\u001b[0m\u001b[0;34m(\u001b[0m\u001b[0mpath\u001b[0m\u001b[0;34m)\u001b[0m\u001b[0;34m\u001b[0m\u001b[0m\n\u001b[0m\u001b[1;32m    886\u001b[0m \u001b[0;34m\u001b[0m\u001b[0m\n\u001b[1;32m    887\u001b[0m     \u001b[0;34m@\u001b[0m\u001b[0msince\u001b[0m\u001b[0;34m(\u001b[0m\u001b[0;36m1.5\u001b[0m\u001b[0;34m)\u001b[0m\u001b[0;34m\u001b[0m\u001b[0m\n",
      "\u001b[0;32m/usr/lib/spark/python/lib/py4j-0.10.7-src.zip/py4j/java_gateway.py\u001b[0m in \u001b[0;36m__call__\u001b[0;34m(self, *args)\u001b[0m\n\u001b[1;32m   1253\u001b[0m             \u001b[0mproto\u001b[0m\u001b[0;34m.\u001b[0m\u001b[0mEND_COMMAND_PART\u001b[0m\u001b[0;34m\u001b[0m\u001b[0m\n\u001b[1;32m   1254\u001b[0m \u001b[0;34m\u001b[0m\u001b[0m\n\u001b[0;32m-> 1255\u001b[0;31m         \u001b[0manswer\u001b[0m \u001b[0;34m=\u001b[0m \u001b[0mself\u001b[0m\u001b[0;34m.\u001b[0m\u001b[0mgateway_client\u001b[0m\u001b[0;34m.\u001b[0m\u001b[0msend_command\u001b[0m\u001b[0;34m(\u001b[0m\u001b[0mcommand\u001b[0m\u001b[0;34m)\u001b[0m\u001b[0;34m\u001b[0m\u001b[0m\n\u001b[0m\u001b[1;32m   1256\u001b[0m         return_value = get_return_value(\n\u001b[1;32m   1257\u001b[0m             answer, self.gateway_client, self.target_id, self.name)\n",
      "\u001b[0;32m/usr/lib/spark/python/lib/py4j-0.10.7-src.zip/py4j/java_gateway.py\u001b[0m in \u001b[0;36msend_command\u001b[0;34m(self, command, retry, binary)\u001b[0m\n\u001b[1;32m    983\u001b[0m         \u001b[0mconnection\u001b[0m \u001b[0;34m=\u001b[0m \u001b[0mself\u001b[0m\u001b[0;34m.\u001b[0m\u001b[0m_get_connection\u001b[0m\u001b[0;34m(\u001b[0m\u001b[0;34m)\u001b[0m\u001b[0;34m\u001b[0m\u001b[0m\n\u001b[1;32m    984\u001b[0m         \u001b[0;32mtry\u001b[0m\u001b[0;34m:\u001b[0m\u001b[0;34m\u001b[0m\u001b[0m\n\u001b[0;32m--> 985\u001b[0;31m             \u001b[0mresponse\u001b[0m \u001b[0;34m=\u001b[0m \u001b[0mconnection\u001b[0m\u001b[0;34m.\u001b[0m\u001b[0msend_command\u001b[0m\u001b[0;34m(\u001b[0m\u001b[0mcommand\u001b[0m\u001b[0;34m)\u001b[0m\u001b[0;34m\u001b[0m\u001b[0m\n\u001b[0m\u001b[1;32m    986\u001b[0m             \u001b[0;32mif\u001b[0m \u001b[0mbinary\u001b[0m\u001b[0;34m:\u001b[0m\u001b[0;34m\u001b[0m\u001b[0m\n\u001b[1;32m    987\u001b[0m                 \u001b[0;32mreturn\u001b[0m \u001b[0mresponse\u001b[0m\u001b[0;34m,\u001b[0m \u001b[0mself\u001b[0m\u001b[0;34m.\u001b[0m\u001b[0m_create_connection_guard\u001b[0m\u001b[0;34m(\u001b[0m\u001b[0mconnection\u001b[0m\u001b[0;34m)\u001b[0m\u001b[0;34m\u001b[0m\u001b[0m\n",
      "\u001b[0;32m/usr/lib/spark/python/lib/py4j-0.10.7-src.zip/py4j/java_gateway.py\u001b[0m in \u001b[0;36msend_command\u001b[0;34m(self, command)\u001b[0m\n\u001b[1;32m   1150\u001b[0m \u001b[0;34m\u001b[0m\u001b[0m\n\u001b[1;32m   1151\u001b[0m         \u001b[0;32mtry\u001b[0m\u001b[0;34m:\u001b[0m\u001b[0;34m\u001b[0m\u001b[0m\n\u001b[0;32m-> 1152\u001b[0;31m             \u001b[0manswer\u001b[0m \u001b[0;34m=\u001b[0m \u001b[0msmart_decode\u001b[0m\u001b[0;34m(\u001b[0m\u001b[0mself\u001b[0m\u001b[0;34m.\u001b[0m\u001b[0mstream\u001b[0m\u001b[0;34m.\u001b[0m\u001b[0mreadline\u001b[0m\u001b[0;34m(\u001b[0m\u001b[0;34m)\u001b[0m\u001b[0;34m[\u001b[0m\u001b[0;34m:\u001b[0m\u001b[0;34m-\u001b[0m\u001b[0;36m1\u001b[0m\u001b[0;34m]\u001b[0m\u001b[0;34m)\u001b[0m\u001b[0;34m\u001b[0m\u001b[0m\n\u001b[0m\u001b[1;32m   1153\u001b[0m             \u001b[0mlogger\u001b[0m\u001b[0;34m.\u001b[0m\u001b[0mdebug\u001b[0m\u001b[0;34m(\u001b[0m\u001b[0;34m\"Answer received: {0}\"\u001b[0m\u001b[0;34m.\u001b[0m\u001b[0mformat\u001b[0m\u001b[0;34m(\u001b[0m\u001b[0manswer\u001b[0m\u001b[0;34m)\u001b[0m\u001b[0;34m)\u001b[0m\u001b[0;34m\u001b[0m\u001b[0m\n\u001b[1;32m   1154\u001b[0m             \u001b[0;32mif\u001b[0m \u001b[0manswer\u001b[0m\u001b[0;34m.\u001b[0m\u001b[0mstartswith\u001b[0m\u001b[0;34m(\u001b[0m\u001b[0mproto\u001b[0m\u001b[0;34m.\u001b[0m\u001b[0mRETURN_MESSAGE\u001b[0m\u001b[0;34m)\u001b[0m\u001b[0;34m:\u001b[0m\u001b[0;34m\u001b[0m\u001b[0m\n",
      "\u001b[0;32m/usr/local/envs/py2env/lib/python2.7/socket.pyc\u001b[0m in \u001b[0;36mreadline\u001b[0;34m(self, size)\u001b[0m\n\u001b[1;32m    449\u001b[0m             \u001b[0;32mwhile\u001b[0m \u001b[0mTrue\u001b[0m\u001b[0;34m:\u001b[0m\u001b[0;34m\u001b[0m\u001b[0m\n\u001b[1;32m    450\u001b[0m                 \u001b[0;32mtry\u001b[0m\u001b[0;34m:\u001b[0m\u001b[0;34m\u001b[0m\u001b[0m\n\u001b[0;32m--> 451\u001b[0;31m                     \u001b[0mdata\u001b[0m \u001b[0;34m=\u001b[0m \u001b[0mself\u001b[0m\u001b[0;34m.\u001b[0m\u001b[0m_sock\u001b[0m\u001b[0;34m.\u001b[0m\u001b[0mrecv\u001b[0m\u001b[0;34m(\u001b[0m\u001b[0mself\u001b[0m\u001b[0;34m.\u001b[0m\u001b[0m_rbufsize\u001b[0m\u001b[0;34m)\u001b[0m\u001b[0;34m\u001b[0m\u001b[0m\n\u001b[0m\u001b[1;32m    452\u001b[0m                 \u001b[0;32mexcept\u001b[0m \u001b[0merror\u001b[0m\u001b[0;34m,\u001b[0m \u001b[0me\u001b[0m\u001b[0;34m:\u001b[0m\u001b[0;34m\u001b[0m\u001b[0m\n\u001b[1;32m    453\u001b[0m                     \u001b[0;32mif\u001b[0m \u001b[0me\u001b[0m\u001b[0;34m.\u001b[0m\u001b[0margs\u001b[0m\u001b[0;34m[\u001b[0m\u001b[0;36m0\u001b[0m\u001b[0;34m]\u001b[0m \u001b[0;34m==\u001b[0m \u001b[0mEINTR\u001b[0m\u001b[0;34m:\u001b[0m\u001b[0;34m\u001b[0m\u001b[0m\n",
      "\u001b[0;31mKeyboardInterrupt\u001b[0m: "
     ]
    }
   ],
   "source": [
    "# # csv로 쓰기: test_csv\n",
    "# test.repartition(1).write.csv(OUTPUT_BUCKET_FOLDER + 'test_final.csv', header = True)"
   ]
  },
  {
   "cell_type": "code",
   "execution_count": null,
   "metadata": {},
   "outputs": [],
   "source": []
  }
 ],
 "metadata": {
  "kernelspec": {
   "display_name": "Python 2",
   "language": "python",
   "name": "python2"
  }
 },
 "nbformat": 4,
 "nbformat_minor": 1
}
