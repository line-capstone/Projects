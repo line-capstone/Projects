{
 "cells": [
  {
   "cell_type": "code",
   "execution_count": 1,
   "metadata": {},
   "outputs": [],
   "source": [
    "evaluation = True\n",
    "evaluation_verbose = False\n",
    "\n",
    "OUTPUT_BUCKET_FOLDER = \"gs://cap-18/output/\"\n",
    "DATA_BUCKET_FOLDER = \"gs://cap-18/data/\""
   ]
  },
  {
   "cell_type": "code",
   "execution_count": 2,
   "metadata": {},
   "outputs": [],
   "source": [
    "from IPython.display import display"
   ]
  },
  {
   "cell_type": "code",
   "execution_count": 3,
   "metadata": {},
   "outputs": [],
   "source": [
    "from pyspark.sql.types import *\n",
    "import pyspark.sql.functions as F\n",
    "from pyspark.ml.linalg import Vectors, SparseVector, VectorUDT"
   ]
  },
  {
   "cell_type": "code",
   "execution_count": 4,
   "metadata": {},
   "outputs": [],
   "source": [
    "from IPython.core.interactiveshell import InteractiveShell \n",
    "InteractiveShell.ast_node_interactivity = \"all\" # 한 셀(cell)에서의 코드 실행 결과가 다 보이도록 설정"
   ]
  },
  {
   "cell_type": "code",
   "execution_count": 5,
   "metadata": {},
   "outputs": [],
   "source": [
    "import numpy as np\n",
    "import scipy.sparse"
   ]
  },
  {
   "cell_type": "code",
   "execution_count": 6,
   "metadata": {},
   "outputs": [],
   "source": [
    "import warnings \n",
    "warnings.filterwarnings('ignore') # warning 메시지 반환되지 않도록 설정"
   ]
  },
  {
   "cell_type": "code",
   "execution_count": 7,
   "metadata": {},
   "outputs": [],
   "source": [
    "import math\n",
    "import datetime\n",
    "import time\n",
    "import itertools"
   ]
  },
  {
   "cell_type": "code",
   "execution_count": 8,
   "metadata": {},
   "outputs": [],
   "source": [
    "import pickle"
   ]
  },
  {
   "cell_type": "code",
   "execution_count": 9,
   "metadata": {},
   "outputs": [],
   "source": [
    "import random\n",
    "random.seed(42)"
   ]
  },
  {
   "cell_type": "code",
   "execution_count": 10,
   "metadata": {},
   "outputs": [],
   "source": [
    "import pandas as pd\n",
    "%matplotlib inline"
   ]
  },
  {
   "cell_type": "markdown",
   "metadata": {},
   "source": [
    "### 데이터 로드"
   ]
  },
  {
   "cell_type": "code",
   "execution_count": 11,
   "metadata": {},
   "outputs": [],
   "source": [
    "extract_country_udf = F.udf(lambda geo: geo.strip()[:2] if geo != None else '', StringType())"
   ]
  },
  {
   "cell_type": "code",
   "execution_count": 12,
   "metadata": {},
   "outputs": [],
   "source": [
    "events_schema = StructType(\n",
    "                    [StructField(\"display_id\", IntegerType(), True),\n",
    "                    StructField(\"uuid_event\", StringType(), True),                    \n",
    "                    StructField(\"document_id_event\", IntegerType(), True),\n",
    "                    StructField(\"timestamp_event\", IntegerType(), True),\n",
    "                    StructField(\"platform_event\", IntegerType(), True),\n",
    "                    StructField(\"geo_location_event\", StringType(), True)]\n",
    "                    )\n",
    "\n",
    "events_df = spark.read.schema(events_schema).options(header='true', inferschema='false', nullValue='\\\\N') \\\n",
    "                .csv(DATA_BUCKET_FOLDER + \"events.csv\") \\\n",
    "                .withColumn('dummyEvents', F.lit(1)) \\\n",
    "                .withColumn('event_country', extract_country_udf('geo_location_event')) \\\n",
    "                .alias('events')               "
   ]
  },
  {
   "cell_type": "code",
   "execution_count": 13,
   "metadata": {},
   "outputs": [],
   "source": [
    "promoted_content_schema = StructType(\n",
    "                    [StructField(\"ad_id\", IntegerType(), True),\n",
    "                    StructField(\"document_id_promo\", IntegerType(), True),                    \n",
    "                    StructField(\"campaign_id\", IntegerType(), True),\n",
    "                    StructField(\"advertiser_id\", IntegerType(), True)]\n",
    "                    )\n",
    "\n",
    "promoted_content_df = spark.read.schema(promoted_content_schema).options(header='true', inferschema='false', nullValue='\\\\N') \\\n",
    "                .csv(DATA_BUCKET_FOLDER+\"promoted_content.csv\") \\\n",
    "                .withColumn('dummyPromotedContent', F.lit(1)).alias('promoted_content').cache()"
   ]
  },
  {
   "cell_type": "code",
   "execution_count": 14,
   "metadata": {},
   "outputs": [],
   "source": [
    "documents_meta_schema = StructType(\n",
    "                    [StructField(\"document_id_doc\", IntegerType(), True),\n",
    "                    StructField(\"source_id\", IntegerType(), True),                    \n",
    "                    StructField(\"publisher_id\", IntegerType(), True)]\n",
    "                    )\n",
    "\n",
    "documents_meta_df = spark.read.schema(documents_meta_schema).options(header='true', inferschema='false', nullValue='\\\\N') \\\n",
    "                .csv(DATA_BUCKET_FOLDER+\"documents_meta.csv\") \\\n",
    "                .withColumn('dummyDocumentsMeta', F.lit(1)).alias('documents_meta').cache()"
   ]
  },
  {
   "cell_type": "code",
   "execution_count": 15,
   "metadata": {},
   "outputs": [],
   "source": [
    "page_views_schema = StructType(\n",
    "                    [StructField(\"uuid_pv\", StringType(), True),\n",
    "                    StructField(\"document_id_pv\", IntegerType(), True),\n",
    "                    StructField(\"timestamp_pv\", IntegerType(), True),\n",
    "                    StructField(\"platform_pv\", IntegerType(), True),\n",
    "                    StructField(\"geo_location_pv\", StringType(), True),\n",
    "                    StructField(\"traffic_source_pv\", IntegerType(), True)]\n",
    "                    )\n",
    "page_views_df = spark.read.schema(page_views_schema).options(header='true', inferschema='false', nullValue='\\\\N') \\\n",
    "                .csv(DATA_BUCKET_FOLDER+\"page_views.csv\") \\\n",
    "                .alias('page_views')        \n",
    "            \n",
    "page_views_df.createOrReplaceTempView('page_views')"
   ]
  },
  {
   "cell_type": "code",
   "execution_count": 16,
   "metadata": {},
   "outputs": [],
   "source": [
    "#Joining with Page Views to get traffic_source_pv\n",
    "events_joined_df = events_df.join(documents_meta_df \\\n",
    "                                  .withColumnRenamed('source_id', 'source_id_doc_event') \\\n",
    "                                  .withColumnRenamed('publisher_id', 'publisher_doc_event')\n",
    "                                  , on=F.col(\"document_id_event\") == F.col(\"document_id_doc\"), how='left') \\\n",
    "                            .join(page_views_df, \n",
    "                                           on=[F.col('uuid_event') == F.col('uuid_pv'),\n",
    "                                               F.col('document_id_event') == F.col('document_id_pv'),\n",
    "                                               F.col('platform_event') == F.col('platform_pv'),\n",
    "                                               F.col('geo_location_event') == F.col('geo_location_pv')],\n",
    "                                               how='left') \\\n",
    "                                    .alias('events').cache()"
   ]
  },
  {
   "cell_type": "code",
   "execution_count": 95,
   "metadata": {},
   "outputs": [],
   "source": [
    "clicks_train_schema = StructType(\n",
    "                    [StructField(\"display_id\", IntegerType(), True),\n",
    "                    StructField(\"ad_id\", IntegerType(), True),                    \n",
    "                    StructField(\"clicked\", IntegerType(), True)]\n",
    "                    )\n",
    "\n",
    "clicks_train_df = spark.read.schema(clicks_train_schema).options(header='true', inferschema='false', nullValue='\\\\N') \\\n",
    "                .csv(DATA_BUCKET_FOLDER+\"clicks_train.csv\") \\\n",
    "                .withColumn('dummyClicksTrain', F.lit(1)).alias('clicks_train').cache()"
   ]
  },
  {
   "cell_type": "code",
   "execution_count": 96,
   "metadata": {},
   "outputs": [
    {
     "data": {
      "text/plain": [
       "87141731"
      ]
     },
     "execution_count": 96,
     "metadata": {},
     "output_type": "execute_result"
    }
   ],
   "source": [
    "clicks_train_df.count()"
   ]
  },
  {
   "cell_type": "code",
   "execution_count": 18,
   "metadata": {},
   "outputs": [],
   "source": [
    "clicks_train_joined_df = clicks_train_df \\\n",
    "                         .join(promoted_content_df, on='ad_id', how='left') \\\n",
    "                         .join(documents_meta_df, on=F.col(\"promoted_content.document_id_promo\") == F.col(\"documents_meta.document_id_doc\"), how='left') \\\n",
    "                         .join(events_joined_df, on='display_id', how='left').cache()                         \n",
    "clicks_train_joined_df.createOrReplaceTempView('clicks_train_joined')"
   ]
  },
  {
   "cell_type": "code",
   "execution_count": 31,
   "metadata": {},
   "outputs": [
    {
     "name": "stdout",
     "output_type": "stream",
     "text": [
      "+----------+-----+-------+----------------+-----------------+-----------+-------------+--------------------+---------------+---------+------------+------------------+--------------+-----------------+---------------+--------------+------------------+-----------+-------------+---------------+-------------------+-------------------+------------------+--------------+--------------+------------+-----------+---------------+-----------------+\n",
      "|display_id|ad_id|clicked|dummyClicksTrain|document_id_promo|campaign_id|advertiser_id|dummyPromotedContent|document_id_doc|source_id|publisher_id|dummyDocumentsMeta|    uuid_event|document_id_event|timestamp_event|platform_event|geo_location_event|dummyEvents|event_country|document_id_doc|source_id_doc_event|publisher_doc_event|dummyDocumentsMeta|       uuid_pv|document_id_pv|timestamp_pv|platform_pv|geo_location_pv|traffic_source_pv|\n",
      "+----------+-----+-------+----------------+-----------------+-----------+-------------+--------------------+---------------+---------+------------+------------------+--------------+-----------------+---------------+--------------+------------------+-----------+-------------+---------------+-------------------+-------------------+------------------+--------------+--------------+------------+-----------+---------------+-----------------+\n",
      "|       148|89351|      1|               1|           990613|       7617|         2181|                   1|         990613|     9457|        null|                 1|9adce6a5363308|          1205772|          11202|             2|         US>LA>612|          1|           US|        1205772|               9135|               1042|                 1|9adce6a5363308|       1205772|       11202|          2|      US>LA>612|                1|\n",
      "+----------+-----+-------+----------------+-----------------+-----------+-------------+--------------------+---------------+---------+------------+------------------+--------------+-----------------+---------------+--------------+------------------+-----------+-------------+---------------+-------------------+-------------------+------------------+--------------+--------------+------------+-----------+---------------+-----------------+\n",
      "only showing top 1 row\n",
      "\n"
     ]
    }
   ],
   "source": [
    "clicks_train_joined_df.show(1)"
   ]
  },
  {
   "cell_type": "code",
   "execution_count": 169,
   "metadata": {},
   "outputs": [
    {
     "data": {
      "text/plain": [
       "[Row(uuid=u'10005a0add15f6', display_id=5686397, ad_id=61941, document_id_event=2135921, document_id=1017869, label=1, feature_vector=SparseVector(103, {0: 1.0, 3: 11370.0, 4: 15083.0, 5: 0.0, 6: 3.0, 7: 173.0, 8: 0.4069, 9: 0.5623, 10: 0.2288, 11: 0.3902, 12: 0.5131, 13: 0.2002, 14: 0.2691, 15: 0.3531, 16: 0.095, 17: 0.3902, 18: 0.5131, 19: 0.2002, 20: 0.3902, 21: 0.5131, 22: 0.2002, 26: 0.3902, 27: 0.5131, 28: 0.2002, 29: 0.3902, 30: 0.5131, 31: 0.2002, 32: 0.3826, 33: 0.2833, 34: 0.1084, 35: 0.3962, 36: 0.2833, 37: 0.1122, 38: 0.2738, 39: 0.0012, 40: 0.0003, 41: 0.2801, 42: 0.0012, 43: 0.0003, 44: 0.2298, 45: 0.0622, 46: 0.0143, 47: 0.2336, 48: 0.0595, 49: 0.0139, 59: 0.0, 60: 0.0004, 61: 0.0, 62: 0.0, 63: 0.0, 64: 0.0, 68: 2413.0, 69: 1403.0, 70: 1610.0, 72: 108.0, 75: 194.0, 76: 15.0, 81: 440.0, 82: 4016.0, 83: 1702.0, 84: 1707.0, 86: 137.0, 95: 723.0, 96: 4194.0, 97: 18595452.0, 98: 745661.0, 99: 33260.0, 100: 3.0, 101: 2.0, 102: 1.0}))]"
      ]
     },
     "execution_count": 169,
     "metadata": {},
     "output_type": "execute_result"
    },
    {
     "data": {
      "text/plain": [
       "[Row(uuid=u'100289071872c9', display_id=3110701, ad_id=149004, document_id_event=1973614, document_id=1335842, label=1, is_leak=0, feature_vector=SparseVector(103, {0: 0.0, 1: 0.0, 2: 43.0, 3: 5042.0, 4: 15296.0, 5: 0.0, 6: 3.0, 7: 54.0, 8: 0.2582, 9: 0.5133, 10: 0.1326, 11: 0.2288, 12: 0.5384, 13: 0.1232, 14: 0.2288, 15: 0.5384, 16: 0.1232, 17: 0.1855, 18: 0.3432, 19: 0.0637, 20: 0.2378, 21: 0.332, 22: 0.079, 26: 0.2288, 27: 0.5384, 28: 0.1232, 29: 0.2288, 30: 0.5384, 31: 0.1232, 32: 0.2288, 33: 0.4539, 34: 0.1039, 35: 0.2288, 36: 0.4539, 37: 0.1039, 38: 0.1948, 39: 0.018, 40: 0.0035, 41: 0.2483, 42: 0.0167, 43: 0.0041, 44: 0.1838, 45: 0.1421, 46: 0.0261, 47: 0.1886, 48: 0.149, 49: 0.0281, 50: 0.0645, 51: 1.0, 52: 0.0645, 53: 0.0, 54: 0.0005, 55: 0.0, 56: 0.0, 57: 0.0, 58: 0.0, 59: 0.0136, 60: 0.9996, 61: 0.0136, 62: 0.0, 63: 0.0, 64: 0.0, 65: 0.0, 66: 0.0, 67: 0.0, 68: 709.0, 69: 1100.0, 70: 1408.0, 72: 277.0, 81: 509.0, 82: 3890.0, 83: 1403.0, 84: 1408.0, 86: 136.0, 95: 407.0, 96: 6715.0, 97: 18595452.0, 98: 1645323.0, 99: 428139.0, 100: 3.0, 101: 2.0, 102: 1.0}))]"
      ]
     },
     "execution_count": 169,
     "metadata": {},
     "output_type": "execute_result"
    }
   ],
   "source": [
    "train_feature_vectors_exported_df = spark.read.parquet(\"gs://capstone-01/output/train_feature_vectors_integral_eval\")\n",
    "validation_feature_vectors_exported_df = spark.read.parquet(\"gs://capstone-01/output/validation_feature_vectors_integral\")\n",
    "\n",
    "train_feature_vectors_exported_df.take(1)\n",
    "validation_feature_vectors_exported_df.take(1)"
   ]
  },
  {
   "cell_type": "code",
   "execution_count": null,
   "metadata": {},
   "outputs": [],
   "source": [
    "bool_feature_names = ['event_weekend',\n",
    "                      'user_has_already_viewed_doc']"
   ]
  },
  {
   "cell_type": "code",
   "execution_count": 171,
   "metadata": {},
   "outputs": [],
   "source": [
    "int_feature_names = ['user_views',\n",
    "                    'ad_views',\n",
    "                    'doc_views',\n",
    "                    'doc_event_days_since_published',\n",
    "                    'doc_event_hour',\n",
    "                    'doc_ad_days_since_published', \n",
    "                    ]"
   ]
  },
  {
   "cell_type": "code",
   "execution_count": 172,
   "metadata": {},
   "outputs": [],
   "source": [
    "float_feature_names = [                                \n",
    "                'pop_ad_id',       \n",
    "                'pop_ad_id_conf',   \n",
    "                'pop_ad_id_conf_multipl', \n",
    "                'pop_document_id',                \n",
    "                'pop_document_id_conf',\n",
    "                'pop_document_id_conf_multipl',\n",
    "                'pop_publisher_id',\n",
    "                'pop_publisher_id_conf',\n",
    "                'pop_publisher_id_conf_multipl',\n",
    "                'pop_advertiser_id',\n",
    "                'pop_advertiser_id_conf',\n",
    "                'pop_advertiser_id_conf_multipl',\n",
    "                'pop_campaign_id',\n",
    "                'pop_campaign_id_conf',\n",
    "                'pop_campaign_id_conf_multipl',\n",
    "                'pop_doc_event_doc_ad',\n",
    "                'pop_doc_event_doc_ad_conf',\n",
    "                'pop_doc_event_doc_ad_conf_multipl',\n",
    "                'pop_source_id',  \n",
    "                'pop_source_id_conf',\n",
    "                'pop_source_id_conf_multipl',\n",
    "                'pop_source_id_country',\n",
    "                'pop_source_id_country_conf',\n",
    "                'pop_source_id_country_conf_multipl',\n",
    "                'pop_entity_id',    \n",
    "                'pop_entity_id_conf',\n",
    "                'pop_entity_id_conf_multipl',\n",
    "                'pop_entity_id_country',\n",
    "                'pop_entity_id_country_conf',\n",
    "                'pop_entity_id_country_conf_multipl',\n",
    "                'pop_topic_id', \n",
    "                'pop_topic_id_conf',\n",
    "                'pop_topic_id_conf_multipl',\n",
    "                'pop_topic_id_country',\n",
    "                'pop_topic_id_country_conf',\n",
    "                'pop_topic_id_country_conf_multipl',\n",
    "                'pop_category_id', \n",
    "                'pop_category_id_conf',\n",
    "                'pop_category_id_conf_multipl',\n",
    "                'pop_category_id_country',\n",
    "                'pop_category_id_country_conf',\n",
    "                'pop_category_id_country_conf_multipl',\n",
    "                'user_doc_ad_sim_categories',    \n",
    "                'user_doc_ad_sim_categories_conf',\n",
    "                'user_doc_ad_sim_categories_conf_multipl',\n",
    "                'user_doc_ad_sim_topics',    \n",
    "                'user_doc_ad_sim_topics_conf',\n",
    "                'user_doc_ad_sim_topics_conf_multipl',\n",
    "                'user_doc_ad_sim_entities',                    \n",
    "                'user_doc_ad_sim_entities_conf',\n",
    "                'user_doc_ad_sim_entities_conf_multipl',\n",
    "                'doc_event_doc_ad_sim_categories',    \n",
    "                'doc_event_doc_ad_sim_categories_conf',\n",
    "                'doc_event_doc_ad_sim_categories_conf_multipl',\n",
    "                'doc_event_doc_ad_sim_topics',    \n",
    "                'doc_event_doc_ad_sim_topics_conf',\n",
    "                'doc_event_doc_ad_sim_topics_conf_multipl',\n",
    "                'doc_event_doc_ad_sim_entities',                    \n",
    "                'doc_event_doc_ad_sim_entities_conf',\n",
    "                'doc_event_doc_ad_sim_entities_conf_multipl'\n",
    "               ]"
   ]
  },
  {
   "cell_type": "code",
   "execution_count": 173,
   "metadata": {},
   "outputs": [],
   "source": [
    "TRAFFIC_SOURCE_FV='traffic_source'\n",
    "EVENT_HOUR_FV='event_hour'\n",
    "EVENT_COUNTRY_FV = 'event_country'\n",
    "EVENT_COUNTRY_STATE_FV = 'event_country_state'\n",
    "EVENT_GEO_LOCATION_FV = 'event_geo_location'\n",
    "EVENT_PLATFORM_FV = 'event_platform'\n",
    "AD_ADVERTISER_FV = 'ad_advertiser'\n",
    "DOC_AD_SOURCE_ID_FV='doc_ad_source_id'\n",
    "DOC_AD_PUBLISHER_ID_FV='doc_ad_publisher_id'\n",
    "DOC_EVENT_SOURCE_ID_FV='doc_event_source_id'\n",
    "DOC_EVENT_PUBLISHER_ID_FV='doc_event_publisher_id'\n",
    "DOC_AD_CATEGORY_ID_FV='doc_ad_category_id'\n",
    "DOC_AD_TOPIC_ID_FV='doc_ad_topic_id'\n",
    "DOC_AD_ENTITY_ID_FV='doc_ad_entity_id'\n",
    "DOC_EVENT_CATEGORY_ID_FV='doc_event_category_id'\n",
    "DOC_EVENT_TOPIC_ID_FV='doc_event_topic_id'\n",
    "DOC_EVENT_ENTITY_ID_FV='doc_event_entity_id'"
   ]
  },
  {
   "cell_type": "code",
   "execution_count": 174,
   "metadata": {},
   "outputs": [],
   "source": [
    "category_feature_names_integral = ['ad_advertiser',\n",
    " 'doc_ad_category_id_1',\n",
    " 'doc_ad_category_id_2',\n",
    " 'doc_ad_category_id_3',\n",
    " 'doc_ad_topic_id_1',\n",
    " 'doc_ad_topic_id_2',\n",
    " 'doc_ad_topic_id_3',\n",
    " 'doc_ad_entity_id_1', \n",
    " 'doc_ad_entity_id_2', \n",
    " 'doc_ad_entity_id_3', \n",
    " 'doc_ad_entity_id_4', \n",
    " 'doc_ad_entity_id_5', \n",
    " 'doc_ad_entity_id_6', \n",
    " 'doc_ad_publisher_id',\n",
    " 'doc_ad_source_id', \n",
    " 'doc_event_category_id_1',\n",
    " 'doc_event_category_id_2',\n",
    " 'doc_event_category_id_3',\n",
    " 'doc_event_topic_id_1',\n",
    " 'doc_event_topic_id_2',\n",
    " 'doc_event_topic_id_3',\n",
    " 'doc_event_entity_id_1',\n",
    " 'doc_event_entity_id_2',\n",
    " 'doc_event_entity_id_3',\n",
    " 'doc_event_entity_id_4',\n",
    " 'doc_event_entity_id_5',\n",
    " 'doc_event_entity_id_6',\n",
    " 'doc_event_publisher_id',\n",
    " 'doc_event_source_id', \n",
    " 'event_country',\n",
    " 'event_country_state',\n",
    " 'event_geo_location',\n",
    " 'event_hour',\n",
    " 'event_platform',\n",
    " 'traffic_source']"
   ]
  },
  {
   "cell_type": "code",
   "execution_count": 42,
   "metadata": {},
   "outputs": [],
   "source": [
    "feature_vector_labels_integral = bool_feature_names + int_feature_names + float_feature_names + \\\n",
    "                                 category_feature_names_integral"
   ]
  },
  {
   "cell_type": "code",
   "execution_count": 175,
   "metadata": {},
   "outputs": [],
   "source": [
    "integral_headers = ['label', 'display_id', 'ad_id', 'doc_id', 'doc_event_id', 'is_leak'] + feature_vector_labels_integral\n",
    "    \n",
    "with open(\"train_feature_vectors_integral_eval.csv\"+\".header\", 'w') as output:\n",
    "    output.writelines('\\n'.join(integral_headers))"
   ]
  },
  {
   "cell_type": "code",
   "execution_count": null,
   "metadata": {},
   "outputs": [],
   "source": [
    "def sparse_vector_to_csv_with_nulls_row(additional_column_values, vec, num_columns):    \n",
    "    return ','.join([str(value) for value in additional_column_values] + \n",
    "                     list([ '{:.5}'.format(vec[x]) if x in vec.indices else '' for x in range(vec.size) ])[:num_columns]) \\\n",
    "            .replace('.0,',',')"
   ]
  },
  {
   "cell_type": "code",
   "execution_count": 177,
   "metadata": {},
   "outputs": [],
   "source": [
    "train_feature_vectors_integral_csv_rdd = train_feature_vectors_exported_df.select(\n",
    "     'label', 'display_id', 'ad_id', 'document_id', 'document_id_event', 'feature_vector').withColumn('is_leak', F.lit(-1)) \\\n",
    "     .rdd.map(lambda x: sparse_vector_to_csv_with_nulls_row([x['label'], x['display_id'], x['ad_id'], x['document_id'], x['document_id_event'], x['is_leak']], \n",
    "                                                  x['feature_vector'], len(integral_headers)))"
   ]
  },
  {
   "cell_type": "code",
   "execution_count": null,
   "metadata": {},
   "outputs": [],
   "source": [
    "# rdd를 dataframe으로 변환한 것 -> trainingData\n",
    "trainingData = train_feature_vectors_integral_csv_rdd.map(lambda x : x.split(\",\")).toDF()"
   ]
  },
  {
   "cell_type": "code",
   "execution_count": null,
   "metadata": {},
   "outputs": [],
   "source": [
    "# spark dataframe으로 잘 변환된 것을 확인할 수 있다\n",
    "type(trainingData)"
   ]
  },
  {
   "cell_type": "code",
   "execution_count": null,
   "metadata": {},
   "outputs": [],
   "source": [
    "# 이제 dataframe의 컬럼별로 datatype을 바꿔보자\n",
    "# 테스트로, \"_1\" 열의 datatype을 string에서 integer로 바꿔보자\n",
    "# datatype 변환에는 cast 함수를 사용한다\n",
    "# printScheme()을 실행하면, datatype 변환이 잘 되었음을 알 수 있다\n",
    "changedTypedf = trainingData.withColumn(\"label\", trainingData[\"_1\"].cast(\"integer\"))\n",
    "changedTypedf.printSchema()"
   ]
  },
  {
   "cell_type": "code",
   "execution_count": null,
   "metadata": {},
   "outputs": [],
   "source": [
    "# 이제 컬럼별로 datatype을 선언하자\n",
    "\n",
    "trainingData_final = trainingData.select(\n",
    "        trainingData._1.cast(\"Integer\").alias(\"label\"),\n",
    "        trainingData._2.cast(\"Integer\").alias(\"display_id\"), \n",
    "        trainingData._3.cast(\"Integer\").alias(\"ad_id\"), \n",
    "        trainingData._4.cast(\"Integer\").alias(\"doc_id\"),\n",
    "        trainingData._5.cast(\"Integer\").alias(\"doc_event_id\"), \n",
    "        trainingData._6.cast(\"Integer\").alias(\"is_leak\"),\n",
    "        trainingData._7.cast(\"Integer\").alias(\"event_weekend\"),\n",
    "        trainingData._8.cast(\"Integer\").alias(\"user_has_already_viewed_doc\"), \n",
    "        trainingData._9.cast(\"Integer\").alias(\"user_views\"), \n",
    "        trainingData._10.cast(\"Integer\").alias(\"ad_views\"),\n",
    "        trainingData._11.cast(\"Integer\").alias(\"doc_views\"), \n",
    "        trainingData._12.cast(\"Integer\").alias(\"doc_event_days_since_published\"),\n",
    "        trainingData._13.cast(\"Float\").alias(\"doc_event_hour\"),\n",
    "        trainingData._14.cast(\"Float\").alias(\"doc_ad_days_since_published\"), \n",
    "        trainingData._15.cast(\"Float\").alias(\"pop_ad_id\"), \n",
    "        trainingData._16.cast(\"Float\").alias(\"pop_ad_id_conf\"),\n",
    "        trainingData._17.cast(\"Float\").alias(\"pop_ad_id_conf_multipl\"), \n",
    "        trainingData._18.cast(\"Float\").alias(\"pop_document_id\"),\n",
    "        trainingData._19.cast(\"Float\").alias(\"pop_document_id_conf\"),\n",
    "        trainingData._20.cast(\"Float\").alias(\"pop_document_id_conf_multipl\"), \n",
    "        trainingData._21.cast(\"Float\").alias(\"pop_publisher_id\"), \n",
    "        trainingData._22.cast(\"Float\").alias(\"pop_publisher_id_conf\"),\n",
    "        trainingData._23.cast(\"Float\").alias(\"pop_publisher_id_conf_multipl\"), \n",
    "        trainingData._24.cast(\"Float\").alias(\"pop_advertiser_id\"),\n",
    "        trainingData._25.cast(\"Float\").alias(\"pop_advertiser_id_conf\"),\n",
    "        trainingData._26.cast(\"Float\").alias(\"pop_advertiser_id_conf_multipl\"), \n",
    "        trainingData._27.cast(\"Float\").alias(\"pop_campain_id\"), \n",
    "        trainingData._28.cast(\"Float\").alias(\"pop_campain_id_conf\"),\n",
    "        trainingData._29.cast(\"Float\").alias(\"pop_campain_id_conf_multipl\"), \n",
    "        trainingData._30.cast(\"Float\").alias(\"pop_doc_event_doc_ad\"),\n",
    "        trainingData._31.cast(\"Float\").alias(\"pop_doc_event_doc_ad_conf\"),\n",
    "        trainingData._32.cast(\"Float\").alias(\"pop_doc_event_doc_ad_conf_multipl\"), \n",
    "        trainingData._33.cast(\"Float\").alias(\"pop_source_id\"), \n",
    "        trainingData._34.cast(\"Float\").alias(\"pop_source_id_conf\"),\n",
    "        trainingData._35.cast(\"Float\").alias(\"pop_source_id_conf_multipl\"), \n",
    "        trainingData._36.cast(\"Float\").alias(\"pop_source_id_country\"),\n",
    "        trainingData._37.cast(\"Float\").alias(\"pop_source_id_country_conf\"),\n",
    "        trainingData._38.cast(\"Float\").alias(\"pop_source_id_country_conf_multipl\"),\n",
    "        trainingData._39.cast(\"Float\").alias(\"pop_entity_id\"),\n",
    "        trainingData._40.cast(\"Float\").alias(\"pop_entity_id_conf\"),\n",
    "        trainingData._41.cast(\"Float\").alias(\"pop_entity_id_conf_multipl\"),\n",
    "        trainingData._42.cast(\"Float\").alias(\"pop_entity_id_country\"),\n",
    "        trainingData._43.cast(\"Float\").alias(\"pop_entity_id_country_conf\"),\n",
    "        trainingData._44.cast(\"Float\").alias(\"pop_entity_id_country_conf_multipl\"),\n",
    "        trainingData._45.cast(\"Float\").alias(\"pop_topic_id\"),\n",
    "        trainingData._46.cast(\"Float\").alias(\"pop_topic_id_conf\"),\n",
    "        trainingData._47.cast(\"Float\").alias(\"pop_topic_id_conf_multipl\"),\n",
    "        trainingData._48.cast(\"Float\").alias(\"pop_topic_id_country\"),\n",
    "        trainingData._49.cast(\"Float\").alias(\"pop_topic_id_country_conf\"),\n",
    "        trainingData._50.cast(\"Float\").alias(\"pop_topic_id_country_conf_multipl\"),\n",
    "        trainingData._51.cast(\"Float\").alias(\"pop_category_id\"),\n",
    "        trainingData._52.cast(\"Float\").alias(\"pop_category_id_conf\"),\n",
    "        trainingData._53.cast(\"Float\").alias(\"pop_category_id_conf_multipl\"),\n",
    "        trainingData._54.cast(\"Float\").alias(\"pop_category_id_country\"),\n",
    "        trainingData._55.cast(\"Float\").alias(\"pop_category_id_country_conf\"),\n",
    "        trainingData._56.cast(\"Float\").alias(\"pop_category_id_country_conf_multipl\"),\n",
    "        trainingData._57.cast(\"Float\").alias(\"user_doc_ad_sim_categories\"),\n",
    "        trainingData._58.cast(\"Float\").alias(\"user_doc_ad_sim_categories_conf\"),\n",
    "        trainingData._59.cast(\"Float\").alias(\"user_doc_ad_sim_categories_conf_multipl\"),\n",
    "        trainingData._60.cast(\"Float\").alias(\"user_doc_ad_sim_topics\"),\n",
    "        trainingData._61.cast(\"Float\").alias(\"user_doc_ad_sim_topics_conf\"),\n",
    "        trainingData._62.cast(\"Float\").alias(\"user_doc_ad_sim_topics_conf_multipl\"),\n",
    "        trainingData._63.cast(\"Float\").alias(\"user_doc_ad_sim_entities\"),\n",
    "        trainingData._64.cast(\"Float\").alias(\"user_doc_ad_sim_entities_conf\"),\n",
    "        trainingData._65.cast(\"Float\").alias(\"user_doc_ad_sim_entities_conf_multipl\"),\n",
    "        trainingData._66.cast(\"Float\").alias(\"doc_event_doc_ad_sim_categories\"),\n",
    "        trainingData._67.cast(\"Float\").alias(\"doc_event_doc_ad_sim_categories_conf\"),\n",
    "        trainingData._68.cast(\"Float\").alias(\"doc_event_doc_ad_sim_categories_conf_multipl\"),\n",
    "        trainingData._69.cast(\"Float\").alias(\"doc_event_doc_ad_sim_topics\"),\n",
    "        trainingData._70.cast(\"Float\").alias(\"doc_event_doc_ad_sim_topics_conf\"),\n",
    "        trainingData._71.cast(\"Float\").alias(\"doc_event_doc_ad_sim_topics_conf_multipl\"),\n",
    "        trainingData._72.cast(\"Float\").alias(\"doc_event_doc_ad_sim_entities\"),\n",
    "        trainingData._73.cast(\"Float\").alias(\"doc_event_doc_ad_sim_entities_conf\"),\n",
    "        trainingData._74.cast(\"Float\").alias(\"doc_event_doc_ad_sim_entities_conf_multipl\"),\n",
    "        trainingData._75.cast(\"Integer\").alias(\"ad_advertiser\"),\n",
    "        trainingData._76.cast(\"Integer\").alias(\"doc_ad_category_id_1\"),\n",
    "        trainingData._77.cast(\"Integer\").alias(\"doc_ad_category_id_2\"),\n",
    "        trainingData._78.cast(\"Integer\").alias(\"doc_ad_category_id_3\"),\n",
    "        trainingData._79.cast(\"Integer\").alias(\"doc_ad_topic_id_1\"),\n",
    "        trainingData._80.cast(\"Integer\").alias(\"doc_ad_topic_id_2\"),\n",
    "        trainingData._81.cast(\"Integer\").alias(\"doc_ad_topic_id_3\"),\n",
    "        trainingData._82.cast(\"Integer\").alias(\"doc_ad_entity_id_1\"),\n",
    "        trainingData._83.cast(\"Integer\").alias(\"doc_ad_entity_id_2\"),\n",
    "        trainingData._84.cast(\"Integer\").alias(\"doc_ad_entity_id_3\"),\n",
    "        trainingData._85.cast(\"Integer\").alias(\"doc_ad_entity_id_4\"),\n",
    "        trainingData._86.cast(\"Integer\").alias(\"doc_ad_entity_id_5\"),\n",
    "        trainingData._87.cast(\"Integer\").alias(\"doc_ad_entity_id_6\"),\n",
    "        trainingData._88.cast(\"Integer\").alias(\"doc_ad_publisher_id\"),\n",
    "        trainingData._89.cast(\"Integer\").alias(\"doc_ad_source_id\"),\n",
    "        trainingData._90.cast(\"Integer\").alias(\"doc_event_category_id_1\"),\n",
    "        trainingData._91.cast(\"Integer\").alias(\"doc_event_category_id_2\"),\n",
    "        trainingData._92.cast(\"Integer\").alias(\"doc_event_category_id_3\"),\n",
    "        trainingData._93.cast(\"Integer\").alias(\"doc_event_topic_id_1\"),\n",
    "        trainingData._94.cast(\"Integer\").alias(\"doc_event_topic_id_2\"),\n",
    "        trainingData._95.cast(\"Integer\").alias(\"doc_event_topic_id_3\"),\n",
    "        trainingData._96.cast(\"Integer\").alias(\"doc_event_entity_id_1\"),\n",
    "        trainingData._97.cast(\"Integer\").alias(\"doc_event_entity_id_2\"),\n",
    "        trainingData._98.cast(\"Integer\").alias(\"doc_event_entity_id_3\"),\n",
    "        trainingData._99.cast(\"Integer\").alias(\"doc_event_entity_id_4\"),\n",
    "        trainingData._100.cast(\"Integer\").alias(\"doc_event_entity_id_5\"),\n",
    "        trainingData._101.cast(\"Integer\").alias(\"doc_event_entity_id_6\"),\n",
    "        trainingData._102.cast(\"Integer\").alias(\"doc_event_publisher_id\"),\n",
    "        trainingData._103.cast(\"Integer\").alias(\"doc_event_source_id\"),\n",
    "        trainingData._104.cast(\"Integer\").alias(\"event_country\"),\n",
    "        trainingData._105.cast(\"Integer\").alias(\"event_country_state\"),\n",
    "        trainingData._106.cast(\"Integer\").alias(\"event_geo_location\"),\n",
    "        trainingData._107.cast(\"Integer\").alias(\"event_hour\"),\n",
    "        trainingData._108.cast(\"Integer\").alias(\"event_platform\"),\n",
    "        trainingData._109.cast(\"Integer\").alias(\"traffic_source\")\n",
    "    ).cache()"
   ]
  },
  {
   "cell_type": "markdown",
   "metadata": {},
   "source": [
    "---"
   ]
  },
  {
   "cell_type": "code",
   "execution_count": null,
   "metadata": {},
   "outputs": [],
   "source": [
    "validation_feature_vector_integral_csv_folder_name = 'validation_feature_vectors_integral.csv'\n",
    "\n",
    "integral_headers = ['label', 'display_id', 'ad_id', 'doc_id', 'doc_event_id', 'is_leak'] + feature_vector_labels_integral\n",
    "    \n",
    "with open(validation_feature_vector_integral_csv_folder_name+\".header\", 'w') as output:\n",
    "    output.writelines('\\n'.join(integral_headers))"
   ]
  },
  {
   "cell_type": "code",
   "execution_count": null,
   "metadata": {},
   "outputs": [],
   "source": [
    "validation_feature_vectors_integral_csv_rdd = validation_feature_vectors_exported_df.select(\n",
    "     'label', 'display_id', 'ad_id', 'document_id', 'document_id_event', 'is_leak', 'feature_vector') \\\n",
    "     .rdd.map(lambda x: sparse_vector_to_csv_with_nulls_row([x['label'], x['display_id'], x['ad_id'], x['document_id'], x['document_id_event'], x['is_leak']], \n",
    "                                                  x['feature_vector'], len(integral_headers)))"
   ]
  },
  {
   "cell_type": "code",
   "execution_count": null,
   "metadata": {},
   "outputs": [],
   "source": [
    "# rdd를 dataframe으로 변환한 것 -> validationData\n",
    "validationData = validation_feature_vectors_integral_csv_rdd.map(lambda x : x.split(\",\")).toDF()"
   ]
  },
  {
   "cell_type": "code",
   "execution_count": null,
   "metadata": {},
   "outputs": [],
   "source": [
    "# 이제 dataframe의 컬럼별로 datatype을 바꿔보자\n",
    "# 테스트로, \"_1\" 열의 datatype을 string에서 integer로 바꿔보자\n",
    "# datatype 변환에는 cast 함수를 사용한다\n",
    "# printScheme()을 실행하면, datatype 변환이 잘 되었음을 알 수 있다\n",
    "changedTypedf = validationData.withColumn(\"label\", validationData[\"_1\"].cast(\"integer\"))\n",
    "changedTypedf.printSchema()"
   ]
  },
  {
   "cell_type": "code",
   "execution_count": null,
   "metadata": {},
   "outputs": [],
   "source": [
    "# spark dataframe으로 잘 변환된 것을 확인할 수 있다\n",
    "type(validationData)"
   ]
  },
  {
   "cell_type": "code",
   "execution_count": null,
   "metadata": {},
   "outputs": [],
   "source": [
    "# 이제 컬럼별로 datatype을 선언하자\n",
    "\n",
    "validationData_final = validationData.select(\n",
    "        validationData._1.cast(\"Integer\").alias(\"label\"),\n",
    "        validationData._2.cast(\"Integer\").alias(\"display_id\"), \n",
    "        validationData._3.cast(\"Integer\").alias(\"ad_id\"), \n",
    "        validationData._4.cast(\"Integer\").alias(\"doc_id\"),\n",
    "        validationData._5.cast(\"Integer\").alias(\"doc_event_id\"), \n",
    "        validationData._6.cast(\"Integer\").alias(\"is_leak\"),\n",
    "        validationData._7.cast(\"Integer\").alias(\"event_weekend\"),\n",
    "        validationData._8.cast(\"Integer\").alias(\"user_has_already_viewed_doc\"), \n",
    "        validationData._9.cast(\"Integer\").alias(\"user_views\"), \n",
    "        validationData._10.cast(\"Integer\").alias(\"ad_views\"),\n",
    "        validationData._11.cast(\"Integer\").alias(\"doc_views\"), \n",
    "        validationData._12.cast(\"Integer\").alias(\"doc_event_days_since_published\"),\n",
    "        validationData._13.cast(\"Float\").alias(\"doc_event_hour\"),\n",
    "        validationData._14.cast(\"Float\").alias(\"doc_ad_days_since_published\"), \n",
    "        validationData._15.cast(\"Float\").alias(\"pop_ad_id\"), \n",
    "        validationData._16.cast(\"Float\").alias(\"pop_ad_id_conf\"),\n",
    "        validationData._17.cast(\"Float\").alias(\"pop_ad_id_conf_multipl\"), \n",
    "        validationData._18.cast(\"Float\").alias(\"pop_document_id\"),\n",
    "        validationData._19.cast(\"Float\").alias(\"pop_document_id_conf\"),\n",
    "        validationData._20.cast(\"Float\").alias(\"pop_document_id_conf_multipl\"), \n",
    "        validationData._21.cast(\"Float\").alias(\"pop_publisher_id\"), \n",
    "        validationData._22.cast(\"Float\").alias(\"pop_publisher_id_conf\"),\n",
    "        validationData._23.cast(\"Float\").alias(\"pop_publisher_id_conf_multipl\"), \n",
    "        validationData._24.cast(\"Float\").alias(\"pop_advertiser_id\"),\n",
    "        validationData._25.cast(\"Float\").alias(\"pop_advertiser_id_conf\"),\n",
    "        validationData._26.cast(\"Float\").alias(\"pop_advertiser_id_conf_multipl\"), \n",
    "        validationData._27.cast(\"Float\").alias(\"pop_campain_id\"), \n",
    "        validationData._28.cast(\"Float\").alias(\"pop_campain_id_conf\"),\n",
    "        validationData._29.cast(\"Float\").alias(\"pop_campain_id_conf_multipl\"), \n",
    "        validationData._30.cast(\"Float\").alias(\"pop_doc_event_doc_ad\"),\n",
    "        validationData._31.cast(\"Float\").alias(\"pop_doc_event_doc_ad_conf\"),\n",
    "        validationData._32.cast(\"Float\").alias(\"pop_doc_event_doc_ad_conf_multipl\"), \n",
    "        validationData._33.cast(\"Float\").alias(\"pop_source_id\"), \n",
    "        validationData._34.cast(\"Float\").alias(\"pop_source_id_conf\"),\n",
    "        validationData._35.cast(\"Float\").alias(\"pop_source_id_conf_multipl\"), \n",
    "        validationData._36.cast(\"Float\").alias(\"pop_source_id_country\"),\n",
    "        validationData._37.cast(\"Float\").alias(\"pop_source_id_country_conf\"),\n",
    "        validationData._38.cast(\"Float\").alias(\"pop_source_id_country_conf_multipl\"),\n",
    "        validationData._39.cast(\"Float\").alias(\"pop_entity_id\"),\n",
    "        validationData._40.cast(\"Float\").alias(\"pop_entity_id_conf\"),\n",
    "        validationData._41.cast(\"Float\").alias(\"pop_entity_id_conf_multipl\"),\n",
    "        validationData._42.cast(\"Float\").alias(\"pop_entity_id_country\"),\n",
    "        validationData._43.cast(\"Float\").alias(\"pop_entity_id_country_conf\"),\n",
    "        validationData._44.cast(\"Float\").alias(\"pop_entity_id_country_conf_multipl\"),\n",
    "        validationData._45.cast(\"Float\").alias(\"pop_topic_id\"),\n",
    "        validationData._46.cast(\"Float\").alias(\"pop_topic_id_conf\"),\n",
    "        validationData._47.cast(\"Float\").alias(\"pop_topic_id_conf_multipl\"),\n",
    "        validationData._48.cast(\"Float\").alias(\"pop_topic_id_country\"),\n",
    "        validationData._49.cast(\"Float\").alias(\"pop_topic_id_country_conf\"),\n",
    "        validationData._50.cast(\"Float\").alias(\"pop_topic_id_country_conf_multipl\"),\n",
    "        validationData._51.cast(\"Float\").alias(\"pop_category_id\"),\n",
    "        validationData._52.cast(\"Float\").alias(\"pop_category_id_conf\"),\n",
    "        validationData._53.cast(\"Float\").alias(\"pop_category_id_conf_multipl\"),\n",
    "        validationData._54.cast(\"Float\").alias(\"pop_category_id_country\"),\n",
    "        validationData._55.cast(\"Float\").alias(\"pop_category_id_country_conf\"),\n",
    "        validationData._56.cast(\"Float\").alias(\"pop_category_id_country_conf_multipl\"),\n",
    "        validationData._57.cast(\"Float\").alias(\"user_doc_ad_sim_categories\"),\n",
    "        validationData._58.cast(\"Float\").alias(\"user_doc_ad_sim_categories_conf\"),\n",
    "        validationData._59.cast(\"Float\").alias(\"user_doc_ad_sim_categories_conf_multipl\"),\n",
    "        validationData._60.cast(\"Float\").alias(\"user_doc_ad_sim_topics\"),\n",
    "        validationData._61.cast(\"Float\").alias(\"user_doc_ad_sim_topics_conf\"),\n",
    "        validationData._62.cast(\"Float\").alias(\"user_doc_ad_sim_topics_conf_multipl\"),\n",
    "        validationData._63.cast(\"Float\").alias(\"user_doc_ad_sim_entities\"),\n",
    "        validationData._64.cast(\"Float\").alias(\"user_doc_ad_sim_entities_conf\"),\n",
    "        validationData._65.cast(\"Float\").alias(\"user_doc_ad_sim_entities_conf_multipl\"),\n",
    "        validationData._66.cast(\"Float\").alias(\"doc_event_doc_ad_sim_categories\"),\n",
    "        validationData._67.cast(\"Float\").alias(\"doc_event_doc_ad_sim_categories_conf\"),\n",
    "        validationData._68.cast(\"Float\").alias(\"doc_event_doc_ad_sim_categories_conf_multipl\"),\n",
    "        validationData._69.cast(\"Float\").alias(\"doc_event_doc_ad_sim_topics\"),\n",
    "        validationData._70.cast(\"Float\").alias(\"doc_event_doc_ad_sim_topics_conf\"),\n",
    "        validationData._71.cast(\"Float\").alias(\"doc_event_doc_ad_sim_topics_conf_multipl\"),\n",
    "        validationData._72.cast(\"Float\").alias(\"doc_event_doc_ad_sim_entities\"),\n",
    "        validationData._73.cast(\"Float\").alias(\"doc_event_doc_ad_sim_entities_conf\"),\n",
    "        validationData._74.cast(\"Float\").alias(\"doc_event_doc_ad_sim_entities_conf_multipl\"),\n",
    "        validationData._75.cast(\"Integer\").alias(\"ad_advertiser\"),\n",
    "        validationData._76.cast(\"Integer\").alias(\"doc_ad_category_id_1\"),\n",
    "        validationData._77.cast(\"Integer\").alias(\"doc_ad_category_id_2\"),\n",
    "        validationData._78.cast(\"Integer\").alias(\"doc_ad_category_id_3\"),\n",
    "        validationData._79.cast(\"Integer\").alias(\"doc_ad_topic_id_1\"),\n",
    "        validationData._80.cast(\"Integer\").alias(\"doc_ad_topic_id_2\"),\n",
    "        validationData._81.cast(\"Integer\").alias(\"doc_ad_topic_id_3\"),\n",
    "        validationData._82.cast(\"Integer\").alias(\"doc_ad_entity_id_1\"),\n",
    "        validationData._83.cast(\"Integer\").alias(\"doc_ad_entity_id_2\"),\n",
    "        validationData._84.cast(\"Integer\").alias(\"doc_ad_entity_id_3\"),\n",
    "        validationData._85.cast(\"Integer\").alias(\"doc_ad_entity_id_4\"),\n",
    "        validationData._86.cast(\"Integer\").alias(\"doc_ad_entity_id_5\"),\n",
    "        validationData._87.cast(\"Integer\").alias(\"doc_ad_entity_id_6\"),\n",
    "        validationData._88.cast(\"Integer\").alias(\"doc_ad_publisher_id\"),\n",
    "        validationData._89.cast(\"Integer\").alias(\"doc_ad_source_id\"),\n",
    "        validationData._90.cast(\"Integer\").alias(\"doc_event_category_id_1\"),\n",
    "        validationData._91.cast(\"Integer\").alias(\"doc_event_category_id_2\"),\n",
    "        validationData._92.cast(\"Integer\").alias(\"doc_event_category_id_3\"),\n",
    "        validationData._93.cast(\"Integer\").alias(\"doc_event_topic_id_1\"),\n",
    "        validationData._94.cast(\"Integer\").alias(\"doc_event_topic_id_2\"),\n",
    "        validationData._95.cast(\"Integer\").alias(\"doc_event_topic_id_3\"),\n",
    "        validationData._96.cast(\"Integer\").alias(\"doc_event_entity_id_1\"),\n",
    "        validationData._97.cast(\"Integer\").alias(\"doc_event_entity_id_2\"),\n",
    "        validationData._98.cast(\"Integer\").alias(\"doc_event_entity_id_3\"),\n",
    "        validationData._99.cast(\"Integer\").alias(\"doc_event_entity_id_4\"),\n",
    "        validationData._100.cast(\"Integer\").alias(\"doc_event_entity_id_5\"),\n",
    "        validationData._101.cast(\"Integer\").alias(\"doc_event_entity_id_6\"),\n",
    "        validationData._102.cast(\"Integer\").alias(\"doc_event_publisher_id\"),\n",
    "        validationData._103.cast(\"Integer\").alias(\"doc_event_source_id\"),\n",
    "        validationData._104.cast(\"Integer\").alias(\"event_country\"),\n",
    "        validationData._105.cast(\"Integer\").alias(\"event_country_state\"),\n",
    "        validationData._106.cast(\"Integer\").alias(\"event_geo_location\"),\n",
    "        validationData._107.cast(\"Integer\").alias(\"event_hour\"),\n",
    "        validationData._108.cast(\"Integer\").alias(\"event_platform\"),\n",
    "        validationData._109.cast(\"Integer\").alias(\"traffic_source\")\n",
    "    )"
   ]
  },
  {
   "cell_type": "code",
   "execution_count": null,
   "metadata": {},
   "outputs": [],
   "source": [
    "trainingData_final_dropped = trainingData_final.drop('doc_event_entity_id_1', 'doc_event_entity_id_2', 'doc_event_entity_id_3', 'doc_event_entity_id_4', 'doc_event_entity_id_5', 'doc_event_entity_id_6', 'pop_entity_id', 'pop_entity_id_conf', 'pop_entity_id_conf_multipl', 'doc_ad_entity_id_1', 'doc_ad_entity_id_2', 'doc_ad_entity_id_3', 'doc_ad_entity_id_4', 'doc_ad_entity_id_5', 'doc_ad_entity_id_6', 'doc_ad_days_since_published', 'doc_event_days_since_published', 'user_has_already_viewed_doc', 'pop_entity_id', 'pop_entity_id_conf', 'pop_entity_id_conf_multipl', 'pop_entity_id_country', 'pop_entity_id_country_conf', 'pop_entity_id_country_conf_multipl', 'user_doc_ad_sim_categories', 'user_doc_ad_sim_categories_conf', 'user_doc_ad_sim_categories_conf_multipl', 'user_doc_ad_sim_topics', 'user_doc_ad_sim_topics_conf', 'user_doc_ad_sim_topics_conf_multipl', 'user_doc_ad_sim_entities', 'user_doc_ad_sim_entities_conf', 'user_doc_ad_sim_entities_conf_multipl', 'doc_event_doc_ad_sim_categories', 'doc_event_doc_ad_sim_categories_conf', 'doc_event_doc_ad_sim_categories_conf_multipl', 'doc_event_doc_ad_sim_topics', 'doc_event_doc_ad_sim_topics_conf', 'doc_event_doc_ad_sim_topics_conf_multipl', 'doc_event_doc_ad_sim_entities', 'doc_event_doc_ad_sim_entities_conf', 'doc_event_doc_ad_sim_entities_conf_multipl')"
   ]
  },
  {
   "cell_type": "code",
   "execution_count": null,
   "metadata": {},
   "outputs": [],
   "source": [
    "# drop some columns\n",
    "validationData_final_dropped = validationData_final.drop('doc_event_entity_id_1', 'doc_event_entity_id_2', 'doc_event_entity_id_3', 'doc_event_entity_id_4', 'doc_event_entity_id_5', 'doc_event_entity_id_6', 'pop_entity_id', 'pop_entity_id_conf', 'pop_entity_id_conf_multipl', 'doc_ad_entity_id_1', 'doc_ad_entity_id_2', 'doc_ad_entity_id_3', 'doc_ad_entity_id_4', 'doc_ad_entity_id_5', 'doc_ad_entity_id_6', 'doc_ad_days_since_published', 'doc_event_days_since_published', 'user_has_already_viewed_doc', 'pop_entity_id', 'pop_entity_id_conf', 'pop_entity_id_conf_multipl', 'pop_entity_id_country', 'pop_entity_id_country_conf', 'pop_entity_id_country_conf_multipl', 'user_doc_ad_sim_categories', 'user_doc_ad_sim_categories_conf', 'user_doc_ad_sim_categories_conf_multipl', 'user_doc_ad_sim_topics', 'user_doc_ad_sim_topics_conf', 'user_doc_ad_sim_topics_conf_multipl', 'user_doc_ad_sim_entities', 'user_doc_ad_sim_entities_conf', 'user_doc_ad_sim_entities_conf_multipl', 'doc_event_doc_ad_sim_categories', 'doc_event_doc_ad_sim_categories_conf', 'doc_event_doc_ad_sim_categories_conf_multipl', 'doc_event_doc_ad_sim_topics', 'doc_event_doc_ad_sim_topics_conf', 'doc_event_doc_ad_sim_topics_conf_multipl', 'doc_event_doc_ad_sim_entities', 'doc_event_doc_ad_sim_entities_conf', 'doc_event_doc_ad_sim_entities_conf_multipl')"
   ]
  },
  {
   "cell_type": "code",
   "execution_count": null,
   "metadata": {},
   "outputs": [],
   "source": [
    "# 최종 train dataframe을 train이라 한다\n",
    "train = trainingData_final_dropped\n",
    "validation = validationData_final_dropped\n",
    "train = train.cache()\n",
    "validation = validation.cache()"
   ]
  },
  {
   "cell_type": "code",
   "execution_count": null,
   "metadata": {},
   "outputs": [],
   "source": [
    "from pyspark.sql.functions import lit\n",
    "\n",
    "train = train.withColumn(\"is_train\", lit(1))\n",
    "validation = validation.withColumn('is_train', lit(0))"
   ]
  },
  {
   "cell_type": "code",
   "execution_count": null,
   "metadata": {},
   "outputs": [],
   "source": [
    "train.printSchema()"
   ]
  },
  {
   "cell_type": "code",
   "execution_count": null,
   "metadata": {},
   "outputs": [],
   "source": [
    "validation.printSchema()"
   ]
  },
  {
   "cell_type": "code",
   "execution_count": null,
   "metadata": {},
   "outputs": [],
   "source": [
    "# train_validation 합치기\n",
    "\n",
    "train_valid_merged = train.union(validation).cache()"
   ]
  },
  {
   "cell_type": "code",
   "execution_count": null,
   "metadata": {},
   "outputs": [],
   "source": []
  },
  {
   "cell_type": "code",
   "execution_count": 78,
   "metadata": {},
   "outputs": [
    {
     "data": {
      "text/plain": [
       "87141731"
      ]
     },
     "execution_count": 78,
     "metadata": {},
     "output_type": "execute_result"
    }
   ],
   "source": [
    "train_valid_merged.count()"
   ]
  },
  {
   "cell_type": "markdown",
   "metadata": {},
   "source": [
    "`train_valid_merged`이 잘 생성된 것을 확인할 수 있다."
   ]
  },
  {
   "cell_type": "code",
   "execution_count": 79,
   "metadata": {},
   "outputs": [],
   "source": [
    "train_valid_merged = train_valid_merged.drop('doc_ad_category_id_1', 'doc_ad_category_id_2', 'doc_ad_category_id_3', \n",
    "                          'doc_ad_topic_id_1', 'doc_ad_topic_id_2', 'doc_ad_topic_id_3',\n",
    "                          'doc_event_category_id_1', 'doc_event_category_id_2', 'doc_event_category_id_3',\n",
    "                           'doc_event_topic_id_1', 'doc_event_topic_id_2', 'doc_event_topic_id_3',\n",
    "                          'event_hour', 'event_geo_location', 'event_country_state',\n",
    "                          'event_country', 'ad_advertiser', 'doc_ad_publisher_id', 'doc_ad_source_id',\n",
    "                          'doc_ad_category')"
   ]
  },
  {
   "cell_type": "markdown",
   "metadata": {},
   "source": [
    "`display_id`와 `ad_id`를 사용하여 `uuid`를 가져오자."
   ]
  },
  {
   "cell_type": "code",
   "execution_count": 102,
   "metadata": {},
   "outputs": [],
   "source": [
    "documents_categories_schema = StructType(\n",
    "                    [StructField(\"document_id_cat\", IntegerType(), True),\n",
    "                    StructField(\"category_id\", IntegerType(), True),                    \n",
    "                    StructField(\"confidence_level_cat\", FloatType(), True)]\n",
    "                    )\n",
    "\n",
    "documents_categories_df = spark.read.schema(documents_categories_schema).options(header='true', inferschema='false', nullValue='\\\\N') \\\n",
    "                .csv(DATA_BUCKET_FOLDER+\"documents_categories.csv\") \\\n",
    "                .alias('documents_categories').cache()\n",
    "    \n",
    "documents_categories_grouped_df = documents_categories_df.groupBy('document_id_cat') \\\n",
    "                                            .agg(F.collect_list('category_id').alias('category_id_list'),\n",
    "                                                 F.collect_list('confidence_level_cat').alias('confidence_level_cat_list')) \\\n",
    "                                            .withColumn('dummyDocumentsCategory', F.lit(1)) \\\n",
    "                                            .alias('documents_categories_grouped')"
   ]
  },
  {
   "cell_type": "code",
   "execution_count": 103,
   "metadata": {},
   "outputs": [],
   "source": [
    "documents_topics_schema = StructType(\n",
    "                    [StructField(\"document_id_top\", IntegerType(), True),\n",
    "                    StructField(\"topic_id\", IntegerType(), True),                    \n",
    "                    StructField(\"confidence_level_top\", FloatType(), True)]\n",
    "                    )\n",
    "\n",
    "documents_topics_df = spark.read.schema(documents_topics_schema).options(header='true', inferschema='false', nullValue='\\\\N') \\\n",
    "                .csv(DATA_BUCKET_FOLDER+\"documents_topics.csv\")  \\\n",
    "                .alias('documents_topics').cache()\n",
    "    \n",
    "documents_topics_grouped_df = documents_topics_df.groupBy('document_id_top') \\\n",
    "                                            .agg(F.collect_list('topic_id').alias('topic_id_list'),\n",
    "                                                 F.collect_list('confidence_level_top').alias('confidence_level_top_list')) \\\n",
    "                                            .withColumn('dummyDocumentsTopics', F.lit(1)) \\\n",
    "                                            .alias('documents_topics_grouped')"
   ]
  },
  {
   "cell_type": "code",
   "execution_count": 111,
   "metadata": {},
   "outputs": [],
   "source": [
    "clicks_train_df = spark.read.schema(clicks_train_schema).options(header='true', inferschema='false', nullValue='\\\\N') \\\n",
    "                .csv(DATA_BUCKET_FOLDER+\"clicks_train.csv\") \\\n",
    "                .withColumn('dummyClicksTrain', F.lit(1)).alias('clicks_train').cache()"
   ]
  },
  {
   "cell_type": "code",
   "execution_count": 112,
   "metadata": {},
   "outputs": [
    {
     "data": {
      "text/plain": [
       "87141731"
      ]
     },
     "execution_count": 112,
     "metadata": {},
     "output_type": "execute_result"
    }
   ],
   "source": [
    "clicks_joined_df = clicks_train_df \\\n",
    "        .join(events_df, on = 'display_id', how = 'left').cache()\n",
    "\n",
    "clicks_joined_df.count()"
   ]
  },
  {
   "cell_type": "code",
   "execution_count": 113,
   "metadata": {},
   "outputs": [
    {
     "name": "stdout",
     "output_type": "stream",
     "text": [
      "+----------+-----+-------+----------------+--------------+-----------------+---------------+--------------+------------------+-----------+-------------+\n",
      "|display_id|ad_id|clicked|dummyClicksTrain|    uuid_event|document_id_event|timestamp_event|platform_event|geo_location_event|dummyEvents|event_country|\n",
      "+----------+-----+-------+----------------+--------------+-----------------+---------------+--------------+------------------+-----------+-------------+\n",
      "|       148|89351|      1|               1|9adce6a5363308|          1205772|          11202|             2|         US>LA>612|          1|           US|\n",
      "+----------+-----+-------+----------------+--------------+-----------------+---------------+--------------+------------------+-----------+-------------+\n",
      "only showing top 1 row\n",
      "\n"
     ]
    }
   ],
   "source": [
    "clicks_joined_df.show(1)"
   ]
  },
  {
   "cell_type": "code",
   "execution_count": 114,
   "metadata": {},
   "outputs": [
    {
     "data": {
      "text/plain": [
       "87141731"
      ]
     },
     "execution_count": 114,
     "metadata": {},
     "output_type": "execute_result"
    }
   ],
   "source": [
    "train_valid_merged_df = train_valid_merged.join(clicks_joined_df, ['display_id','ad_id']).cache()\n",
    "train_valid_merged_df.count()"
   ]
  },
  {
   "cell_type": "markdown",
   "metadata": {},
   "source": [
    "`ad_id`를 사용하여 `campaign_id`와 `advertiser_id`를 가져오자."
   ]
  },
  {
   "cell_type": "code",
   "execution_count": 115,
   "metadata": {},
   "outputs": [
    {
     "data": {
      "text/plain": [
       "87141731"
      ]
     },
     "execution_count": 115,
     "metadata": {},
     "output_type": "execute_result"
    }
   ],
   "source": [
    "train_valid_ad_merged_df = train_valid_merged_df.join(promoted_content_df, 'ad_id').cache()\n",
    "train_valid_ad_merged_df.count()"
   ]
  },
  {
   "cell_type": "code",
   "execution_count": 116,
   "metadata": {},
   "outputs": [
    {
     "name": "stdout",
     "output_type": "stream",
     "text": [
      "root\n",
      " |-- ad_id: integer (nullable = true)\n",
      " |-- display_id: integer (nullable = true)\n",
      " |-- label: integer (nullable = true)\n",
      " |-- doc_id: integer (nullable = true)\n",
      " |-- doc_event_id: integer (nullable = true)\n",
      " |-- is_leak: integer (nullable = true)\n",
      " |-- event_weekend: integer (nullable = true)\n",
      " |-- user_views: integer (nullable = true)\n",
      " |-- ad_views: integer (nullable = true)\n",
      " |-- doc_views: integer (nullable = true)\n",
      " |-- doc_event_hour: float (nullable = true)\n",
      " |-- pop_ad_id: float (nullable = true)\n",
      " |-- pop_ad_id_conf: float (nullable = true)\n",
      " |-- pop_ad_id_conf_multipl: float (nullable = true)\n",
      " |-- pop_document_id: float (nullable = true)\n",
      " |-- pop_document_id_conf: float (nullable = true)\n",
      " |-- pop_document_id_conf_multipl: float (nullable = true)\n",
      " |-- pop_publisher_id: float (nullable = true)\n",
      " |-- pop_publisher_id_conf: float (nullable = true)\n",
      " |-- pop_publisher_id_conf_multipl: float (nullable = true)\n",
      " |-- pop_advertiser_id: float (nullable = true)\n",
      " |-- pop_advertiser_id_conf: float (nullable = true)\n",
      " |-- pop_advertiser_id_conf_multipl: float (nullable = true)\n",
      " |-- pop_campaign_id: float (nullable = true)\n",
      " |-- pop_campaign_id_conf: float (nullable = true)\n",
      " |-- pop_campaign_id_conf_multipl: float (nullable = true)\n",
      " |-- pop_doc_event_doc_ad: float (nullable = true)\n",
      " |-- pop_doc_event_doc_ad_conf: float (nullable = true)\n",
      " |-- pop_doc_event_doc_ad_conf_multipl: float (nullable = true)\n",
      " |-- pop_source_id: float (nullable = true)\n",
      " |-- pop_source_id_conf: float (nullable = true)\n",
      " |-- pop_source_id_conf_multipl: float (nullable = true)\n",
      " |-- pop_source_id_country: float (nullable = true)\n",
      " |-- pop_source_id_country_conf: float (nullable = true)\n",
      " |-- pop_source_id_country_conf_multipl: float (nullable = true)\n",
      " |-- pop_topic_id: float (nullable = true)\n",
      " |-- pop_topic_id_conf: float (nullable = true)\n",
      " |-- pop_topic_id_conf_multipl: float (nullable = true)\n",
      " |-- pop_topic_id_country: float (nullable = true)\n",
      " |-- pop_topic_id_country_conf: float (nullable = true)\n",
      " |-- pop_topic_id_country_conf_multipl: float (nullable = true)\n",
      " |-- pop_category_id: float (nullable = true)\n",
      " |-- pop_category_id_conf: float (nullable = true)\n",
      " |-- pop_category_id_conf_multipl: float (nullable = true)\n",
      " |-- pop_category_id_country: float (nullable = true)\n",
      " |-- pop_category_id_country_conf: float (nullable = true)\n",
      " |-- pop_category_id_country_conf_multipl: float (nullable = true)\n",
      " |-- doc_event_publisher_id: integer (nullable = true)\n",
      " |-- doc_event_source_id: integer (nullable = true)\n",
      " |-- event_platform: integer (nullable = true)\n",
      " |-- traffic_source: integer (nullable = true)\n",
      " |-- is_train: integer (nullable = false)\n",
      " |-- clicked: integer (nullable = true)\n",
      " |-- dummyClicksTrain: integer (nullable = false)\n",
      " |-- uuid_event: string (nullable = true)\n",
      " |-- document_id_event: integer (nullable = true)\n",
      " |-- timestamp_event: integer (nullable = true)\n",
      " |-- platform_event: integer (nullable = true)\n",
      " |-- geo_location_event: string (nullable = true)\n",
      " |-- dummyEvents: integer (nullable = true)\n",
      " |-- event_country: string (nullable = true)\n",
      " |-- document_id_promo: integer (nullable = true)\n",
      " |-- campaign_id: integer (nullable = true)\n",
      " |-- advertiser_id: integer (nullable = true)\n",
      " |-- dummyPromotedContent: integer (nullable = false)\n",
      "\n"
     ]
    }
   ],
   "source": [
    "train_valid_ad_merged_df.printSchema()"
   ]
  },
  {
   "cell_type": "code",
   "execution_count": 123,
   "metadata": {},
   "outputs": [],
   "source": [
    "train_subset = train_valid_ad_merged_df.drop('dummyEvents', 'dummyPromotedContent', 'geo_location_event', 'timestamp_event',\n",
    "                                            'dummyClicksTrain', 'clicked').cache()"
   ]
  },
  {
   "cell_type": "code",
   "execution_count": 124,
   "metadata": {},
   "outputs": [
    {
     "data": {
      "text/plain": [
       "87141731"
      ]
     },
     "execution_count": 124,
     "metadata": {},
     "output_type": "execute_result"
    }
   ],
   "source": [
    "train_subset.count()"
   ]
  },
  {
   "cell_type": "code",
   "execution_count": 126,
   "metadata": {},
   "outputs": [],
   "source": [
    "# train_subset.write.csv(\"gs://cap-18/output/train_subset.csv\")"
   ]
  },
  {
   "cell_type": "code",
   "execution_count": 130,
   "metadata": {},
   "outputs": [],
   "source": [
    "train_subset.write.parquet(OUTPUT_BUCKET_FOLDER + 'train_subset', mode='overwrite')"
   ]
  },
  {
   "cell_type": "markdown",
   "metadata": {},
   "source": [
    "**주의) overwrite을 조심하자...**"
   ]
  },
  {
   "cell_type": "markdown",
   "metadata": {},
   "source": [
    "`document_id`를 사용하여 `category_id`, `topic_id`, `publisher_id`를 가져오자."
   ]
  },
  {
   "cell_type": "markdown",
   "metadata": {},
   "source": [
    "페이지별로 신뢰도가 높은 하나의 카테고리, 토픽만 뽑아보자."
   ]
  },
  {
   "cell_type": "code",
   "execution_count": 120,
   "metadata": {},
   "outputs": [
    {
     "name": "stdout",
     "output_type": "stream",
     "text": [
      "+---------------+----------------+-------------------------+----------------------+\n",
      "|document_id_cat|category_id_list|confidence_level_cat_list|dummyDocumentsCategory|\n",
      "+---------------+----------------+-------------------------+----------------------+\n",
      "|            148|    [1403, 1702]|             [0.92, 0.07]|                     1|\n",
      "|            463|    [1513, 1808]|     [0.8932095, 0.067...|                     1|\n",
      "|            471|    [1504, 1609]|             [0.92, 0.07]|                     1|\n",
      "|            496|    [1210, 1203]|             [0.92, 0.07]|                     1|\n",
      "|            833|    [1305, 2004]|             [0.92, 0.07]|                     1|\n",
      "|           1088|    [2006, 1210]|     [0.8364613, 0.063...|                     1|\n",
      "|           1238|    [1100, 1407]|     [0.34836665, 0.02...|                     1|\n",
      "|           1342|    [1408, 2004]|     [0.42835742, 0.03...|                     1|\n",
      "|           1580|    [1403, 1402]|     [0.65625566, 0.04...|                     1|\n",
      "|           1591|    [1608, 1603]|     [0.35500738, 0.02...|                     1|\n",
      "+---------------+----------------+-------------------------+----------------------+\n",
      "only showing top 10 rows\n",
      "\n"
     ]
    }
   ],
   "source": [
    "documents_categories_grouped_df.show(10)\n",
    "\n",
    "# 신뢰도 순으로 정렬되어 있음을 알 수 있음."
   ]
  },
  {
   "cell_type": "code",
   "execution_count": 142,
   "metadata": {},
   "outputs": [
    {
     "data": {
      "text/plain": [
       "2828649"
      ]
     },
     "execution_count": 142,
     "metadata": {},
     "output_type": "execute_result"
    }
   ],
   "source": [
    "documents_categories_grouped_df.count()"
   ]
  },
  {
   "cell_type": "code",
   "execution_count": 154,
   "metadata": {},
   "outputs": [
    {
     "data": {
      "text/html": [
       "<div>\n",
       "<style scoped>\n",
       "    .dataframe tbody tr th:only-of-type {\n",
       "        vertical-align: middle;\n",
       "    }\n",
       "\n",
       "    .dataframe tbody tr th {\n",
       "        vertical-align: top;\n",
       "    }\n",
       "\n",
       "    .dataframe thead th {\n",
       "        text-align: right;\n",
       "    }\n",
       "</style>\n",
       "<table border=\"1\" class=\"dataframe\">\n",
       "  <thead>\n",
       "    <tr style=\"text-align: right;\">\n",
       "      <th></th>\n",
       "      <th>document_id_cat</th>\n",
       "      <th>category_id_list</th>\n",
       "      <th>confidence_level_cat_list</th>\n",
       "      <th>dummyDocumentsCategory</th>\n",
       "    </tr>\n",
       "  </thead>\n",
       "  <tbody>\n",
       "    <tr>\n",
       "      <th>0</th>\n",
       "      <td>148</td>\n",
       "      <td>[1403, 1702]</td>\n",
       "      <td>[0.920000016689, 0.070000000298]</td>\n",
       "      <td>1</td>\n",
       "    </tr>\n",
       "  </tbody>\n",
       "</table>\n",
       "</div>"
      ],
      "text/plain": [
       "   document_id_cat category_id_list         confidence_level_cat_list  \\\n",
       "0              148     [1403, 1702]  [0.920000016689, 0.070000000298]   \n",
       "\n",
       "   dummyDocumentsCategory  \n",
       "0                       1  "
      ]
     },
     "execution_count": 154,
     "metadata": {},
     "output_type": "execute_result"
    },
    {
     "data": {
      "text/plain": [
       "document_id_cat    2828649\n",
       "category_id        2828649\n",
       "dtype: int64"
      ]
     },
     "execution_count": 154,
     "metadata": {},
     "output_type": "execute_result"
    }
   ],
   "source": [
    "documents_categories_grouped_df_pandas = documents_categories_grouped_df.toPandas()\n",
    "documents_categories_grouped_df_pandas.head(1)\n",
    "documents_category_new = pd.DataFrame(documents_categories_grouped_df_pandas.category_id_list.tolist(), columns=['category_id', 'category_id2'])\n",
    "documents_category_new = documents_category_new['category_id']\n",
    "documents_categories_grouped_df_pandas = pd.concat([documents_categories_grouped_df_pandas, documents_category_new], axis = 1)\n",
    "documents_categories_grouped_df_pandas = documents_categories_grouped_df_pandas[['document_id_cat', 'category_id']]\n",
    "documents_categories_grouped_df_pandas.count()"
   ]
  },
  {
   "cell_type": "code",
   "execution_count": 121,
   "metadata": {},
   "outputs": [
    {
     "name": "stdout",
     "output_type": "stream",
     "text": [
      "+---------------+--------------------+-------------------------+--------------------+\n",
      "|document_id_top|       topic_id_list|confidence_level_top_list|dummyDocumentsTopics|\n",
      "+---------------+--------------------+-------------------------+--------------------+\n",
      "|            148|[153, 140, 8, 172...|     [0.07523697, 0.07...|                   1|\n",
      "|            463|[181, 292, 24, 25...|     [0.11870128, 0.05...|                   1|\n",
      "|            471|[285, 238, 153, 193]|     [0.15588789, 0.04...|                   1|\n",
      "|            496|[244, 294, 196, 1...|     [0.18284231, 0.11...|                   1|\n",
      "|            833|[294, 89, 174, 86...|     [0.11430275, 0.04...|                   1|\n",
      "|           1088|[107, 75, 153, 64...|     [0.10822894, 0.06...|                   1|\n",
      "|           1238| [89, 221, 192, 236]|     [0.023348164, 0.0...|                   1|\n",
      "|           1342|[271, 283, 181, 2...|     [0.0457309, 0.025...|                   1|\n",
      "|           1580|[8, 37, 136, 12, ...|     [0.08965496, 0.03...|                   1|\n",
      "|           1591|               [260]|              [0.0628404]|                   1|\n",
      "+---------------+--------------------+-------------------------+--------------------+\n",
      "only showing top 10 rows\n",
      "\n"
     ]
    }
   ],
   "source": [
    "documents_topics_grouped_df.show(10)\n",
    "\n",
    "# 신뢰도 순으로 정렬되어 있음을 알 수 있음."
   ]
  },
  {
   "cell_type": "code",
   "execution_count": 155,
   "metadata": {},
   "outputs": [
    {
     "data": {
      "text/html": [
       "<div>\n",
       "<style scoped>\n",
       "    .dataframe tbody tr th:only-of-type {\n",
       "        vertical-align: middle;\n",
       "    }\n",
       "\n",
       "    .dataframe tbody tr th {\n",
       "        vertical-align: top;\n",
       "    }\n",
       "\n",
       "    .dataframe thead th {\n",
       "        text-align: right;\n",
       "    }\n",
       "</style>\n",
       "<table border=\"1\" class=\"dataframe\">\n",
       "  <thead>\n",
       "    <tr style=\"text-align: right;\">\n",
       "      <th></th>\n",
       "      <th>document_id_top</th>\n",
       "      <th>topic_id_list</th>\n",
       "      <th>confidence_level_top_list</th>\n",
       "      <th>dummyDocumentsTopics</th>\n",
       "    </tr>\n",
       "  </thead>\n",
       "  <tbody>\n",
       "    <tr>\n",
       "      <th>0</th>\n",
       "      <td>148</td>\n",
       "      <td>[153, 140, 8, 172, 244, 179, 36, 2, 64, 10, 216]</td>\n",
       "      <td>[0.0752369686961, 0.0719832107425, 0.061084270...</td>\n",
       "      <td>1</td>\n",
       "    </tr>\n",
       "  </tbody>\n",
       "</table>\n",
       "</div>"
      ],
      "text/plain": [
       "   document_id_top                                     topic_id_list  \\\n",
       "0              148  [153, 140, 8, 172, 244, 179, 36, 2, 64, 10, 216]   \n",
       "\n",
       "                           confidence_level_top_list  dummyDocumentsTopics  \n",
       "0  [0.0752369686961, 0.0719832107425, 0.061084270...                     1  "
      ]
     },
     "execution_count": 155,
     "metadata": {},
     "output_type": "execute_result"
    }
   ],
   "source": [
    "documents_topics_grouped_df_pandas = documents_topics_grouped_df.toPandas()\n",
    "documents_topics_grouped_df_pandas.head(1)"
   ]
  },
  {
   "cell_type": "code",
   "execution_count": 161,
   "metadata": {},
   "outputs": [
    {
     "data": {
      "text/plain": [
       "0    153\n",
       "Name: topic_id, dtype: int64"
      ]
     },
     "execution_count": 161,
     "metadata": {},
     "output_type": "execute_result"
    }
   ],
   "source": [
    "documents_topics_new = pd.DataFrame(documents_topics_grouped_df_pandas.topic_id_list.tolist(), columns=['topic_id', '','','','','','','','','','','','','','','','','','','','','','','','','','','',\n",
    "                                                                                                       '','','','','','','','','','',''])\n",
    "documents_topics_new = documents_topics_new['topic_id']\n",
    "documents_topics_new.head(1)"
   ]
  },
  {
   "cell_type": "code",
   "execution_count": 162,
   "metadata": {},
   "outputs": [],
   "source": [
    "documents_topics_grouped_df_pandas = pd.concat([documents_topics_grouped_df_pandas, documents_topics_new], axis = 1)\n",
    "documents_topics_grouped_df_pandas = documents_topics_grouped_df_pandas[['document_id_top', 'topic_id']]"
   ]
  },
  {
   "cell_type": "code",
   "execution_count": 163,
   "metadata": {},
   "outputs": [
    {
     "data": {
      "text/plain": [
       "document_id_top    2495423\n",
       "topic_id           2495423\n",
       "dtype: int64"
      ]
     },
     "execution_count": 163,
     "metadata": {},
     "output_type": "execute_result"
    },
    {
     "data": {
      "text/html": [
       "<div>\n",
       "<style scoped>\n",
       "    .dataframe tbody tr th:only-of-type {\n",
       "        vertical-align: middle;\n",
       "    }\n",
       "\n",
       "    .dataframe tbody tr th {\n",
       "        vertical-align: top;\n",
       "    }\n",
       "\n",
       "    .dataframe thead th {\n",
       "        text-align: right;\n",
       "    }\n",
       "</style>\n",
       "<table border=\"1\" class=\"dataframe\">\n",
       "  <thead>\n",
       "    <tr style=\"text-align: right;\">\n",
       "      <th></th>\n",
       "      <th>document_id_top</th>\n",
       "      <th>topic_id</th>\n",
       "    </tr>\n",
       "  </thead>\n",
       "  <tbody>\n",
       "    <tr>\n",
       "      <th>0</th>\n",
       "      <td>148</td>\n",
       "      <td>153</td>\n",
       "    </tr>\n",
       "  </tbody>\n",
       "</table>\n",
       "</div>"
      ],
      "text/plain": [
       "   document_id_top  topic_id\n",
       "0              148       153"
      ]
     },
     "execution_count": 163,
     "metadata": {},
     "output_type": "execute_result"
    }
   ],
   "source": [
    "documents_topics_grouped_df_pandas.count()\n",
    "documents_topics_grouped_df_pandas.head(1)"
   ]
  },
  {
   "cell_type": "markdown",
   "metadata": {},
   "source": [
    "생성한 페이지별 카테고리, 토픽 정보를 기존 파일에 합치자."
   ]
  },
  {
   "cell_type": "code",
   "execution_count": 164,
   "metadata": {},
   "outputs": [],
   "source": [
    "#Create Spark DataFrame from Pandas\n",
    "\n",
    "categories_schema = StructType(\n",
    "                    [StructField(\"document_id_cat\", StringType(), True),\n",
    "                    StructField(\"category_id\", StringType(), True)]\n",
    "                    )\n",
    "\n",
    "topic_schema = StructType(\n",
    "                    [StructField(\"document_id_top\", StringType(), True),\n",
    "                    StructField(\"topic_id\", StringType(), True)]\n",
    "                    )\n",
    "\n",
    "documents_categories_table = sqlContext.createDataFrame(documents_topics_grouped_df_pandas, categories_schema)\n",
    "documents_topics_table = sqlContext.createDataFrame(documents_categories_grouped_df_pandas, topic_schema)"
   ]
  },
  {
   "cell_type": "code",
   "execution_count": 165,
   "metadata": {},
   "outputs": [
    {
     "name": "stdout",
     "output_type": "stream",
     "text": [
      "+---------------+-----------+\n",
      "|document_id_cat|category_id|\n",
      "+---------------+-----------+\n",
      "|            148|        153|\n",
      "+---------------+-----------+\n",
      "only showing top 1 row\n",
      "\n",
      "+---------------+--------+\n",
      "|document_id_top|topic_id|\n",
      "+---------------+--------+\n",
      "|            148|    1403|\n",
      "+---------------+--------+\n",
      "only showing top 1 row\n",
      "\n"
     ]
    }
   ],
   "source": [
    "documents_categories_table.show(1)\n",
    "documents_topics_table.show(1)"
   ]
  },
  {
   "cell_type": "code",
   "execution_count": 167,
   "metadata": {},
   "outputs": [
    {
     "name": "stdout",
     "output_type": "stream",
     "text": [
      "+--------------+\n",
      "|event_platform|\n",
      "+--------------+\n",
      "|          null|\n",
      "|             1|\n",
      "|             6|\n",
      "|             3|\n",
      "|             5|\n",
      "|             4|\n",
      "|             2|\n",
      "+--------------+\n",
      "\n"
     ]
    }
   ],
   "source": [
    "train_subset.select('event_platform').distinct().show()"
   ]
  },
  {
   "cell_type": "markdown",
   "metadata": {},
   "source": [
    "## OHE(One-Hot Encoding)"
   ]
  },
  {
   "cell_type": "code",
   "execution_count": 85,
   "metadata": {},
   "outputs": [],
   "source": [
    "from pyspark.ml import Pipeline\n",
    "from pyspark.ml.feature import OneHotEncoderEstimator, StringIndexer, VectorAssembler"
   ]
  },
  {
   "cell_type": "markdown",
   "metadata": {},
   "source": [
    "`train`에서 세 개의 컬럼만 빼서 logistic regression으로 적합시켜보자."
   ]
  },
  {
   "cell_type": "code",
   "execution_count": 303,
   "metadata": {},
   "outputs": [],
   "source": [
    "train_light = train.select('label', 'event_weekend', 'doc_event_hour', 'pop_advertiser_id')"
   ]
  },
  {
   "cell_type": "markdown",
   "metadata": {},
   "source": [
    "결측치가 포함되어 있으면 VectorAssembler가 작동하지 않는다."
   ]
  },
  {
   "cell_type": "code",
   "execution_count": 313,
   "metadata": {},
   "outputs": [],
   "source": [
    "train_light = train_light.dropna() ### 테스트 용으로 생성하였음. "
   ]
  },
  {
   "cell_type": "code",
   "execution_count": 314,
   "metadata": {},
   "outputs": [
    {
     "name": "stdout",
     "output_type": "stream",
     "text": [
      "+-----+-------------+--------------+-----------------+\n",
      "|label|event_weekend|doc_event_hour|pop_advertiser_id|\n",
      "+-----+-------------+--------------+-----------------+\n",
      "|    1|            1|           3.0|          0.39017|\n",
      "+-----+-------------+--------------+-----------------+\n",
      "only showing top 1 row\n",
      "\n"
     ]
    }
   ],
   "source": [
    "train_light.show(1)"
   ]
  },
  {
   "cell_type": "code",
   "execution_count": 315,
   "metadata": {},
   "outputs": [
    {
     "name": "stdout",
     "output_type": "stream",
     "text": [
      "root\n",
      " |-- label: integer (nullable = true)\n",
      " |-- event_weekend: integer (nullable = true)\n",
      " |-- doc_event_hour: float (nullable = true)\n",
      " |-- pop_advertiser_id: float (nullable = true)\n",
      "\n"
     ]
    }
   ],
   "source": [
    "train_light.printSchema()"
   ]
  },
  {
   "cell_type": "code",
   "execution_count": 316,
   "metadata": {},
   "outputs": [],
   "source": [
    "categorical_columns= ['event_weekend', 'doc_event_hour']\n",
    "\n",
    "indexers = [\n",
    "    StringIndexer(inputCol=c, outputCol=\"{0}_indexed\".format(c))\n",
    "    for c in categorical_columns\n",
    "]\n",
    "\n",
    "encoders = [OneHotEncoder(dropLast=False,inputCol=indexer.getOutputCol(),\n",
    "            outputCol=\"{0}_encoded\".format(indexer.getOutputCol())) \n",
    "    for indexer in indexers\n",
    "]\n",
    "\n",
    "numericCols = [\"pop_advertiser_id\"]\n",
    "\n",
    "assemblerInputs = [encoder.getOutputCol() for encoder in encoders] + numericCols\n",
    "assembler = VectorAssembler(inputCols= assemblerInputs, outputCol=\"features\")"
   ]
  },
  {
   "cell_type": "code",
   "execution_count": 317,
   "metadata": {},
   "outputs": [],
   "source": [
    "pipeline = Pipeline(stages=indexers + encoders+[assembler])\n",
    "model=pipeline.fit(train_light)"
   ]
  },
  {
   "cell_type": "code",
   "execution_count": 318,
   "metadata": {},
   "outputs": [
    {
     "name": "stdout",
     "output_type": "stream",
     "text": [
      "+-----+-------------+--------------+-----------------+---------------------+----------------------+-----------------------------+------------------------------+--------------------+\n",
      "|label|event_weekend|doc_event_hour|pop_advertiser_id|event_weekend_indexed|doc_event_hour_indexed|event_weekend_indexed_encoded|doc_event_hour_indexed_encoded|            features|\n",
      "+-----+-------------+--------------+-----------------+---------------------+----------------------+-----------------------------+------------------------------+--------------------+\n",
      "|    1|            1|           3.0|          0.39017|                  1.0|                   3.0|                (2,[1],[1.0])|                 (6,[3],[1.0])|(9,[1,5,8],[1.0,1...|\n",
      "|    0|            1|           3.0|         0.045525|                  1.0|                   3.0|                (2,[1],[1.0])|                 (6,[3],[1.0])|(9,[1,5,8],[1.0,1...|\n",
      "|    0|            0|           5.0|          0.12022|                  0.0|                   2.0|                (2,[0],[1.0])|                 (6,[2],[1.0])|(9,[0,4,8],[1.0,1...|\n",
      "|    1|            0|           5.0|          0.27978|                  0.0|                   2.0|                (2,[0],[1.0])|                 (6,[2],[1.0])|(9,[0,4,8],[1.0,1...|\n",
      "|    0|            0|           5.0|          0.14838|                  0.0|                   2.0|                (2,[0],[1.0])|                 (6,[2],[1.0])|(9,[0,4,8],[1.0,1...|\n",
      "+-----+-------------+--------------+-----------------+---------------------+----------------------+-----------------------------+------------------------------+--------------------+\n",
      "only showing top 5 rows\n",
      "\n"
     ]
    }
   ],
   "source": [
    "transformed = model.transform(train_light)\n",
    "transformed.show(5)"
   ]
  },
  {
   "cell_type": "code",
   "execution_count": 301,
   "metadata": {},
   "outputs": [],
   "source": [
    "lrModel = LogisticRegression().fit(transformed)"
   ]
  },
  {
   "cell_type": "code",
   "execution_count": 302,
   "metadata": {},
   "outputs": [
    {
     "name": "stdout",
     "output_type": "stream",
     "text": [
      "Coefficients: [-0.794120161470076,-0.7801337170118473,-0.2914448004121033,-0.30109970451540263,-0.30425818741879407,-0.2616615092582643,-0.21434825317394268,-0.2341588436782957,6.0348883381458505]\n",
      "Intercept: -1.64561707644\n"
     ]
    }
   ],
   "source": [
    "print(\"Coefficients: \" + str(lrModel.coefficients))\n",
    "print(\"Intercept: \" + str(lrModel.intercept))"
   ]
  },
  {
   "cell_type": "markdown",
   "metadata": {},
   "source": [
    "변수별 결측치를 세보자."
   ]
  },
  {
   "cell_type": "code",
   "execution_count": 324,
   "metadata": {},
   "outputs": [
    {
     "name": "stdout",
     "output_type": "stream",
     "text": [
      "+-----+----------+-----+------+------------+-------+-------------+----------+--------+---------+--------------+---------+--------------+----------------------+---------------+--------------------+----------------------------+----------------+---------------------+-----------------------------+-----------------+----------------------+------------------------------+--------------+-------------------+---------------------------+--------------------+-------------------------+---------------------------------+-------------+------------------+--------------------------+---------------------+--------------------------+----------------------------------+------------+-----------------+-------------------------+--------------------+-------------------------+---------------------------------+---------------+--------------------+----------------------------+-----------------------+----------------------------+------------------------------------+-------------+--------------------+--------------------+--------------------+-----------------+-----------------+-----------------+-------------------+----------------+-----------------------+-----------------------+-----------------------+--------------------+--------------------+--------------------+----------------------+-------------------+-------------+-------------------+------------------+----------+--------------+--------------+\n",
      "|label|display_id|ad_id|doc_id|doc_event_id|is_leak|event_weekend|user_views|ad_views|doc_views|doc_event_hour|pop_ad_id|pop_ad_id_conf|pop_ad_id_conf_multipl|pop_document_id|pop_document_id_conf|pop_document_id_conf_multipl|pop_publisher_id|pop_publisher_id_conf|pop_publisher_id_conf_multipl|pop_advertiser_id|pop_advertiser_id_conf|pop_advertiser_id_conf_multipl|pop_campain_id|pop_campain_id_conf|pop_campain_id_conf_multipl|pop_doc_event_doc_ad|pop_doc_event_doc_ad_conf|pop_doc_event_doc_ad_conf_multipl|pop_source_id|pop_source_id_conf|pop_source_id_conf_multipl|pop_source_id_country|pop_source_id_country_conf|pop_source_id_country_conf_multipl|pop_topic_id|pop_topic_id_conf|pop_topic_id_conf_multipl|pop_topic_id_country|pop_topic_id_country_conf|pop_topic_id_country_conf_multipl|pop_category_id|pop_category_id_conf|pop_category_id_conf_multipl|pop_category_id_country|pop_category_id_country_conf|pop_category_id_country_conf_multipl|ad_advertiser|doc_ad_category_id_1|doc_ad_category_id_2|doc_ad_category_id_3|doc_ad_topic_id_1|doc_ad_topic_id_2|doc_ad_topic_id_3|doc_ad_publisher_id|doc_ad_source_id|doc_event_category_id_1|doc_event_category_id_2|doc_event_category_id_3|doc_event_topic_id_1|doc_event_topic_id_2|doc_event_topic_id_3|doc_event_publisher_id|doc_event_source_id|event_country|event_country_state|event_geo_location|event_hour|event_platform|traffic_source|\n",
      "+-----+----------+-----+------+------------+-------+-------------+----------+--------+---------+--------------+---------+--------------+----------------------+---------------+--------------------+----------------------------+----------------+---------------------+-----------------------------+-----------------+----------------------+------------------------------+--------------+-------------------+---------------------------+--------------------+-------------------------+---------------------------------+-------------+------------------+--------------------------+---------------------+--------------------------+----------------------------------+------------+-----------------+-------------------------+--------------------+-------------------------+---------------------------------+---------------+--------------------+----------------------------+-----------------------+----------------------------+------------------------------------+-------------+--------------------+--------------------+--------------------+-----------------+-----------------+-----------------+-------------------+----------------+-----------------------+-----------------------+-----------------------+--------------------+--------------------+--------------------+----------------------+-------------------+-------------+-------------------+------------------+----------+--------------+--------------+\n",
      "|    0|         0|    0|     0|           0|      0|            0|  55021321|23049575| 36258019|             0|   478615|        478615|                478615|         143288|              143288|                      143288|        36457004|             36457004|                     36457004|             1486|                  1486|                          1486|         24363|              24363|                      24363|            27566741|                 27566741|                         27566741|        26351|             26351|                     26351|                74782|                     74782|                             74782|      572980|           572980|                   572980|              588530|                   588530|                           588530|          52752|               52752|                       52752|                  56277|                       56277|                               56277|            0|               52752|             1066502|            59761474|           572980|         30523571|         41407222|           36456548|        13163208|                2633587|                3966087|               59761474|             5191926|            24437280|            32325474|                  1312|            4961802|     59017002|           55945959|          54210323|         0|            10|        134652|\n",
      "+-----+----------+-----+------+------------+-------+-------------+----------+--------+---------+--------------+---------+--------------+----------------------+---------------+--------------------+----------------------------+----------------+---------------------+-----------------------------+-----------------+----------------------+------------------------------+--------------+-------------------+---------------------------+--------------------+-------------------------+---------------------------------+-------------+------------------+--------------------------+---------------------+--------------------------+----------------------------------+------------+-----------------+-------------------------+--------------------+-------------------------+---------------------------------+---------------+--------------------+----------------------------+-----------------------+----------------------------+------------------------------------+-------------+--------------------+--------------------+--------------------+-----------------+-----------------+-----------------+-------------------+----------------+-----------------------+-----------------------+-----------------------+--------------------+--------------------+--------------------+----------------------+-------------------+-------------+-------------------+------------------+----------+--------------+--------------+\n",
      "\n"
     ]
    }
   ],
   "source": [
    "train.select([F.count(F.when(F.isnan(c) | F.col(c).isNull(), c)).alias(c) for c in train.columns]).show()"
   ]
  },
  {
   "cell_type": "markdown",
   "metadata": {},
   "source": [
    "### Feature 별 처리 방안"
   ]
  },
  {
   "cell_type": "markdown",
   "metadata": {},
   "source": [
    "`user_views`: 전체 유저의 뷰 수의 중앙값으로 대체 + 각각의 4분위 구해서 4가지 수준으로 생성 + OHE \n",
    "\n",
    "`ad_views`: 전체 유저의 광고 뷰 수의 중앙값으로 대체 + 각각의 4분위 구해서 4가지 수준으로 생성  + OHE \n",
    "\n",
    "`doc_views`: 중앙값으로 대체 + 각각의 4분위 구해서 4가지 수준으로 생성  + OHE \n",
    "\n",
    "`pop` 시리즈: 각 수준별 중앙값으로 대체 + 각각의 4분위 구해서 4가지 수준으로 생성 + OHE\n",
    "\n",
    "`traffic_source`: 최빈값 1로 대체 + OHE\n",
    " \n",
    "`event_platform`: 최빈값 1로 대체 + OHE\n",
    "\n",
    "`campaign_id`: 추가하고, 원래 값 가져와서 OHE로 처리할 것.\n",
    "\n",
    "\n",
    "\n",
    "--- \n",
    "\n",
    "**삭제된 Features**\n",
    "\n",
    "`event_geo_location`: 삭제\n",
    "\n",
    "`event_country_state`: 삭제\n",
    "\n",
    "`event_hour`: 삭제\n",
    "\n",
    "---\n",
    "\n",
    "**지우긴 했으나 이후 과정 해야 하는 Features**\n",
    "\n",
    "`doc_ad_category`: 해시된 것 지우고, 원래 값 가져와서 OHE로 처리할 것.\n",
    "\n",
    "`ad_advertiser`: 해시된 것 지우고, 원래 값 가져와서 OHE로 처리할 것.\n",
    "\n",
    "`doc_ad_publisher_id`: 해시된 것 지우고, 가장 많이 광고 내는 publisher_id로 대체 + OHE\n",
    "\n",
    "`doc_ad_source_id`: 해시된 것 지우고, 최빈값으로 대체 + OHE\n",
    "\n",
    "`event_country`: 해시된 것 지우고, 최빈값 US로 대체"
   ]
  },
  {
   "cell_type": "code",
   "execution_count": 327,
   "metadata": {},
   "outputs": [],
   "source": [
    "train_dropped = train.drop('doc_ad_category_id_1', 'doc_ad_category_id_2', 'doc_ad_category_id_3', \n",
    "                          'doc_ad_topic_id_1', 'doc_ad_topic_id_2', 'doc_ad_topic_id_3',\n",
    "                          'doc_event_category_id_1', 'doc_event_category_id_2', 'doc_event_category_id_3',\n",
    "                           'doc_event_topic_id_1', 'doc_event_topic_id_2', 'doc_event_topic_id_3',\n",
    "                          'event_hour', 'event_geo_location', 'event_country_state',\n",
    "                          'event_country', 'ad_advertiser', 'doc_ad_publisher_id', 'doc_ad_source_id',\n",
    "                          'doc_ad_category')"
   ]
  },
  {
   "cell_type": "markdown",
   "metadata": {},
   "source": [
    "**user_views** : uuid를 join해서 유저별 views로 정리"
   ]
  },
  {
   "cell_type": "code",
   "execution_count": 330,
   "metadata": {},
   "outputs": [
    {
     "name": "stdout",
     "output_type": "stream",
     "text": [
      "+-------+-----------------+\n",
      "|summary|       user_views|\n",
      "+-------+-----------------+\n",
      "|  count|          4740153|\n",
      "|   mean|34.11778543857129|\n",
      "| stddev|36.59554434203119|\n",
      "|    min|                1|\n",
      "|    max|              660|\n",
      "+-------+-----------------+\n",
      "\n"
     ]
    }
   ],
   "source": [
    "train.select('user_views').describe().show()"
   ]
  },
  {
   "cell_type": "markdown",
   "metadata": {},
   "source": [
    "**ad_views** : ad_id별 최소값으로 정리"
   ]
  },
  {
   "cell_type": "markdown",
   "metadata": {},
   "source": [
    "**doc_views** : doc_id별 최소값으로 정리"
   ]
  },
  {
   "cell_type": "markdown",
   "metadata": {},
   "source": [
    "### 어"
   ]
  },
  {
   "cell_type": "code",
   "execution_count": null,
   "metadata": {},
   "outputs": [],
   "source": []
  }
 ],
 "metadata": {
  "kernelspec": {
   "display_name": "Python 2",
   "language": "python",
   "name": "python2"
  },
  "language_info": {
   "codemirror_mode": {
    "name": "ipython",
    "version": 2
   },
   "file_extension": ".py",
   "mimetype": "text/x-python",
   "name": "python",
   "nbconvert_exporter": "python",
   "pygments_lexer": "ipython2",
   "version": "2.7.15"
  }
 },
 "nbformat": 4,
 "nbformat_minor": 2
}
