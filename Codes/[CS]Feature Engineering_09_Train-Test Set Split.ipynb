{
 "cells": [
  {
   "cell_type": "markdown",
   "metadata": {},
   "source": [
    "# Validation Set Split\n",
    "\n",
    "As of Dec 07, 2018"
   ]
  },
  {
   "cell_type": "markdown",
   "metadata": {},
   "source": [
    "## Part A: 분석을 위한 환경 설정"
   ]
  },
  {
   "cell_type": "markdown",
   "metadata": {},
   "source": [
    "### A-1) 모듈/패키지 로드"
   ]
  },
  {
   "cell_type": "code",
   "execution_count": 94,
   "metadata": {},
   "outputs": [],
   "source": [
    "evaluation = True\n",
    "evaluation_verbose = False\n",
    "\n",
    "OUTPUT_BUCKET_FOLDER = \"gs://line_2018/output/\"\n",
    "DATA_BUCKET_FOLDER = \"gs://upload-bigquery180927/data/\""
   ]
  },
  {
   "cell_type": "code",
   "execution_count": 95,
   "metadata": {},
   "outputs": [],
   "source": [
    "from IPython.display import display"
   ]
  },
  {
   "cell_type": "code",
   "execution_count": 96,
   "metadata": {},
   "outputs": [],
   "source": [
    "from pyspark.sql.types import *\n",
    "import pyspark.sql.functions as F\n",
    "from pyspark.ml.linalg import Vectors, SparseVector, VectorUDT"
   ]
  },
  {
   "cell_type": "code",
   "execution_count": 97,
   "metadata": {},
   "outputs": [],
   "source": [
    "from IPython.core.interactiveshell import InteractiveShell \n",
    "InteractiveShell.ast_node_interactivity = \"all\" # 한 셀(cell)에서의 코드 실행 결과가 다 보이도록 설정"
   ]
  },
  {
   "cell_type": "code",
   "execution_count": 98,
   "metadata": {},
   "outputs": [],
   "source": [
    "import numpy as np\n",
    "import scipy.sparse"
   ]
  },
  {
   "cell_type": "code",
   "execution_count": 99,
   "metadata": {},
   "outputs": [],
   "source": [
    "import warnings \n",
    "warnings.filterwarnings('ignore') # warning 메시지 반환되지 않도록 설정"
   ]
  },
  {
   "cell_type": "code",
   "execution_count": 100,
   "metadata": {},
   "outputs": [],
   "source": [
    "import math\n",
    "import datetime\n",
    "import time\n",
    "import itertools"
   ]
  },
  {
   "cell_type": "code",
   "execution_count": 101,
   "metadata": {},
   "outputs": [],
   "source": [
    "import pickle"
   ]
  },
  {
   "cell_type": "code",
   "execution_count": 102,
   "metadata": {},
   "outputs": [],
   "source": [
    "import random\n",
    "random.seed(42)"
   ]
  },
  {
   "cell_type": "code",
   "execution_count": 103,
   "metadata": {},
   "outputs": [],
   "source": [
    "import pandas as pd\n",
    "%matplotlib inline"
   ]
  },
  {
   "cell_type": "code",
   "execution_count": 104,
   "metadata": {},
   "outputs": [],
   "source": [
    "# 테이블 로드\n",
    "train_valid_merged_df = spark.read.parquet(\"gs://line_2018/outputtrain_final_3\")"
   ]
  },
  {
   "cell_type": "markdown",
   "metadata": {},
   "source": [
    "## Part B: 테이블 합치기"
   ]
  },
  {
   "cell_type": "code",
   "execution_count": 105,
   "metadata": {},
   "outputs": [],
   "source": [
    "# CTR에 해당하는 컬럼 제외\n",
    "train_valid_merged_df = train_valid_merged_df.drop('pop_ad_id',\n",
    " 'pop_ad_doc_id',\n",
    " 'pop_ad_publisher_id',\n",
    " 'pop_advertiser_id',\n",
    " 'pop_campaign_id',\n",
    " 'pop_view_doc_ad_doc',\n",
    " 'pop_ad_source_id',\n",
    " 'pop_ad_topic_id',\n",
    " 'pop_ad_category_id')"
   ]
  },
  {
   "cell_type": "code",
   "execution_count": 106,
   "metadata": {},
   "outputs": [],
   "source": [
    "# train_valid_merged_df.columns"
   ]
  },
  {
   "cell_type": "code",
   "execution_count": 107,
   "metadata": {},
   "outputs": [],
   "source": [
    "# column별 수준 수 세기\n",
    "# for col in train_valid_merged_df.columns:\n",
    "#   print(col, train_valid_merged_df.select(col).distinct().count())"
   ]
  },
  {
   "cell_type": "code",
   "execution_count": 108,
   "metadata": {},
   "outputs": [],
   "source": [
    "# column별 NA 세기\n",
    "# train_valid_merged_df.select([F.count(F.when(F.isnan(c) | F.col(c).isNull(), c)).alias(c) for c in train_valid_merged_df.columns]).show()"
   ]
  },
  {
   "cell_type": "code",
   "execution_count": 109,
   "metadata": {},
   "outputs": [],
   "source": [
    "train_valid_merged_df2 = train_valid_merged_df"
   ]
  },
  {
   "cell_type": "code",
   "execution_count": 110,
   "metadata": {},
   "outputs": [],
   "source": [
    "# 상당수를 차지하는 미국, 캐나다, 영국이 아닌 경우 U로 할당\n",
    "train_valid_merged_df2 = train_valid_merged_df2.withColumn(\"country\", \\\n",
    "              F.when((train_valid_merged_df2[\"country\"] != 'US') &\n",
    "                     (train_valid_merged_df2[\"country\"] != 'CA') &\n",
    "                     (train_valid_merged_df2[\"country\"] != 'GB'), 'U').otherwise(train_valid_merged_df2[\"country\"]))"
   ]
  },
  {
   "cell_type": "code",
   "execution_count": 111,
   "metadata": {},
   "outputs": [],
   "source": [
    "# train_valid_merged_df2.select('country').distinct().count()"
   ]
  },
  {
   "cell_type": "code",
   "execution_count": 112,
   "metadata": {},
   "outputs": [],
   "source": [
    "# train_valid_merged_df2.select('country').groupBy('country').count().show()"
   ]
  },
  {
   "cell_type": "code",
   "execution_count": 113,
   "metadata": {},
   "outputs": [],
   "source": [
    "cont_binned_schema = StructType(\n",
    "                    [StructField(\"pop_ad_id\", StringType(), True),\n",
    "                    StructField(\"pop_ad_doc_id\", StringType(), True),                    \n",
    "                    StructField(\"pop_ad_publisher_id\", StringType(), True),\n",
    "                    StructField(\"pop_advertiser_id\", StringType(), True),\n",
    "                    StructField(\"pop_campaign_id\", StringType(), True),\n",
    "                    StructField(\"pop_view_doc_ad_doc\", StringType(), True),\n",
    "                     StructField(\"pop_ad_source_id\", StringType(), True),\n",
    "                     StructField(\"pop_ad_topic_id\", StringType(), True),\n",
    "                     StructField(\"pop_ad_category_id\", StringType(), True),\n",
    "                    ]\n",
    "                    )\n",
    "\n",
    "cont_binned_df = spark.read.schema(cont_binned_schema).options(header='true', inferschema='false', nullValue='\\\\N') \\\n",
    "                .csv(DATA_BUCKET_FOLDER + \"train_bin.csv\")"
   ]
  },
  {
   "cell_type": "code",
   "execution_count": 114,
   "metadata": {},
   "outputs": [],
   "source": [
    "# # column별 수준 수 세기 \n",
    "# for col in cont_binned_df.columns:\n",
    "#   print(col, cont_binned_df.select(col).distinct().count())"
   ]
  },
  {
   "cell_type": "code",
   "execution_count": 115,
   "metadata": {},
   "outputs": [],
   "source": [
    "# cont_binned_df.count()"
   ]
  },
  {
   "cell_type": "code",
   "execution_count": 116,
   "metadata": {},
   "outputs": [],
   "source": [
    "# train_valid_merged_df2.count()"
   ]
  },
  {
   "cell_type": "code",
   "execution_count": 117,
   "metadata": {},
   "outputs": [],
   "source": [
    "# column별 NA 세기\n",
    "# cont_binned_df.select([F.count(F.when(F.isnan(c) | F.col(c).isNull(), c)).alias(c) for c in cont_binned_df.columns]).show()"
   ]
  },
  {
   "cell_type": "code",
   "execution_count": 118,
   "metadata": {},
   "outputs": [],
   "source": [
    "# cont_binned_df.select('pop_ad_id').groupBy('pop_ad_id').count().show()"
   ]
  },
  {
   "cell_type": "code",
   "execution_count": 119,
   "metadata": {},
   "outputs": [],
   "source": [
    "# NA인 값을 U로 바꾸기\n",
    "for col in cont_binned_df.columns:\n",
    "  cont_binned_df = cont_binned_df.withColumn(col, F.regexp_replace(col, 'NA', 'U'))"
   ]
  },
  {
   "cell_type": "code",
   "execution_count": 120,
   "metadata": {},
   "outputs": [],
   "source": [
    "# cont_binned_df.select('pop_ad_id').groupBy('pop_ad_id').count().show()"
   ]
  },
  {
   "cell_type": "code",
   "execution_count": 121,
   "metadata": {},
   "outputs": [],
   "source": [
    "# cont_binned_df.count()"
   ]
  },
  {
   "cell_type": "code",
   "execution_count": 122,
   "metadata": {},
   "outputs": [],
   "source": [
    "# train_valid_merged_df2.count()"
   ]
  },
  {
   "cell_type": "code",
   "execution_count": 123,
   "metadata": {},
   "outputs": [],
   "source": [
    "from pyspark.sql.window import Window\n",
    "\n",
    "cont_binned_df = cont_binned_df.withColumn('index', F.row_number().over(Window.orderBy(F.lit(1))))"
   ]
  },
  {
   "cell_type": "code",
   "execution_count": 124,
   "metadata": {},
   "outputs": [],
   "source": [
    "# cont_binned_df.select('index').describe().show()"
   ]
  },
  {
   "cell_type": "code",
   "execution_count": 125,
   "metadata": {},
   "outputs": [],
   "source": [
    "train_valid_merged_df2 = train_valid_merged_df2.withColumn('index', F.row_number().over(Window.orderBy(F.lit(1))))"
   ]
  },
  {
   "cell_type": "code",
   "execution_count": 126,
   "metadata": {},
   "outputs": [],
   "source": [
    "# train_valid_merged_df2.select('index').describe().show()"
   ]
  },
  {
   "cell_type": "code",
   "execution_count": 127,
   "metadata": {},
   "outputs": [],
   "source": [
    "train_final = train_valid_merged_df2.join(cont_binned_df, 'index', how = 'left')"
   ]
  },
  {
   "cell_type": "code",
   "execution_count": 128,
   "metadata": {},
   "outputs": [],
   "source": [
    "# train_final.columns"
   ]
  },
  {
   "cell_type": "code",
   "execution_count": 129,
   "metadata": {},
   "outputs": [],
   "source": [
    "# train_final.count() # 87141731 기원!"
   ]
  },
  {
   "cell_type": "code",
   "execution_count": 130,
   "metadata": {},
   "outputs": [],
   "source": [
    "# train_final.select([F.count(F.when(F.isnan(c) | F.col(c).isNull(), c)).alias(c) for c in train_final.columns]).show()"
   ]
  },
  {
   "cell_type": "markdown",
   "metadata": {},
   "source": [
    "## Part C: Train / Test Set으로 구분"
   ]
  },
  {
   "cell_type": "markdown",
   "metadata": {},
   "source": [
    "실험을 위해 전체 데이터의 일부를 떼내어 `train_sample`과 `test_sample` 를 생성해보자."
   ]
  },
  {
   "cell_type": "code",
   "execution_count": 131,
   "metadata": {},
   "outputs": [],
   "source": [
    "train_final = train_final.drop('is_train') # is_train 컬럼 제외"
   ]
  },
  {
   "cell_type": "code",
   "execution_count": 132,
   "metadata": {},
   "outputs": [],
   "source": [
    "# 주말인지 여부\n",
    "# train_final.select('weekend').groupBy('weekend').count().show()"
   ]
  },
  {
   "cell_type": "code",
   "execution_count": 133,
   "metadata": {},
   "outputs": [],
   "source": [
    "dp_id_table = train_final.select('display_id').distinct()"
   ]
  },
  {
   "cell_type": "code",
   "execution_count": 153,
   "metadata": {},
   "outputs": [],
   "source": [
    "dp_id_list = dp_id_table.sample(False, 0.015, seed = 0)"
   ]
  },
  {
   "cell_type": "code",
   "execution_count": 154,
   "metadata": {},
   "outputs": [
    {
     "data": {
      "text/plain": [
       "252531"
      ]
     },
     "execution_count": 154,
     "metadata": {},
     "output_type": "execute_result"
    }
   ],
   "source": [
    "dp_id_list.count() # 랜덤 샘플링을 통해 추출된 고유한 display의 수: 약 252,531건 기대"
   ]
  },
  {
   "cell_type": "code",
   "execution_count": 155,
   "metadata": {},
   "outputs": [],
   "source": [
    "dp_id_list = dp_id_list.select('display_id').toPandas()\n",
    "dp_id_list = dp_id_list['display_id'].tolist() # display_id를 list로 변환"
   ]
  },
  {
   "cell_type": "code",
   "execution_count": 156,
   "metadata": {},
   "outputs": [],
   "source": [
    "dp_id_all = train_final.filter(F.col('display_id').isin(dp_id_list)) # 랜덤 샘플링 해서 뽑힌 display_id 기준으로 train_final을 필터링"
   ]
  },
  {
   "cell_type": "code",
   "execution_count": 157,
   "metadata": {},
   "outputs": [],
   "source": [
    "dp_id_list = dp_id_all.select('display_id', 'timestamp_event').distinct()"
   ]
  },
  {
   "cell_type": "code",
   "execution_count": 158,
   "metadata": {},
   "outputs": [],
   "source": [
    "dp_id_list = dp_id_list.sort(\"timestamp_event\").withColumn('index', F.row_number().over(Window.orderBy(F.lit(1))))"
   ]
  },
  {
   "cell_type": "code",
   "execution_count": 160,
   "metadata": {},
   "outputs": [],
   "source": [
    "dp_id_list_train = dp_id_list.filter((F.col('index') >= 1) & (F.col('index') <= 200000)).select('display_id').toPandas()\n",
    "dp_id_list_train = dp_id_list_train['display_id'].tolist()"
   ]
  },
  {
   "cell_type": "code",
   "execution_count": 161,
   "metadata": {},
   "outputs": [],
   "source": [
    "dp_id_list_test = dp_id_list.filter((F.col('index') >= 200001) & (F.col('index') <= 252531)).select('display_id').toPandas()\n",
    "dp_id_list_test = dp_id_list_test['display_id'].tolist()"
   ]
  },
  {
   "cell_type": "code",
   "execution_count": 162,
   "metadata": {},
   "outputs": [],
   "source": [
    "train_sample = train_final.filter(F.col('display_id').isin(dp_id_list_train)) # dp_id_list_train에 있는 display_id 기준으로 train_final을 필터링"
   ]
  },
  {
   "cell_type": "code",
   "execution_count": 163,
   "metadata": {},
   "outputs": [],
   "source": [
    "test_sample = train_final.filter(F.col('display_id').isin(dp_id_list_test)) # dp_id_list_test에 있는 display_id 기준으로 train_final을 필터링"
   ]
  },
  {
   "cell_type": "code",
   "execution_count": 164,
   "metadata": {},
   "outputs": [
    {
     "data": {
      "text/plain": [
       "1032825"
      ]
     },
     "execution_count": 164,
     "metadata": {},
     "output_type": "execute_result"
    }
   ],
   "source": [
    "train_sample.count() # train_sample의 행 개수: 1,032,825"
   ]
  },
  {
   "cell_type": "code",
   "execution_count": 165,
   "metadata": {},
   "outputs": [
    {
     "data": {
      "text/plain": [
       "272177"
      ]
     },
     "execution_count": 165,
     "metadata": {},
     "output_type": "execute_result"
    }
   ],
   "source": [
    "test_sample.count() # test_sample의 행 개수: 272,177"
   ]
  },
  {
   "cell_type": "markdown",
   "metadata": {},
   "source": [
    "이제 `index` 컬럼을 제거하자."
   ]
  },
  {
   "cell_type": "code",
   "execution_count": 166,
   "metadata": {},
   "outputs": [],
   "source": [
    "train_sample = train_sample.drop('index')"
   ]
  },
  {
   "cell_type": "code",
   "execution_count": 167,
   "metadata": {},
   "outputs": [],
   "source": [
    "test_sample = test_sample.drop('index')"
   ]
  },
  {
   "cell_type": "markdown",
   "metadata": {},
   "source": [
    "csv와 파케이 형식으로 파일을 생성하였다."
   ]
  },
  {
   "cell_type": "code",
   "execution_count": 168,
   "metadata": {},
   "outputs": [],
   "source": [
    "# csv 파일로 쓰기: test_sample_df_2\n",
    "test_sample.repartition(1).write.csv(OUTPUT_BUCKET_FOLDER + 'test_sample_df_2.csv', header = True)"
   ]
  },
  {
   "cell_type": "code",
   "execution_count": 169,
   "metadata": {},
   "outputs": [],
   "source": [
    "# csv 파일로 쓰기: train_sample_df_2\n",
    "train_sample.repartition(1).write.csv(OUTPUT_BUCKET_FOLDER + 'train_sample_df_2.csv', header = True)"
   ]
  },
  {
   "cell_type": "code",
   "execution_count": 170,
   "metadata": {},
   "outputs": [],
   "source": [
    "# 파케이로 쓰기: test_sample_df_2\n",
    "test_sample.write.parquet(OUTPUT_BUCKET_FOLDER + 'test_sample_parquet_2', mode='overwrite')"
   ]
  },
  {
   "cell_type": "code",
   "execution_count": 171,
   "metadata": {},
   "outputs": [],
   "source": [
    "# 파케이로 쓰기: train_sample_df_2\n",
    "train_sample.write.parquet(OUTPUT_BUCKET_FOLDER + 'train_sample_parquet_2', mode='overwrite')"
   ]
  },
  {
   "cell_type": "markdown",
   "metadata": {},
   "source": [
    "## Part D: 최종 Train Set 생성"
   ]
  },
  {
   "cell_type": "markdown",
   "metadata": {},
   "source": [
    "분석에 사용할 Train, Test 셋을 만들어보자."
   ]
  },
  {
   "cell_type": "code",
   "execution_count": null,
   "metadata": {},
   "outputs": [],
   "source": [
    "# dp_id_table = train_final.select('display_id').distinct()"
   ]
  },
  {
   "cell_type": "code",
   "execution_count": null,
   "metadata": {},
   "outputs": [],
   "source": [
    "# train/test 셋 구분\n",
    "# dp_train_id_list = dp_id_table.sample(False, 0.7, seed = 0)"
   ]
  },
  {
   "cell_type": "code",
   "execution_count": null,
   "metadata": {},
   "outputs": [],
   "source": [
    "# dp_train_id_list = dp_train_id_list.select('display_id').toPandas()\n",
    "# dp_train_id_list = dp_train_id_list['display_id'].tolist() # display_id를 list로 변환"
   ]
  },
  {
   "cell_type": "code",
   "execution_count": null,
   "metadata": {},
   "outputs": [],
   "source": [
    "# dp_train_id_all = train_final.filter(F.col('display_id').isin(dp_id_list)) # 랜덤 샘플링 해서 뽑힌 display_id 기준으로 train_final을 필터링"
   ]
  },
  {
   "cell_type": "code",
   "execution_count": null,
   "metadata": {},
   "outputs": [],
   "source": [
    "# index 컬럼 없애기\n",
    "# train_final = train_final.drop('index')"
   ]
  },
  {
   "cell_type": "code",
   "execution_count": null,
   "metadata": {},
   "outputs": [],
   "source": [
    "# 파케이로 쓰기: train_final\n",
    "# train_final.write.parquet(OUTPUT_BUCKET_FOLDER + 'train_final_parquet', mode='overwrite')"
   ]
  }
 ],
 "metadata": {
  "kernelspec": {
   "display_name": "Python 2",
   "language": "python",
   "name": "python2"
  },
  "language_info": {
   "codemirror_mode": {
    "name": "ipython",
    "version": 2
   },
   "file_extension": ".py",
   "mimetype": "text/x-python",
   "name": "python",
   "nbconvert_exporter": "python",
   "pygments_lexer": "ipython2",
   "version": "2.7.15"
  }
 },
 "nbformat": 4,
 "nbformat_minor": 2
}
