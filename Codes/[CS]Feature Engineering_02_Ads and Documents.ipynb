{
 "cells": [
  {
   "cell_type": "code",
   "execution_count": 1,
   "metadata": {},
   "outputs": [],
   "source": [
    "import google.datalab.storage as storage\n",
    "import pandas as pd\n",
    "from io import BytesIO\n",
    "from google.datalab import Context\n",
    "import random, string\n",
    "import numpy as np\n",
    "import matplotlib.pyplot as plt"
   ]
  },
  {
   "cell_type": "code",
   "execution_count": 2,
   "metadata": {},
   "outputs": [
    {
     "name": "stdout",
     "output_type": "stream",
     "text": [
      "clicks_test.csv\n",
      "clicks_train.csv\n",
      "documents_categories.csv\n",
      "documents_entities.csv\n",
      "documents_meta.csv\n",
      "documents_topics.csv\n",
      "events.csv\n",
      "page_views_sample.csv\n",
      "promoted_content.csv\n",
      "sample_submission.csv\n"
     ]
    }
   ],
   "source": [
    "shared_bucket = storage.Bucket('line_capstone')\n",
    "for obj in shared_bucket.objects():\n",
    "  if obj.key.find('/') < 0:\n",
    "    print(obj.key) # Bucket 내에 포함된 데이터 셋 확인 "
   ]
  },
  {
   "cell_type": "code",
   "execution_count": 3,
   "metadata": {},
   "outputs": [
    {
     "name": "stderr",
     "output_type": "stream",
     "text": [
      "/usr/local/envs/py3env/lib/python3.5/site-packages/IPython/core/interactiveshell.py:2785: DtypeWarning: Columns (4) have mixed types. Specify dtype option on import or set low_memory=False.\n",
      "  interactivity=interactivity, compiler=compiler, result=result)\n"
     ]
    }
   ],
   "source": [
    "my_bucket = storage.Bucket('line_capstone')\n",
    "\n",
    "docu_meta = my_bucket.object('documents_meta.csv')\n",
    "uri5 = docu_meta.uri\n",
    "%gcs read --object $uri5 --variable c_docu_meta\n",
    "docu_meta = pd.read_csv(BytesIO(c_docu_meta))\n",
    "\n",
    "pro_cont = my_bucket.object('promoted_content.csv')\n",
    "uri9 = pro_cont.uri\n",
    "%gcs read --object $uri9 --variable c_pro_cont\n",
    "promoted = pd.read_csv(BytesIO(c_pro_cont))\n",
    "\n",
    "events = my_bucket.object('events.csv')\n",
    "uri7 = events.uri\n",
    "%gcs read --object $uri7 --variable c_events\n",
    "events = pd.read_csv(BytesIO(c_events))"
   ]
  },
  {
   "cell_type": "code",
   "execution_count": 4,
   "metadata": {},
   "outputs": [],
   "source": [
    "# promoted와 docu_meta를 document_id를 key로 해서 merge\n",
    "merged = pd.merge(events, docu_meta, how='inner', on='document_id')"
   ]
  },
  {
   "cell_type": "code",
   "execution_count": 5,
   "metadata": {},
   "outputs": [
    {
     "data": {
      "text/plain": [
       "document_id           0\n",
       "source_id          2518\n",
       "publisher_id      64024\n",
       "publish_time    1011118\n",
       "dtype: int64"
      ]
     },
     "execution_count": 5,
     "metadata": {},
     "output_type": "execute_result"
    }
   ],
   "source": [
    "# docu_meta에 NaN 값이 이미 많다.\n",
    "pd.isnull(docu_meta).sum()"
   ]
  },
  {
   "cell_type": "code",
   "execution_count": 6,
   "metadata": {},
   "outputs": [
    {
     "data": {
      "text/plain": [
       "display_id        0\n",
       "uuid              0\n",
       "document_id       0\n",
       "timestamp         0\n",
       "platform          0\n",
       "geo_location    340\n",
       "dtype: int64"
      ]
     },
     "execution_count": 6,
     "metadata": {},
     "output_type": "execute_result"
    }
   ],
   "source": [
    "# evenets의 NaN 값.\n",
    "pd.isnull(events).sum()"
   ]
  },
  {
   "cell_type": "code",
   "execution_count": 7,
   "metadata": {},
   "outputs": [
    {
     "data": {
      "text/plain": [
       "display_id            0\n",
       "uuid                  0\n",
       "document_id           0\n",
       "timestamp             0\n",
       "platform              0\n",
       "geo_location        340\n",
       "source_id          1322\n",
       "publisher_id       1323\n",
       "publish_time    3566273\n",
       "dtype: int64"
      ]
     },
     "execution_count": 7,
     "metadata": {},
     "output_type": "execute_result"
    }
   ],
   "source": [
    "# merge했을 때의 NaN 값.\n",
    "pd.isnull(merged).sum()"
   ]
  },
  {
   "cell_type": "code",
   "execution_count": 8,
   "metadata": {},
   "outputs": [],
   "source": [
    "# 필요한 변수들만 할당\n",
    "new_merged = merged.loc[:,['document_id','timestamp','publish_time']]"
   ]
  },
  {
   "cell_type": "code",
   "execution_count": 9,
   "metadata": {},
   "outputs": [],
   "source": [
    "# from datetime import datetime\n",
    "# def convert_odd_timestamp(timestamp_ms_relative):\n",
    "#     TIMESTAMP_DELTA=1465876799998\n",
    "#     return datetime.fromtimestamp((int(timestamp_ms_relative)+TIMESTAMP_DELTA)//1000)"
   ]
  },
  {
   "cell_type": "code",
   "execution_count": 10,
   "metadata": {},
   "outputs": [],
   "source": [
    "# timestamp를 datetime으로 변환시키는 함수 정의\n",
    "import datetime\n",
    "def my_date(raw_date):\n",
    "  added_date = raw_date + 1465876799998 # timestamp에 캐글 공식 설명에 있던 숫자를 더해줌.\n",
    "  revised_date = pd.to_datetime((added_date // 1000), unit='s') # '밀리초'를 '초'로 바꾸고, string이기 때문에 unit='s' 옵션 설정 후 datetime으로 변환.\n",
    "  return revised_date"
   ]
  },
  {
   "cell_type": "code",
   "execution_count": 11,
   "metadata": {},
   "outputs": [],
   "source": [
    "# 위에서 정의한 함수를 사용하여 변환 후 새로운 변수에 할당.\n",
    "new_merged['new_timestamp'] = my_date(new_merged['timestamp'])"
   ]
  },
  {
   "cell_type": "code",
   "execution_count": 12,
   "metadata": {},
   "outputs": [
    {
     "data": {
      "text/plain": [
       "document_id            0\n",
       "timestamp              0\n",
       "publish_time     3566273\n",
       "new_timestamp          0\n",
       "dtype: int64"
      ]
     },
     "execution_count": 12,
     "metadata": {},
     "output_type": "execute_result"
    }
   ],
   "source": [
    "# new_merged.sort_values(new_merged['new_timestamp'], ascending=False)\n",
    "new_merged.isnull().sum()"
   ]
  },
  {
   "cell_type": "code",
   "execution_count": 13,
   "metadata": {},
   "outputs": [],
   "source": [
    "# new_merged['new_publish_time'] = pd.to_datetime(new_merged['publish_time'])"
   ]
  },
  {
   "cell_type": "code",
   "execution_count": 14,
   "metadata": {},
   "outputs": [
    {
     "data": {
      "text/plain": [
       "23120121    2016-06-28 22:00:00\n",
       "23120122    2014-09-29 00:00:00\n",
       "23120123    2016-06-28 23:00:00\n",
       "23120124    2015-09-08 18:00:00\n",
       "23120125    2016-06-28 17:00:00\n",
       "Name: publish_time, dtype: object"
      ]
     },
     "execution_count": 14,
     "metadata": {},
     "output_type": "execute_result"
    }
   ],
   "source": [
    "new_merged['publish_time'].tail()"
   ]
  },
  {
   "cell_type": "code",
   "execution_count": 18,
   "metadata": {},
   "outputs": [],
   "source": [
    "span = pd.period_range('2016-06-14', '2016-06-28', freq='D')"
   ]
  },
  {
   "cell_type": "code",
   "execution_count": 19,
   "metadata": {},
   "outputs": [
    {
     "data": {
      "text/plain": [
       "PeriodIndex(['2016-06-14', '2016-06-15', '2016-06-16', '2016-06-17',\n",
       "             '2016-06-18', '2016-06-19', '2016-06-20', '2016-06-21',\n",
       "             '2016-06-22', '2016-06-23', '2016-06-24', '2016-06-25',\n",
       "             '2016-06-26', '2016-06-27', '2016-06-28'],\n",
       "            dtype='period[D]', freq='D')"
      ]
     },
     "execution_count": 19,
     "metadata": {},
     "output_type": "execute_result"
    }
   ],
   "source": [
    "span"
   ]
  },
  {
   "cell_type": "code",
   "execution_count": null,
   "metadata": {},
   "outputs": [],
   "source": []
  },
  {
   "cell_type": "code",
   "execution_count": 17,
   "metadata": {},
   "outputs": [],
   "source": [
    "# utc=True로 바꿔보고 다시 돌려보기\n",
    "# 14일 04:00부터 시작하는 게 맞음?\n",
    "\n"
   ]
  },
  {
   "cell_type": "code",
   "execution_count": null,
   "metadata": {},
   "outputs": [],
   "source": []
  },
  {
   "cell_type": "code",
   "execution_count": null,
   "metadata": {},
   "outputs": [],
   "source": []
  },
  {
   "cell_type": "code",
   "execution_count": null,
   "metadata": {},
   "outputs": [],
   "source": []
  },
  {
   "cell_type": "code",
   "execution_count": null,
   "metadata": {},
   "outputs": [],
   "source": [
    "# 아래의 코드들은 아직 실행시키지 않음."
   ]
  },
  {
   "cell_type": "code",
   "execution_count": 27,
   "metadata": {},
   "outputs": [
    {
     "data": {
      "text/html": [
       "<div>\n",
       "<style scoped>\n",
       "    .dataframe tbody tr th:only-of-type {\n",
       "        vertical-align: middle;\n",
       "    }\n",
       "\n",
       "    .dataframe tbody tr th {\n",
       "        vertical-align: top;\n",
       "    }\n",
       "\n",
       "    .dataframe thead th {\n",
       "        text-align: right;\n",
       "    }\n",
       "</style>\n",
       "<table border=\"1\" class=\"dataframe\">\n",
       "  <thead>\n",
       "    <tr style=\"text-align: right;\">\n",
       "      <th></th>\n",
       "      <th>document_id</th>\n",
       "      <th>timestamp</th>\n",
       "      <th>publish_time</th>\n",
       "    </tr>\n",
       "  </thead>\n",
       "  <tbody>\n",
       "    <tr>\n",
       "      <th>0</th>\n",
       "      <td>379743</td>\n",
       "      <td>61.0</td>\n",
       "      <td>NaN</td>\n",
       "    </tr>\n",
       "    <tr>\n",
       "      <th>1</th>\n",
       "      <td>379743</td>\n",
       "      <td>74476960.0</td>\n",
       "      <td>NaN</td>\n",
       "    </tr>\n",
       "    <tr>\n",
       "      <th>2</th>\n",
       "      <td>379743</td>\n",
       "      <td>78297892.0</td>\n",
       "      <td>NaN</td>\n",
       "    </tr>\n",
       "    <tr>\n",
       "      <th>3</th>\n",
       "      <td>379743</td>\n",
       "      <td>148985378.0</td>\n",
       "      <td>NaN</td>\n",
       "    </tr>\n",
       "    <tr>\n",
       "      <th>4</th>\n",
       "      <td>379743</td>\n",
       "      <td>177159039.0</td>\n",
       "      <td>NaN</td>\n",
       "    </tr>\n",
       "  </tbody>\n",
       "</table>\n",
       "</div>"
      ],
      "text/plain": [
       "   document_id    timestamp publish_time\n",
       "0       379743         61.0          NaN\n",
       "1       379743   74476960.0          NaN\n",
       "2       379743   78297892.0          NaN\n",
       "3       379743  148985378.0          NaN\n",
       "4       379743  177159039.0          NaN"
      ]
     },
     "execution_count": 27,
     "metadata": {},
     "output_type": "execute_result"
    }
   ],
   "source": [
    "new_merged.head()"
   ]
  },
  {
   "cell_type": "code",
   "execution_count": 20,
   "metadata": {},
   "outputs": [
    {
     "data": {
      "text/plain": [
       "(2870, 4)"
      ]
     },
     "execution_count": 20,
     "metadata": {},
     "output_type": "execute_result"
    }
   ],
   "source": [
    "# publish_time이 이상한 게 있다.\n",
    "# 1412년에 발행된 글들이 2870개나 된다.\n",
    "new_merged[new_merged['publish_time'] == '1412-01-24 00:00:00'].shape"
   ]
  },
  {
   "cell_type": "code",
   "execution_count": 23,
   "metadata": {},
   "outputs": [
    {
     "data": {
      "text/plain": [
       "(3229, 4)"
      ]
     },
     "execution_count": 23,
     "metadata": {},
     "output_type": "execute_result"
    }
   ],
   "source": [
    "# 1970년 1월 1일 이전에 발행된 글들이 3,229개나 된다.\n",
    "new_merged[new_merged['publish_time'] < '1970-01-01 00:00:00'].shape"
   ]
  },
  {
   "cell_type": "code",
   "execution_count": 254,
   "metadata": {},
   "outputs": [],
   "source": [
    "# publish_time에 있는 비정상적인 값들을 수정.\n",
    "# 예를 들어, 1970년 이전 발행글들은 1970년으로 수정하고 2016년 6월 18일 이후는 18일로 수정.\n",
    "# new_merged['new_publish_time'] = new_merged['publish_time'].replace(('1412-01-24 00:00:00'), '1970-01-01 00:00:00')\n",
    "# new_merged['new_publish_time'] = new_merged['new_publish_time'].replace(('0002-11-27 19:00:00'), '1970-01-01 00:00:00')\n",
    "# new_merged['new_publish_time'] = new_merged['new_publish_time'].replace(('0017-06-30 19:00:00'), '1970-01-01 00:00:00')\n",
    "new_merged.ix[new_merged['new_publish_time'] < '1970-01-01 00:00:00'] = '1970-01-01 00:00:00'\n",
    "new_merged['new_publish_time'] = new_merged['new_publish_time'].replace(('3012-05-03 00:00:00'), '2016-06-28 00:00:00')"
   ]
  },
  {
   "cell_type": "code",
   "execution_count": 263,
   "metadata": {},
   "outputs": [],
   "source": [
    "# 데이터 타입 변환(위에서 해결했으니 나중에 지우기)\n",
    "# new_merged['new_timestamp'] = pd.to_datetime(new_merged['new_timestamp'], format='%Y-%m-%d %H:%M:%S', utc=True)\n",
    "new_merged['new_publish_time'] = pd.to_datetime(new_merged['new_publish_time'], format='%Y-%m-%d %H:%M:%S')"
   ]
  }
 ],
 "metadata": {
  "kernelspec": {
   "display_name": "Python 3",
   "language": "python",
   "name": "python3"
  },
  "language_info": {
   "codemirror_mode": {
    "name": "ipython",
    "version": 3
   },
   "file_extension": ".py",
   "mimetype": "text/x-python",
   "name": "python",
   "nbconvert_exporter": "python",
   "pygments_lexer": "ipython3",
   "version": "3.5.5"
  }
 },
 "nbformat": 4,
 "nbformat_minor": 2
}
