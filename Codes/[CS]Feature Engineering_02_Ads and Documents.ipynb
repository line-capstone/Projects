{
 "cells": [
  {
   "cell_type": "markdown",
   "metadata": {},
   "source": [
    "# [Feature Engineering] Ads and Documents\n",
    "## doc_ad_days_since_published\n",
    "## doc_event_days_since_published"
   ]
  },
  {
   "cell_type": "code",
   "execution_count": 1,
   "metadata": {},
   "outputs": [],
   "source": [
    "import google.datalab.storage as storage\n",
    "import pandas as pd\n",
    "from io import BytesIO\n",
    "from google.datalab import Context\n",
    "import random, string\n",
    "import numpy as np\n",
    "import matplotlib.pyplot as plt"
   ]
  },
  {
   "cell_type": "code",
   "execution_count": 2,
   "metadata": {},
   "outputs": [],
   "source": [
    "# hide warning message\n",
    "import warnings\n",
    "warnings.filterwarnings('ignore')"
   ]
  },
  {
   "cell_type": "code",
   "execution_count": 3,
   "metadata": {},
   "outputs": [
    {
     "name": "stdout",
     "output_type": "stream",
     "text": [
      "clicks_test.csv\n",
      "clicks_train.csv\n",
      "documents_categories.csv\n",
      "documents_entities.csv\n",
      "documents_meta.csv\n",
      "documents_topics.csv\n",
      "events.csv\n",
      "page_views_sample.csv\n",
      "promoted_content.csv\n",
      "sample_submission.csv\n"
     ]
    }
   ],
   "source": [
    "shared_bucket = storage.Bucket('line_capstone')\n",
    "for obj in shared_bucket.objects():\n",
    "  if obj.key.find('/') < 0:\n",
    "    print(obj.key) # Bucket 내에 포함된 데이터 셋 확인 "
   ]
  },
  {
   "cell_type": "code",
   "execution_count": 4,
   "metadata": {},
   "outputs": [],
   "source": [
    "my_bucket = storage.Bucket('line_capstone')\n",
    "\n",
    "docu_meta = my_bucket.object('documents_meta.csv')\n",
    "uri5 = docu_meta.uri\n",
    "%gcs read --object $uri5 --variable c_docu_meta\n",
    "docu_meta = pd.read_csv(BytesIO(c_docu_meta))\n",
    "\n",
    "pro_cont = my_bucket.object('promoted_content.csv')\n",
    "uri9 = pro_cont.uri\n",
    "%gcs read --object $uri9 --variable c_pro_cont\n",
    "promoted = pd.read_csv(BytesIO(c_pro_cont))\n",
    "\n",
    "events = my_bucket.object('events.csv')\n",
    "uri7 = events.uri\n",
    "%gcs read --object $uri7 --variable c_events\n",
    "events = pd.read_csv(BytesIO(c_events))"
   ]
  },
  {
   "cell_type": "code",
   "execution_count": 5,
   "metadata": {},
   "outputs": [],
   "source": [
    "# 밀리세컨드인 timestamp의 단위를 day(?)로 변환하는 udf 정의\n",
    "def truncate_day_from_timestamp(ts):\n",
    "    return int(ts / 1000 / 60 / 60 / 24)"
   ]
  },
  {
   "cell_type": "code",
   "execution_count": 6,
   "metadata": {},
   "outputs": [],
   "source": [
    "# timestamp를 시간 형식에 맞게 변환.\n",
    "def convert_odd_timestamp(timestamp_ms_relative):\n",
    "    TIMESTAMP_DELTA=1465876799998\n",
    "    return datetime.datetime.fromtimestamp((int(timestamp_ms_relative)+TIMESTAMP_DELTA)//1000)"
   ]
  },
  {
   "cell_type": "code",
   "execution_count": 8,
   "metadata": {},
   "outputs": [],
   "source": [
    "# 새로운 피쳐 만듦.\n",
    "def get_ad_feature_vector_integral(doc_ad_publish_time, doc_event_publish_time):\n",
    "             \n",
    "    try:\n",
    "\n",
    "        feature_vector = {}\n",
    "\n",
    "        if timestamp_event > -1:\n",
    "            dt_timestamp_event = convert_odd_timestamp(timestamp_event)\n",
    "            if doc_ad_publish_time != None:\n",
    "                delta_days = (dt_timestamp_event - doc_ad_publish_time).days\n",
    "                if delta_days >= 0 and delta_days <= 365*10: #10 years\n",
    "                    feature_vector[feature_vector_labels_integral_dict['doc_ad_days_since_published']] = float(delta_days)\n",
    "                        \n",
    "            if doc_event_publish_time != None:\n",
    "                delta_days = (dt_timestamp_event - doc_event_publish_time).days\n",
    "                if delta_days >= 0 and delta_days <= 365*10: #10 years\n",
    "                    feature_vector[feature_vector_labels_integral_dict['doc_event_days_since_published']] = float(delta_days)\n",
    "        \n",
    "    except Exception as e:\n",
    "        raise Exception(\"[get_ad_feature_vector_integral] ERROR PROCESSING FEATURE VECTOR! Params: {}\" \\\n",
    "                        .format([doc_ad_publish_time, doc_event_publish_time]), e)\n",
    "    \n",
    "    return SparseVector(len(feature_vector_labels_integral_dict), feature_vector)"
   ]
  },
  {
   "cell_type": "code",
   "execution_count": null,
   "metadata": {},
   "outputs": [],
   "source": []
  },
  {
   "cell_type": "code",
   "execution_count": 49,
   "metadata": {},
   "outputs": [],
   "source": [
    "# 새로 정리하면서 시작\n",
    "# promoted_content와 documents_meta를 document_id를 key로 merge\n",
    "merged = pd.merge(promoted, docu_meta, how=\"inner\", on=\"document_id\")"
   ]
  },
  {
   "cell_type": "code",
   "execution_count": 50,
   "metadata": {},
   "outputs": [
    {
     "data": {
      "text/html": [
       "<div>\n",
       "<style scoped>\n",
       "    .dataframe tbody tr th:only-of-type {\n",
       "        vertical-align: middle;\n",
       "    }\n",
       "\n",
       "    .dataframe tbody tr th {\n",
       "        vertical-align: top;\n",
       "    }\n",
       "\n",
       "    .dataframe thead th {\n",
       "        text-align: right;\n",
       "    }\n",
       "</style>\n",
       "<table border=\"1\" class=\"dataframe\">\n",
       "  <thead>\n",
       "    <tr style=\"text-align: right;\">\n",
       "      <th></th>\n",
       "      <th>ad_id</th>\n",
       "      <th>document_id</th>\n",
       "      <th>campaign_id</th>\n",
       "      <th>advertiser_id</th>\n",
       "      <th>source_id</th>\n",
       "      <th>publisher_id</th>\n",
       "      <th>publish_time</th>\n",
       "    </tr>\n",
       "  </thead>\n",
       "  <tbody>\n",
       "    <tr>\n",
       "      <th>0</th>\n",
       "      <td>1</td>\n",
       "      <td>6614</td>\n",
       "      <td>1</td>\n",
       "      <td>7</td>\n",
       "      <td>1483.0</td>\n",
       "      <td>182.0</td>\n",
       "      <td>2010-07-09 09:00:00</td>\n",
       "    </tr>\n",
       "    <tr>\n",
       "      <th>1</th>\n",
       "      <td>2</td>\n",
       "      <td>471467</td>\n",
       "      <td>2</td>\n",
       "      <td>7</td>\n",
       "      <td>1147.0</td>\n",
       "      <td>62.0</td>\n",
       "      <td>2010-06-21 00:00:00</td>\n",
       "    </tr>\n",
       "    <tr>\n",
       "      <th>2</th>\n",
       "      <td>3</td>\n",
       "      <td>7692</td>\n",
       "      <td>3</td>\n",
       "      <td>7</td>\n",
       "      <td>1147.0</td>\n",
       "      <td>62.0</td>\n",
       "      <td>2010-06-21 00:00:00</td>\n",
       "    </tr>\n",
       "    <tr>\n",
       "      <th>3</th>\n",
       "      <td>4</td>\n",
       "      <td>471471</td>\n",
       "      <td>2</td>\n",
       "      <td>7</td>\n",
       "      <td>1147.0</td>\n",
       "      <td>62.0</td>\n",
       "      <td>2010-06-21 00:00:00</td>\n",
       "    </tr>\n",
       "    <tr>\n",
       "      <th>4</th>\n",
       "      <td>5</td>\n",
       "      <td>471472</td>\n",
       "      <td>2</td>\n",
       "      <td>7</td>\n",
       "      <td>1147.0</td>\n",
       "      <td>62.0</td>\n",
       "      <td>2010-06-21 00:00:00</td>\n",
       "    </tr>\n",
       "  </tbody>\n",
       "</table>\n",
       "</div>"
      ],
      "text/plain": [
       "   ad_id  document_id  campaign_id  advertiser_id  source_id  publisher_id  \\\n",
       "0      1         6614            1              7     1483.0         182.0   \n",
       "1      2       471467            2              7     1147.0          62.0   \n",
       "2      3         7692            3              7     1147.0          62.0   \n",
       "3      4       471471            2              7     1147.0          62.0   \n",
       "4      5       471472            2              7     1147.0          62.0   \n",
       "\n",
       "          publish_time  \n",
       "0  2010-07-09 09:00:00  \n",
       "1  2010-06-21 00:00:00  \n",
       "2  2010-06-21 00:00:00  \n",
       "3  2010-06-21 00:00:00  \n",
       "4  2010-06-21 00:00:00  "
      ]
     },
     "execution_count": 50,
     "metadata": {},
     "output_type": "execute_result"
    }
   ],
   "source": [
    "merged.head()"
   ]
  },
  {
   "cell_type": "code",
   "execution_count": 51,
   "metadata": {},
   "outputs": [
    {
     "data": {
      "text/plain": [
       "(559583, 7)"
      ]
     },
     "execution_count": 51,
     "metadata": {},
     "output_type": "execute_result"
    }
   ],
   "source": [
    "merged.shape"
   ]
  },
  {
   "cell_type": "code",
   "execution_count": 52,
   "metadata": {},
   "outputs": [
    {
     "data": {
      "text/plain": [
       "ad_id                 0\n",
       "document_id           0\n",
       "campaign_id           0\n",
       "advertiser_id         0\n",
       "source_id          1529\n",
       "publisher_id     286450\n",
       "publish_time     139715\n",
       "dtype: int64"
      ]
     },
     "execution_count": 52,
     "metadata": {},
     "output_type": "execute_result"
    }
   ],
   "source": [
    "merged.isnull().sum()"
   ]
  },
  {
   "cell_type": "code",
   "execution_count": 53,
   "metadata": {},
   "outputs": [],
   "source": [
    "# 필요한 변수들만 할당.\n",
    "new_merged = merged.loc[:,['ad_id', 'document_id', 'publish_time']]"
   ]
  },
  {
   "cell_type": "code",
   "execution_count": 54,
   "metadata": {},
   "outputs": [
    {
     "data": {
      "text/plain": [
       "ad_id                0\n",
       "document_id          0\n",
       "publish_time    139715\n",
       "dtype: int64"
      ]
     },
     "execution_count": 54,
     "metadata": {},
     "output_type": "execute_result"
    }
   ],
   "source": [
    "new_merged.isnull().sum()"
   ]
  },
  {
   "cell_type": "code",
   "execution_count": null,
   "metadata": {},
   "outputs": [],
   "source": [
    "merged_with_events"
   ]
  },
  {
   "cell_type": "code",
   "execution_count": null,
   "metadata": {},
   "outputs": [],
   "source": []
  },
  {
   "cell_type": "code",
   "execution_count": 62,
   "metadata": {},
   "outputs": [],
   "source": [
    "test = pd.merge(promoted, events, how = \"inner\", on = \"document_id\")"
   ]
  },
  {
   "cell_type": "code",
   "execution_count": 63,
   "metadata": {},
   "outputs": [
    {
     "data": {
      "text/html": [
       "<div>\n",
       "<style scoped>\n",
       "    .dataframe tbody tr th:only-of-type {\n",
       "        vertical-align: middle;\n",
       "    }\n",
       "\n",
       "    .dataframe tbody tr th {\n",
       "        vertical-align: top;\n",
       "    }\n",
       "\n",
       "    .dataframe thead th {\n",
       "        text-align: right;\n",
       "    }\n",
       "</style>\n",
       "<table border=\"1\" class=\"dataframe\">\n",
       "  <thead>\n",
       "    <tr style=\"text-align: right;\">\n",
       "      <th></th>\n",
       "      <th>ad_id</th>\n",
       "      <th>document_id</th>\n",
       "      <th>campaign_id</th>\n",
       "      <th>advertiser_id</th>\n",
       "      <th>display_id</th>\n",
       "      <th>uuid</th>\n",
       "      <th>timestamp</th>\n",
       "      <th>platform</th>\n",
       "      <th>geo_location</th>\n",
       "    </tr>\n",
       "  </thead>\n",
       "  <tbody>\n",
       "    <tr>\n",
       "      <th>0</th>\n",
       "      <td>166</td>\n",
       "      <td>47744</td>\n",
       "      <td>37</td>\n",
       "      <td>63</td>\n",
       "      <td>10367595</td>\n",
       "      <td>c999f220b8e2ce</td>\n",
       "      <td>690844180</td>\n",
       "      <td>1</td>\n",
       "      <td>ID&gt;30</td>\n",
       "    </tr>\n",
       "    <tr>\n",
       "      <th>1</th>\n",
       "      <td>167</td>\n",
       "      <td>47804</td>\n",
       "      <td>37</td>\n",
       "      <td>63</td>\n",
       "      <td>13628745</td>\n",
       "      <td>44948933463235</td>\n",
       "      <td>902973104</td>\n",
       "      <td>1</td>\n",
       "      <td>GH&gt;01</td>\n",
       "    </tr>\n",
       "    <tr>\n",
       "      <th>2</th>\n",
       "      <td>167</td>\n",
       "      <td>47804</td>\n",
       "      <td>37</td>\n",
       "      <td>63</td>\n",
       "      <td>13754124</td>\n",
       "      <td>6dd4b7861b8d1d</td>\n",
       "      <td>909004487</td>\n",
       "      <td>1</td>\n",
       "      <td>KE&gt;05</td>\n",
       "    </tr>\n",
       "    <tr>\n",
       "      <th>3</th>\n",
       "      <td>167</td>\n",
       "      <td>47804</td>\n",
       "      <td>37</td>\n",
       "      <td>63</td>\n",
       "      <td>14098790</td>\n",
       "      <td>465c86da01fc18</td>\n",
       "      <td>926626348</td>\n",
       "      <td>3</td>\n",
       "      <td>BN&gt;00</td>\n",
       "    </tr>\n",
       "    <tr>\n",
       "      <th>4</th>\n",
       "      <td>286</td>\n",
       "      <td>55909</td>\n",
       "      <td>37</td>\n",
       "      <td>63</td>\n",
       "      <td>7371436</td>\n",
       "      <td>a9dbf0f1d88d57</td>\n",
       "      <td>505810797</td>\n",
       "      <td>1</td>\n",
       "      <td>US&gt;WV&gt;559</td>\n",
       "    </tr>\n",
       "  </tbody>\n",
       "</table>\n",
       "</div>"
      ],
      "text/plain": [
       "   ad_id  document_id  campaign_id  advertiser_id  display_id            uuid  \\\n",
       "0    166        47744           37             63    10367595  c999f220b8e2ce   \n",
       "1    167        47804           37             63    13628745  44948933463235   \n",
       "2    167        47804           37             63    13754124  6dd4b7861b8d1d   \n",
       "3    167        47804           37             63    14098790  465c86da01fc18   \n",
       "4    286        55909           37             63     7371436  a9dbf0f1d88d57   \n",
       "\n",
       "   timestamp platform geo_location  \n",
       "0  690844180        1        ID>30  \n",
       "1  902973104        1        GH>01  \n",
       "2  909004487        1        KE>05  \n",
       "3  926626348        3        BN>00  \n",
       "4  505810797        1    US>WV>559  "
      ]
     },
     "execution_count": 63,
     "metadata": {},
     "output_type": "execute_result"
    }
   ],
   "source": [
    "test.head()"
   ]
  },
  {
   "cell_type": "code",
   "execution_count": 64,
   "metadata": {},
   "outputs": [
    {
     "name": "stdout",
     "output_type": "stream",
     "text": [
      "<class 'pandas.core.frame.DataFrame'>\n",
      "Int64Index: 37071794 entries, 0 to 37071793\n",
      "Data columns (total 9 columns):\n",
      "ad_id            int64\n",
      "document_id      int64\n",
      "campaign_id      int64\n",
      "advertiser_id    int64\n",
      "display_id       int64\n",
      "uuid             object\n",
      "timestamp        int64\n",
      "platform         object\n",
      "geo_location     object\n",
      "dtypes: int64(6), object(3)\n",
      "memory usage: 2.8+ GB\n"
     ]
    }
   ],
   "source": [
    "test.info()"
   ]
  },
  {
   "cell_type": "code",
   "execution_count": 65,
   "metadata": {},
   "outputs": [
    {
     "data": {
      "text/plain": [
       "(37071794, 9)"
      ]
     },
     "execution_count": 65,
     "metadata": {},
     "output_type": "execute_result"
    }
   ],
   "source": [
    "test.shape"
   ]
  },
  {
   "cell_type": "code",
   "execution_count": 66,
   "metadata": {},
   "outputs": [
    {
     "data": {
      "text/html": [
       "<div>\n",
       "<style scoped>\n",
       "    .dataframe tbody tr th:only-of-type {\n",
       "        vertical-align: middle;\n",
       "    }\n",
       "\n",
       "    .dataframe tbody tr th {\n",
       "        vertical-align: top;\n",
       "    }\n",
       "\n",
       "    .dataframe thead th {\n",
       "        text-align: right;\n",
       "    }\n",
       "</style>\n",
       "<table border=\"1\" class=\"dataframe\">\n",
       "  <thead>\n",
       "    <tr style=\"text-align: right;\">\n",
       "      <th></th>\n",
       "      <th>ad_id</th>\n",
       "      <th>document_id</th>\n",
       "      <th>campaign_id</th>\n",
       "      <th>advertiser_id</th>\n",
       "    </tr>\n",
       "  </thead>\n",
       "  <tbody>\n",
       "    <tr>\n",
       "      <th>0</th>\n",
       "      <td>1</td>\n",
       "      <td>6614</td>\n",
       "      <td>1</td>\n",
       "      <td>7</td>\n",
       "    </tr>\n",
       "    <tr>\n",
       "      <th>1</th>\n",
       "      <td>2</td>\n",
       "      <td>471467</td>\n",
       "      <td>2</td>\n",
       "      <td>7</td>\n",
       "    </tr>\n",
       "    <tr>\n",
       "      <th>2</th>\n",
       "      <td>3</td>\n",
       "      <td>7692</td>\n",
       "      <td>3</td>\n",
       "      <td>7</td>\n",
       "    </tr>\n",
       "    <tr>\n",
       "      <th>3</th>\n",
       "      <td>4</td>\n",
       "      <td>471471</td>\n",
       "      <td>2</td>\n",
       "      <td>7</td>\n",
       "    </tr>\n",
       "    <tr>\n",
       "      <th>4</th>\n",
       "      <td>5</td>\n",
       "      <td>471472</td>\n",
       "      <td>2</td>\n",
       "      <td>7</td>\n",
       "    </tr>\n",
       "    <tr>\n",
       "      <th>5</th>\n",
       "      <td>6</td>\n",
       "      <td>12736</td>\n",
       "      <td>1</td>\n",
       "      <td>7</td>\n",
       "    </tr>\n",
       "    <tr>\n",
       "      <th>6</th>\n",
       "      <td>7</td>\n",
       "      <td>12808</td>\n",
       "      <td>1</td>\n",
       "      <td>7</td>\n",
       "    </tr>\n",
       "    <tr>\n",
       "      <th>7</th>\n",
       "      <td>8</td>\n",
       "      <td>471477</td>\n",
       "      <td>2</td>\n",
       "      <td>7</td>\n",
       "    </tr>\n",
       "    <tr>\n",
       "      <th>8</th>\n",
       "      <td>9</td>\n",
       "      <td>13379</td>\n",
       "      <td>1</td>\n",
       "      <td>7</td>\n",
       "    </tr>\n",
       "    <tr>\n",
       "      <th>9</th>\n",
       "      <td>10</td>\n",
       "      <td>13885</td>\n",
       "      <td>1</td>\n",
       "      <td>7</td>\n",
       "    </tr>\n",
       "    <tr>\n",
       "      <th>10</th>\n",
       "      <td>11</td>\n",
       "      <td>14230</td>\n",
       "      <td>1</td>\n",
       "      <td>7</td>\n",
       "    </tr>\n",
       "    <tr>\n",
       "      <th>11</th>\n",
       "      <td>12</td>\n",
       "      <td>446701</td>\n",
       "      <td>10</td>\n",
       "      <td>19</td>\n",
       "    </tr>\n",
       "    <tr>\n",
       "      <th>12</th>\n",
       "      <td>13</td>\n",
       "      <td>471499</td>\n",
       "      <td>10</td>\n",
       "      <td>19</td>\n",
       "    </tr>\n",
       "    <tr>\n",
       "      <th>13</th>\n",
       "      <td>14</td>\n",
       "      <td>471500</td>\n",
       "      <td>10</td>\n",
       "      <td>19</td>\n",
       "    </tr>\n",
       "    <tr>\n",
       "      <th>14</th>\n",
       "      <td>15</td>\n",
       "      <td>471501</td>\n",
       "      <td>10</td>\n",
       "      <td>19</td>\n",
       "    </tr>\n",
       "    <tr>\n",
       "      <th>15</th>\n",
       "      <td>16</td>\n",
       "      <td>471514</td>\n",
       "      <td>17</td>\n",
       "      <td>19</td>\n",
       "    </tr>\n",
       "    <tr>\n",
       "      <th>16</th>\n",
       "      <td>17</td>\n",
       "      <td>471517</td>\n",
       "      <td>10</td>\n",
       "      <td>19</td>\n",
       "    </tr>\n",
       "    <tr>\n",
       "      <th>17</th>\n",
       "      <td>18</td>\n",
       "      <td>471518</td>\n",
       "      <td>10</td>\n",
       "      <td>19</td>\n",
       "    </tr>\n",
       "    <tr>\n",
       "      <th>18</th>\n",
       "      <td>19</td>\n",
       "      <td>471519</td>\n",
       "      <td>5</td>\n",
       "      <td>19</td>\n",
       "    </tr>\n",
       "    <tr>\n",
       "      <th>19</th>\n",
       "      <td>20</td>\n",
       "      <td>446660</td>\n",
       "      <td>21</td>\n",
       "      <td>19</td>\n",
       "    </tr>\n",
       "  </tbody>\n",
       "</table>\n",
       "</div>"
      ],
      "text/plain": [
       "    ad_id  document_id  campaign_id  advertiser_id\n",
       "0       1         6614            1              7\n",
       "1       2       471467            2              7\n",
       "2       3         7692            3              7\n",
       "3       4       471471            2              7\n",
       "4       5       471472            2              7\n",
       "5       6        12736            1              7\n",
       "6       7        12808            1              7\n",
       "7       8       471477            2              7\n",
       "8       9        13379            1              7\n",
       "9      10        13885            1              7\n",
       "10     11        14230            1              7\n",
       "11     12       446701           10             19\n",
       "12     13       471499           10             19\n",
       "13     14       471500           10             19\n",
       "14     15       471501           10             19\n",
       "15     16       471514           17             19\n",
       "16     17       471517           10             19\n",
       "17     18       471518           10             19\n",
       "18     19       471519            5             19\n",
       "19     20       446660           21             19"
      ]
     },
     "execution_count": 66,
     "metadata": {},
     "output_type": "execute_result"
    }
   ],
   "source": [
    "promoted.head(20)"
   ]
  },
  {
   "cell_type": "code",
   "execution_count": null,
   "metadata": {},
   "outputs": [],
   "source": []
  },
  {
   "cell_type": "code",
   "execution_count": null,
   "metadata": {},
   "outputs": [],
   "source": []
  },
  {
   "cell_type": "code",
   "execution_count": null,
   "metadata": {},
   "outputs": [],
   "source": []
  },
  {
   "cell_type": "code",
   "execution_count": null,
   "metadata": {},
   "outputs": [],
   "source": []
  },
  {
   "cell_type": "code",
   "execution_count": null,
   "metadata": {},
   "outputs": [],
   "source": []
  },
  {
   "cell_type": "code",
   "execution_count": null,
   "metadata": {},
   "outputs": [],
   "source": []
  },
  {
   "cell_type": "code",
   "execution_count": null,
   "metadata": {},
   "outputs": [],
   "source": []
  },
  {
   "cell_type": "code",
   "execution_count": 6,
   "metadata": {},
   "outputs": [],
   "source": [
    "# promoted와 docu_meta를 document_id를 key로 해서 merge\n",
    "merged = pd.merge(events, docu_meta, how='inner', on='document_id')"
   ]
  },
  {
   "cell_type": "code",
   "execution_count": 7,
   "metadata": {},
   "outputs": [
    {
     "data": {
      "text/plain": [
       "document_id           0\n",
       "source_id          2518\n",
       "publisher_id      64024\n",
       "publish_time    1011118\n",
       "dtype: int64"
      ]
     },
     "execution_count": 7,
     "metadata": {},
     "output_type": "execute_result"
    }
   ],
   "source": [
    "# docu_meta에 NaN 값이 이미 많다.\n",
    "pd.isnull(docu_meta).sum()"
   ]
  },
  {
   "cell_type": "code",
   "execution_count": 8,
   "metadata": {},
   "outputs": [
    {
     "data": {
      "text/plain": [
       "display_id        0\n",
       "uuid              0\n",
       "document_id       0\n",
       "timestamp         0\n",
       "platform          0\n",
       "geo_location    340\n",
       "dtype: int64"
      ]
     },
     "execution_count": 8,
     "metadata": {},
     "output_type": "execute_result"
    }
   ],
   "source": [
    "# events의 NaN 값.\n",
    "pd.isnull(events).sum()"
   ]
  },
  {
   "cell_type": "code",
   "execution_count": 9,
   "metadata": {},
   "outputs": [
    {
     "data": {
      "text/plain": [
       "display_id            0\n",
       "uuid                  0\n",
       "document_id           0\n",
       "timestamp             0\n",
       "platform              0\n",
       "geo_location        340\n",
       "source_id          1322\n",
       "publisher_id       1323\n",
       "publish_time    3566273\n",
       "dtype: int64"
      ]
     },
     "execution_count": 9,
     "metadata": {},
     "output_type": "execute_result"
    }
   ],
   "source": [
    "# merge했을 때의 NaN 값.\n",
    "pd.isnull(merged).sum()"
   ]
  },
  {
   "cell_type": "code",
   "execution_count": 10,
   "metadata": {},
   "outputs": [],
   "source": [
    "# 필요한 변수들만 할당\n",
    "new_merged = merged.loc[:,['document_id','timestamp','publish_time']]"
   ]
  },
  {
   "cell_type": "code",
   "execution_count": 11,
   "metadata": {},
   "outputs": [],
   "source": [
    "# timestamp를 datetime으로 변환시키는 함수 정의\n",
    "import datetime\n",
    "def my_date(raw_date):\n",
    "  added_date = raw_date + 1465876799998 # timestamp에 캐글 공식 설명에 있던 숫자를 더해줌.\n",
    "  revised_date = pd.to_datetime((added_date // 1000), unit='s') # '밀리초'를 '초'로 바꾸고, string이기 때문에 unit='s' 옵션 설정 후 datetime으로 변환.\n",
    "  return revised_date"
   ]
  },
  {
   "cell_type": "code",
   "execution_count": 12,
   "metadata": {},
   "outputs": [],
   "source": [
    "# 위에서 정의한 함수를 사용하여 변환 후 새로운 변수에 할당.\n",
    "new_merged['new_timestamp'] = my_date(new_merged['timestamp'])"
   ]
  },
  {
   "cell_type": "code",
   "execution_count": 13,
   "metadata": {},
   "outputs": [
    {
     "data": {
      "text/plain": [
       "document_id            0\n",
       "timestamp              0\n",
       "publish_time     3566273\n",
       "new_timestamp          0\n",
       "dtype: int64"
      ]
     },
     "execution_count": 13,
     "metadata": {},
     "output_type": "execute_result"
    }
   ],
   "source": [
    "# 변수별 NaN값 개수 확인\n",
    "new_merged.isnull().sum()"
   ]
  },
  {
   "cell_type": "code",
   "execution_count": 14,
   "metadata": {},
   "outputs": [
    {
     "data": {
      "text/plain": [
       "3229"
      ]
     },
     "execution_count": 14,
     "metadata": {},
     "output_type": "execute_result"
    }
   ],
   "source": [
    "# 1970년 1월 1일 이전에 발행된 글은 3,229개이다.\n",
    "len(new_merged['publish_time'][new_merged['publish_time'] < '1970-01-01 00:00:00'])"
   ]
  },
  {
   "cell_type": "code",
   "execution_count": 15,
   "metadata": {},
   "outputs": [],
   "source": [
    "# 1970-01-01 이전에 발행된 글들을 모두 1970-01-01로 변경.\n",
    "new_merged['publish_time'][new_merged['publish_time'] < '1970-01-01 00:00:00'] = '1970-01-01 00:00:00'"
   ]
  },
  {
   "cell_type": "code",
   "execution_count": 16,
   "metadata": {},
   "outputs": [
    {
     "data": {
      "text/plain": [
       "238741"
      ]
     },
     "execution_count": 16,
     "metadata": {},
     "output_type": "execute_result"
    }
   ],
   "source": [
    "# 2016년 6월 28일 이후에 발행된 글들이 23만개나 된다.\n",
    "len(new_merged['publish_time'][new_merged['publish_time'] > '2016-06-29 00:00:00'])"
   ]
  },
  {
   "cell_type": "code",
   "execution_count": 17,
   "metadata": {},
   "outputs": [],
   "source": [
    "# 2016년 6월 28일 이후에 발행된 글들을 모두 2016년 6월 28일로 변경.\n",
    "new_merged['publish_time'][new_merged['publish_time'] > '2016-06-29 00:00:00'] = '2016-06-28 23:59:59'"
   ]
  },
  {
   "cell_type": "code",
   "execution_count": 18,
   "metadata": {},
   "outputs": [],
   "source": [
    "# object였던 publish_time의 dtype을 datetime64[ns]로 변경.\n",
    "new_merged['new_publish_time'] = pd.to_datetime(new_merged['publish_time'], format = '%Y-%m-%d %H:%M:%S')"
   ]
  },
  {
   "cell_type": "code",
   "execution_count": 19,
   "metadata": {},
   "outputs": [
    {
     "data": {
      "text/plain": [
       "document_id               0\n",
       "timestamp                 0\n",
       "publish_time        3566273\n",
       "new_timestamp             0\n",
       "new_publish_time    3566273\n",
       "dtype: int64"
      ]
     },
     "execution_count": 19,
     "metadata": {},
     "output_type": "execute_result"
    }
   ],
   "source": [
    "# 변경 후 각 변수별 NaT 값의 개수\n",
    "new_merged.isnull().sum()"
   ]
  },
  {
   "cell_type": "code",
   "execution_count": 20,
   "metadata": {},
   "outputs": [],
   "source": [
    "# 이벤트가 발생한 시간에서 글의 발행 날짜를 뺀 값을 diff 열에 할당.\n",
    "new_merged['diff'] = new_merged['new_timestamp'] - new_merged['new_publish_time']"
   ]
  },
  {
   "cell_type": "code",
   "execution_count": 21,
   "metadata": {},
   "outputs": [
    {
     "name": "stdout",
     "output_type": "stream",
     "text": [
      "<class 'pandas.core.frame.DataFrame'>\n",
      "Int64Index: 23120126 entries, 0 to 23120125\n",
      "Data columns (total 6 columns):\n",
      "document_id         int64\n",
      "timestamp           int64\n",
      "publish_time        object\n",
      "new_timestamp       datetime64[ns]\n",
      "new_publish_time    datetime64[ns]\n",
      "diff                timedelta64[ns]\n",
      "dtypes: datetime64[ns](2), int64(2), object(1), timedelta64[ns](1)\n",
      "memory usage: 1.8+ GB\n"
     ]
    }
   ],
   "source": [
    "new_merged.info()"
   ]
  },
  {
   "cell_type": "code",
   "execution_count": 22,
   "metadata": {},
   "outputs": [
    {
     "name": "stdout",
     "output_type": "stream",
     "text": [
      "   document_id  timestamp publish_time       new_timestamp new_publish_time  \\\n",
      "0       379743         61          NaN 2016-06-14 04:00:00              NaT   \n",
      "1       379743   74476960          NaN 2016-06-15 00:41:16              NaT   \n",
      "2       379743   78297892          NaN 2016-06-15 01:44:57              NaT   \n",
      "3       379743  148985378          NaN 2016-06-15 21:23:05              NaT   \n",
      "4       379743  177159039          NaN 2016-06-16 05:12:39              NaT   \n",
      "\n",
      "  diff  \n",
      "0  NaT  \n",
      "1  NaT  \n",
      "2  NaT  \n",
      "3  NaT  \n",
      "4  NaT  \n",
      "          document_id   timestamp         publish_time       new_timestamp  \\\n",
      "23120121      2994282  1295990472  2016-06-28 22:00:00 2016-06-29 03:59:50   \n",
      "23120122       897027  1295994117  2014-09-29 00:00:00 2016-06-29 03:59:54   \n",
      "23120123      2997881  1295995517  2016-06-28 23:00:00 2016-06-29 03:59:55   \n",
      "23120124       849598  1295996093  2015-09-08 18:00:00 2016-06-29 03:59:56   \n",
      "23120125      2977263  1295997003  2016-06-28 17:00:00 2016-06-29 03:59:57   \n",
      "\n",
      "            new_publish_time              diff  \n",
      "23120121 2016-06-28 22:00:00   0 days 05:59:50  \n",
      "23120122 2014-09-29 00:00:00 639 days 03:59:54  \n",
      "23120123 2016-06-28 23:00:00   0 days 04:59:55  \n",
      "23120124 2015-09-08 18:00:00 294 days 09:59:56  \n",
      "23120125 2016-06-28 17:00:00   0 days 10:59:57  \n"
     ]
    }
   ],
   "source": [
    "print(new_merged.head())\n",
    "print(new_merged.tail())"
   ]
  },
  {
   "cell_type": "code",
   "execution_count": 31,
   "metadata": {},
   "outputs": [],
   "source": [
    "# diff열의 days만 보여주는 열을 새로 만듦.\n",
    "new_merged['diff_days'] = new_merged['diff'].astype('timedelta64[D]')"
   ]
  },
  {
   "cell_type": "code",
   "execution_count": 37,
   "metadata": {},
   "outputs": [
    {
     "data": {
      "text/plain": [
       "count    1.955385e+07\n",
       "mean     1.364167e+02\n",
       "std      4.870670e+02\n",
       "min     -1.500000e+01\n",
       "25%      0.000000e+00\n",
       "50%      2.000000e+00\n",
       "75%      6.600000e+01\n",
       "max      1.698100e+04\n",
       "Name: diff_days, dtype: float64"
      ]
     },
     "execution_count": 37,
     "metadata": {},
     "output_type": "execute_result"
    }
   ],
   "source": [
    "# 기초통계량을 확인해 보니 글의 발행시간과 이벤트가 발생한 시간의 차이는 평균 1일 정도 차이가 있었다.\n",
    "new_merged['diff_days'].describe()"
   ]
  },
  {
   "cell_type": "code",
   "execution_count": 45,
   "metadata": {},
   "outputs": [
    {
     "data": {
      "text/plain": [
       "array([[<matplotlib.axes._subplots.AxesSubplot object at 0x7f0431be7550>]],\n",
       "      dtype=object)"
      ]
     },
     "execution_count": 45,
     "metadata": {},
     "output_type": "execute_result"
    },
    {
     "data": {
      "image/png": "[encoded data removed]",
      "text/plain": [
       "<matplotlib.figure.Figure at 0x7f0431bd20f0>"
      ]
     },
     "metadata": {},
     "output_type": "display_data"
    }
   ],
   "source": [
    "# 분포를 확인.\n",
    "new_merged.hist(column = 'diff_days')"
   ]
  },
  {
   "cell_type": "code",
   "execution_count": 46,
   "metadata": {},
   "outputs": [],
   "source": [
    "# future work\n",
    "# 1. documents_meta에서 방문페이지와 랜딩페이지를 구분해서 발행시간과 이벤트 발생 시간의 차이를 따로 확인해 보기.\n",
    "# 2. publish_time과 timestamp 모두 to_datetime으로 변환할 때 UTC=True를 적용해보기.\n",
    "#    - 변환된 시간들을 확인해보니 4시간 정도 유의미한 차이가 있는 것을 확인했다.\n",
    "#    - 이전에 적용해봤을 때 차이가 없었던 것으로 기억한다.\n",
    "# 3. 가브리엘 글 참고해서 ads 또는 documents 별 확인.\n",
    "# 4. 가브리엘의 글에서 ad document가 의미하는 바는 아마 랜딩페이지인 것 같다.\n",
    "#    - 따라서 documents_meta에서 랜딩페이지의 정보만 추출해서\n",
    "#    - 위에서 했던 것들을 똑같이 해보면 어떨까?\n",
    "#    - 하지만 '최신 콘텐츠를 선호하는 유저들은 다른 최신 콘텐츠를 선호할 것이다'와 같은 가정들을 검증하려면, page_views 파일과 merge해야 한다.\n",
    "#    - 범위를 벗어나는 시간데이터는 모두 NaN값으로 바꾸기"
   ]
  },
  {
   "cell_type": "markdown",
   "metadata": {},
   "source": [
    "## documents_meta에서 랜딩페이지의 정보만 추출해서 위의 과정을 똑같이 해보기."
   ]
  },
  {
   "cell_type": "code",
   "execution_count": 64,
   "metadata": {},
   "outputs": [],
   "source": [
    "# promoted와 event를 document_id를 key로 해서 merge\n",
    "land_merged = pd.merge(promoted, events, how='inner', on='document_id')"
   ]
  },
  {
   "cell_type": "code",
   "execution_count": 65,
   "metadata": {},
   "outputs": [],
   "source": [
    "# timestamp를 datetime으로 변환시키는 함수 정의\n",
    "import datetime\n",
    "def my_date(raw_date):\n",
    "  added_date = raw_date + 1465876799998 # timestamp에 캐글 공식 설명에 있던 숫자를 더해줌.\n",
    "  revised_date = pd.to_datetime((added_date // 1000), unit='s') # '밀리초'를 '초'로 바꾸고, string이기 때문에 unit='s' 옵션 설정 후 datetime으로 변환.\n",
    "  return revised_date"
   ]
  },
  {
   "cell_type": "code",
   "execution_count": 66,
   "metadata": {},
   "outputs": [],
   "source": [
    "# 위에서 정의한 함수를 사용하여 변환 후 새로운 변수에 할당.\n",
    "new_land_merged = land_merged # 데이터프레임을 새로운 변수에 할당.\n",
    "new_land_merged['new_timestamp'] = my_date(new_land_merged['timestamp'])"
   ]
  },
  {
   "cell_type": "code",
   "execution_count": 75,
   "metadata": {},
   "outputs": [
    {
     "data": {
      "text/plain": [
       "(37071794, 10)"
      ]
     },
     "execution_count": 75,
     "metadata": {},
     "output_type": "execute_result"
    }
   ],
   "source": [
    "new_land_merged.shape"
   ]
  },
  {
   "cell_type": "code",
   "execution_count": 67,
   "metadata": {},
   "outputs": [
    {
     "data": {
      "text/html": [
       "<div>\n",
       "<style scoped>\n",
       "    .dataframe tbody tr th:only-of-type {\n",
       "        vertical-align: middle;\n",
       "    }\n",
       "\n",
       "    .dataframe tbody tr th {\n",
       "        vertical-align: top;\n",
       "    }\n",
       "\n",
       "    .dataframe thead th {\n",
       "        text-align: right;\n",
       "    }\n",
       "</style>\n",
       "<table border=\"1\" class=\"dataframe\">\n",
       "  <thead>\n",
       "    <tr style=\"text-align: right;\">\n",
       "      <th></th>\n",
       "      <th>ad_id</th>\n",
       "      <th>document_id</th>\n",
       "      <th>campaign_id</th>\n",
       "      <th>advertiser_id</th>\n",
       "      <th>display_id</th>\n",
       "      <th>uuid</th>\n",
       "      <th>timestamp</th>\n",
       "      <th>platform</th>\n",
       "      <th>geo_location</th>\n",
       "      <th>new_timestamp</th>\n",
       "    </tr>\n",
       "  </thead>\n",
       "  <tbody>\n",
       "    <tr>\n",
       "      <th>0</th>\n",
       "      <td>166</td>\n",
       "      <td>47744</td>\n",
       "      <td>37</td>\n",
       "      <td>63</td>\n",
       "      <td>10367595</td>\n",
       "      <td>c999f220b8e2ce</td>\n",
       "      <td>690844180</td>\n",
       "      <td>1</td>\n",
       "      <td>ID&gt;30</td>\n",
       "      <td>2016-06-22 03:54:04</td>\n",
       "    </tr>\n",
       "    <tr>\n",
       "      <th>1</th>\n",
       "      <td>167</td>\n",
       "      <td>47804</td>\n",
       "      <td>37</td>\n",
       "      <td>63</td>\n",
       "      <td>13628745</td>\n",
       "      <td>44948933463235</td>\n",
       "      <td>902973104</td>\n",
       "      <td>1</td>\n",
       "      <td>GH&gt;01</td>\n",
       "      <td>2016-06-24 14:49:33</td>\n",
       "    </tr>\n",
       "    <tr>\n",
       "      <th>2</th>\n",
       "      <td>167</td>\n",
       "      <td>47804</td>\n",
       "      <td>37</td>\n",
       "      <td>63</td>\n",
       "      <td>13754124</td>\n",
       "      <td>6dd4b7861b8d1d</td>\n",
       "      <td>909004487</td>\n",
       "      <td>1</td>\n",
       "      <td>KE&gt;05</td>\n",
       "      <td>2016-06-24 16:30:04</td>\n",
       "    </tr>\n",
       "    <tr>\n",
       "      <th>3</th>\n",
       "      <td>167</td>\n",
       "      <td>47804</td>\n",
       "      <td>37</td>\n",
       "      <td>63</td>\n",
       "      <td>14098790</td>\n",
       "      <td>465c86da01fc18</td>\n",
       "      <td>926626348</td>\n",
       "      <td>3</td>\n",
       "      <td>BN&gt;00</td>\n",
       "      <td>2016-06-24 21:23:46</td>\n",
       "    </tr>\n",
       "    <tr>\n",
       "      <th>4</th>\n",
       "      <td>286</td>\n",
       "      <td>55909</td>\n",
       "      <td>37</td>\n",
       "      <td>63</td>\n",
       "      <td>7371436</td>\n",
       "      <td>a9dbf0f1d88d57</td>\n",
       "      <td>505810797</td>\n",
       "      <td>1</td>\n",
       "      <td>US&gt;WV&gt;559</td>\n",
       "      <td>2016-06-20 00:30:10</td>\n",
       "    </tr>\n",
       "  </tbody>\n",
       "</table>\n",
       "</div>"
      ],
      "text/plain": [
       "   ad_id  document_id  campaign_id  advertiser_id  display_id            uuid  \\\n",
       "0    166        47744           37             63    10367595  c999f220b8e2ce   \n",
       "1    167        47804           37             63    13628745  44948933463235   \n",
       "2    167        47804           37             63    13754124  6dd4b7861b8d1d   \n",
       "3    167        47804           37             63    14098790  465c86da01fc18   \n",
       "4    286        55909           37             63     7371436  a9dbf0f1d88d57   \n",
       "\n",
       "   timestamp platform geo_location       new_timestamp  \n",
       "0  690844180        1        ID>30 2016-06-22 03:54:04  \n",
       "1  902973104        1        GH>01 2016-06-24 14:49:33  \n",
       "2  909004487        1        KE>05 2016-06-24 16:30:04  \n",
       "3  926626348        3        BN>00 2016-06-24 21:23:46  \n",
       "4  505810797        1    US>WV>559 2016-06-20 00:30:10  "
      ]
     },
     "execution_count": 67,
     "metadata": {},
     "output_type": "execute_result"
    }
   ],
   "source": [
    "new_land_merged.head()"
   ]
  },
  {
   "cell_type": "code",
   "execution_count": 68,
   "metadata": {},
   "outputs": [
    {
     "data": {
      "text/plain": [
       "ad_id             0\n",
       "document_id       0\n",
       "campaign_id       0\n",
       "advertiser_id     0\n",
       "display_id        0\n",
       "uuid              0\n",
       "timestamp         0\n",
       "platform          0\n",
       "geo_location     31\n",
       "new_timestamp     0\n",
       "dtype: int64"
      ]
     },
     "execution_count": 68,
     "metadata": {},
     "output_type": "execute_result"
    }
   ],
   "source": [
    "# 변수별 NaN값 개수 확인\n",
    "new_land_merged.isnull().sum()"
   ]
  },
  {
   "cell_type": "code",
   "execution_count": 101,
   "metadata": {},
   "outputs": [],
   "source": [
    "# new_land_merged event를 document_id를 key로 해서 merge\n",
    "new_land_merged2 = pd.merge(new_land_merged, docu_meta, how='inner', on='document_id')"
   ]
  },
  {
   "cell_type": "code",
   "execution_count": 102,
   "metadata": {},
   "outputs": [
    {
     "data": {
      "text/html": [
       "<div>\n",
       "<style scoped>\n",
       "    .dataframe tbody tr th:only-of-type {\n",
       "        vertical-align: middle;\n",
       "    }\n",
       "\n",
       "    .dataframe tbody tr th {\n",
       "        vertical-align: top;\n",
       "    }\n",
       "\n",
       "    .dataframe thead th {\n",
       "        text-align: right;\n",
       "    }\n",
       "</style>\n",
       "<table border=\"1\" class=\"dataframe\">\n",
       "  <thead>\n",
       "    <tr style=\"text-align: right;\">\n",
       "      <th></th>\n",
       "      <th>ad_id</th>\n",
       "      <th>document_id</th>\n",
       "      <th>campaign_id</th>\n",
       "      <th>advertiser_id</th>\n",
       "      <th>display_id</th>\n",
       "      <th>uuid</th>\n",
       "      <th>timestamp</th>\n",
       "      <th>platform</th>\n",
       "      <th>geo_location</th>\n",
       "      <th>new_timestamp</th>\n",
       "      <th>source_id</th>\n",
       "      <th>publisher_id</th>\n",
       "      <th>publish_time</th>\n",
       "    </tr>\n",
       "  </thead>\n",
       "  <tbody>\n",
       "    <tr>\n",
       "      <th>0</th>\n",
       "      <td>166</td>\n",
       "      <td>47744</td>\n",
       "      <td>37</td>\n",
       "      <td>63</td>\n",
       "      <td>10367595</td>\n",
       "      <td>c999f220b8e2ce</td>\n",
       "      <td>690844180</td>\n",
       "      <td>1</td>\n",
       "      <td>ID&gt;30</td>\n",
       "      <td>2016-06-22 03:54:04</td>\n",
       "      <td>1907.0</td>\n",
       "      <td>284.0</td>\n",
       "      <td>NaN</td>\n",
       "    </tr>\n",
       "    <tr>\n",
       "      <th>1</th>\n",
       "      <td>167</td>\n",
       "      <td>47804</td>\n",
       "      <td>37</td>\n",
       "      <td>63</td>\n",
       "      <td>13628745</td>\n",
       "      <td>44948933463235</td>\n",
       "      <td>902973104</td>\n",
       "      <td>1</td>\n",
       "      <td>GH&gt;01</td>\n",
       "      <td>2016-06-24 14:49:33</td>\n",
       "      <td>1907.0</td>\n",
       "      <td>284.0</td>\n",
       "      <td>NaN</td>\n",
       "    </tr>\n",
       "    <tr>\n",
       "      <th>2</th>\n",
       "      <td>167</td>\n",
       "      <td>47804</td>\n",
       "      <td>37</td>\n",
       "      <td>63</td>\n",
       "      <td>13754124</td>\n",
       "      <td>6dd4b7861b8d1d</td>\n",
       "      <td>909004487</td>\n",
       "      <td>1</td>\n",
       "      <td>KE&gt;05</td>\n",
       "      <td>2016-06-24 16:30:04</td>\n",
       "      <td>1907.0</td>\n",
       "      <td>284.0</td>\n",
       "      <td>NaN</td>\n",
       "    </tr>\n",
       "    <tr>\n",
       "      <th>3</th>\n",
       "      <td>167</td>\n",
       "      <td>47804</td>\n",
       "      <td>37</td>\n",
       "      <td>63</td>\n",
       "      <td>14098790</td>\n",
       "      <td>465c86da01fc18</td>\n",
       "      <td>926626348</td>\n",
       "      <td>3</td>\n",
       "      <td>BN&gt;00</td>\n",
       "      <td>2016-06-24 21:23:46</td>\n",
       "      <td>1907.0</td>\n",
       "      <td>284.0</td>\n",
       "      <td>NaN</td>\n",
       "    </tr>\n",
       "    <tr>\n",
       "      <th>4</th>\n",
       "      <td>286</td>\n",
       "      <td>55909</td>\n",
       "      <td>37</td>\n",
       "      <td>63</td>\n",
       "      <td>7371436</td>\n",
       "      <td>a9dbf0f1d88d57</td>\n",
       "      <td>505810797</td>\n",
       "      <td>1</td>\n",
       "      <td>US&gt;WV&gt;559</td>\n",
       "      <td>2016-06-20 00:30:10</td>\n",
       "      <td>1907.0</td>\n",
       "      <td>284.0</td>\n",
       "      <td>NaN</td>\n",
       "    </tr>\n",
       "  </tbody>\n",
       "</table>\n",
       "</div>"
      ],
      "text/plain": [
       "   ad_id  document_id  campaign_id  advertiser_id  display_id            uuid  \\\n",
       "0    166        47744           37             63    10367595  c999f220b8e2ce   \n",
       "1    167        47804           37             63    13628745  44948933463235   \n",
       "2    167        47804           37             63    13754124  6dd4b7861b8d1d   \n",
       "3    167        47804           37             63    14098790  465c86da01fc18   \n",
       "4    286        55909           37             63     7371436  a9dbf0f1d88d57   \n",
       "\n",
       "   timestamp platform geo_location       new_timestamp  source_id  \\\n",
       "0  690844180        1        ID>30 2016-06-22 03:54:04     1907.0   \n",
       "1  902973104        1        GH>01 2016-06-24 14:49:33     1907.0   \n",
       "2  909004487        1        KE>05 2016-06-24 16:30:04     1907.0   \n",
       "3  926626348        3        BN>00 2016-06-24 21:23:46     1907.0   \n",
       "4  505810797        1    US>WV>559 2016-06-20 00:30:10     1907.0   \n",
       "\n",
       "   publisher_id publish_time  \n",
       "0         284.0          NaN  \n",
       "1         284.0          NaN  \n",
       "2         284.0          NaN  \n",
       "3         284.0          NaN  \n",
       "4         284.0          NaN  "
      ]
     },
     "execution_count": 102,
     "metadata": {},
     "output_type": "execute_result"
    }
   ],
   "source": [
    "new_land_merged2.head()"
   ]
  },
  {
   "cell_type": "code",
   "execution_count": 103,
   "metadata": {},
   "outputs": [
    {
     "data": {
      "text/plain": [
       "(37071794, 13)"
      ]
     },
     "execution_count": 103,
     "metadata": {},
     "output_type": "execute_result"
    }
   ],
   "source": [
    "new_land_merged2.shape"
   ]
  },
  {
   "cell_type": "code",
   "execution_count": 111,
   "metadata": {},
   "outputs": [
    {
     "name": "stdout",
     "output_type": "stream",
     "text": [
      "<class 'pandas.core.frame.DataFrame'>\n",
      "Int64Index: 37071794 entries, 0 to 37071793\n",
      "Data columns (total 14 columns):\n",
      "ad_id               int64\n",
      "document_id         int64\n",
      "campaign_id         int64\n",
      "advertiser_id       int64\n",
      "display_id          int64\n",
      "uuid                object\n",
      "timestamp           int64\n",
      "platform            object\n",
      "geo_location        object\n",
      "new_timestamp       datetime64[ns]\n",
      "source_id           float64\n",
      "publisher_id        float64\n",
      "publish_time        object\n",
      "new_publish_time    datetime64[ns]\n",
      "dtypes: datetime64[ns](2), float64(2), int64(6), object(4)\n",
      "memory usage: 5.4+ GB\n"
     ]
    }
   ],
   "source": [
    "new_land_merged2.info()"
   ]
  },
  {
   "cell_type": "code",
   "execution_count": 105,
   "metadata": {},
   "outputs": [
    {
     "name": "stdout",
     "output_type": "stream",
     "text": [
      "29234\n",
      "175709\n"
     ]
    }
   ],
   "source": [
    "# 1970년 1월 1일 이전에 발행된 글은 29,234개이다.\n",
    "print(len(new_land_merged2['publish_time'][new_land_merged2['publish_time'] < '1970-01-01 00:00:00']))\n",
    "# 2016년 6월 28일 이후에 발행된 글들이 175,709개나 된다.\n",
    "print(len(new_land_merged2['publish_time'][new_land_merged2['publish_time'] > '2016-06-29 00:00:00']))"
   ]
  },
  {
   "cell_type": "code",
   "execution_count": 106,
   "metadata": {},
   "outputs": [
    {
     "data": {
      "text/plain": [
       "448283"
      ]
     },
     "execution_count": 106,
     "metadata": {},
     "output_type": "execute_result"
    }
   ],
   "source": [
    "# 변환 전 NaN값의 개수: 448,283개\n",
    "new_land_merged2['publish_time'].isnull().sum()"
   ]
  },
  {
   "cell_type": "code",
   "execution_count": 107,
   "metadata": {},
   "outputs": [],
   "source": [
    "# 1970-01-01 이전에 발행된 글들을 모두 NaN으로 변경.\n",
    "new_land_merged2['publish_time'][new_land_merged2['publish_time'] < '1970-01-01 00:00:00'] = None\n",
    "\n",
    "# 2016년 6월 28일 이후에 발행된 글들을 모두 NaN으로 변경.\n",
    "new_land_merged2['publish_time'][new_land_merged2['publish_time'] > '2016-06-29 00:00:00'] = None"
   ]
  },
  {
   "cell_type": "code",
   "execution_count": 108,
   "metadata": {},
   "outputs": [
    {
     "data": {
      "text/plain": [
       "653226"
      ]
     },
     "execution_count": 108,
     "metadata": {},
     "output_type": "execute_result"
    }
   ],
   "source": [
    "# 변환 후 NaN값의 개수: 653,226개\n",
    "new_land_merged2['publish_time'].isnull().sum()"
   ]
  },
  {
   "cell_type": "code",
   "execution_count": 109,
   "metadata": {},
   "outputs": [],
   "source": [
    "# object였던 publish_time의 dtype을 datetime64[ns]로 변경.\n",
    "new_land_merged2['new_publish_time'] = pd.to_datetime(new_land_merged2['publish_time'], format = '%Y-%m-%d %H:%M:%S')"
   ]
  },
  {
   "cell_type": "code",
   "execution_count": 113,
   "metadata": {},
   "outputs": [
    {
     "data": {
      "text/html": [
       "<div>\n",
       "<style scoped>\n",
       "    .dataframe tbody tr th:only-of-type {\n",
       "        vertical-align: middle;\n",
       "    }\n",
       "\n",
       "    .dataframe tbody tr th {\n",
       "        vertical-align: top;\n",
       "    }\n",
       "\n",
       "    .dataframe thead th {\n",
       "        text-align: right;\n",
       "    }\n",
       "</style>\n",
       "<table border=\"1\" class=\"dataframe\">\n",
       "  <thead>\n",
       "    <tr style=\"text-align: right;\">\n",
       "      <th></th>\n",
       "      <th>ad_id</th>\n",
       "      <th>document_id</th>\n",
       "      <th>campaign_id</th>\n",
       "      <th>advertiser_id</th>\n",
       "      <th>display_id</th>\n",
       "      <th>uuid</th>\n",
       "      <th>timestamp</th>\n",
       "      <th>platform</th>\n",
       "      <th>geo_location</th>\n",
       "      <th>new_timestamp</th>\n",
       "      <th>source_id</th>\n",
       "      <th>publisher_id</th>\n",
       "      <th>publish_time</th>\n",
       "      <th>new_publish_time</th>\n",
       "    </tr>\n",
       "  </thead>\n",
       "  <tbody>\n",
       "    <tr>\n",
       "      <th>37071789</th>\n",
       "      <td>571365</td>\n",
       "      <td>1558759</td>\n",
       "      <td>21001</td>\n",
       "      <td>3410</td>\n",
       "      <td>22133428</td>\n",
       "      <td>9e138a006152ec</td>\n",
       "      <td>1249390584</td>\n",
       "      <td>2</td>\n",
       "      <td>US&gt;NJ&gt;501</td>\n",
       "      <td>2016-06-28 15:03:10</td>\n",
       "      <td>2929.0</td>\n",
       "      <td>252.0</td>\n",
       "      <td>2016-06-01 00:00:00</td>\n",
       "      <td>2016-06-01</td>\n",
       "    </tr>\n",
       "    <tr>\n",
       "      <th>37071790</th>\n",
       "      <td>571365</td>\n",
       "      <td>1558759</td>\n",
       "      <td>21001</td>\n",
       "      <td>3410</td>\n",
       "      <td>22982838</td>\n",
       "      <td>d6d8ff79697a31</td>\n",
       "      <td>1288487826</td>\n",
       "      <td>2</td>\n",
       "      <td>US&gt;NJ&gt;504</td>\n",
       "      <td>2016-06-29 01:54:47</td>\n",
       "      <td>2929.0</td>\n",
       "      <td>252.0</td>\n",
       "      <td>2016-06-01 00:00:00</td>\n",
       "      <td>2016-06-01</td>\n",
       "    </tr>\n",
       "    <tr>\n",
       "      <th>37071791</th>\n",
       "      <td>572447</td>\n",
       "      <td>994311</td>\n",
       "      <td>7615</td>\n",
       "      <td>12</td>\n",
       "      <td>7590339</td>\n",
       "      <td>1fad2f94776f3d</td>\n",
       "      <td>519840126</td>\n",
       "      <td>1</td>\n",
       "      <td>GB&gt;P2</td>\n",
       "      <td>2016-06-20 04:24:00</td>\n",
       "      <td>14367.0</td>\n",
       "      <td>1235.0</td>\n",
       "      <td>2016-02-26 00:00:00</td>\n",
       "      <td>2016-02-26</td>\n",
       "    </tr>\n",
       "    <tr>\n",
       "      <th>37071792</th>\n",
       "      <td>572868</td>\n",
       "      <td>1223296</td>\n",
       "      <td>27613</td>\n",
       "      <td>3123</td>\n",
       "      <td>4918549</td>\n",
       "      <td>944d8a9eadba2e</td>\n",
       "      <td>318157789</td>\n",
       "      <td>2</td>\n",
       "      <td>US&gt;CA&gt;807</td>\n",
       "      <td>2016-06-17 20:22:37</td>\n",
       "      <td>529.0</td>\n",
       "      <td>1165.0</td>\n",
       "      <td>2014-03-12 00:00:00</td>\n",
       "      <td>2014-03-12</td>\n",
       "    </tr>\n",
       "    <tr>\n",
       "      <th>37071793</th>\n",
       "      <td>572868</td>\n",
       "      <td>1223296</td>\n",
       "      <td>27613</td>\n",
       "      <td>3123</td>\n",
       "      <td>20654735</td>\n",
       "      <td>983f02d1eb594b</td>\n",
       "      <td>1169637140</td>\n",
       "      <td>1</td>\n",
       "      <td>US&gt;NV&gt;839</td>\n",
       "      <td>2016-06-27 16:53:57</td>\n",
       "      <td>529.0</td>\n",
       "      <td>1165.0</td>\n",
       "      <td>2014-03-12 00:00:00</td>\n",
       "      <td>2014-03-12</td>\n",
       "    </tr>\n",
       "  </tbody>\n",
       "</table>\n",
       "</div>"
      ],
      "text/plain": [
       "           ad_id  document_id  campaign_id  advertiser_id  display_id  \\\n",
       "37071789  571365      1558759        21001           3410    22133428   \n",
       "37071790  571365      1558759        21001           3410    22982838   \n",
       "37071791  572447       994311         7615             12     7590339   \n",
       "37071792  572868      1223296        27613           3123     4918549   \n",
       "37071793  572868      1223296        27613           3123    20654735   \n",
       "\n",
       "                    uuid   timestamp platform geo_location  \\\n",
       "37071789  9e138a006152ec  1249390584        2    US>NJ>501   \n",
       "37071790  d6d8ff79697a31  1288487826        2    US>NJ>504   \n",
       "37071791  1fad2f94776f3d   519840126        1        GB>P2   \n",
       "37071792  944d8a9eadba2e   318157789        2    US>CA>807   \n",
       "37071793  983f02d1eb594b  1169637140        1    US>NV>839   \n",
       "\n",
       "               new_timestamp  source_id  publisher_id         publish_time  \\\n",
       "37071789 2016-06-28 15:03:10     2929.0         252.0  2016-06-01 00:00:00   \n",
       "37071790 2016-06-29 01:54:47     2929.0         252.0  2016-06-01 00:00:00   \n",
       "37071791 2016-06-20 04:24:00    14367.0        1235.0  2016-02-26 00:00:00   \n",
       "37071792 2016-06-17 20:22:37      529.0        1165.0  2014-03-12 00:00:00   \n",
       "37071793 2016-06-27 16:53:57      529.0        1165.0  2014-03-12 00:00:00   \n",
       "\n",
       "         new_publish_time  \n",
       "37071789       2016-06-01  \n",
       "37071790       2016-06-01  \n",
       "37071791       2016-02-26  \n",
       "37071792       2014-03-12  \n",
       "37071793       2014-03-12  "
      ]
     },
     "execution_count": 113,
     "metadata": {},
     "output_type": "execute_result"
    }
   ],
   "source": [
    "new_land_merged2.tail()"
   ]
  },
  {
   "cell_type": "code",
   "execution_count": 114,
   "metadata": {},
   "outputs": [],
   "source": [
    "new_land_merged2['diff'] = new_land_merged2['new_publish_time'] - new_land_merged2['new_timestamp']"
   ]
  },
  {
   "cell_type": "code",
   "execution_count": 116,
   "metadata": {},
   "outputs": [
    {
     "data": {
      "text/html": [
       "<div>\n",
       "<style scoped>\n",
       "    .dataframe tbody tr th:only-of-type {\n",
       "        vertical-align: middle;\n",
       "    }\n",
       "\n",
       "    .dataframe tbody tr th {\n",
       "        vertical-align: top;\n",
       "    }\n",
       "\n",
       "    .dataframe thead th {\n",
       "        text-align: right;\n",
       "    }\n",
       "</style>\n",
       "<table border=\"1\" class=\"dataframe\">\n",
       "  <thead>\n",
       "    <tr style=\"text-align: right;\">\n",
       "      <th></th>\n",
       "      <th>ad_id</th>\n",
       "      <th>document_id</th>\n",
       "      <th>campaign_id</th>\n",
       "      <th>advertiser_id</th>\n",
       "      <th>display_id</th>\n",
       "      <th>uuid</th>\n",
       "      <th>timestamp</th>\n",
       "      <th>platform</th>\n",
       "      <th>geo_location</th>\n",
       "      <th>new_timestamp</th>\n",
       "      <th>source_id</th>\n",
       "      <th>publisher_id</th>\n",
       "      <th>publish_time</th>\n",
       "      <th>new_publish_time</th>\n",
       "      <th>diff</th>\n",
       "    </tr>\n",
       "  </thead>\n",
       "  <tbody>\n",
       "    <tr>\n",
       "      <th>37071789</th>\n",
       "      <td>571365</td>\n",
       "      <td>1558759</td>\n",
       "      <td>21001</td>\n",
       "      <td>3410</td>\n",
       "      <td>22133428</td>\n",
       "      <td>9e138a006152ec</td>\n",
       "      <td>1249390584</td>\n",
       "      <td>2</td>\n",
       "      <td>US&gt;NJ&gt;501</td>\n",
       "      <td>2016-06-28 15:03:10</td>\n",
       "      <td>2929.0</td>\n",
       "      <td>252.0</td>\n",
       "      <td>2016-06-01 00:00:00</td>\n",
       "      <td>2016-06-01</td>\n",
       "      <td>-28 days +08:56:50</td>\n",
       "    </tr>\n",
       "    <tr>\n",
       "      <th>37071790</th>\n",
       "      <td>571365</td>\n",
       "      <td>1558759</td>\n",
       "      <td>21001</td>\n",
       "      <td>3410</td>\n",
       "      <td>22982838</td>\n",
       "      <td>d6d8ff79697a31</td>\n",
       "      <td>1288487826</td>\n",
       "      <td>2</td>\n",
       "      <td>US&gt;NJ&gt;504</td>\n",
       "      <td>2016-06-29 01:54:47</td>\n",
       "      <td>2929.0</td>\n",
       "      <td>252.0</td>\n",
       "      <td>2016-06-01 00:00:00</td>\n",
       "      <td>2016-06-01</td>\n",
       "      <td>-29 days +22:05:13</td>\n",
       "    </tr>\n",
       "    <tr>\n",
       "      <th>37071791</th>\n",
       "      <td>572447</td>\n",
       "      <td>994311</td>\n",
       "      <td>7615</td>\n",
       "      <td>12</td>\n",
       "      <td>7590339</td>\n",
       "      <td>1fad2f94776f3d</td>\n",
       "      <td>519840126</td>\n",
       "      <td>1</td>\n",
       "      <td>GB&gt;P2</td>\n",
       "      <td>2016-06-20 04:24:00</td>\n",
       "      <td>14367.0</td>\n",
       "      <td>1235.0</td>\n",
       "      <td>2016-02-26 00:00:00</td>\n",
       "      <td>2016-02-26</td>\n",
       "      <td>-116 days +19:36:00</td>\n",
       "    </tr>\n",
       "    <tr>\n",
       "      <th>37071792</th>\n",
       "      <td>572868</td>\n",
       "      <td>1223296</td>\n",
       "      <td>27613</td>\n",
       "      <td>3123</td>\n",
       "      <td>4918549</td>\n",
       "      <td>944d8a9eadba2e</td>\n",
       "      <td>318157789</td>\n",
       "      <td>2</td>\n",
       "      <td>US&gt;CA&gt;807</td>\n",
       "      <td>2016-06-17 20:22:37</td>\n",
       "      <td>529.0</td>\n",
       "      <td>1165.0</td>\n",
       "      <td>2014-03-12 00:00:00</td>\n",
       "      <td>2014-03-12</td>\n",
       "      <td>-829 days +03:37:23</td>\n",
       "    </tr>\n",
       "    <tr>\n",
       "      <th>37071793</th>\n",
       "      <td>572868</td>\n",
       "      <td>1223296</td>\n",
       "      <td>27613</td>\n",
       "      <td>3123</td>\n",
       "      <td>20654735</td>\n",
       "      <td>983f02d1eb594b</td>\n",
       "      <td>1169637140</td>\n",
       "      <td>1</td>\n",
       "      <td>US&gt;NV&gt;839</td>\n",
       "      <td>2016-06-27 16:53:57</td>\n",
       "      <td>529.0</td>\n",
       "      <td>1165.0</td>\n",
       "      <td>2014-03-12 00:00:00</td>\n",
       "      <td>2014-03-12</td>\n",
       "      <td>-839 days +07:06:03</td>\n",
       "    </tr>\n",
       "  </tbody>\n",
       "</table>\n",
       "</div>"
      ],
      "text/plain": [
       "           ad_id  document_id  campaign_id  advertiser_id  display_id  \\\n",
       "37071789  571365      1558759        21001           3410    22133428   \n",
       "37071790  571365      1558759        21001           3410    22982838   \n",
       "37071791  572447       994311         7615             12     7590339   \n",
       "37071792  572868      1223296        27613           3123     4918549   \n",
       "37071793  572868      1223296        27613           3123    20654735   \n",
       "\n",
       "                    uuid   timestamp platform geo_location  \\\n",
       "37071789  9e138a006152ec  1249390584        2    US>NJ>501   \n",
       "37071790  d6d8ff79697a31  1288487826        2    US>NJ>504   \n",
       "37071791  1fad2f94776f3d   519840126        1        GB>P2   \n",
       "37071792  944d8a9eadba2e   318157789        2    US>CA>807   \n",
       "37071793  983f02d1eb594b  1169637140        1    US>NV>839   \n",
       "\n",
       "               new_timestamp  source_id  publisher_id         publish_time  \\\n",
       "37071789 2016-06-28 15:03:10     2929.0         252.0  2016-06-01 00:00:00   \n",
       "37071790 2016-06-29 01:54:47     2929.0         252.0  2016-06-01 00:00:00   \n",
       "37071791 2016-06-20 04:24:00    14367.0        1235.0  2016-02-26 00:00:00   \n",
       "37071792 2016-06-17 20:22:37      529.0        1165.0  2014-03-12 00:00:00   \n",
       "37071793 2016-06-27 16:53:57      529.0        1165.0  2014-03-12 00:00:00   \n",
       "\n",
       "         new_publish_time                diff  \n",
       "37071789       2016-06-01  -28 days +08:56:50  \n",
       "37071790       2016-06-01  -29 days +22:05:13  \n",
       "37071791       2016-02-26 -116 days +19:36:00  \n",
       "37071792       2014-03-12 -829 days +03:37:23  \n",
       "37071793       2014-03-12 -839 days +07:06:03  "
      ]
     },
     "execution_count": 116,
     "metadata": {},
     "output_type": "execute_result"
    }
   ],
   "source": [
    "new_land_merged2.tail()"
   ]
  },
  {
   "cell_type": "code",
   "execution_count": null,
   "metadata": {},
   "outputs": [],
   "source": []
  },
  {
   "cell_type": "code",
   "execution_count": null,
   "metadata": {},
   "outputs": [],
   "source": []
  },
  {
   "cell_type": "code",
   "execution_count": null,
   "metadata": {},
   "outputs": [],
   "source": []
  },
  {
   "cell_type": "code",
   "execution_count": null,
   "metadata": {},
   "outputs": [],
   "source": []
  },
  {
   "cell_type": "code",
   "execution_count": null,
   "metadata": {},
   "outputs": [],
   "source": []
  },
  {
   "cell_type": "code",
   "execution_count": null,
   "metadata": {},
   "outputs": [],
   "source": []
  },
  {
   "cell_type": "code",
   "execution_count": null,
   "metadata": {},
   "outputs": [],
   "source": []
  }
 ],
 "metadata": {
  "kernelspec": {
   "display_name": "Python 3",
   "language": "python",
   "name": "python3"
  },
  "language_info": {
   "codemirror_mode": {
    "name": "ipython",
    "version": 3
   },
   "file_extension": ".py",
   "mimetype": "text/x-python",
   "name": "python",
   "nbconvert_exporter": "python",
   "pygments_lexer": "ipython3",
   "version": "3.5.5"
  }
 },
 "nbformat": 4,
 "nbformat_minor": 2
}
