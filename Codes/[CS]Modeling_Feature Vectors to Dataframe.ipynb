{
 "cells": [
  {
   "cell_type": "markdown",
   "metadata": {},
   "source": [
    "## 설정"
   ]
  },
  {
   "cell_type": "code",
   "execution_count": 53,
   "metadata": {},
   "outputs": [],
   "source": [
    "evaluation = True\n",
    "evaluation_verbose = False\n",
    "\n",
    "OUTPUT_BUCKET_FOLDER = \"gs://capstone-02/output/\"\n",
    "DATA_BUCKET_FOLDER = \"gs://capstone-02/data/\""
   ]
  },
  {
   "cell_type": "code",
   "execution_count": 54,
   "metadata": {},
   "outputs": [],
   "source": [
    "from IPython.display import display"
   ]
  },
  {
   "cell_type": "code",
   "execution_count": 55,
   "metadata": {},
   "outputs": [],
   "source": [
    "from pyspark.sql.types import *\n",
    "import pyspark.sql.functions as F\n",
    "from pyspark.ml.linalg import Vectors, SparseVector, VectorUDT"
   ]
  },
  {
   "cell_type": "code",
   "execution_count": 56,
   "metadata": {},
   "outputs": [],
   "source": [
    "import numpy as np\n",
    "import scipy.sparse"
   ]
  },
  {
   "cell_type": "code",
   "execution_count": 57,
   "metadata": {},
   "outputs": [],
   "source": [
    "import math\n",
    "import datetime\n",
    "import time\n",
    "import itertools"
   ]
  },
  {
   "cell_type": "code",
   "execution_count": 58,
   "metadata": {},
   "outputs": [],
   "source": [
    "import pickle"
   ]
  },
  {
   "cell_type": "code",
   "execution_count": 59,
   "metadata": {},
   "outputs": [],
   "source": [
    "import random\n",
    "random.seed(42)"
   ]
  },
  {
   "cell_type": "code",
   "execution_count": 60,
   "metadata": {},
   "outputs": [],
   "source": [
    "import pandas as pd\n",
    "%matplotlib inline"
   ]
  },
  {
   "cell_type": "code",
   "execution_count": 61,
   "metadata": {},
   "outputs": [],
   "source": [
    "start_time = time.time()"
   ]
  },
  {
   "cell_type": "code",
   "execution_count": 62,
   "metadata": {},
   "outputs": [],
   "source": [
    "# 해시 함수를 가진 모듈 hashlib\n",
    "import hashlib\n",
    "def hashstr(s, nr_bins):\n",
    "    return int(hashlib.md5(s.encode('utf8')).hexdigest(), 16)%(nr_bins-1)+1"
   ]
  },
  {
   "cell_type": "markdown",
   "metadata": {},
   "source": [
    "## train_feature_vectors_exported_df"
   ]
  },
  {
   "cell_type": "code",
   "execution_count": 63,
   "metadata": {},
   "outputs": [],
   "source": [
    "train_feature_vectors_exported_df = spark.read.parquet(\"gs://capstone-01/output/train_feature_vectors_integral_eval\")"
   ]
  },
  {
   "cell_type": "code",
   "execution_count": 81,
   "metadata": {},
   "outputs": [
    {
     "name": "stdout",
     "output_type": "stream",
     "text": [
      "+--------------+----------+-----+-----------------+-----------+-----+--------------------+\n",
      "|          uuid|display_id|ad_id|document_id_event|document_id|label|      feature_vector|\n",
      "+--------------+----------+-----+-----------------+-----------+-----+--------------------+\n",
      "|10005a0add15f6|   5686397|61941|          2135921|    1017869|    1|(103,[0,3,4,5,6,7...|\n",
      "+--------------+----------+-----+-----------------+-----------+-----+--------------------+\n",
      "only showing top 1 row\n",
      "\n"
     ]
    }
   ],
   "source": [
    "train_feature_vectors_exported_df.show(1)"
   ]
  },
  {
   "cell_type": "code",
   "execution_count": 82,
   "metadata": {},
   "outputs": [
    {
     "data": {
      "text/plain": [
       "pyspark.sql.dataframe.DataFrame"
      ]
     },
     "execution_count": 82,
     "metadata": {},
     "output_type": "execute_result"
    }
   ],
   "source": [
    "type(train_feature_vectors_exported_df)"
   ]
  },
  {
   "cell_type": "markdown",
   "metadata": {},
   "source": [
    "## Feature Vector"
   ]
  },
  {
   "cell_type": "code",
   "execution_count": 110,
   "metadata": {},
   "outputs": [],
   "source": [
    "bool_feature_names = ['event_weekend',\n",
    "                      'user_has_already_viewed_doc']"
   ]
  },
  {
   "cell_type": "code",
   "execution_count": 111,
   "metadata": {},
   "outputs": [],
   "source": [
    "int_feature_names = ['user_views',\n",
    "                    'ad_views',\n",
    "                    'doc_views',\n",
    "                    'doc_event_days_since_published',\n",
    "                    'doc_event_hour',\n",
    "                    'doc_ad_days_since_published', \n",
    "                    ]"
   ]
  },
  {
   "cell_type": "code",
   "execution_count": 112,
   "metadata": {},
   "outputs": [],
   "source": [
    "float_feature_names = [                                \n",
    "                'pop_ad_id',       \n",
    "                'pop_ad_id_conf',   \n",
    "                'pop_ad_id_conf_multipl', \n",
    "                'pop_document_id',                \n",
    "                'pop_document_id_conf',\n",
    "                'pop_document_id_conf_multipl',\n",
    "                'pop_publisher_id',\n",
    "                'pop_publisher_id_conf',\n",
    "                'pop_publisher_id_conf_multipl',\n",
    "                'pop_advertiser_id',\n",
    "                'pop_advertiser_id_conf',\n",
    "                'pop_advertiser_id_conf_multipl',\n",
    "                'pop_campain_id',\n",
    "                'pop_campain_id_conf',\n",
    "                'pop_campain_id_conf_multipl',\n",
    "                'pop_doc_event_doc_ad',\n",
    "                'pop_doc_event_doc_ad_conf',\n",
    "                'pop_doc_event_doc_ad_conf_multipl',\n",
    "                'pop_source_id',  \n",
    "                'pop_source_id_conf',\n",
    "                'pop_source_id_conf_multipl',\n",
    "                'pop_source_id_country',\n",
    "                'pop_source_id_country_conf',\n",
    "                'pop_source_id_country_conf_multipl',\n",
    "                'pop_entity_id',    \n",
    "                'pop_entity_id_conf',\n",
    "                'pop_entity_id_conf_multipl',\n",
    "                'pop_entity_id_country',\n",
    "                'pop_entity_id_country_conf',\n",
    "                'pop_entity_id_country_conf_multipl',\n",
    "                'pop_topic_id', \n",
    "                'pop_topic_id_conf',\n",
    "                'pop_topic_id_conf_multipl',\n",
    "                'pop_topic_id_country',\n",
    "                'pop_topic_id_country_conf',\n",
    "                'pop_topic_id_country_conf_multipl',\n",
    "                'pop_category_id', \n",
    "                'pop_category_id_conf',\n",
    "                'pop_category_id_conf_multipl',\n",
    "                'pop_category_id_country',\n",
    "                'pop_category_id_country_conf',\n",
    "                'pop_category_id_country_conf_multipl',\n",
    "                'user_doc_ad_sim_categories',    \n",
    "                'user_doc_ad_sim_categories_conf',\n",
    "                'user_doc_ad_sim_categories_conf_multipl',\n",
    "                'user_doc_ad_sim_topics',    \n",
    "                'user_doc_ad_sim_topics_conf',\n",
    "                'user_doc_ad_sim_topics_conf_multipl',\n",
    "                'user_doc_ad_sim_entities',                    \n",
    "                'user_doc_ad_sim_entities_conf',\n",
    "                'user_doc_ad_sim_entities_conf_multipl',\n",
    "                'doc_event_doc_ad_sim_categories',    \n",
    "                'doc_event_doc_ad_sim_categories_conf',\n",
    "                'doc_event_doc_ad_sim_categories_conf_multipl',\n",
    "                'doc_event_doc_ad_sim_topics',    \n",
    "                'doc_event_doc_ad_sim_topics_conf',\n",
    "                'doc_event_doc_ad_sim_topics_conf_multipl',\n",
    "                'doc_event_doc_ad_sim_entities',                    \n",
    "                'doc_event_doc_ad_sim_entities_conf',\n",
    "                'doc_event_doc_ad_sim_entities_conf_multipl'\n",
    "               ]"
   ]
  },
  {
   "cell_type": "code",
   "execution_count": 113,
   "metadata": {},
   "outputs": [],
   "source": [
    "TRAFFIC_SOURCE_FV='traffic_source'\n",
    "EVENT_HOUR_FV='event_hour'\n",
    "EVENT_COUNTRY_FV = 'event_country'\n",
    "EVENT_COUNTRY_STATE_FV = 'event_country_state'\n",
    "EVENT_GEO_LOCATION_FV = 'event_geo_location'\n",
    "EVENT_PLATFORM_FV = 'event_platform'\n",
    "AD_ADVERTISER_FV = 'ad_advertiser'\n",
    "DOC_AD_SOURCE_ID_FV='doc_ad_source_id'\n",
    "DOC_AD_PUBLISHER_ID_FV='doc_ad_publisher_id'\n",
    "DOC_EVENT_SOURCE_ID_FV='doc_event_source_id'\n",
    "DOC_EVENT_PUBLISHER_ID_FV='doc_event_publisher_id'\n",
    "DOC_AD_CATEGORY_ID_FV='doc_ad_category_id'\n",
    "DOC_AD_TOPIC_ID_FV='doc_ad_topic_id'\n",
    "DOC_AD_ENTITY_ID_FV='doc_ad_entity_id'\n",
    "DOC_EVENT_CATEGORY_ID_FV='doc_event_category_id'\n",
    "DOC_EVENT_TOPIC_ID_FV='doc_event_topic_id'\n",
    "DOC_EVENT_ENTITY_ID_FV='doc_event_entity_id'"
   ]
  },
  {
   "cell_type": "code",
   "execution_count": 114,
   "metadata": {},
   "outputs": [],
   "source": [
    "category_feature_names_integral = ['ad_advertiser',\n",
    " 'doc_ad_category_id_1',\n",
    " 'doc_ad_category_id_2',\n",
    " 'doc_ad_category_id_3',\n",
    " 'doc_ad_topic_id_1',\n",
    " 'doc_ad_topic_id_2',\n",
    " 'doc_ad_topic_id_3',\n",
    " 'doc_ad_entity_id_1', \n",
    " 'doc_ad_entity_id_2', \n",
    " 'doc_ad_entity_id_3', \n",
    " 'doc_ad_entity_id_4', \n",
    " 'doc_ad_entity_id_5', \n",
    " 'doc_ad_entity_id_6', \n",
    " 'doc_ad_publisher_id',\n",
    " 'doc_ad_source_id', \n",
    " 'doc_event_category_id_1',\n",
    " 'doc_event_category_id_2',\n",
    " 'doc_event_category_id_3',\n",
    " 'doc_event_topic_id_1',\n",
    " 'doc_event_topic_id_2',\n",
    " 'doc_event_topic_id_3',\n",
    " 'doc_event_entity_id_1',\n",
    " 'doc_event_entity_id_2',\n",
    " 'doc_event_entity_id_3',\n",
    " 'doc_event_entity_id_4',\n",
    " 'doc_event_entity_id_5',\n",
    " 'doc_event_entity_id_6',\n",
    " 'doc_event_publisher_id',\n",
    " 'doc_event_source_id', \n",
    " 'event_country',\n",
    " 'event_country_state',\n",
    " 'event_geo_location',\n",
    " 'event_hour',\n",
    " 'event_platform',\n",
    " 'traffic_source']"
   ]
  },
  {
   "cell_type": "code",
   "execution_count": 115,
   "metadata": {},
   "outputs": [],
   "source": [
    "feature_vector_labels_integral = bool_feature_names + int_feature_names + float_feature_names + \\\n",
    "                                 category_feature_names_integral"
   ]
  },
  {
   "cell_type": "code",
   "execution_count": 116,
   "metadata": {},
   "outputs": [],
   "source": [
    "integral_headers = ['label', 'display_id', 'ad_id', 'doc_id', 'doc_event_id', 'is_leak'] + feature_vector_labels_integral\n",
    "    \n",
    "with open(\"train_feature_vectors_integral_eval.csv\"+\".header\", 'w') as output:\n",
    "    output.writelines('\\n'.join(integral_headers))"
   ]
  },
  {
   "cell_type": "code",
   "execution_count": 117,
   "metadata": {},
   "outputs": [],
   "source": [
    "def sparse_vector_to_csv_with_nulls_row(additional_column_values, vec, num_columns):    \n",
    "    return ','.join([str(value) for value in additional_column_values] + \n",
    "                     list([ '{:.5}'.format(vec[x]) if x in vec.indices else '' for x in range(vec.size) ])[:num_columns]) \\\n",
    "            .replace('.0,',',')"
   ]
  },
  {
   "cell_type": "code",
   "execution_count": 118,
   "metadata": {},
   "outputs": [],
   "source": [
    "train_feature_vectors_integral_csv_rdd = train_feature_vectors_exported_df.select(\n",
    "     'label', 'display_id', 'ad_id', 'document_id', 'document_id_event', 'feature_vector').withColumn('is_leak', F.lit(-1)) \\\n",
    "     .rdd.map(lambda x: sparse_vector_to_csv_with_nulls_row([x['label'], x['display_id'], x['ad_id'], x['document_id'], x['document_id_event'], x['is_leak']], \n",
    "                                                  x['feature_vector'], len(integral_headers)))"
   ]
  },
  {
   "cell_type": "code",
   "execution_count": 119,
   "metadata": {},
   "outputs": [
    {
     "data": {
      "text/plain": [
       "pyspark.rdd.PipelinedRDD"
      ]
     },
     "execution_count": 119,
     "metadata": {},
     "output_type": "execute_result"
    }
   ],
   "source": [
    "type(train_feature_vectors_integral_csv_rdd)"
   ]
  },
  {
   "cell_type": "code",
   "execution_count": 98,
   "metadata": {},
   "outputs": [
    {
     "data": {
      "text/plain": [
       "pyspark.sql.dataframe.DataFrame"
      ]
     },
     "execution_count": 98,
     "metadata": {},
     "output_type": "execute_result"
    }
   ],
   "source": [
    "train_feature_vectors_integral_csv_rdd = train_feature_vectors_integral_csv_rdd.map(lambda x : x.split(\",\"))\n",
    "SparkS = SparkSession.builder.getOrCreate()\n",
    "train_df = SparkS.createDataFrame(train_feature_vectors_integral_csv_rdd, train_schema)\n",
    "type(train_df)"
   ]
  },
  {
   "cell_type": "code",
   "execution_count": 99,
   "metadata": {},
   "outputs": [
    {
     "name": "stdout",
     "output_type": "stream",
     "text": [
      "root\n",
      " |-- label: string (nullable = true)\n",
      " |-- display_id: integer (nullable = true)\n",
      " |-- ad_id: integer (nullable = true)\n",
      " |-- doc_id: integer (nullable = true)\n",
      " |-- doc_event_id: integer (nullable = true)\n",
      " |-- is_leak: integer (nullable = true)\n",
      " |-- event_weekend: integer (nullable = true)\n",
      " |-- user_has_already_viewed_doc: integer (nullable = true)\n",
      " |-- user_views: integer (nullable = true)\n",
      " |-- ad_views: integer (nullable = true)\n",
      " |-- doc_views: integer (nullable = true)\n",
      " |-- doc_event_days_since_published: integer (nullable = true)\n",
      " |-- doc_event_hour: integer (nullable = true)\n",
      " |-- doc_ad_days_since_published: integer (nullable = true)\n",
      " |-- pop_ad_id: float (nullable = true)\n",
      " |-- pop_ad_id_conf: float (nullable = true)\n",
      " |-- pop_ad_id_conf_multipl: float (nullable = true)\n",
      " |-- pop_document_id: float (nullable = true)\n",
      " |-- pop_document_id_conf: float (nullable = true)\n",
      " |-- pop_document_id_conf_multipl: float (nullable = true)\n",
      " |-- pop_publisher_id: float (nullable = true)\n",
      " |-- pop_publisher_id_conf: float (nullable = true)\n",
      " |-- pop_publisher_id_conf_multipl: float (nullable = true)\n",
      " |-- pop_advertiser_id: float (nullable = true)\n",
      " |-- pop_advertiser_id_conf: float (nullable = true)\n",
      " |-- pop_advertiser_id_conf_multipl: float (nullable = true)\n",
      " |-- pop_campain_id: float (nullable = true)\n",
      " |-- pop_campain_id_conf: float (nullable = true)\n",
      " |-- pop_campain_id_conf_multipl: float (nullable = true)\n",
      " |-- pop_doc_event_doc_ad: float (nullable = true)\n",
      " |-- pop_doc_event_doc_ad_conf: float (nullable = true)\n",
      " |-- pop_doc_event_doc_ad_conf_multipl: float (nullable = true)\n",
      " |-- pop_source_id: float (nullable = true)\n",
      " |-- pop_source_id_conf: float (nullable = true)\n",
      " |-- pop_source_id_conf_multipl: float (nullable = true)\n",
      " |-- pop_source_id_country: float (nullable = true)\n",
      " |-- pop_source_id_country_conf: float (nullable = true)\n",
      " |-- pop_source_id_country_conf_multipl: float (nullable = true)\n",
      " |-- pop_entity_id: float (nullable = true)\n",
      " |-- pop_entity_id_conf: float (nullable = true)\n",
      " |-- pop_entity_id_conf_multipl: float (nullable = true)\n",
      " |-- pop_entity_id_country: float (nullable = true)\n",
      " |-- pop_entity_id_country_conf: float (nullable = true)\n",
      " |-- pop_entity_id_country_conf_multipl: float (nullable = true)\n",
      " |-- pop_topic_id: float (nullable = true)\n",
      " |-- pop_topic_id_conf: float (nullable = true)\n",
      " |-- pop_topic_id_conf_multipl: float (nullable = true)\n",
      " |-- pop_topic_id_country: float (nullable = true)\n",
      " |-- pop_topic_id_country_conf: float (nullable = true)\n",
      " |-- pop_topic_id_country_conf_multipl: float (nullable = true)\n",
      " |-- pop_category_id: float (nullable = true)\n",
      " |-- pop_category_id_conf: float (nullable = true)\n",
      " |-- pop_category_id_conf_multipl: float (nullable = true)\n",
      " |-- pop_category_id_country: float (nullable = true)\n",
      " |-- pop_category_id_country_conf: float (nullable = true)\n",
      " |-- pop_category_id_country_conf_multipl: float (nullable = true)\n",
      " |-- user_doc_ad_sim_categories: float (nullable = true)\n",
      " |-- user_doc_ad_sim_categories_conf: float (nullable = true)\n",
      " |-- user_doc_ad_sim_categories_conf_multipl: float (nullable = true)\n",
      " |-- user_doc_ad_sim_topics: float (nullable = true)\n",
      " |-- user_doc_ad_sim_topics_conf: float (nullable = true)\n",
      " |-- user_doc_ad_sim_topics_conf_multipl: float (nullable = true)\n",
      " |-- user_doc_ad_sim_entities: float (nullable = true)\n",
      " |-- user_doc_ad_sim_entities_conf: float (nullable = true)\n",
      " |-- user_doc_ad_sim_entities_conf_multipl: float (nullable = true)\n",
      " |-- doc_event_doc_ad_sim_categories: float (nullable = true)\n",
      " |-- doc_event_doc_ad_sim_categories_conf: float (nullable = true)\n",
      " |-- doc_event_doc_ad_sim_categories_conf_multipl: float (nullable = true)\n",
      " |-- doc_event_doc_ad_sim_topics: float (nullable = true)\n",
      " |-- doc_event_doc_ad_sim_topics_conf: float (nullable = true)\n",
      " |-- doc_event_doc_ad_sim_topics_conf_multipl: float (nullable = true)\n",
      " |-- doc_event_doc_ad_sim_entities: float (nullable = true)\n",
      " |-- doc_event_doc_ad_sim_entities_conf: float (nullable = true)\n",
      " |-- doc_event_doc_ad_sim_entities_conf_multipl: float (nullable = true)\n",
      " |-- ad_advertiser: integer (nullable = true)\n",
      " |-- doc_ad_category_id_1: integer (nullable = true)\n",
      " |-- doc_ad_category_id_2: integer (nullable = true)\n",
      " |-- doc_ad_category_id_3: integer (nullable = true)\n",
      " |-- doc_ad_topic_id_1: integer (nullable = true)\n",
      " |-- doc_ad_topic_id_2: integer (nullable = true)\n",
      " |-- doc_ad_topic_id_3: integer (nullable = true)\n",
      " |-- doc_ad_entity_id_1: integer (nullable = true)\n",
      " |-- doc_ad_entity_id_2: integer (nullable = true)\n",
      " |-- doc_ad_entity_id_3: integer (nullable = true)\n",
      " |-- doc_ad_entity_id_4: integer (nullable = true)\n",
      " |-- doc_ad_entity_id_5: integer (nullable = true)\n",
      " |-- doc_ad_entity_id_6: integer (nullable = true)\n",
      " |-- doc_ad_publisher_id: integer (nullable = true)\n",
      " |-- doc_ad_source_id: integer (nullable = true)\n",
      " |-- doc_event_category_id_1: integer (nullable = true)\n",
      " |-- doc_event_category_id_2: integer (nullable = true)\n",
      " |-- doc_event_category_id_3: integer (nullable = true)\n",
      " |-- doc_event_topic_id_1: integer (nullable = true)\n",
      " |-- doc_event_topic_id_2: integer (nullable = true)\n",
      " |-- doc_event_topic_id_3: integer (nullable = true)\n",
      " |-- doc_event_entity_id_1: integer (nullable = true)\n",
      " |-- doc_event_entity_id_2: integer (nullable = true)\n",
      " |-- doc_event_entity_id_3: integer (nullable = true)\n",
      " |-- doc_event_entity_id_4: integer (nullable = true)\n",
      " |-- doc_event_entity_id_5: integer (nullable = true)\n",
      " |-- doc_event_entity_id_6: integer (nullable = true)\n",
      " |-- doc_event_publisher_id: integer (nullable = true)\n",
      " |-- doc_event_source_id: integer (nullable = true)\n",
      " |-- event_country: integer (nullable = true)\n",
      " |-- event_country_state: integer (nullable = true)\n",
      " |-- event_geo_location: integer (nullable = true)\n",
      " |-- event_hour: integer (nullable = true)\n",
      " |-- event_platform: integer (nullable = true)\n",
      " |-- traffic_source: integer (nullable = true)\n",
      "\n"
     ]
    }
   ],
   "source": [
    "train_df.printSchema()"
   ]
  },
  {
   "cell_type": "code",
   "execution_count": 88,
   "metadata": {},
   "outputs": [],
   "source": [
    "# Create String Indexer for workclass and salary\n",
    "\n",
    "from pyspark.ml.feature import StringIndexer,VectorAssembler,OneHotEncoder\n",
    "from pyspark.ml import Pipeline"
   ]
  },
  {
   "cell_type": "code",
   "execution_count": 100,
   "metadata": {},
   "outputs": [],
   "source": [
    "from pyspark.ml.feature import StringIndexer,VectorAssembler,OneHotEncoder\n",
    "from pyspark.ml import Pipeline\n",
    "\n",
    "salaryIndexer = StringIndexer().setInputCol(\"label\").setOutputCol(\"label2\")\n",
    "vectorAssembler = VectorAssembler().setInputCols(['event_weekend',\n",
    "                      'user_has_already_viewed_doc',\n",
    "                                                  'user_views',\n",
    "                    'ad_views',\n",
    "                    'doc_views',\n",
    "                    'doc_event_days_since_published',\n",
    "                    'doc_event_hour',\n",
    "                    'doc_ad_days_since_published',\n",
    "                                                  'pop_ad_id',       \n",
    "                'pop_ad_id_conf',   \n",
    "                'pop_ad_id_conf_multipl', \n",
    "                'pop_document_id',                \n",
    "                'pop_document_id_conf',\n",
    "                'pop_document_id_conf_multipl',\n",
    "                'pop_publisher_id',\n",
    "                'pop_publisher_id_conf',\n",
    "                'pop_publisher_id_conf_multipl',\n",
    "                'pop_advertiser_id',\n",
    "                'pop_advertiser_id_conf',\n",
    "                'pop_advertiser_id_conf_multipl',\n",
    "                'pop_campain_id',\n",
    "                'pop_campain_id_conf',\n",
    "                'pop_campain_id_conf_multipl',\n",
    "                'pop_doc_event_doc_ad',\n",
    "                'pop_doc_event_doc_ad_conf',\n",
    "                'pop_doc_event_doc_ad_conf_multipl',\n",
    "                'pop_source_id',  \n",
    "                'pop_source_id_conf',\n",
    "                'pop_source_id_conf_multipl',\n",
    "                'pop_source_id_country',\n",
    "                'pop_source_id_country_conf',\n",
    "                'pop_source_id_country_conf_multipl',\n",
    "                'pop_entity_id',    \n",
    "                'pop_entity_id_conf',\n",
    "                'pop_entity_id_conf_multipl',\n",
    "                'pop_entity_id_country',\n",
    "                'pop_entity_id_country_conf',\n",
    "                'pop_entity_id_country_conf_multipl',\n",
    "                'pop_topic_id', \n",
    "                'pop_topic_id_conf',\n",
    "                'pop_topic_id_conf_multipl',\n",
    "                'pop_topic_id_country',\n",
    "                'pop_topic_id_country_conf',\n",
    "                'pop_topic_id_country_conf_multipl',\n",
    "                'pop_category_id', \n",
    "                'pop_category_id_conf',\n",
    "                'pop_category_id_conf_multipl',\n",
    "                'pop_category_id_country',\n",
    "                'pop_category_id_country_conf',\n",
    "                'pop_category_id_country_conf_multipl',\n",
    "                'user_doc_ad_sim_categories',    \n",
    "                'user_doc_ad_sim_categories_conf',\n",
    "                'user_doc_ad_sim_categories_conf_multipl',\n",
    "                'user_doc_ad_sim_topics',    \n",
    "                'user_doc_ad_sim_topics_conf',\n",
    "                'user_doc_ad_sim_topics_conf_multipl',\n",
    "                'user_doc_ad_sim_entities',                    \n",
    "                'user_doc_ad_sim_entities_conf',\n",
    "                'user_doc_ad_sim_entities_conf_multipl',\n",
    "                'doc_event_doc_ad_sim_categories',    \n",
    "                'doc_event_doc_ad_sim_categories_conf',\n",
    "                'doc_event_doc_ad_sim_categories_conf_multipl',\n",
    "                'doc_event_doc_ad_sim_topics',    \n",
    "                'doc_event_doc_ad_sim_topics_conf',\n",
    "                'doc_event_doc_ad_sim_topics_conf_multipl',\n",
    "                'doc_event_doc_ad_sim_entities',                    \n",
    "                'doc_event_doc_ad_sim_entities_conf',\n",
    "                'doc_event_doc_ad_sim_entities_conf_multipl'\n",
    "                                                 ]).setOutputCol(\"features\")"
   ]
  },
  {
   "cell_type": "code",
   "execution_count": 106,
   "metadata": {},
   "outputs": [],
   "source": [
    "from pyspark.sql import SparkSession\n",
    "import pandas as pd\n",
    "import numpy as np\n",
    "\n",
    "sparkSession = SparkSession.builder \\\n",
    "       .master(\"local\") \\\n",
    "       .appName(\"Spark ML\") \\\n",
    "       .getOrCreate()\n",
    "\n",
    "sparkDf = sparkSession.read.format(\"parquet\").load(\"gs://capstone-01/output/train_feature_vectors_integral_eval\")"
   ]
  },
  {
   "cell_type": "code",
   "execution_count": 107,
   "metadata": {},
   "outputs": [
    {
     "data": {
      "text/plain": [
       "pyspark.sql.dataframe.DataFrame"
      ]
     },
     "execution_count": 107,
     "metadata": {},
     "output_type": "execute_result"
    }
   ],
   "source": [
    "type(sparkDf)"
   ]
  },
  {
   "cell_type": "code",
   "execution_count": 108,
   "metadata": {},
   "outputs": [
    {
     "data": {
      "text/plain": [
       "[Row(uuid=u'10005a0add15f6', display_id=5686397, ad_id=61941, document_id_event=2135921, document_id=1017869, label=1, feature_vector=SparseVector(103, {0: 1.0, 3: 11370.0, 4: 15083.0, 5: 0.0, 6: 3.0, 7: 173.0, 8: 0.4069, 9: 0.5623, 10: 0.2288, 11: 0.3902, 12: 0.5131, 13: 0.2002, 14: 0.2691, 15: 0.3531, 16: 0.095, 17: 0.3902, 18: 0.5131, 19: 0.2002, 20: 0.3902, 21: 0.5131, 22: 0.2002, 26: 0.3902, 27: 0.5131, 28: 0.2002, 29: 0.3902, 30: 0.5131, 31: 0.2002, 32: 0.3826, 33: 0.2833, 34: 0.1084, 35: 0.3962, 36: 0.2833, 37: 0.1122, 38: 0.2738, 39: 0.0012, 40: 0.0003, 41: 0.2801, 42: 0.0012, 43: 0.0003, 44: 0.2298, 45: 0.0622, 46: 0.0143, 47: 0.2336, 48: 0.0595, 49: 0.0139, 59: 0.0, 60: 0.0004, 61: 0.0, 62: 0.0, 63: 0.0, 64: 0.0, 68: 2413.0, 69: 1403.0, 70: 1610.0, 72: 108.0, 75: 194.0, 76: 15.0, 81: 440.0, 82: 4016.0, 83: 1702.0, 84: 1707.0, 86: 137.0, 95: 723.0, 96: 4194.0, 97: 18595452.0, 98: 745661.0, 99: 33260.0, 100: 3.0, 101: 2.0, 102: 1.0}))]"
      ]
     },
     "execution_count": 108,
     "metadata": {},
     "output_type": "execute_result"
    }
   ],
   "source": [
    "# spark dataframe 로드\n",
    "sparkDf.head(1)"
   ]
  },
  {
   "cell_type": "code",
   "execution_count": 109,
   "metadata": {},
   "outputs": [
    {
     "name": "stdout",
     "output_type": "stream",
     "text": [
      "+--------------+----------+-----+-----------------+-----------+-----+--------------------+\n",
      "|          uuid|display_id|ad_id|document_id_event|document_id|label|      feature_vector|\n",
      "+--------------+----------+-----+-----------------+-----------+-----+--------------------+\n",
      "|10005a0add15f6|   5686397|61941|          2135921|    1017869|    1|(103,[0,3,4,5,6,7...|\n",
      "+--------------+----------+-----+-----------------+-----------+-----+--------------------+\n",
      "only showing top 1 row\n",
      "\n"
     ]
    }
   ],
   "source": [
    "sparkDf.show(1)"
   ]
  }
 ],
 "metadata": {
  "kernelspec": {
   "display_name": "PyTorch",
   "language": "python",
   "name": "pytorch"
  },
  "language_info": {
   "codemirror_mode": {
    "name": "ipython",
    "version": 3
   },
   "file_extension": ".py",
   "mimetype": "text/x-python",
   "name": "python",
   "nbconvert_exporter": "python",
   "pygments_lexer": "ipython3",
   "version": "3.6.6"
  }
 },
 "nbformat": 4,
 "nbformat_minor": 2
}
