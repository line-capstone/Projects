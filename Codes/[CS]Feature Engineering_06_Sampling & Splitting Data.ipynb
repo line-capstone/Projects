{
 "cells": [
  {
   "cell_type": "markdown",
   "metadata": {},
   "source": [
    "## Sampling & Splitting Data"
   ]
  },
  {
   "cell_type": "markdown",
   "metadata": {},
   "source": [
    "## Part A: 분석을 위한 환경 설정"
   ]
  },
  {
   "cell_type": "markdown",
   "metadata": {},
   "source": [
    "### 모듈/패키지 로드"
   ]
  },
  {
   "cell_type": "code",
   "execution_count": 1,
   "metadata": {},
   "outputs": [],
   "source": [
    "evaluation = True\n",
    "evaluation_verbose = False\n",
    "\n",
    "OUTPUT_BUCKET_FOLDER = \"gs://cap-18/output/\"\n",
    "DATA_BUCKET_FOLDER = \"gs://cap-18/data/\""
   ]
  },
  {
   "cell_type": "code",
   "execution_count": 2,
   "metadata": {},
   "outputs": [],
   "source": [
    "from IPython.display import display"
   ]
  },
  {
   "cell_type": "code",
   "execution_count": 3,
   "metadata": {},
   "outputs": [],
   "source": [
    "from pyspark.sql.types import *\n",
    "import pyspark.sql.functions as F\n",
    "from pyspark.ml.linalg import Vectors, SparseVector, VectorUDT"
   ]
  },
  {
   "cell_type": "code",
   "execution_count": 4,
   "metadata": {},
   "outputs": [],
   "source": [
    "from IPython.core.interactiveshell import InteractiveShell \n",
    "InteractiveShell.ast_node_interactivity = \"all\" # 한 셀(cell)에서의 코드 실행 결과가 다 보이도록 설정"
   ]
  },
  {
   "cell_type": "code",
   "execution_count": 5,
   "metadata": {},
   "outputs": [],
   "source": [
    "import numpy as np\n",
    "import scipy.sparse"
   ]
  },
  {
   "cell_type": "code",
   "execution_count": 6,
   "metadata": {},
   "outputs": [],
   "source": [
    "import warnings \n",
    "warnings.filterwarnings('ignore') # warning 메시지 반환되지 않도록 설정"
   ]
  },
  {
   "cell_type": "code",
   "execution_count": 7,
   "metadata": {},
   "outputs": [],
   "source": [
    "import math\n",
    "import datetime\n",
    "import time\n",
    "import itertools"
   ]
  },
  {
   "cell_type": "code",
   "execution_count": 8,
   "metadata": {},
   "outputs": [],
   "source": [
    "import pickle"
   ]
  },
  {
   "cell_type": "code",
   "execution_count": 9,
   "metadata": {},
   "outputs": [],
   "source": [
    "import random\n",
    "random.seed(42)"
   ]
  },
  {
   "cell_type": "code",
   "execution_count": 10,
   "metadata": {},
   "outputs": [],
   "source": [
    "import pandas as pd\n",
    "%matplotlib inline"
   ]
  },
  {
   "cell_type": "markdown",
   "metadata": {},
   "source": [
    "## Part B: 변수별 결측치 확인"
   ]
  },
  {
   "cell_type": "code",
   "execution_count": 11,
   "metadata": {},
   "outputs": [],
   "source": [
    "# 테이블 로드\n",
    "train_valid_merged_df = spark.read.parquet(\"gs://cap-18/output/train_subset_final\")"
   ]
  },
  {
   "cell_type": "code",
   "execution_count": 12,
   "metadata": {},
   "outputs": [],
   "source": [
    "## cf) 판다스 데이터 프레임 구조 깨지지 않게 보기:\n",
    "pd.set_option('display.max_columns', 100)"
   ]
  },
  {
   "cell_type": "code",
   "execution_count": 13,
   "metadata": {},
   "outputs": [],
   "source": [
    "documents_categories_schema = StructType(\n",
    "                    [StructField(\"document_id_cat\", IntegerType(), True),\n",
    "                    StructField(\"category_id\", IntegerType(), True),                    \n",
    "                    StructField(\"confidence_level_cat\", FloatType(), True)]\n",
    "                    )\n",
    "\n",
    "documents_categories_df = spark.read.schema(documents_categories_schema).options(header='true', inferschema='false', nullValue='\\\\N') \\\n",
    "                .csv(DATA_BUCKET_FOLDER+\"documents_categories.csv\") \\\n",
    "                .alias('documents_categories').cache()\n",
    "    \n",
    "documents_categories_grouped_df = documents_categories_df.groupBy('document_id_cat') \\\n",
    "                                            .agg(F.collect_list('category_id').alias('category_id_list'),\n",
    "                                                 F.collect_list('confidence_level_cat').alias('confidence_level_cat_list')) \\\n",
    "                                            .withColumn('dummyDocumentsCategory', F.lit(1)) \\\n",
    "                                            .alias('documents_categories_grouped')"
   ]
  },
  {
   "cell_type": "code",
   "execution_count": 14,
   "metadata": {},
   "outputs": [],
   "source": [
    "documents_topics_schema = StructType(\n",
    "                    [StructField(\"document_id_top\", IntegerType(), True),\n",
    "                    StructField(\"topic_id\", IntegerType(), True),                    \n",
    "                    StructField(\"confidence_level_top\", FloatType(), True)]\n",
    "                    )\n",
    "\n",
    "documents_topics_df = spark.read.schema(documents_topics_schema).options(header='true', inferschema='false', nullValue='\\\\N') \\\n",
    "                .csv(DATA_BUCKET_FOLDER+\"documents_topics.csv\")  \\\n",
    "                .alias('documents_topics').cache()\n",
    "    \n",
    "documents_topics_grouped_df = documents_topics_df.groupBy('document_id_top') \\\n",
    "                                            .agg(F.collect_list('topic_id').alias('topic_id_list'),\n",
    "                                                 F.collect_list('confidence_level_top').alias('confidence_level_top_list')) \\\n",
    "                                            .withColumn('dummyDocumentsTopics', F.lit(1)) \\\n",
    "                                            .alias('documents_topics_grouped')"
   ]
  },
  {
   "cell_type": "markdown",
   "metadata": {},
   "source": [
    "다음의 코드로 변수별 결측치를 한번에 확인할 수 있다."
   ]
  },
  {
   "cell_type": "code",
   "execution_count": 18,
   "metadata": {},
   "outputs": [],
   "source": [
    "## cf) 판다스 100행까지 보기:\n",
    "pd.set_option('display.max_rows', 100)"
   ]
  },
  {
   "cell_type": "code",
   "execution_count": 19,
   "metadata": {},
   "outputs": [
    {
     "data": {
      "text/html": [
       "<div>\n",
       "<style scoped>\n",
       "    .dataframe tbody tr th:only-of-type {\n",
       "        vertical-align: middle;\n",
       "    }\n",
       "\n",
       "    .dataframe tbody tr th {\n",
       "        vertical-align: top;\n",
       "    }\n",
       "\n",
       "    .dataframe thead th {\n",
       "        text-align: right;\n",
       "    }\n",
       "</style>\n",
       "<table border=\"1\" class=\"dataframe\">\n",
       "  <thead>\n",
       "    <tr style=\"text-align: right;\">\n",
       "      <th></th>\n",
       "      <th>0</th>\n",
       "    </tr>\n",
       "  </thead>\n",
       "  <tbody>\n",
       "    <tr>\n",
       "      <th>display_id</th>\n",
       "      <td>0</td>\n",
       "    </tr>\n",
       "    <tr>\n",
       "      <th>ad_id</th>\n",
       "      <td>0</td>\n",
       "    </tr>\n",
       "    <tr>\n",
       "      <th>label</th>\n",
       "      <td>0</td>\n",
       "    </tr>\n",
       "    <tr>\n",
       "      <th>doc_id</th>\n",
       "      <td>0</td>\n",
       "    </tr>\n",
       "    <tr>\n",
       "      <th>is_leak</th>\n",
       "      <td>0</td>\n",
       "    </tr>\n",
       "    <tr>\n",
       "      <th>event_weekend</th>\n",
       "      <td>0</td>\n",
       "    </tr>\n",
       "    <tr>\n",
       "      <th>user_views</th>\n",
       "      <td>55311626</td>\n",
       "    </tr>\n",
       "    <tr>\n",
       "      <th>ad_views</th>\n",
       "      <td>33833186</td>\n",
       "    </tr>\n",
       "    <tr>\n",
       "      <th>doc_views</th>\n",
       "      <td>52700407</td>\n",
       "    </tr>\n",
       "    <tr>\n",
       "      <th>doc_event_hour</th>\n",
       "      <td>0</td>\n",
       "    </tr>\n",
       "    <tr>\n",
       "      <th>pop_ad_id</th>\n",
       "      <td>1501513</td>\n",
       "    </tr>\n",
       "    <tr>\n",
       "      <th>pop_ad_id_conf</th>\n",
       "      <td>1501513</td>\n",
       "    </tr>\n",
       "    <tr>\n",
       "      <th>pop_ad_id_conf_multipl</th>\n",
       "      <td>1501513</td>\n",
       "    </tr>\n",
       "    <tr>\n",
       "      <th>pop_document_id</th>\n",
       "      <td>567008</td>\n",
       "    </tr>\n",
       "    <tr>\n",
       "      <th>pop_document_id_conf</th>\n",
       "      <td>567008</td>\n",
       "    </tr>\n",
       "    <tr>\n",
       "      <th>pop_document_id_conf_multipl</th>\n",
       "      <td>567008</td>\n",
       "    </tr>\n",
       "    <tr>\n",
       "      <th>pop_publisher_id</th>\n",
       "      <td>53234319</td>\n",
       "    </tr>\n",
       "    <tr>\n",
       "      <th>pop_publisher_id_conf</th>\n",
       "      <td>53234319</td>\n",
       "    </tr>\n",
       "    <tr>\n",
       "      <th>pop_publisher_id_conf_multipl</th>\n",
       "      <td>53234319</td>\n",
       "    </tr>\n",
       "    <tr>\n",
       "      <th>pop_advertiser_id</th>\n",
       "      <td>38189</td>\n",
       "    </tr>\n",
       "    <tr>\n",
       "      <th>pop_advertiser_id_conf</th>\n",
       "      <td>38189</td>\n",
       "    </tr>\n",
       "    <tr>\n",
       "      <th>pop_advertiser_id_conf_multipl</th>\n",
       "      <td>38189</td>\n",
       "    </tr>\n",
       "    <tr>\n",
       "      <th>pop_campaign_id</th>\n",
       "      <td>214394</td>\n",
       "    </tr>\n",
       "    <tr>\n",
       "      <th>pop_campaign_id_conf</th>\n",
       "      <td>214394</td>\n",
       "    </tr>\n",
       "    <tr>\n",
       "      <th>pop_campaign_id_conf_multipl</th>\n",
       "      <td>214394</td>\n",
       "    </tr>\n",
       "    <tr>\n",
       "      <th>pop_doc_event_doc_ad</th>\n",
       "      <td>43315606</td>\n",
       "    </tr>\n",
       "    <tr>\n",
       "      <th>pop_doc_event_doc_ad_conf</th>\n",
       "      <td>43315606</td>\n",
       "    </tr>\n",
       "    <tr>\n",
       "      <th>pop_doc_event_doc_ad_conf_multipl</th>\n",
       "      <td>43315606</td>\n",
       "    </tr>\n",
       "    <tr>\n",
       "      <th>pop_source_id</th>\n",
       "      <td>74740</td>\n",
       "    </tr>\n",
       "    <tr>\n",
       "      <th>pop_source_id_conf</th>\n",
       "      <td>74740</td>\n",
       "    </tr>\n",
       "    <tr>\n",
       "      <th>pop_source_id_conf_multipl</th>\n",
       "      <td>74740</td>\n",
       "    </tr>\n",
       "    <tr>\n",
       "      <th>pop_source_id_country</th>\n",
       "      <td>170382</td>\n",
       "    </tr>\n",
       "    <tr>\n",
       "      <th>pop_source_id_country_conf</th>\n",
       "      <td>170382</td>\n",
       "    </tr>\n",
       "    <tr>\n",
       "      <th>pop_source_id_country_conf_multipl</th>\n",
       "      <td>170382</td>\n",
       "    </tr>\n",
       "    <tr>\n",
       "      <th>pop_topic_id</th>\n",
       "      <td>887349</td>\n",
       "    </tr>\n",
       "    <tr>\n",
       "      <th>pop_topic_id_conf</th>\n",
       "      <td>887349</td>\n",
       "    </tr>\n",
       "    <tr>\n",
       "      <th>pop_topic_id_conf_multipl</th>\n",
       "      <td>887349</td>\n",
       "    </tr>\n",
       "    <tr>\n",
       "      <th>pop_category_id</th>\n",
       "      <td>80508</td>\n",
       "    </tr>\n",
       "    <tr>\n",
       "      <th>pop_category_id_conf</th>\n",
       "      <td>80508</td>\n",
       "    </tr>\n",
       "    <tr>\n",
       "      <th>pop_category_id_conf_multipl</th>\n",
       "      <td>80508</td>\n",
       "    </tr>\n",
       "    <tr>\n",
       "      <th>pop_category_id_country</th>\n",
       "      <td>85803</td>\n",
       "    </tr>\n",
       "    <tr>\n",
       "      <th>pop_category_id_country_conf</th>\n",
       "      <td>85803</td>\n",
       "    </tr>\n",
       "    <tr>\n",
       "      <th>pop_category_id_country_conf_multipl</th>\n",
       "      <td>85803</td>\n",
       "    </tr>\n",
       "    <tr>\n",
       "      <th>doc_event_publisher_id</th>\n",
       "      <td>1776</td>\n",
       "    </tr>\n",
       "    <tr>\n",
       "      <th>doc_event_source_id</th>\n",
       "      <td>7480739</td>\n",
       "    </tr>\n",
       "    <tr>\n",
       "      <th>event_hour</th>\n",
       "      <td>0</td>\n",
       "    </tr>\n",
       "    <tr>\n",
       "      <th>event_platform</th>\n",
       "      <td>30</td>\n",
       "    </tr>\n",
       "    <tr>\n",
       "      <th>traffic_source</th>\n",
       "      <td>195463</td>\n",
       "    </tr>\n",
       "    <tr>\n",
       "      <th>is_train</th>\n",
       "      <td>0</td>\n",
       "    </tr>\n",
       "    <tr>\n",
       "      <th>uuid</th>\n",
       "      <td>0</td>\n",
       "    </tr>\n",
       "    <tr>\n",
       "      <th>view_doc_id</th>\n",
       "      <td>0</td>\n",
       "    </tr>\n",
       "    <tr>\n",
       "      <th>platform_event</th>\n",
       "      <td>30</td>\n",
       "    </tr>\n",
       "    <tr>\n",
       "      <th>event_country</th>\n",
       "      <td>0</td>\n",
       "    </tr>\n",
       "    <tr>\n",
       "      <th>day_event</th>\n",
       "      <td>0</td>\n",
       "    </tr>\n",
       "    <tr>\n",
       "      <th>ad_doc_id</th>\n",
       "      <td>0</td>\n",
       "    </tr>\n",
       "    <tr>\n",
       "      <th>campaign_id</th>\n",
       "      <td>0</td>\n",
       "    </tr>\n",
       "    <tr>\n",
       "      <th>advertiser_id</th>\n",
       "      <td>0</td>\n",
       "    </tr>\n",
       "    <tr>\n",
       "      <th>ad_category_id</th>\n",
       "      <td>80508</td>\n",
       "    </tr>\n",
       "    <tr>\n",
       "      <th>ad_category_conf</th>\n",
       "      <td>80508</td>\n",
       "    </tr>\n",
       "    <tr>\n",
       "      <th>ad_topic_id</th>\n",
       "      <td>887349</td>\n",
       "    </tr>\n",
       "    <tr>\n",
       "      <th>ad_topic_conf</th>\n",
       "      <td>887349</td>\n",
       "    </tr>\n",
       "    <tr>\n",
       "      <th>document_id_cat</th>\n",
       "      <td>3830600</td>\n",
       "    </tr>\n",
       "    <tr>\n",
       "      <th>view_category_id</th>\n",
       "      <td>3830600</td>\n",
       "    </tr>\n",
       "    <tr>\n",
       "      <th>view_category_conf</th>\n",
       "      <td>3830600</td>\n",
       "    </tr>\n",
       "    <tr>\n",
       "      <th>document_id_top</th>\n",
       "      <td>8558654</td>\n",
       "    </tr>\n",
       "    <tr>\n",
       "      <th>view_topic_id</th>\n",
       "      <td>8558654</td>\n",
       "    </tr>\n",
       "    <tr>\n",
       "      <th>view_topic_conf</th>\n",
       "      <td>8558654</td>\n",
       "    </tr>\n",
       "    <tr>\n",
       "      <th>timestamp_event</th>\n",
       "      <td>0</td>\n",
       "    </tr>\n",
       "    <tr>\n",
       "      <th>ad_source_id</th>\n",
       "      <td>59406</td>\n",
       "    </tr>\n",
       "    <tr>\n",
       "      <th>ad_publisher_id</th>\n",
       "      <td>53233366</td>\n",
       "    </tr>\n",
       "  </tbody>\n",
       "</table>\n",
       "</div>"
      ],
      "text/plain": [
       "                                             0\n",
       "display_id                                   0\n",
       "ad_id                                        0\n",
       "label                                        0\n",
       "doc_id                                       0\n",
       "is_leak                                      0\n",
       "event_weekend                                0\n",
       "user_views                            55311626\n",
       "ad_views                              33833186\n",
       "doc_views                             52700407\n",
       "doc_event_hour                               0\n",
       "pop_ad_id                              1501513\n",
       "pop_ad_id_conf                         1501513\n",
       "pop_ad_id_conf_multipl                 1501513\n",
       "pop_document_id                         567008\n",
       "pop_document_id_conf                    567008\n",
       "pop_document_id_conf_multipl            567008\n",
       "pop_publisher_id                      53234319\n",
       "pop_publisher_id_conf                 53234319\n",
       "pop_publisher_id_conf_multipl         53234319\n",
       "pop_advertiser_id                        38189\n",
       "pop_advertiser_id_conf                   38189\n",
       "pop_advertiser_id_conf_multipl           38189\n",
       "pop_campaign_id                         214394\n",
       "pop_campaign_id_conf                    214394\n",
       "pop_campaign_id_conf_multipl            214394\n",
       "pop_doc_event_doc_ad                  43315606\n",
       "pop_doc_event_doc_ad_conf             43315606\n",
       "pop_doc_event_doc_ad_conf_multipl     43315606\n",
       "pop_source_id                            74740\n",
       "pop_source_id_conf                       74740\n",
       "pop_source_id_conf_multipl               74740\n",
       "pop_source_id_country                   170382\n",
       "pop_source_id_country_conf              170382\n",
       "pop_source_id_country_conf_multipl      170382\n",
       "pop_topic_id                            887349\n",
       "pop_topic_id_conf                       887349\n",
       "pop_topic_id_conf_multipl               887349\n",
       "pop_category_id                          80508\n",
       "pop_category_id_conf                     80508\n",
       "pop_category_id_conf_multipl             80508\n",
       "pop_category_id_country                  85803\n",
       "pop_category_id_country_conf             85803\n",
       "pop_category_id_country_conf_multipl     85803\n",
       "doc_event_publisher_id                    1776\n",
       "doc_event_source_id                    7480739\n",
       "event_hour                                   0\n",
       "event_platform                              30\n",
       "traffic_source                          195463\n",
       "is_train                                     0\n",
       "uuid                                         0\n",
       "view_doc_id                                  0\n",
       "platform_event                              30\n",
       "event_country                                0\n",
       "day_event                                    0\n",
       "ad_doc_id                                    0\n",
       "campaign_id                                  0\n",
       "advertiser_id                                0\n",
       "ad_category_id                           80508\n",
       "ad_category_conf                         80508\n",
       "ad_topic_id                             887349\n",
       "ad_topic_conf                           887349\n",
       "document_id_cat                        3830600\n",
       "view_category_id                       3830600\n",
       "view_category_conf                     3830600\n",
       "document_id_top                        8558654\n",
       "view_topic_id                          8558654\n",
       "view_topic_conf                        8558654\n",
       "timestamp_event                              0\n",
       "ad_source_id                             59406\n",
       "ad_publisher_id                       53233366"
      ]
     },
     "execution_count": 19,
     "metadata": {},
     "output_type": "execute_result"
    }
   ],
   "source": [
    "# train_valid_merged_df.select([F.count(F.when(F.isnan(c) | F.col(c).isNull(), c)).alias(c) for c in train_valid_merged_df.columns]).toPandas().transpose()"
   ]
  },
  {
   "cell_type": "markdown",
   "metadata": {},
   "source": [
    "~~`user_views`, `ad_views`, `doc_views`는 참조할 사전 데이터가 없는 경우에 발생하기 때문에 1로 채워넣었다.~~\n",
    "\n",
    "`user_views`, `ad_views`, `doc_views`는 일단 변수에서 빼자."
   ]
  },
  {
   "cell_type": "code",
   "execution_count": null,
   "metadata": {},
   "outputs": [],
   "source": [
    "train_imputing_df = train_valid_merged_df\n",
    "\n",
    "train_imputing_df = train_imputing_df.drop('user_views', 'ad_views', 'doc_views')"
   ]
  },
  {
   "cell_type": "code",
   "execution_count": 27,
   "metadata": {},
   "outputs": [],
   "source": [
    "# train_imputing_df = train_imputing_df.na.fill({'user_views': 1, 'ad_views': 1, 'doc_views': 1})"
   ]
  },
  {
   "cell_type": "markdown",
   "metadata": {},
   "source": [
    "`traffic_source`와 `platform_event`는 최빈값인 1로 채우자."
   ]
  },
  {
   "cell_type": "code",
   "execution_count": null,
   "metadata": {},
   "outputs": [],
   "source": [
    "train_imputing_df = train_imputing_df.na.fill({'traffic_source': 1, 'platform_event': 1})"
   ]
  },
  {
   "cell_type": "code",
   "execution_count": null,
   "metadata": {},
   "outputs": [],
   "source": [
    "train_imputing_df = train_imputing_df.withColumnRenamed('doc_event_source_id', 'view_source_id') \\\n",
    "                                    .withColumnRenamed('doc_event_publisher_id', 'view_publisher_id') \\\n",
    "                                    .drop('platform_event', 'pop_source_id_country_conf_multipl',\n",
    "                                         'pop_source_id_country_conf', 'pop_source_id_country',\n",
    "                                         'pop_category_id_country_conf_multipl', 'pop_category_id_country_conf',\n",
    "                                         'pop_category_id_country')"
   ]
  },
  {
   "cell_type": "markdown",
   "metadata": {},
   "source": [
    "pop-으로 시작하는 CTR과 그 외 범주형 변수의 결측치는 알려지지 않음(U: Unknown)으로 대체하자."
   ]
  },
  {
   "cell_type": "code",
   "execution_count": 28,
   "metadata": {},
   "outputs": [],
   "source": [
    "train_imputing_df = train_imputing_df.na.fill({'ad_publisher_id': 'U', 'ad_source_id': 'U', 'view_topic_id': 'U',\n",
    "                                              'view_category_id': 'U', 'ad_topic_id': 'U', 'ad_category_id': 'U',\n",
    "                                              'view_source_id': 'U', 'view_publisher_id': 'U',\n",
    "                                              'view_publisher_id' : 'U', 'view_source_id' : 'U'})\n",
    "\n",
    "\n",
    "#                                                'ad_category_conf': 'U'\n",
    "#                                                'view_category_conf' : 'U', 'ad_topic_conf' : 'U'\n",
    "#                                                'pop_category_id_conf_multipl' : 'U',\n",
    "#                                                'pop_category_id_conf' : 'U',\n",
    "#                                                'pop_category_id' : 'U',\n",
    "#                                                'pop_topic_id_conf_multipl' : 'U',\n",
    "#                                                'pop_topic_id_conf' : 'U',\n",
    "#                                                'pop_topic_id' : 'U',\n",
    "#                                                'pop_source_id_conf_multipl' : 'U',\n",
    "#                                                'pop_source_id_conf' : 'U',\n",
    "#                                                'pop_source_id' : 'U',\n",
    "#                                                'pop_doc_event_doc_ad_conf_multipl' : 'U',\n",
    "#                                                'pop_doc_event_doc_ad_conf' : 'U',\n",
    "#                                                'pop_doc_event_doc_ad' : 'U',\n",
    "#                                                'pop_campaign_id_conf_multipl' : 'U',\n",
    "#                                                'pop_campaign_id_conf' : 'U',\n",
    "#                                                'pop_campaign_id' : 'U',\n",
    "#                                                'pop_advertiser_id_conf_multipl' : 'U',\n",
    "#                                                'pop_advertiser_id_conf' : 'U',\n",
    "#                                                'pop_advertiser_id' : 'U',\n",
    "#                                                'pop_publisher_id_conf_multipl' : 'U',\n",
    "#                                                'pop_publisher_id_conf' : 'U',\n",
    "#                                                'pop_publisher_id' : 'U',\n",
    "#                                                'pop_document_id_conf_multipl' : 'U',\n",
    "#                                                'pop_document_id_conf' : 'U',\n",
    "#                                                'pop_document_id' : 'U',\n",
    "#                                                'pop_ad_id_conf_multipl' : 'U',\n",
    "#                                                'pop_ad_id_conf' : 'U',\n",
    "#                                                'pop_ad_id' : 'U'\n",
    "\n",
    "\n",
    "# ad_publisher_id 유난히 NA가 많음 => 확인 필요 => okay. 원래 데이터에서도 그렇다.\n",
    "# document_id_top, document_id_cat 삭제 => okay. Feature Enginnering_05 코드에 반영하였음. 재실행 시 해당 변수가 사라져 있을 것!"
   ]
  },
  {
   "cell_type": "markdown",
   "metadata": {},
   "source": [
    "### cf) topic_id, category_id에 결측치가 있는 이유"
   ]
  },
  {
   "cell_type": "markdown",
   "metadata": {},
   "source": [
    " `view_topic_id`, `ad_topic_id`와 `view_category_id`, `ad_category_id`에 결측치는 왜 생긴 걸까? \n",
    " \n",
    " 원래 없는 정보였을지 파일을 합치는 과정에서 생긴 오류인지 체크해보자."
   ]
  },
  {
   "cell_type": "code",
   "execution_count": 66,
   "metadata": {},
   "outputs": [],
   "source": [
    "# # ad_topic_id가 Null인 경우\n",
    "# null_ad_topic_id = train_valid_merged_df.where(F.col(\"ad_topic_id\").isNull())"
   ]
  },
  {
   "cell_type": "code",
   "execution_count": 67,
   "metadata": {},
   "outputs": [
    {
     "data": {
      "text/plain": [
       "14550"
      ]
     },
     "execution_count": 67,
     "metadata": {},
     "output_type": "execute_result"
    }
   ],
   "source": [
    "# null_ad_topic_id.select('ad_doc_id').distinct().count()"
   ]
  },
  {
   "cell_type": "code",
   "execution_count": 64,
   "metadata": {},
   "outputs": [],
   "source": [
    "# # ad_category_id가 Null인 경우\n",
    "# null_ad_category_id = train_valid_merged_df.where(F.col(\"ad_category_id\").isNull())"
   ]
  },
  {
   "cell_type": "code",
   "execution_count": 65,
   "metadata": {},
   "outputs": [
    {
     "data": {
      "text/plain": [
       "533"
      ]
     },
     "execution_count": 65,
     "metadata": {},
     "output_type": "execute_result"
    }
   ],
   "source": [
    "# null_ad_category_id.select('ad_doc_id').distinct().count()"
   ]
  },
  {
   "cell_type": "code",
   "execution_count": 68,
   "metadata": {},
   "outputs": [],
   "source": [
    "# # view_topic_id가 Null인 경우\n",
    "# null_view_topic_id = train_valid_merged_df.where(F.col(\"view_topic_id\").isNull())"
   ]
  },
  {
   "cell_type": "code",
   "execution_count": 69,
   "metadata": {},
   "outputs": [
    {
     "data": {
      "text/plain": [
       "70911"
      ]
     },
     "execution_count": 69,
     "metadata": {},
     "output_type": "execute_result"
    }
   ],
   "source": [
    "# null_view_topic_id.select('view_doc_id').distinct().count()"
   ]
  },
  {
   "cell_type": "code",
   "execution_count": 70,
   "metadata": {},
   "outputs": [],
   "source": [
    "# # view_category_id가 Null인 경우\n",
    "# null_view_category_id = train_valid_merged_df.where(F.col(\"view_category_id\").isNull())"
   ]
  },
  {
   "cell_type": "code",
   "execution_count": 71,
   "metadata": {},
   "outputs": [
    {
     "data": {
      "text/plain": [
       "22170"
      ]
     },
     "execution_count": 71,
     "metadata": {},
     "output_type": "execute_result"
    }
   ],
   "source": [
    "# null_view_category_id.select('view_doc_id').distinct().count()"
   ]
  },
  {
   "cell_type": "markdown",
   "metadata": {},
   "source": [
    "`documents_categories` 테이블과 `documents_topics` 테이블을 확인한 결과, category_id와 topic_id가 원래 없었던 정보임을 확인할 수 있었다."
   ]
  },
  {
   "cell_type": "code",
   "execution_count": 72,
   "metadata": {},
   "outputs": [],
   "source": [
    "# l = documents_categories_grouped_df.select(\"document_id_cat\").rdd.flatMap(lambda x: x).collect()"
   ]
  },
  {
   "cell_type": "code",
   "execution_count": null,
   "metadata": {},
   "outputs": [],
   "source": [
    "# null_view_category_id.select('view_doc_id').distinct().filter(F.col('view_doc_id').isin(l)).show()"
   ]
  },
  {
   "cell_type": "code",
   "execution_count": null,
   "metadata": {},
   "outputs": [],
   "source": [
    "# null_ad_category_id.select('ad_doc_id').distinct().filter(F.col('ad_doc_id').isin(l)).show()"
   ]
  },
  {
   "cell_type": "code",
   "execution_count": null,
   "metadata": {},
   "outputs": [],
   "source": [
    "# l2 = documents_topics_grouped_df.select('document_id_top').rdd.flatMap(lambda x: x).collect()"
   ]
  },
  {
   "cell_type": "code",
   "execution_count": null,
   "metadata": {},
   "outputs": [],
   "source": [
    "# null_view_topic_id.select('view_doc_id').distinct().filter(F.col('view_doc_id').isin(l2)).show()"
   ]
  },
  {
   "cell_type": "code",
   "execution_count": null,
   "metadata": {},
   "outputs": [],
   "source": [
    "# null_ad_topic_id.select('view_doc_id').distinct().filter(F.col('view_doc_id').isin(l2)).show()"
   ]
  },
  {
   "cell_type": "markdown",
   "metadata": {},
   "source": [
    "## Part C: OHE(One-Hot Encoding)"
   ]
  },
  {
   "cell_type": "markdown",
   "metadata": {},
   "source": [
    "연속형 변수와 범주형 변수 모두 결국에는 범주형 변수로 전환할 예정이지만, 처리 과정이 상이하기 때문에 변수 형태별로 데이터를 구분해서 처리해보자."
   ]
  },
  {
   "cell_type": "code",
   "execution_count": null,
   "metadata": {},
   "outputs": [],
   "source": [
    "train_ohe_df = train_imputing_df"
   ]
  },
  {
   "cell_type": "code",
   "execution_count": null,
   "metadata": {},
   "outputs": [],
   "source": [
    "# 범주형 변수: 32개\n",
    "\n",
    "train_ohe_cat_df = train_ohe_df.drop('pop_ad_id', 'pop_ad_conf',\n",
    "                                       'pop_ad_id_cont_multipl', 'pop_document_id',\n",
    "                                       'pop_document_id_conf', 'pop_document_id_conf_multipl',\n",
    "                                       'pop_advertiser_id', 'pop_advertiser_id_conf',\n",
    "                                       'pop_advertiser_id_conf_multipl',\n",
    "                                       'pop_campaign_id', 'pop_campaign_id_conf',\n",
    "                                       'pop_campaign_id_conf_multipl', \n",
    "                                       'pop_doc_event_doc_ad', 'pop_doc_event_doc_ad_conf',\n",
    "                                       'pop_doc_event_doc_ad_conf_multipl',\n",
    "                                       'pop_source_id', 'pop_source_id_conf',\n",
    "                                       'pop_source_id_conf_multipl',\n",
    "                                       'pop_topic_id', 'pop_topic_id_conf',\n",
    "                                       'pop_topic_id_conf_multipl',\n",
    "                                       'pop_category_id', 'pop_category_id_conf',\n",
    "                                       'pop_category_id_conf_multipl',\n",
    "                                       'ad_topic_conf', 'view_topic_conf')"
   ]
  },
  {
   "cell_type": "code",
   "execution_count": null,
   "metadata": {},
   "outputs": [],
   "source": [
    "# 범주형 변수의 수준(level) 수 확인\n",
    "\n",
    "for col in train_ohe_cat_df.columns: # 범주형 변수인 column 만 subset\n",
    "    print(col, train_ohe_cat_df.select(col).distinct().count()) # 고유 값을 가지는 행의 개수 세기"
   ]
  },
  {
   "cell_type": "code",
   "execution_count": null,
   "metadata": {},
   "outputs": [],
   "source": [
    "# case 1) 범주형 변수의 수준 수가 특정 임계값을 넘지 않는 경우:\n",
    "\n",
    "# 'other'\n",
    "\n",
    "COUNT_THRESHOLD = 150 # 특정 임계값 설정 \n",
    " \n",
    "# create a temporary col \"count\" as counting for each value of \"prod_feat_3\"\n",
    "prodFeat3Count = df.groupBy(\"prod_feat_3\").count()\n",
    "df = df.join(prodFeat3Count, \"prod_feat_3\", \"inner\")\n",
    " \n",
    "def convertMinority(originalCol, colCount):\n",
    "    if colCount > COUNT_THRESHOLD:\n",
    "        return originalCol\n",
    "    else:\n",
    "        return 'MinorityCategory'\n",
    "    \n",
    "createNewColFromTwo = udf(convertMinority, StringType())\n",
    "df = df.withColumn('prod_feat_3_reduced', createNewColFromTwo(df['prod_feat_3'], df['count']))\n",
    "df = df.drop('prod_feat_3')\n",
    "df = df.drop('count')"
   ]
  },
  {
   "cell_type": "code",
   "execution_count": null,
   "metadata": {},
   "outputs": [],
   "source": [
    "# case 2) 범주형 변수의 값이 NA인 경우:\n",
    "\n",
    "# 'unknown'"
   ]
  },
  {
   "cell_type": "code",
   "execution_count": null,
   "metadata": {},
   "outputs": [],
   "source": [
    "# case 3) 범주형 변수의 값이 없었던 값인 경우: \n",
    "\n",
    "# 'other' / 'unknown'"
   ]
  },
  {
   "cell_type": "code",
   "execution_count": null,
   "metadata": {},
   "outputs": [],
   "source": [
    "# 연속형 변수: 32개\n",
    "\n",
    "train_ohe_cont_df = train_ohe_df.select('pop_ad_id', 'pop_ad_conf',\n",
    "                                       'pop_ad_id_cont_multipl', 'pop_document_id',\n",
    "                                       'pop_document_id_conf', 'pop_document_id_conf_multipl',\n",
    "                                       'pop_advertiser_id', 'pop_advertiser_id_conf',\n",
    "                                       'pop_advertiser_id_conf_multipl',\n",
    "                                       'pop_campaign_id', 'pop_campaign_id_conf',\n",
    "                                       'pop_campaign_id_conf_multipl', \n",
    "                                       'pop_doc_event_doc_ad', 'pop_doc_event_doc_ad_conf',\n",
    "                                       'pop_doc_event_doc_ad_conf_multipl',\n",
    "                                       'pop_source_id', 'pop_source_id_conf',\n",
    "                                       'pop_source_id_conf_multipl',\n",
    "                                       'pop_topic_id', 'pop_topic_id_conf',\n",
    "                                       'pop_topic_id_conf_multipl',\n",
    "                                       'pop_category_id', 'pop_category_id_conf',\n",
    "                                       'pop_category_id_conf_multipl',\n",
    "                                       'ad_topic_conf', 'view_topic_conf')"
   ]
  },
  {
   "cell_type": "code",
   "execution_count": null,
   "metadata": {},
   "outputs": [],
   "source": [
    "# 연속형 변수 binning ) \n",
    "\n",
    "# quantile 로 분할: 4개 + 1개(unknown) => 5개\n",
    "\n",
    "# 1Q, 2Q, 3Q, 4Q 경계값을 계산하고, 이를 구준으로 4개로 분할\n",
    "\n",
    "# data = [(1, 1.0),\n",
    "#         (2, 2.0),\n",
    "#         (3, 3.0),\n",
    "#         (4, 4.0),\n",
    "#         (5, 5.0),\n",
    "#         (6, 6.0),\n",
    "#         (7, 7.0),\n",
    "#         (8, 8.0),\n",
    "#         (9, 9.0),\n",
    "#         (10, 10.0),\n",
    "#         (11, None)]\n",
    "\n",
    "# df = spark.createDataFrame(data, [\"id\", \"hour\"]) # data Frame으로 변환\n",
    "\n",
    "# splits = [-float(\"inf\"), 2.5, 5.0, 7.5, float(\"inf\")]\n",
    "\n",
    "# bucketizer = Bucketizer(splits=splits,\n",
    "#                         inputCol=\"hour\",\n",
    "#                         outputCol=\"bucketed_hour\",\n",
    "#                         handleInvalid=\"keep\")\n",
    "# bucketedData = bucketizer.transform(df)\n",
    "# bucketedData.show()\n",
    "    \n",
    "# df.approxQuantile(variable, [0.25, 0.5, 0.75], 0.0) # Q1, Q2, Q3 경계값 계산\n",
    "\n",
    "# var_split = []\n",
    "\n",
    "# for col in train_ohe_cont_df.columns: # 범주형 변수인 column 만 subset\n",
    "#     print(col, train_ohe_cont_df.approxQuantile(col, [0.5], 0.0)) # 고유 값을 가지는 행의 개수 세기\n",
    "\n",
    "\n",
    "# obj = {}\n",
    "\n",
    "# for col in train_ohe_cont_df.columns:\n",
    "#     obj[str(col)] = [train_ohe_cont_df.approxQuantile(col, [0.25, 0.5, 0.75], 0.0)]"
   ]
  },
  {
   "cell_type": "code",
   "execution_count": null,
   "metadata": {},
   "outputs": [],
   "source": [
    "# # one-hot encoding categorical cols\n",
    "\n",
    "# column_vec_in = ['prod_feat_3_reduced', 'cust_region', 'prod_type', 'cust_sex', 'cust_title']\n",
    "# column_vec_out = ['prod_feat_3_reduced_catVec','cust_region_catVec', 'prod_type_catVec','cust_sex_catVec',\n",
    "# 'cust_title_catVec']\n",
    " \n",
    "# indexers = [StringIndexer(inputCol=x, outputCol=x+'_tmp')\n",
    "#             for x in column_vec_in ]\n",
    " \n",
    "# encoders = [OneHotEncoder(dropLast=False, inputCol=x+\"_tmp\", outputCol=y)\n",
    "# for x,y in zip(column_vec_in, column_vec_out)]\n",
    "# tmp = [[i,j] for i,j in zip(indexers, encoders)]\n",
    "# tmp = [i for sublist in tmp for i in sublist]"
   ]
  },
  {
   "cell_type": "code",
   "execution_count": null,
   "metadata": {},
   "outputs": [],
   "source": [
    "# # prepare labeled sets\n",
    "\n",
    "# cols_now = ['prod_price',\n",
    "#             'prod_feat_1',\n",
    "#             'prod_feat_2',\n",
    "#             'cust_age',\n",
    "#             'prod_feat_3_reduced_catVec',\n",
    "#             'cust_region_catVec',\n",
    "#             'prod_type_catVec',\n",
    "#             'cust_sex_catVec',\n",
    "#             'cust_title_catVec']\n",
    "# assembler_features = VectorAssembler(inputCols=cols_now, outputCol='features')\n",
    "# labelIndexer = StringIndexer(inputCol='binary_response', outputCol=\"label\")\n",
    "# tmp += [assembler_features, labelIndexer]\n",
    "# pipeline = Pipeline(stages=tmp)"
   ]
  },
  {
   "cell_type": "code",
   "execution_count": null,
   "metadata": {},
   "outputs": [],
   "source": [
    "from pyspark.ml import Pipeline\n",
    "from pyspark.ml.feature import OneHotEncoderEstimator, StringIndexer, VectorAssembler"
   ]
  },
  {
   "cell_type": "markdown",
   "metadata": {},
   "source": [
    "`train`에서 세 개의 컬럼만 빼서 logistic regression으로 적합시켜보자."
   ]
  },
  {
   "cell_type": "code",
   "execution_count": null,
   "metadata": {},
   "outputs": [],
   "source": [
    "# train_light = train.select('label', 'event_weekend', 'doc_event_hour', 'pop_advertiser_id')"
   ]
  },
  {
   "cell_type": "markdown",
   "metadata": {},
   "source": [
    "결측치가 포함되어 있으면 VectorAssembler가 작동하지 않는다."
   ]
  },
  {
   "cell_type": "code",
   "execution_count": null,
   "metadata": {},
   "outputs": [],
   "source": [
    "# train_light = train_light.dropna() ### 테스트 용으로 생성하였음. "
   ]
  },
  {
   "cell_type": "code",
   "execution_count": null,
   "metadata": {},
   "outputs": [],
   "source": [
    "categorical_columns= ['event_weekend', 'doc_event_hour']\n",
    "\n",
    "indexers = [\n",
    "    StringIndexer(inputCol=c, outputCol=\"{0}_indexed\".format(c))\n",
    "    for c in categorical_columns\n",
    "]\n",
    "\n",
    "encoders = [OneHotEncoder(dropLast=False,inputCol=indexer.getOutputCol(),\n",
    "            outputCol=\"{0}_encoded\".format(indexer.getOutputCol())) \n",
    "    for indexer in indexers\n",
    "]\n",
    "\n",
    "numericCols = [\"pop_advertiser_id\"]\n",
    "\n",
    "assemblerInputs = [encoder.getOutputCol() for encoder in encoders] + numericCols\n",
    "assembler = VectorAssembler(inputCols= assemblerInputs, outputCol=\"features\")"
   ]
  },
  {
   "cell_type": "code",
   "execution_count": null,
   "metadata": {},
   "outputs": [],
   "source": [
    "pipeline = Pipeline(stages=indexers + encoders+[assembler])\n",
    "model=pipeline.fit(train_light)"
   ]
  },
  {
   "cell_type": "code",
   "execution_count": null,
   "metadata": {},
   "outputs": [],
   "source": [
    "transformed = model.transform(train_light)\n",
    "transformed.show(5)"
   ]
  },
  {
   "cell_type": "code",
   "execution_count": null,
   "metadata": {},
   "outputs": [],
   "source": [
    "lrModel = LogisticRegression().fit(transformed)"
   ]
  },
  {
   "cell_type": "code",
   "execution_count": null,
   "metadata": {},
   "outputs": [],
   "source": [
    "print(\"Coefficients: \" + str(lrModel.coefficients))\n",
    "print(\"Intercept: \" + str(lrModel.intercept))"
   ]
  },
  {
   "cell_type": "markdown",
   "metadata": {},
   "source": [
    "## Part D: doc_views, user_views, ad_views 다시 계산(이후 진행 예정)"
   ]
  },
  {
   "cell_type": "markdown",
   "metadata": {},
   "source": [
    "`doc_views`, `user_views`, `ad_views`에 왜 결측치가 이렇게 많을까?"
   ]
  },
  {
   "cell_type": "markdown",
   "metadata": {},
   "source": [
    "### Building doc_views counter"
   ]
  },
  {
   "cell_type": "code",
   "execution_count": null,
   "metadata": {},
   "outputs": [],
   "source": [
    "# 1) train_imputing_df의 view_doc_id와 page_views의 document_id가 같은 것만 filtering\n",
    "# 2) page_views의 timestamp가 train_imputing_df의 timestamp_event보다 작은 것만 filtering\n",
    "# 3) page_views의 행의 수를 count\n"
   ]
  },
  {
   "cell_type": "markdown",
   "metadata": {},
   "source": [
    "### Building user_views counter"
   ]
  },
  {
   "cell_type": "code",
   "execution_count": null,
   "metadata": {},
   "outputs": [],
   "source": [
    "# 1) train_imputing_df의 uuid와 page_views의 uuid가 같은 것만 filtering\n",
    "# 2) page_views의 timestamp가 train_imputing_df의 timestamp_event보다 작은 것만 filtering\n",
    "# 3) page_views의 행의 수를 count\n",
    "\n"
   ]
  },
  {
   "cell_type": "markdown",
   "metadata": {},
   "source": [
    "### Building ad_views counter"
   ]
  },
  {
   "cell_type": "code",
   "execution_count": null,
   "metadata": {},
   "outputs": [],
   "source": [
    "# 1) train_imputing_df에서 ad_id가 같은 행만 filtering\n",
    "# 2) 현재 행보다 timestamp가 작은 행만 filtering\n",
    "# 3) train_imputing_df에서 남은 행의 수를 count\n",
    "\n"
   ]
  }
 ],
 "metadata": {
  "kernelspec": {
   "display_name": "Python 3",
   "language": "python",
   "name": "python3"
  },
  "language_info": {
   "codemirror_mode": {
    "name": "ipython",
    "version": 3
   },
   "file_extension": ".py",
   "mimetype": "text/x-python",
   "name": "python",
   "nbconvert_exporter": "python",
   "pygments_lexer": "ipython3",
   "version": "3.6.4"
  }
 },
 "nbformat": 4,
 "nbformat_minor": 2
}
