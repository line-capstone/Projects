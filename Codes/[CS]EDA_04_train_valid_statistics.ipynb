{
 "cells": [
  {
   "cell_type": "code",
   "execution_count": 1,
   "metadata": {},
   "outputs": [],
   "source": [
    "from pyspark.sql.types import *\n",
    "from pyspark.sql.functions import isnan, when, count, col\n",
    "import pyspark.sql.functions as f\n",
    "from pyspark.sql.window import Window\n",
    "import pandas as pd"
   ]
  },
  {
   "cell_type": "code",
   "execution_count": 2,
   "metadata": {},
   "outputs": [],
   "source": [
    "# data load\n",
    "\n",
    "train_valid_merged_df = spark.read.parquet(\"gs://cap-18/output/train_subset_final\")"
   ]
  },
  {
   "cell_type": "code",
   "execution_count": 3,
   "metadata": {},
   "outputs": [],
   "source": [
    "# 캐싱\n",
    "\n",
    "df = train_valid_merged_df.cache()"
   ]
  },
  {
   "cell_type": "code",
   "execution_count": 11,
   "metadata": {},
   "outputs": [
    {
     "data": {
      "text/plain": [
       "['display_id',\n",
       " 'ad_id',\n",
       " 'label',\n",
       " 'doc_id',\n",
       " 'is_leak',\n",
       " 'event_weekend',\n",
       " 'user_views',\n",
       " 'ad_views',\n",
       " 'doc_views',\n",
       " 'doc_event_hour',\n",
       " 'pop_ad_id',\n",
       " 'pop_ad_id_conf',\n",
       " 'pop_ad_id_conf_multipl',\n",
       " 'pop_document_id',\n",
       " 'pop_document_id_conf',\n",
       " 'pop_document_id_conf_multipl',\n",
       " 'pop_publisher_id',\n",
       " 'pop_publisher_id_conf',\n",
       " 'pop_publisher_id_conf_multipl',\n",
       " 'pop_advertiser_id',\n",
       " 'pop_advertiser_id_conf',\n",
       " 'pop_advertiser_id_conf_multipl',\n",
       " 'pop_campaign_id',\n",
       " 'pop_campaign_id_conf',\n",
       " 'pop_campaign_id_conf_multipl',\n",
       " 'pop_doc_event_doc_ad',\n",
       " 'pop_doc_event_doc_ad_conf',\n",
       " 'pop_doc_event_doc_ad_conf_multipl',\n",
       " 'pop_source_id',\n",
       " 'pop_source_id_conf',\n",
       " 'pop_source_id_conf_multipl',\n",
       " 'pop_source_id_country',\n",
       " 'pop_source_id_country_conf',\n",
       " 'pop_source_id_country_conf_multipl',\n",
       " 'pop_topic_id',\n",
       " 'pop_topic_id_conf',\n",
       " 'pop_topic_id_conf_multipl',\n",
       " 'pop_category_id',\n",
       " 'pop_category_id_conf',\n",
       " 'pop_category_id_conf_multipl',\n",
       " 'pop_category_id_country',\n",
       " 'pop_category_id_country_conf',\n",
       " 'pop_category_id_country_conf_multipl',\n",
       " 'doc_event_publisher_id',\n",
       " 'doc_event_source_id',\n",
       " 'event_hour',\n",
       " 'event_platform',\n",
       " 'traffic_source',\n",
       " 'is_train',\n",
       " 'uuid',\n",
       " 'view_doc_id',\n",
       " 'platform_event',\n",
       " 'event_country',\n",
       " 'day_event',\n",
       " 'ad_doc_id',\n",
       " 'campaign_id',\n",
       " 'advertiser_id',\n",
       " 'ad_category_id',\n",
       " 'ad_category_conf',\n",
       " 'ad_topic_id',\n",
       " 'ad_topic_conf',\n",
       " 'document_id_cat',\n",
       " 'view_category_id',\n",
       " 'view_category_conf',\n",
       " 'document_id_top',\n",
       " 'view_topic_id',\n",
       " 'view_topic_conf',\n",
       " 'timestamp_event',\n",
       " 'ad_source_id',\n",
       " 'ad_publisher_id']"
      ]
     },
     "execution_count": 11,
     "metadata": {},
     "output_type": "execute_result"
    }
   ],
   "source": [
    "# 컬럼명 확인\n",
    "\n",
    "df.columns"
   ]
  },
  {
   "cell_type": "code",
   "execution_count": 8,
   "metadata": {},
   "outputs": [
    {
     "data": {
      "text/plain": [
       "60"
      ]
     },
     "execution_count": 8,
     "metadata": {},
     "output_type": "execute_result"
    }
   ],
   "source": [
    "# 총 60개의 컬럼이 있다.\n",
    "\n",
    "len(df.columns)"
   ]
  },
  {
   "cell_type": "markdown",
   "metadata": {},
   "source": [
    "총 60개의 컬럼이 있다."
   ]
  },
  {
   "cell_type": "code",
   "execution_count": 9,
   "metadata": {},
   "outputs": [
    {
     "data": {
      "text/plain": [
       "87141731"
      ]
     },
     "execution_count": 9,
     "metadata": {},
     "output_type": "execute_result"
    }
   ],
   "source": [
    "# row 개수 확인\n",
    "\n",
    "df.count()"
   ]
  },
  {
   "cell_type": "markdown",
   "metadata": {},
   "source": [
    "87,141,731개의 row가 있다."
   ]
  },
  {
   "cell_type": "code",
   "execution_count": 27,
   "metadata": {},
   "outputs": [
    {
     "name": "stdout",
     "output_type": "stream",
     "text": [
      "+----------+-----+-----+------------+-------+-------------+----------+--------+---------+---------+--------------+----------------------+---------------+--------------------+----------------------------+----------------+---------------------+-----------------------------+-----------------+----------------------+------------------------------+---------------+--------------------+----------------------------+--------------------+-------------------------+---------------------------------+-------------+------------------+--------------------------+------------+-----------------+-------------------------+--------------------+-------------------------+---------------------------------+---------------+--------------------+----------------------------+----------------------+-------------------+----------+--------------+--------------+--------+----------+-----------------+-------------+-----------------+-----------+-------------+---------------------+-----------------------+------------------+--------------------+--------------------+----------------------+-----------------+-------------------+---------------+\n",
      "|display_id|ad_id|label|doc_event_id|is_leak|event_weekend|user_views|ad_views|doc_views|pop_ad_id|pop_ad_id_conf|pop_ad_id_conf_multipl|pop_document_id|pop_document_id_conf|pop_document_id_conf_multipl|pop_publisher_id|pop_publisher_id_conf|pop_publisher_id_conf_multipl|pop_advertiser_id|pop_advertiser_id_conf|pop_advertiser_id_conf_multipl|pop_campaign_id|pop_campaign_id_conf|pop_campaign_id_conf_multipl|pop_doc_event_doc_ad|pop_doc_event_doc_ad_conf|pop_doc_event_doc_ad_conf_multipl|pop_source_id|pop_source_id_conf|pop_source_id_conf_multipl|pop_topic_id|pop_topic_id_conf|pop_topic_id_conf_multipl|pop_topic_id_country|pop_topic_id_country_conf|pop_topic_id_country_conf_multipl|pop_category_id|pop_category_id_conf|pop_category_id_conf_multipl|doc_event_publisher_id|doc_event_source_id|event_hour|event_platform|traffic_source|is_train|uuid_event|document_id_event|event_country|document_id_promo|campaign_id|advertiser_id|promo_doc_category_id|promo_doc_category_conf|promo_doc_topic_id|promo_doc_topic_conf|view_doc_category_id|view_doc_category_conf|view_doc_topic_id|view_doc_topic_conf|timestamp_event|\n",
      "+----------+-----+-----+------------+-------+-------------+----------+--------+---------+---------+--------------+----------------------+---------------+--------------------+----------------------------+----------------+---------------------+-----------------------------+-----------------+----------------------+------------------------------+---------------+--------------------+----------------------------+--------------------+-------------------------+---------------------------------+-------------+------------------+--------------------------+------------+-----------------+-------------------------+--------------------+-------------------------+---------------------------------+---------------+--------------------+----------------------------+----------------------+-------------------+----------+--------------+--------------+--------+----------+-----------------+-------------+-----------------+-----------+-------------+---------------------+-----------------------+------------------+--------------------+--------------------+----------------------+-----------------+-------------------+---------------+\n",
      "|         0|    0|    0|           0|      0|            0|  55311626|33833186| 52700407|  1501513|       1501513|               1501513|         567008|              567008|                      567008|        53234319|             53234319|                     53234319|            38189|                 38189|                         38189|         214394|              214394|                      214394|            43315606|                 43315606|                         43315606|        74740|             74740|                     74740|      887349|           887349|                   887349|              912393|                   912393|                           912393|          80508|               80508|                       80508|                  1776|            7480739|         0|            30|        195463|       0|         0|                0|            0|                0|          0|            0|               887349|                 887349|             80508|               80508|             8558654|               8558654|          3830600|            3830600|              0|\n",
      "+----------+-----+-----+------------+-------+-------------+----------+--------+---------+---------+--------------+----------------------+---------------+--------------------+----------------------------+----------------+---------------------+-----------------------------+-----------------+----------------------+------------------------------+---------------+--------------------+----------------------------+--------------------+-------------------------+---------------------------------+-------------+------------------+--------------------------+------------+-----------------+-------------------------+--------------------+-------------------------+---------------------------------+---------------+--------------------+----------------------------+----------------------+-------------------+----------+--------------+--------------+--------+----------+-----------------+-------------+-----------------+-----------+-------------+---------------------+-----------------------+------------------+--------------------+--------------------+----------------------+-----------------+-------------------+---------------+\n",
      "\n"
     ]
    }
   ],
   "source": [
    "# 변수별 결측치 탐색\n",
    "\n",
    "df_null=df.select([count(when(isnan(c) | col(c).isNull(), c)).alias(c) for c in df.columns]) # 변수별 결측치 수 계산\n",
    "df_null.show()"
   ]
  },
  {
   "cell_type": "code",
   "execution_count": 29,
   "metadata": {},
   "outputs": [
    {
     "name": "stdout",
     "output_type": "stream",
     "text": [
      "CPU times: user 12 ms, sys: 0 ns, total: 12 ms\n",
      "Wall time: 270 ms\n"
     ]
    }
   ],
   "source": [
    "# 판다스 데이터프레임으로 변환\n",
    "\n",
    "%time df_null_pandas=df_null.toPandas()"
   ]
  },
  {
   "cell_type": "code",
   "execution_count": 18,
   "metadata": {},
   "outputs": [],
   "source": [
    "# display 옵션을 조정\n",
    "\n",
    "pd.set_option('display.max_columns', 100)"
   ]
  },
  {
   "cell_type": "code",
   "execution_count": 60,
   "metadata": {},
   "outputs": [
    {
     "data": {
      "text/html": [
       "<div>\n",
       "<style scoped>\n",
       "    .dataframe tbody tr th:only-of-type {\n",
       "        vertical-align: middle;\n",
       "    }\n",
       "\n",
       "    .dataframe tbody tr th {\n",
       "        vertical-align: top;\n",
       "    }\n",
       "\n",
       "    .dataframe thead th {\n",
       "        text-align: right;\n",
       "    }\n",
       "</style>\n",
       "<table border=\"1\" class=\"dataframe\">\n",
       "  <thead>\n",
       "    <tr style=\"text-align: right;\">\n",
       "      <th></th>\n",
       "      <th>0</th>\n",
       "    </tr>\n",
       "  </thead>\n",
       "  <tbody>\n",
       "    <tr>\n",
       "      <th>display_id</th>\n",
       "      <td>0</td>\n",
       "    </tr>\n",
       "    <tr>\n",
       "      <th>ad_id</th>\n",
       "      <td>0</td>\n",
       "    </tr>\n",
       "    <tr>\n",
       "      <th>label</th>\n",
       "      <td>0</td>\n",
       "    </tr>\n",
       "    <tr>\n",
       "      <th>doc_event_id</th>\n",
       "      <td>0</td>\n",
       "    </tr>\n",
       "    <tr>\n",
       "      <th>is_leak</th>\n",
       "      <td>0</td>\n",
       "    </tr>\n",
       "    <tr>\n",
       "      <th>event_weekend</th>\n",
       "      <td>0</td>\n",
       "    </tr>\n",
       "    <tr>\n",
       "      <th>user_views</th>\n",
       "      <td>55311626</td>\n",
       "    </tr>\n",
       "    <tr>\n",
       "      <th>ad_views</th>\n",
       "      <td>33833186</td>\n",
       "    </tr>\n",
       "    <tr>\n",
       "      <th>doc_views</th>\n",
       "      <td>52700407</td>\n",
       "    </tr>\n",
       "    <tr>\n",
       "      <th>pop_ad_id</th>\n",
       "      <td>1501513</td>\n",
       "    </tr>\n",
       "    <tr>\n",
       "      <th>pop_ad_id_conf</th>\n",
       "      <td>1501513</td>\n",
       "    </tr>\n",
       "    <tr>\n",
       "      <th>pop_ad_id_conf_multipl</th>\n",
       "      <td>1501513</td>\n",
       "    </tr>\n",
       "    <tr>\n",
       "      <th>pop_document_id</th>\n",
       "      <td>567008</td>\n",
       "    </tr>\n",
       "    <tr>\n",
       "      <th>pop_document_id_conf</th>\n",
       "      <td>567008</td>\n",
       "    </tr>\n",
       "    <tr>\n",
       "      <th>pop_document_id_conf_multipl</th>\n",
       "      <td>567008</td>\n",
       "    </tr>\n",
       "    <tr>\n",
       "      <th>pop_publisher_id</th>\n",
       "      <td>53234319</td>\n",
       "    </tr>\n",
       "    <tr>\n",
       "      <th>pop_publisher_id_conf</th>\n",
       "      <td>53234319</td>\n",
       "    </tr>\n",
       "    <tr>\n",
       "      <th>pop_publisher_id_conf_multipl</th>\n",
       "      <td>53234319</td>\n",
       "    </tr>\n",
       "    <tr>\n",
       "      <th>pop_advertiser_id</th>\n",
       "      <td>38189</td>\n",
       "    </tr>\n",
       "    <tr>\n",
       "      <th>pop_advertiser_id_conf</th>\n",
       "      <td>38189</td>\n",
       "    </tr>\n",
       "    <tr>\n",
       "      <th>pop_advertiser_id_conf_multipl</th>\n",
       "      <td>38189</td>\n",
       "    </tr>\n",
       "    <tr>\n",
       "      <th>pop_campaign_id</th>\n",
       "      <td>214394</td>\n",
       "    </tr>\n",
       "    <tr>\n",
       "      <th>pop_campaign_id_conf</th>\n",
       "      <td>214394</td>\n",
       "    </tr>\n",
       "    <tr>\n",
       "      <th>pop_campaign_id_conf_multipl</th>\n",
       "      <td>214394</td>\n",
       "    </tr>\n",
       "    <tr>\n",
       "      <th>pop_doc_event_doc_ad</th>\n",
       "      <td>43315606</td>\n",
       "    </tr>\n",
       "    <tr>\n",
       "      <th>pop_doc_event_doc_ad_conf</th>\n",
       "      <td>43315606</td>\n",
       "    </tr>\n",
       "    <tr>\n",
       "      <th>pop_doc_event_doc_ad_conf_multipl</th>\n",
       "      <td>43315606</td>\n",
       "    </tr>\n",
       "    <tr>\n",
       "      <th>pop_source_id</th>\n",
       "      <td>74740</td>\n",
       "    </tr>\n",
       "    <tr>\n",
       "      <th>pop_source_id_conf</th>\n",
       "      <td>74740</td>\n",
       "    </tr>\n",
       "    <tr>\n",
       "      <th>pop_source_id_conf_multipl</th>\n",
       "      <td>74740</td>\n",
       "    </tr>\n",
       "    <tr>\n",
       "      <th>pop_topic_id</th>\n",
       "      <td>887349</td>\n",
       "    </tr>\n",
       "    <tr>\n",
       "      <th>pop_topic_id_conf</th>\n",
       "      <td>887349</td>\n",
       "    </tr>\n",
       "    <tr>\n",
       "      <th>pop_topic_id_conf_multipl</th>\n",
       "      <td>887349</td>\n",
       "    </tr>\n",
       "    <tr>\n",
       "      <th>pop_topic_id_country</th>\n",
       "      <td>912393</td>\n",
       "    </tr>\n",
       "    <tr>\n",
       "      <th>pop_topic_id_country_conf</th>\n",
       "      <td>912393</td>\n",
       "    </tr>\n",
       "    <tr>\n",
       "      <th>pop_topic_id_country_conf_multipl</th>\n",
       "      <td>912393</td>\n",
       "    </tr>\n",
       "    <tr>\n",
       "      <th>pop_category_id</th>\n",
       "      <td>80508</td>\n",
       "    </tr>\n",
       "    <tr>\n",
       "      <th>pop_category_id_conf</th>\n",
       "      <td>80508</td>\n",
       "    </tr>\n",
       "    <tr>\n",
       "      <th>pop_category_id_conf_multipl</th>\n",
       "      <td>80508</td>\n",
       "    </tr>\n",
       "    <tr>\n",
       "      <th>doc_event_publisher_id</th>\n",
       "      <td>1776</td>\n",
       "    </tr>\n",
       "    <tr>\n",
       "      <th>doc_event_source_id</th>\n",
       "      <td>7480739</td>\n",
       "    </tr>\n",
       "    <tr>\n",
       "      <th>event_hour</th>\n",
       "      <td>0</td>\n",
       "    </tr>\n",
       "    <tr>\n",
       "      <th>event_platform</th>\n",
       "      <td>30</td>\n",
       "    </tr>\n",
       "    <tr>\n",
       "      <th>traffic_source</th>\n",
       "      <td>195463</td>\n",
       "    </tr>\n",
       "    <tr>\n",
       "      <th>is_train</th>\n",
       "      <td>0</td>\n",
       "    </tr>\n",
       "    <tr>\n",
       "      <th>uuid_event</th>\n",
       "      <td>0</td>\n",
       "    </tr>\n",
       "    <tr>\n",
       "      <th>document_id_event</th>\n",
       "      <td>0</td>\n",
       "    </tr>\n",
       "    <tr>\n",
       "      <th>event_country</th>\n",
       "      <td>0</td>\n",
       "    </tr>\n",
       "    <tr>\n",
       "      <th>document_id_promo</th>\n",
       "      <td>0</td>\n",
       "    </tr>\n",
       "    <tr>\n",
       "      <th>campaign_id</th>\n",
       "      <td>0</td>\n",
       "    </tr>\n",
       "    <tr>\n",
       "      <th>advertiser_id</th>\n",
       "      <td>0</td>\n",
       "    </tr>\n",
       "    <tr>\n",
       "      <th>promo_doc_category_id</th>\n",
       "      <td>887349</td>\n",
       "    </tr>\n",
       "    <tr>\n",
       "      <th>promo_doc_category_conf</th>\n",
       "      <td>887349</td>\n",
       "    </tr>\n",
       "    <tr>\n",
       "      <th>promo_doc_topic_id</th>\n",
       "      <td>80508</td>\n",
       "    </tr>\n",
       "    <tr>\n",
       "      <th>promo_doc_topic_conf</th>\n",
       "      <td>80508</td>\n",
       "    </tr>\n",
       "    <tr>\n",
       "      <th>view_doc_category_id</th>\n",
       "      <td>8558654</td>\n",
       "    </tr>\n",
       "    <tr>\n",
       "      <th>view_doc_category_conf</th>\n",
       "      <td>8558654</td>\n",
       "    </tr>\n",
       "    <tr>\n",
       "      <th>view_doc_topic_id</th>\n",
       "      <td>3830600</td>\n",
       "    </tr>\n",
       "    <tr>\n",
       "      <th>view_doc_topic_conf</th>\n",
       "      <td>3830600</td>\n",
       "    </tr>\n",
       "    <tr>\n",
       "      <th>timestamp_event</th>\n",
       "      <td>0</td>\n",
       "    </tr>\n",
       "  </tbody>\n",
       "</table>\n",
       "</div>"
      ],
      "text/plain": [
       "                                          0\n",
       "display_id                                0\n",
       "ad_id                                     0\n",
       "label                                     0\n",
       "doc_event_id                              0\n",
       "is_leak                                   0\n",
       "event_weekend                             0\n",
       "user_views                         55311626\n",
       "ad_views                           33833186\n",
       "doc_views                          52700407\n",
       "pop_ad_id                           1501513\n",
       "pop_ad_id_conf                      1501513\n",
       "pop_ad_id_conf_multipl              1501513\n",
       "pop_document_id                      567008\n",
       "pop_document_id_conf                 567008\n",
       "pop_document_id_conf_multipl         567008\n",
       "pop_publisher_id                   53234319\n",
       "pop_publisher_id_conf              53234319\n",
       "pop_publisher_id_conf_multipl      53234319\n",
       "pop_advertiser_id                     38189\n",
       "pop_advertiser_id_conf                38189\n",
       "pop_advertiser_id_conf_multipl        38189\n",
       "pop_campaign_id                      214394\n",
       "pop_campaign_id_conf                 214394\n",
       "pop_campaign_id_conf_multipl         214394\n",
       "pop_doc_event_doc_ad               43315606\n",
       "pop_doc_event_doc_ad_conf          43315606\n",
       "pop_doc_event_doc_ad_conf_multipl  43315606\n",
       "pop_source_id                         74740\n",
       "pop_source_id_conf                    74740\n",
       "pop_source_id_conf_multipl            74740\n",
       "pop_topic_id                         887349\n",
       "pop_topic_id_conf                    887349\n",
       "pop_topic_id_conf_multipl            887349\n",
       "pop_topic_id_country                 912393\n",
       "pop_topic_id_country_conf            912393\n",
       "pop_topic_id_country_conf_multipl    912393\n",
       "pop_category_id                       80508\n",
       "pop_category_id_conf                  80508\n",
       "pop_category_id_conf_multipl          80508\n",
       "doc_event_publisher_id                 1776\n",
       "doc_event_source_id                 7480739\n",
       "event_hour                                0\n",
       "event_platform                           30\n",
       "traffic_source                       195463\n",
       "is_train                                  0\n",
       "uuid_event                                0\n",
       "document_id_event                         0\n",
       "event_country                             0\n",
       "document_id_promo                         0\n",
       "campaign_id                               0\n",
       "advertiser_id                             0\n",
       "promo_doc_category_id                887349\n",
       "promo_doc_category_conf              887349\n",
       "promo_doc_topic_id                    80508\n",
       "promo_doc_topic_conf                  80508\n",
       "view_doc_category_id                8558654\n",
       "view_doc_category_conf              8558654\n",
       "view_doc_topic_id                   3830600\n",
       "view_doc_topic_conf                 3830600\n",
       "timestamp_event                           0"
      ]
     },
     "execution_count": 60,
     "metadata": {},
     "output_type": "execute_result"
    }
   ],
   "source": [
    "df_null_pandas.transpose()"
   ]
  },
  {
   "cell_type": "markdown",
   "metadata": {},
   "source": [
    "### user_views"
   ]
  },
  {
   "cell_type": "code",
   "execution_count": 10,
   "metadata": {},
   "outputs": [
    {
     "name": "stdout",
     "output_type": "stream",
     "text": [
      "+-------+------------------+\n",
      "|summary|        user_views|\n",
      "+-------+------------------+\n",
      "|  count|          31830105|\n",
      "|   mean| 15.42115962231353|\n",
      "| stddev|24.242983550755422|\n",
      "|    min|                 1|\n",
      "|    max|               660|\n",
      "+-------+------------------+\n",
      "\n"
     ]
    }
   ],
   "source": [
    "# user_views 기초통계량\n",
    "\n",
    "df.describe('user_views').show()"
   ]
  },
  {
   "cell_type": "code",
   "execution_count": 11,
   "metadata": {},
   "outputs": [
    {
     "name": "stdout",
     "output_type": "stream",
     "text": [
      "CPU times: user 44 ms, sys: 16 ms, total: 60 ms\n",
      "Wall time: 2min 43s\n"
     ]
    },
    {
     "data": {
      "text/plain": [
       "[7.0]"
      ]
     },
     "execution_count": 11,
     "metadata": {},
     "output_type": "execute_result"
    }
   ],
   "source": [
    "# user_views 중앙값\n",
    "\n",
    "%time df.approxQuantile(\"user_views\", [0.5], 0.0)"
   ]
  },
  {
   "cell_type": "markdown",
   "metadata": {},
   "source": [
    "### traffic_source"
   ]
  },
  {
   "cell_type": "code",
   "execution_count": 12,
   "metadata": {},
   "outputs": [
    {
     "name": "stdout",
     "output_type": "stream",
     "text": [
      "+--------------+--------+--------------------+\n",
      "|traffic_source|   count|             percent|\n",
      "+--------------+--------+--------------------+\n",
      "|             1|64541983|  0.7406552780091091|\n",
      "|             2|11304279| 0.12972291082902634|\n",
      "|             3|11100006| 0.12737876414229138|\n",
      "|          null|  195463|0.002243047019573...|\n",
      "+--------------+--------+--------------------+\n",
      "\n"
     ]
    }
   ],
   "source": [
    "# traffic_source의 빈도 확인\n",
    "\n",
    "a = df.groupBy('traffic_source').count()\n",
    "a = a.withColumn('percent', f.col('count')/f.sum('count').over(Window.partitionBy()))\n",
    "a.orderBy('percent', ascending=False).show()"
   ]
  },
  {
   "cell_type": "markdown",
   "metadata": {},
   "source": [
    "### event_platform"
   ]
  },
  {
   "cell_type": "code",
   "execution_count": 13,
   "metadata": {},
   "outputs": [
    {
     "name": "stdout",
     "output_type": "stream",
     "text": [
      "+--------------+--------+---------+\n",
      "|event_platform|   count|  percent|\n",
      "+--------------+--------+---------+\n",
      "|             1|37519782|0.4305604|\n",
      "|             2|36836541|0.4227199|\n",
      "|             3|12785378|0.1467193|\n",
      "|          null|      30|     3E-7|\n",
      "+--------------+--------+---------+\n",
      "\n"
     ]
    }
   ],
   "source": [
    "# event_platform의 빈도 확인\n",
    "\n",
    "b = df.groupBy('event_platform').count()\n",
    "b = b.withColumn('percent', f.col('count')/f.sum('count').over(Window.partitionBy()))\n",
    "b = b.withColumn('percent', b.percent.cast(DecimalType(30, 7)))\n",
    "b.orderBy('percent', ascending=False).show()"
   ]
  },
  {
   "cell_type": "markdown",
   "metadata": {},
   "source": [
    "### event_country"
   ]
  },
  {
   "cell_type": "code",
   "execution_count": 14,
   "metadata": {},
   "outputs": [
    {
     "name": "stdout",
     "output_type": "stream",
     "text": [
      "+-------------+--------+-------+\n",
      "|event_country|   count|percent|\n",
      "+-------------+--------+-------+\n",
      "|           US|69467046|  0.797|\n",
      "|           CA| 4825996|  0.055|\n",
      "|           GB| 4389876|  0.050|\n",
      "|           AU| 1909614|  0.022|\n",
      "|           IN|  904682|  0.010|\n",
      "|           NZ|  431388|  0.005|\n",
      "|           ZA|  435104|  0.005|\n",
      "|           DE|  324978|  0.004|\n",
      "|           PH|  323204|  0.004|\n",
      "|           SG|  294342|  0.003|\n",
      "|           MY|  200615|  0.002|\n",
      "|           IE|  149778|  0.002|\n",
      "|           NL|  200305|  0.002|\n",
      "|           NG|  153241|  0.002|\n",
      "|           FR|  150387|  0.002|\n",
      "|           MX|  133416|  0.002|\n",
      "|           SE|  149531|  0.002|\n",
      "|           TH|   50145|  0.001|\n",
      "|           NO|   89372|  0.001|\n",
      "|           PK|   95565|  0.001|\n",
      "+-------------+--------+-------+\n",
      "only showing top 20 rows\n",
      "\n"
     ]
    }
   ],
   "source": [
    "# event_country의 빈도 확인\n",
    "\n",
    "c = df.groupBy('event_country').count()\n",
    "c = c.withColumn('percent', f.col('count')/f.sum('count').over(Window.partitionBy()))\n",
    "c = c.withColumn('percent', c.percent.cast(DecimalType(30, 3)))\n",
    "c.orderBy('percent', ascending=False).show()"
   ]
  },
  {
   "cell_type": "code",
   "execution_count": 15,
   "metadata": {},
   "outputs": [
    {
     "data": {
      "text/plain": [
       "8458813"
      ]
     },
     "execution_count": 15,
     "metadata": {},
     "output_type": "execute_result"
    }
   ],
   "source": [
    "# 전체 행 개수에서 US, CA, GB를 뺀 나머지의 행 개수\n",
    "\n",
    "87141731 - (69467046 + 4825996 + 4389876)"
   ]
  },
  {
   "cell_type": "markdown",
   "metadata": {},
   "source": [
    "### event_hour"
   ]
  },
  {
   "cell_type": "code",
   "execution_count": 5,
   "metadata": {},
   "outputs": [
    {
     "name": "stdout",
     "output_type": "stream",
     "text": [
      "+----------+--------+-------+\n",
      "|event_hour|   count|percent|\n",
      "+----------+--------+-------+\n",
      "|         6|26693449|  0.306|\n",
      "|         4|23853300|  0.274|\n",
      "|         3|13769120|  0.158|\n",
      "|         5|13632321|  0.156|\n",
      "|         2| 5655401|  0.065|\n",
      "|         1| 3538140|  0.041|\n",
      "+----------+--------+-------+\n",
      "\n"
     ]
    }
   ],
   "source": [
    "# event_hour의 빈도 확인\n",
    "\n",
    "e = df.groupBy('event_hour').count()\n",
    "e = e.withColumn('percent', f.col('count')/f.sum('count').over(Window.partitionBy()))\n",
    "e = e.withColumn('percent', e.percent.cast(DecimalType(30, 3)))\n",
    "e.orderBy('percent', ascending=False).show()"
   ]
  },
  {
   "cell_type": "markdown",
   "metadata": {},
   "source": [
    "### event_weekend"
   ]
  },
  {
   "cell_type": "code",
   "execution_count": 16,
   "metadata": {},
   "outputs": [
    {
     "name": "stdout",
     "output_type": "stream",
     "text": [
      "+-------------+--------+-------+\n",
      "|event_weekend|   count|percent|\n",
      "+-------------+--------+-------+\n",
      "|            0|63515114|  0.729|\n",
      "|            1|23626617|  0.271|\n",
      "+-------------+--------+-------+\n",
      "\n"
     ]
    }
   ],
   "source": [
    "# event_weekend 빈도 확인\n",
    "\n",
    "d = df.groupBy('event_weekend').count()\n",
    "d = d.withColumn('percent', f.col('count')/f.sum('count').over(Window.partitionBy()))\n",
    "d = d.withColumn('percent', d.percent.cast(DecimalType(30, 3)))\n",
    "d.orderBy('percent', ascending=False).show()"
   ]
  },
  {
   "cell_type": "markdown",
   "metadata": {},
   "source": [
    "### doc_views"
   ]
  },
  {
   "cell_type": "code",
   "execution_count": 17,
   "metadata": {},
   "outputs": [
    {
     "name": "stdout",
     "output_type": "stream",
     "text": [
      "+-------+-----------------+\n",
      "|summary|        doc_views|\n",
      "+-------+-----------------+\n",
      "|  count|         34441324|\n",
      "|   mean|3546.584138577251|\n",
      "| stddev| 2915.35179302884|\n",
      "|    min|                6|\n",
      "|    max|             9996|\n",
      "+-------+-----------------+\n",
      "\n"
     ]
    }
   ],
   "source": [
    "# doc_views 기초통계량\n",
    "\n",
    "df.describe('doc_views').show()"
   ]
  },
  {
   "cell_type": "code",
   "execution_count": 18,
   "metadata": {},
   "outputs": [
    {
     "name": "stdout",
     "output_type": "stream",
     "text": [
      "CPU times: user 48 ms, sys: 8 ms, total: 56 ms\n",
      "Wall time: 2min 53s\n"
     ]
    },
    {
     "data": {
      "text/plain": [
       "[2857.0]"
      ]
     },
     "execution_count": 18,
     "metadata": {},
     "output_type": "execute_result"
    }
   ],
   "source": [
    "# doc_views 중앙값\n",
    "\n",
    "%time df.approxQuantile(\"doc_views\", [0.5], 0.0)"
   ]
  },
  {
   "cell_type": "markdown",
   "metadata": {},
   "source": [
    "### pop_document_id"
   ]
  },
  {
   "cell_type": "code",
   "execution_count": 26,
   "metadata": {},
   "outputs": [
    {
     "data": {
      "text/plain": [
       "86574723"
      ]
     },
     "execution_count": 26,
     "metadata": {},
     "output_type": "execute_result"
    }
   ],
   "source": [
    "# na값 제거 후, 남은 row 개수 카운트\n",
    "\n",
    "aa = df.select(['ad_doc_id','pop_document_id']).dropna()\n",
    "aa.count()"
   ]
  },
  {
   "cell_type": "code",
   "execution_count": 28,
   "metadata": {},
   "outputs": [
    {
     "name": "stdout",
     "output_type": "stream",
     "text": [
      "+-------+--------------------+\n",
      "|summary|avg(pop_document_id)|\n",
      "+-------+--------------------+\n",
      "|  count|               74766|\n",
      "|   mean| 0.15048819150738502|\n",
      "| stddev|  0.1209963063068483|\n",
      "|    min|                 0.0|\n",
      "|    max|                 1.0|\n",
      "+-------+--------------------+\n",
      "\n"
     ]
    }
   ],
   "source": [
    "# 랜딩페이지의 id별로 groupby해서 \n",
    "\n",
    "aa = aa.groupBy('ad_doc_id').agg({'pop_document_id' : 'mean'})\n",
    "aa.describe('avg(pop_document_id)').show()"
   ]
  },
  {
   "cell_type": "code",
   "execution_count": 29,
   "metadata": {},
   "outputs": [
    {
     "name": "stdout",
     "output_type": "stream",
     "text": [
      "CPU times: user 8 ms, sys: 12 ms, total: 20 ms\n",
      "Wall time: 1.35 s\n"
     ]
    },
    {
     "data": {
      "text/plain": [
       "[0.1317799985408783]"
      ]
     },
     "execution_count": 29,
     "metadata": {},
     "output_type": "execute_result"
    }
   ],
   "source": [
    "# 중앙값 확인\n",
    "\n",
    "%time aa.approxQuantile(\"avg(pop_document_id)\", [0.5], 0.0)"
   ]
  },
  {
   "cell_type": "code",
   "execution_count": 37,
   "metadata": {},
   "outputs": [
    {
     "name": "stdout",
     "output_type": "stream",
     "text": [
      "+---------+--------------------+\n",
      "|ad_doc_id|avg(pop_document_id)|\n",
      "+---------+--------------------+\n",
      "|    29834| 0.04761900007724762|\n",
      "|    29993|                 0.0|\n",
      "|   130003|                 0.0|\n",
      "|   131931| 0.09459500014781952|\n",
      "|   132406| 0.14285999536514282|\n",
      "|   193640|                 0.0|\n",
      "|   194034|  0.3333300054073334|\n",
      "|   267740|                 0.0|\n",
      "|   296807| 0.11676999926567078|\n",
      "|   312132| 0.24490000307559967|\n",
      "|   334772| 0.13333000242710114|\n",
      "|   344121| 0.07142899930477142|\n",
      "|   351175| 0.38266998529434204|\n",
      "|   351750|                 0.0|\n",
      "|   371765| 0.02430099993944168|\n",
      "|   373035| 0.12213999778032303|\n",
      "|   376650|  0.1212100014090538|\n",
      "|   398542|  0.2617399990558624|\n",
      "|   423444| 0.14285999536514282|\n",
      "|   426301|  0.1899999976158142|\n",
      "+---------+--------------------+\n",
      "only showing top 20 rows\n",
      "\n"
     ]
    }
   ],
   "source": [
    "aa.show()"
   ]
  },
  {
   "cell_type": "markdown",
   "metadata": {},
   "source": [
    "### pop_document_id_conf"
   ]
  },
  {
   "cell_type": "code",
   "execution_count": null,
   "metadata": {},
   "outputs": [],
   "source": []
  },
  {
   "cell_type": "code",
   "execution_count": null,
   "metadata": {},
   "outputs": [],
   "source": []
  },
  {
   "cell_type": "code",
   "execution_count": null,
   "metadata": {},
   "outputs": [],
   "source": []
  },
  {
   "cell_type": "code",
   "execution_count": null,
   "metadata": {},
   "outputs": [],
   "source": []
  },
  {
   "cell_type": "code",
   "execution_count": null,
   "metadata": {},
   "outputs": [],
   "source": []
  },
  {
   "cell_type": "code",
   "execution_count": null,
   "metadata": {},
   "outputs": [],
   "source": []
  },
  {
   "cell_type": "code",
   "execution_count": null,
   "metadata": {},
   "outputs": [],
   "source": []
  },
  {
   "cell_type": "code",
   "execution_count": null,
   "metadata": {},
   "outputs": [],
   "source": []
  },
  {
   "cell_type": "code",
   "execution_count": null,
   "metadata": {},
   "outputs": [],
   "source": []
  },
  {
   "cell_type": "markdown",
   "metadata": {},
   "source": [
    "### pop_publisher_id"
   ]
  },
  {
   "cell_type": "code",
   "execution_count": 19,
   "metadata": {},
   "outputs": [
    {
     "name": "stdout",
     "output_type": "stream",
     "text": [
      "+-------+-------------------+\n",
      "|summary|   pop_publisher_id|\n",
      "+-------+-------------------+\n",
      "|  count|           33907412|\n",
      "|   mean|0.19122963722612996|\n",
      "| stddev|0.10087599316192765|\n",
      "|    min|                0.0|\n",
      "|    max|            0.83636|\n",
      "+-------+-------------------+\n",
      "\n"
     ]
    }
   ],
   "source": [
    "# pop_publisher_id 기초통계량\n",
    "\n",
    "df.describe('pop_publisher_id').show()"
   ]
  },
  {
   "cell_type": "code",
   "execution_count": 20,
   "metadata": {},
   "outputs": [
    {
     "name": "stdout",
     "output_type": "stream",
     "text": [
      "CPU times: user 56 ms, sys: 4 ms, total: 60 ms\n",
      "Wall time: 2min 42s\n"
     ]
    },
    {
     "data": {
      "text/plain": [
       "[0.1783600002527237]"
      ]
     },
     "execution_count": 20,
     "metadata": {},
     "output_type": "execute_result"
    }
   ],
   "source": [
    "# pop_publisher_id 중앙값\n",
    "\n",
    "%time df.approxQuantile(\"pop_publisher_id\", [0.5], 0.0)"
   ]
  },
  {
   "cell_type": "markdown",
   "metadata": {},
   "source": [
    "### pop_publisher_id_conf"
   ]
  },
  {
   "cell_type": "code",
   "execution_count": null,
   "metadata": {},
   "outputs": [],
   "source": []
  },
  {
   "cell_type": "code",
   "execution_count": null,
   "metadata": {},
   "outputs": [],
   "source": []
  },
  {
   "cell_type": "markdown",
   "metadata": {},
   "source": [
    "### pop_publisher_id_conf_multipl"
   ]
  },
  {
   "cell_type": "code",
   "execution_count": null,
   "metadata": {},
   "outputs": [],
   "source": []
  },
  {
   "cell_type": "code",
   "execution_count": null,
   "metadata": {},
   "outputs": [],
   "source": []
  },
  {
   "cell_type": "markdown",
   "metadata": {},
   "source": [
    "### pop_source_id"
   ]
  },
  {
   "cell_type": "code",
   "execution_count": null,
   "metadata": {},
   "outputs": [],
   "source": []
  },
  {
   "cell_type": "code",
   "execution_count": null,
   "metadata": {},
   "outputs": [],
   "source": []
  },
  {
   "cell_type": "markdown",
   "metadata": {},
   "source": [
    "### pop_source_id_conf"
   ]
  },
  {
   "cell_type": "code",
   "execution_count": null,
   "metadata": {},
   "outputs": [],
   "source": []
  },
  {
   "cell_type": "code",
   "execution_count": null,
   "metadata": {},
   "outputs": [],
   "source": []
  },
  {
   "cell_type": "markdown",
   "metadata": {},
   "source": [
    "### pop_source_id_conf_multipl"
   ]
  },
  {
   "cell_type": "code",
   "execution_count": null,
   "metadata": {},
   "outputs": [],
   "source": []
  },
  {
   "cell_type": "code",
   "execution_count": null,
   "metadata": {},
   "outputs": [],
   "source": []
  },
  {
   "cell_type": "markdown",
   "metadata": {},
   "source": [
    "### pop_topic_id"
   ]
  },
  {
   "cell_type": "code",
   "execution_count": null,
   "metadata": {},
   "outputs": [],
   "source": []
  },
  {
   "cell_type": "code",
   "execution_count": null,
   "metadata": {},
   "outputs": [],
   "source": []
  },
  {
   "cell_type": "markdown",
   "metadata": {},
   "source": [
    "### pop_topic_id_conf"
   ]
  },
  {
   "cell_type": "code",
   "execution_count": null,
   "metadata": {},
   "outputs": [],
   "source": []
  },
  {
   "cell_type": "code",
   "execution_count": null,
   "metadata": {},
   "outputs": [],
   "source": []
  },
  {
   "cell_type": "markdown",
   "metadata": {},
   "source": [
    "### pop_topic_id_conf_multipl"
   ]
  },
  {
   "cell_type": "code",
   "execution_count": null,
   "metadata": {},
   "outputs": [],
   "source": []
  },
  {
   "cell_type": "code",
   "execution_count": null,
   "metadata": {},
   "outputs": [],
   "source": []
  },
  {
   "cell_type": "markdown",
   "metadata": {},
   "source": [
    "### pop_category_id"
   ]
  },
  {
   "cell_type": "code",
   "execution_count": null,
   "metadata": {},
   "outputs": [],
   "source": []
  },
  {
   "cell_type": "code",
   "execution_count": null,
   "metadata": {},
   "outputs": [],
   "source": []
  },
  {
   "cell_type": "markdown",
   "metadata": {},
   "source": [
    "### pop_category_id_conf"
   ]
  },
  {
   "cell_type": "code",
   "execution_count": null,
   "metadata": {},
   "outputs": [],
   "source": []
  },
  {
   "cell_type": "code",
   "execution_count": null,
   "metadata": {},
   "outputs": [],
   "source": []
  },
  {
   "cell_type": "markdown",
   "metadata": {},
   "source": [
    "### pop_category_id_conf_multipl"
   ]
  },
  {
   "cell_type": "code",
   "execution_count": null,
   "metadata": {},
   "outputs": [],
   "source": []
  },
  {
   "cell_type": "code",
   "execution_count": null,
   "metadata": {},
   "outputs": [],
   "source": []
  },
  {
   "cell_type": "markdown",
   "metadata": {},
   "source": [
    "### ad_views"
   ]
  },
  {
   "cell_type": "code",
   "execution_count": null,
   "metadata": {},
   "outputs": [],
   "source": []
  },
  {
   "cell_type": "code",
   "execution_count": null,
   "metadata": {},
   "outputs": [],
   "source": []
  },
  {
   "cell_type": "code",
   "execution_count": null,
   "metadata": {},
   "outputs": [],
   "source": []
  },
  {
   "cell_type": "code",
   "execution_count": null,
   "metadata": {},
   "outputs": [],
   "source": []
  },
  {
   "cell_type": "code",
   "execution_count": null,
   "metadata": {},
   "outputs": [],
   "source": []
  },
  {
   "cell_type": "code",
   "execution_count": null,
   "metadata": {},
   "outputs": [],
   "source": []
  },
  {
   "cell_type": "code",
   "execution_count": null,
   "metadata": {},
   "outputs": [],
   "source": []
  },
  {
   "cell_type": "code",
   "execution_count": null,
   "metadata": {},
   "outputs": [],
   "source": []
  },
  {
   "cell_type": "code",
   "execution_count": null,
   "metadata": {},
   "outputs": [],
   "source": []
  },
  {
   "cell_type": "code",
   "execution_count": null,
   "metadata": {},
   "outputs": [],
   "source": []
  },
  {
   "cell_type": "code",
   "execution_count": null,
   "metadata": {},
   "outputs": [],
   "source": []
  }
 ],
 "metadata": {
  "kernelspec": {
   "display_name": "Python 2",
   "language": "python",
   "name": "python2"
  },
  "language_info": {
   "codemirror_mode": {
    "name": "ipython",
    "version": 2
   },
   "file_extension": ".py",
   "mimetype": "text/x-python",
   "name": "python",
   "nbconvert_exporter": "python",
   "pygments_lexer": "ipython2",
   "version": "2.7.15"
  }
 },
 "nbformat": 4,
 "nbformat_minor": 2
}
