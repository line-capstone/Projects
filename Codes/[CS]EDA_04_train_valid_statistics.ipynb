{
 "cells": [
  {
   "cell_type": "markdown",
   "metadata": {},
   "source": [
    "# EDA for Train set and Validation set"
   ]
  },
  {
   "cell_type": "raw",
   "metadata": {},
   "source": [
    "Train set과 Validation set에 대한 EDA"
   ]
  },
  {
   "cell_type": "code",
   "execution_count": 1,
   "metadata": {},
   "outputs": [],
   "source": [
    "from pyspark.sql.types import *\n",
    "from pyspark.sql.functions import isnan, when, count, col\n",
    "import pyspark.sql.functions as f\n",
    "from pyspark.sql.window import Window\n",
    "import pandas as pd"
   ]
  },
  {
   "cell_type": "code",
   "execution_count": 2,
   "metadata": {},
   "outputs": [],
   "source": [
    "# data load\n",
    "\n",
    "train_valid_merged_df = spark.read.parquet(\"gs://cap-18/output/train_subset_final\")"
   ]
  },
  {
   "cell_type": "code",
   "execution_count": 3,
   "metadata": {},
   "outputs": [],
   "source": [
    "# 반복된 작업과 빠른 처리를 위한 캐싱\n",
    "\n",
    "df = train_valid_merged_df.cache()"
   ]
  },
  {
   "cell_type": "markdown",
   "metadata": {},
   "source": [
    "### 데이터 구조 확인"
   ]
  },
  {
   "cell_type": "code",
   "execution_count": 4,
   "metadata": {},
   "outputs": [
    {
     "data": {
      "text/plain": [
       "['display_id',\n",
       " 'ad_id',\n",
       " 'label',\n",
       " 'doc_id',\n",
       " 'is_leak',\n",
       " 'event_weekend',\n",
       " 'user_views',\n",
       " 'ad_views',\n",
       " 'doc_views',\n",
       " 'doc_event_hour',\n",
       " 'pop_ad_id',\n",
       " 'pop_ad_id_conf',\n",
       " 'pop_ad_id_conf_multipl',\n",
       " 'pop_document_id',\n",
       " 'pop_document_id_conf',\n",
       " 'pop_document_id_conf_multipl',\n",
       " 'pop_publisher_id',\n",
       " 'pop_publisher_id_conf',\n",
       " 'pop_publisher_id_conf_multipl',\n",
       " 'pop_advertiser_id',\n",
       " 'pop_advertiser_id_conf',\n",
       " 'pop_advertiser_id_conf_multipl',\n",
       " 'pop_campaign_id',\n",
       " 'pop_campaign_id_conf',\n",
       " 'pop_campaign_id_conf_multipl',\n",
       " 'pop_doc_event_doc_ad',\n",
       " 'pop_doc_event_doc_ad_conf',\n",
       " 'pop_doc_event_doc_ad_conf_multipl',\n",
       " 'pop_source_id',\n",
       " 'pop_source_id_conf',\n",
       " 'pop_source_id_conf_multipl',\n",
       " 'pop_source_id_country',\n",
       " 'pop_source_id_country_conf',\n",
       " 'pop_source_id_country_conf_multipl',\n",
       " 'pop_topic_id',\n",
       " 'pop_topic_id_conf',\n",
       " 'pop_topic_id_conf_multipl',\n",
       " 'pop_category_id',\n",
       " 'pop_category_id_conf',\n",
       " 'pop_category_id_conf_multipl',\n",
       " 'pop_category_id_country',\n",
       " 'pop_category_id_country_conf',\n",
       " 'pop_category_id_country_conf_multipl',\n",
       " 'doc_event_publisher_id',\n",
       " 'doc_event_source_id',\n",
       " 'event_hour',\n",
       " 'event_platform',\n",
       " 'traffic_source',\n",
       " 'is_train',\n",
       " 'uuid',\n",
       " 'view_doc_id',\n",
       " 'platform_event',\n",
       " 'event_country',\n",
       " 'day_event',\n",
       " 'ad_doc_id',\n",
       " 'campaign_id',\n",
       " 'advertiser_id',\n",
       " 'ad_category_id',\n",
       " 'ad_category_conf',\n",
       " 'ad_topic_id',\n",
       " 'ad_topic_conf',\n",
       " 'document_id_cat',\n",
       " 'view_category_id',\n",
       " 'view_category_conf',\n",
       " 'document_id_top',\n",
       " 'view_topic_id',\n",
       " 'view_topic_conf',\n",
       " 'timestamp_event',\n",
       " 'ad_source_id',\n",
       " 'ad_publisher_id']"
      ]
     },
     "execution_count": 4,
     "metadata": {},
     "output_type": "execute_result"
    }
   ],
   "source": [
    "# 컬럼명 확인\n",
    "\n",
    "df.columns"
   ]
  },
  {
   "cell_type": "code",
   "execution_count": 6,
   "metadata": {},
   "outputs": [
    {
     "data": {
      "text/plain": [
       "70"
      ]
     },
     "execution_count": 6,
     "metadata": {},
     "output_type": "execute_result"
    }
   ],
   "source": [
    "# 컬럼 개수 확인\n",
    "\n",
    "len(df.columns)"
   ]
  },
  {
   "cell_type": "markdown",
   "metadata": {},
   "source": [
    "총 60개의 컬럼이 있다."
   ]
  },
  {
   "cell_type": "code",
   "execution_count": 7,
   "metadata": {},
   "outputs": [
    {
     "data": {
      "text/plain": [
       "87141731"
      ]
     },
     "execution_count": 7,
     "metadata": {},
     "output_type": "execute_result"
    }
   ],
   "source": [
    "# row 개수 확인\n",
    "\n",
    "df.count()"
   ]
  },
  {
   "cell_type": "markdown",
   "metadata": {},
   "source": [
    "87,141,731개의 row가 있다."
   ]
  },
  {
   "cell_type": "code",
   "execution_count": 8,
   "metadata": {},
   "outputs": [],
   "source": [
    "# display 옵션 조정\n",
    "\n",
    "pd.set_option('display.max_columns', 100)"
   ]
  },
  {
   "cell_type": "markdown",
   "metadata": {},
   "source": [
    "### 변수별 결측치 개수 확인"
   ]
  },
  {
   "cell_type": "code",
   "execution_count": 9,
   "metadata": {},
   "outputs": [
    {
     "data": {
      "text/html": [
       "<div>\n",
       "<style scoped>\n",
       "    .dataframe tbody tr th:only-of-type {\n",
       "        vertical-align: middle;\n",
       "    }\n",
       "\n",
       "    .dataframe tbody tr th {\n",
       "        vertical-align: top;\n",
       "    }\n",
       "\n",
       "    .dataframe thead th {\n",
       "        text-align: right;\n",
       "    }\n",
       "</style>\n",
       "<table border=\"1\" class=\"dataframe\">\n",
       "  <thead>\n",
       "    <tr style=\"text-align: right;\">\n",
       "      <th></th>\n",
       "      <th>0</th>\n",
       "    </tr>\n",
       "  </thead>\n",
       "  <tbody>\n",
       "    <tr>\n",
       "      <th>display_id</th>\n",
       "      <td>0</td>\n",
       "    </tr>\n",
       "    <tr>\n",
       "      <th>ad_id</th>\n",
       "      <td>0</td>\n",
       "    </tr>\n",
       "    <tr>\n",
       "      <th>label</th>\n",
       "      <td>0</td>\n",
       "    </tr>\n",
       "    <tr>\n",
       "      <th>doc_id</th>\n",
       "      <td>0</td>\n",
       "    </tr>\n",
       "    <tr>\n",
       "      <th>is_leak</th>\n",
       "      <td>0</td>\n",
       "    </tr>\n",
       "    <tr>\n",
       "      <th>event_weekend</th>\n",
       "      <td>0</td>\n",
       "    </tr>\n",
       "    <tr>\n",
       "      <th>user_views</th>\n",
       "      <td>55311626</td>\n",
       "    </tr>\n",
       "    <tr>\n",
       "      <th>ad_views</th>\n",
       "      <td>33833186</td>\n",
       "    </tr>\n",
       "    <tr>\n",
       "      <th>doc_views</th>\n",
       "      <td>52700407</td>\n",
       "    </tr>\n",
       "    <tr>\n",
       "      <th>doc_event_hour</th>\n",
       "      <td>0</td>\n",
       "    </tr>\n",
       "    <tr>\n",
       "      <th>pop_ad_id</th>\n",
       "      <td>1501513</td>\n",
       "    </tr>\n",
       "    <tr>\n",
       "      <th>pop_ad_id_conf</th>\n",
       "      <td>1501513</td>\n",
       "    </tr>\n",
       "    <tr>\n",
       "      <th>pop_ad_id_conf_multipl</th>\n",
       "      <td>1501513</td>\n",
       "    </tr>\n",
       "    <tr>\n",
       "      <th>pop_document_id</th>\n",
       "      <td>567008</td>\n",
       "    </tr>\n",
       "    <tr>\n",
       "      <th>pop_document_id_conf</th>\n",
       "      <td>567008</td>\n",
       "    </tr>\n",
       "    <tr>\n",
       "      <th>pop_document_id_conf_multipl</th>\n",
       "      <td>567008</td>\n",
       "    </tr>\n",
       "    <tr>\n",
       "      <th>pop_publisher_id</th>\n",
       "      <td>53234319</td>\n",
       "    </tr>\n",
       "    <tr>\n",
       "      <th>pop_publisher_id_conf</th>\n",
       "      <td>53234319</td>\n",
       "    </tr>\n",
       "    <tr>\n",
       "      <th>pop_publisher_id_conf_multipl</th>\n",
       "      <td>53234319</td>\n",
       "    </tr>\n",
       "    <tr>\n",
       "      <th>pop_advertiser_id</th>\n",
       "      <td>38189</td>\n",
       "    </tr>\n",
       "    <tr>\n",
       "      <th>pop_advertiser_id_conf</th>\n",
       "      <td>38189</td>\n",
       "    </tr>\n",
       "    <tr>\n",
       "      <th>pop_advertiser_id_conf_multipl</th>\n",
       "      <td>38189</td>\n",
       "    </tr>\n",
       "    <tr>\n",
       "      <th>pop_campaign_id</th>\n",
       "      <td>214394</td>\n",
       "    </tr>\n",
       "    <tr>\n",
       "      <th>pop_campaign_id_conf</th>\n",
       "      <td>214394</td>\n",
       "    </tr>\n",
       "    <tr>\n",
       "      <th>pop_campaign_id_conf_multipl</th>\n",
       "      <td>214394</td>\n",
       "    </tr>\n",
       "    <tr>\n",
       "      <th>pop_doc_event_doc_ad</th>\n",
       "      <td>43315606</td>\n",
       "    </tr>\n",
       "    <tr>\n",
       "      <th>pop_doc_event_doc_ad_conf</th>\n",
       "      <td>43315606</td>\n",
       "    </tr>\n",
       "    <tr>\n",
       "      <th>pop_doc_event_doc_ad_conf_multipl</th>\n",
       "      <td>43315606</td>\n",
       "    </tr>\n",
       "    <tr>\n",
       "      <th>pop_source_id</th>\n",
       "      <td>74740</td>\n",
       "    </tr>\n",
       "    <tr>\n",
       "      <th>pop_source_id_conf</th>\n",
       "      <td>74740</td>\n",
       "    </tr>\n",
       "    <tr>\n",
       "      <th>...</th>\n",
       "      <td>...</td>\n",
       "    </tr>\n",
       "    <tr>\n",
       "      <th>pop_category_id_country</th>\n",
       "      <td>85803</td>\n",
       "    </tr>\n",
       "    <tr>\n",
       "      <th>pop_category_id_country_conf</th>\n",
       "      <td>85803</td>\n",
       "    </tr>\n",
       "    <tr>\n",
       "      <th>pop_category_id_country_conf_multipl</th>\n",
       "      <td>85803</td>\n",
       "    </tr>\n",
       "    <tr>\n",
       "      <th>doc_event_publisher_id</th>\n",
       "      <td>1776</td>\n",
       "    </tr>\n",
       "    <tr>\n",
       "      <th>doc_event_source_id</th>\n",
       "      <td>7480739</td>\n",
       "    </tr>\n",
       "    <tr>\n",
       "      <th>event_hour</th>\n",
       "      <td>0</td>\n",
       "    </tr>\n",
       "    <tr>\n",
       "      <th>event_platform</th>\n",
       "      <td>30</td>\n",
       "    </tr>\n",
       "    <tr>\n",
       "      <th>traffic_source</th>\n",
       "      <td>195463</td>\n",
       "    </tr>\n",
       "    <tr>\n",
       "      <th>is_train</th>\n",
       "      <td>0</td>\n",
       "    </tr>\n",
       "    <tr>\n",
       "      <th>uuid</th>\n",
       "      <td>0</td>\n",
       "    </tr>\n",
       "    <tr>\n",
       "      <th>view_doc_id</th>\n",
       "      <td>0</td>\n",
       "    </tr>\n",
       "    <tr>\n",
       "      <th>platform_event</th>\n",
       "      <td>30</td>\n",
       "    </tr>\n",
       "    <tr>\n",
       "      <th>event_country</th>\n",
       "      <td>0</td>\n",
       "    </tr>\n",
       "    <tr>\n",
       "      <th>day_event</th>\n",
       "      <td>0</td>\n",
       "    </tr>\n",
       "    <tr>\n",
       "      <th>ad_doc_id</th>\n",
       "      <td>0</td>\n",
       "    </tr>\n",
       "    <tr>\n",
       "      <th>campaign_id</th>\n",
       "      <td>0</td>\n",
       "    </tr>\n",
       "    <tr>\n",
       "      <th>advertiser_id</th>\n",
       "      <td>0</td>\n",
       "    </tr>\n",
       "    <tr>\n",
       "      <th>ad_category_id</th>\n",
       "      <td>80508</td>\n",
       "    </tr>\n",
       "    <tr>\n",
       "      <th>ad_category_conf</th>\n",
       "      <td>80508</td>\n",
       "    </tr>\n",
       "    <tr>\n",
       "      <th>ad_topic_id</th>\n",
       "      <td>887349</td>\n",
       "    </tr>\n",
       "    <tr>\n",
       "      <th>ad_topic_conf</th>\n",
       "      <td>887349</td>\n",
       "    </tr>\n",
       "    <tr>\n",
       "      <th>document_id_cat</th>\n",
       "      <td>3830600</td>\n",
       "    </tr>\n",
       "    <tr>\n",
       "      <th>view_category_id</th>\n",
       "      <td>3830600</td>\n",
       "    </tr>\n",
       "    <tr>\n",
       "      <th>view_category_conf</th>\n",
       "      <td>3830600</td>\n",
       "    </tr>\n",
       "    <tr>\n",
       "      <th>document_id_top</th>\n",
       "      <td>8558654</td>\n",
       "    </tr>\n",
       "    <tr>\n",
       "      <th>view_topic_id</th>\n",
       "      <td>8558654</td>\n",
       "    </tr>\n",
       "    <tr>\n",
       "      <th>view_topic_conf</th>\n",
       "      <td>8558654</td>\n",
       "    </tr>\n",
       "    <tr>\n",
       "      <th>timestamp_event</th>\n",
       "      <td>0</td>\n",
       "    </tr>\n",
       "    <tr>\n",
       "      <th>ad_source_id</th>\n",
       "      <td>59406</td>\n",
       "    </tr>\n",
       "    <tr>\n",
       "      <th>ad_publisher_id</th>\n",
       "      <td>53233366</td>\n",
       "    </tr>\n",
       "  </tbody>\n",
       "</table>\n",
       "<p>70 rows × 1 columns</p>\n",
       "</div>"
      ],
      "text/plain": [
       "                                             0\n",
       "display_id                                   0\n",
       "ad_id                                        0\n",
       "label                                        0\n",
       "doc_id                                       0\n",
       "is_leak                                      0\n",
       "event_weekend                                0\n",
       "user_views                            55311626\n",
       "ad_views                              33833186\n",
       "doc_views                             52700407\n",
       "doc_event_hour                               0\n",
       "pop_ad_id                              1501513\n",
       "pop_ad_id_conf                         1501513\n",
       "pop_ad_id_conf_multipl                 1501513\n",
       "pop_document_id                         567008\n",
       "pop_document_id_conf                    567008\n",
       "pop_document_id_conf_multipl            567008\n",
       "pop_publisher_id                      53234319\n",
       "pop_publisher_id_conf                 53234319\n",
       "pop_publisher_id_conf_multipl         53234319\n",
       "pop_advertiser_id                        38189\n",
       "pop_advertiser_id_conf                   38189\n",
       "pop_advertiser_id_conf_multipl           38189\n",
       "pop_campaign_id                         214394\n",
       "pop_campaign_id_conf                    214394\n",
       "pop_campaign_id_conf_multipl            214394\n",
       "pop_doc_event_doc_ad                  43315606\n",
       "pop_doc_event_doc_ad_conf             43315606\n",
       "pop_doc_event_doc_ad_conf_multipl     43315606\n",
       "pop_source_id                            74740\n",
       "pop_source_id_conf                       74740\n",
       "...                                        ...\n",
       "pop_category_id_country                  85803\n",
       "pop_category_id_country_conf             85803\n",
       "pop_category_id_country_conf_multipl     85803\n",
       "doc_event_publisher_id                    1776\n",
       "doc_event_source_id                    7480739\n",
       "event_hour                                   0\n",
       "event_platform                              30\n",
       "traffic_source                          195463\n",
       "is_train                                     0\n",
       "uuid                                         0\n",
       "view_doc_id                                  0\n",
       "platform_event                              30\n",
       "event_country                                0\n",
       "day_event                                    0\n",
       "ad_doc_id                                    0\n",
       "campaign_id                                  0\n",
       "advertiser_id                                0\n",
       "ad_category_id                           80508\n",
       "ad_category_conf                         80508\n",
       "ad_topic_id                             887349\n",
       "ad_topic_conf                           887349\n",
       "document_id_cat                        3830600\n",
       "view_category_id                       3830600\n",
       "view_category_conf                     3830600\n",
       "document_id_top                        8558654\n",
       "view_topic_id                          8558654\n",
       "view_topic_conf                        8558654\n",
       "timestamp_event                              0\n",
       "ad_source_id                             59406\n",
       "ad_publisher_id                       53233366\n",
       "\n",
       "[70 rows x 1 columns]"
      ]
     },
     "execution_count": 9,
     "metadata": {},
     "output_type": "execute_result"
    }
   ],
   "source": [
    "# 변수별 결측치 확인\n",
    "\n",
    "df_null = df.select([count(when(isnan(c) | col(c).isNull(), c)).alias(c) for c in df.columns]) # 변수별 결측치 수 확인\n",
    "df_null_pandas = df_null.toPandas() # 보기 편하도록 판다스 데이터프레임으로 변환\n",
    "df_null_pandas.transpose()"
   ]
  },
  {
   "cell_type": "markdown",
   "metadata": {},
   "source": [
    "## 함수 정의"
   ]
  },
  {
   "cell_type": "markdown",
   "metadata": {},
   "source": [
    "1. 기초통계량 및 중앙값 계산을 위한 함수 정의"
   ]
  },
  {
   "cell_type": "code",
   "execution_count": 19,
   "metadata": {},
   "outputs": [],
   "source": [
    "def describe_median(variable):\n",
    "  print(\"Statistics for {}\".format(variable))\n",
    "  df.describe(variable).show() # 기초통계량 계산\n",
    "  variable_median = df.approxQuantile(variable, [0.5], 0.0) # 중앙값 계산\n",
    "  print(\"The median of this variable is {}\".format(variable_median))"
   ]
  },
  {
   "cell_type": "markdown",
   "metadata": {},
   "source": [
    "2. 빈도 계산을 위한 함수 정의"
   ]
  },
  {
   "cell_type": "code",
   "execution_count": 28,
   "metadata": {},
   "outputs": [],
   "source": [
    "def count_freq(variable):\n",
    "  freq = df.groupBy(variable).count()\n",
    "  freq_df = freq.withColumn('percent', f.col('count')/f.sum('count').over(Window.partitionBy()))\n",
    "  freq_df = freq_df.withColumn('percent', freq_df.percent.cast(DecimalType(30, 10)))\n",
    "  freq_df.orderBy('percent', ascending=False).show()"
   ]
  },
  {
   "cell_type": "markdown",
   "metadata": {},
   "source": [
    "3. CTR 기초통계량 계산을 위한 함수 정의"
   ]
  },
  {
   "cell_type": "code",
   "execution_count": 23,
   "metadata": {},
   "outputs": [],
   "source": [
    "# CTR, CTR 신뢰도, CTR과 신뢰도를 곱한 변수의 기초통계량을 구하는 함수 정의\n",
    "\n",
    "def grouped_stats(key, base, conf, multipl):  \n",
    "  print('1. CTR by {}'.format(key))\n",
    "  base_df = df.select([key, base]).dropna() # 데이터프레임에서 key와 CTR 열만 가져와서 결측치를 제거\n",
    "  base_df_count = base_df.count() # 행의 개수 확인\n",
    "  print(\"The number of rows is {:,d}\".format(base_df_count))\n",
    "  grouped_base_df = base_df.groupBy(key).agg({base : 'mean'}) # key를 기준으로 그룹화해서 CTR의 평균을 구함\n",
    "  grouped_base_df.describe('avg(' + base + ')').show(30, False) # 기초통계량 계산\n",
    "  base_median = grouped_base_df.approxQuantile('avg(' + base + ')', [0.5], 0.0) # 중앙값 계산\n",
    "  print(\"The median of CTR is {}\".format(base_median)) \n",
    "  \n",
    "  print('')\n",
    "  print('2. CTR confidence by {}'.format(key))\n",
    "  conf_df = df.select([key, conf]).dropna()\n",
    "  conf_df_count = conf_df.count()\n",
    "  print(\"The number of rows is {:,d}\".format(conf_df_count))\n",
    "  grouped_conf_df = conf_df.groupBy(key).agg({conf : 'mean'})\n",
    "  grouped_conf_df.describe('avg(' + conf + ')').show(30, False)\n",
    "  conf_median = grouped_conf_df.approxQuantile('avg(' + conf + ')', [0.5], 0.0)\n",
    "  print(\"The median of CTR confidence is {}\".format(conf_median))\n",
    "  \n",
    "  print('')\n",
    "  print('3. CTR multiplied by confidence')\n",
    "  multipl_df = df.select([key, multipl]).dropna()\n",
    "  multipl_df_count = multipl_df.count()\n",
    "  print(\"The number of rows is {:,d}\".format(multipl_df_count))\n",
    "  grouped_multipl_df = multipl_df.groupBy(key).agg({multipl : 'mean'})\n",
    "  grouped_multipl_df.describe('avg(' + multipl + ')').show(30, False)\n",
    "  multipl_median = grouped_multipl_df.approxQuantile('avg(' + multipl + ')', [0.5], 0.0)\n",
    "  print(\"The median of CTR multiplied by confidence is {}\".format(multipl_median))"
   ]
  },
  {
   "cell_type": "markdown",
   "metadata": {},
   "source": [
    "## 변수별 EDA"
   ]
  },
  {
   "cell_type": "markdown",
   "metadata": {},
   "source": [
    "### user_views"
   ]
  },
  {
   "cell_type": "code",
   "execution_count": 29,
   "metadata": {},
   "outputs": [
    {
     "name": "stdout",
     "output_type": "stream",
     "text": [
      "Statistics for user_views\n",
      "+-------+------------------+\n",
      "|summary|        user_views|\n",
      "+-------+------------------+\n",
      "|  count|          31830105|\n",
      "|   mean| 15.42115962231353|\n",
      "| stddev|24.242983550755422|\n",
      "|    min|                 1|\n",
      "|    max|               660|\n",
      "+-------+------------------+\n",
      "\n",
      "The median of this variable is [7.0]\n"
     ]
    }
   ],
   "source": [
    "describe_median('user_views')"
   ]
  },
  {
   "cell_type": "markdown",
   "metadata": {},
   "source": [
    "### traffic_source"
   ]
  },
  {
   "cell_type": "code",
   "execution_count": 26,
   "metadata": {},
   "outputs": [
    {
     "name": "stdout",
     "output_type": "stream",
     "text": [
      "+--------------+--------+-------+\n",
      "|traffic_source|   count|percent|\n",
      "+--------------+--------+-------+\n",
      "|             1|64541983| 0.7407|\n",
      "|             2|11304279| 0.1297|\n",
      "|             3|11100006| 0.1274|\n",
      "|          null|  195463| 0.0022|\n",
      "+--------------+--------+-------+\n",
      "\n"
     ]
    }
   ],
   "source": [
    "count_freq('traffic_source')"
   ]
  },
  {
   "cell_type": "markdown",
   "metadata": {},
   "source": [
    "### event_platform"
   ]
  },
  {
   "cell_type": "code",
   "execution_count": 27,
   "metadata": {},
   "outputs": [
    {
     "name": "stdout",
     "output_type": "stream",
     "text": [
      "+--------------+--------+-------+\n",
      "|event_platform|   count|percent|\n",
      "+--------------+--------+-------+\n",
      "|             1|37519782| 0.4306|\n",
      "|             2|36836541| 0.4227|\n",
      "|             3|12785378| 0.1467|\n",
      "|          null|      30| 0.0000|\n",
      "+--------------+--------+-------+\n",
      "\n"
     ]
    }
   ],
   "source": [
    "count_freq('event_platform')"
   ]
  },
  {
   "cell_type": "markdown",
   "metadata": {},
   "source": [
    "### event_country"
   ]
  },
  {
   "cell_type": "code",
   "execution_count": 30,
   "metadata": {},
   "outputs": [
    {
     "name": "stdout",
     "output_type": "stream",
     "text": [
      "+-------------+--------+------------+\n",
      "|event_country|   count|     percent|\n",
      "+-------------+--------+------------+\n",
      "|           US|69467046|0.7971731248|\n",
      "|           CA| 4825996|0.0553809977|\n",
      "|           GB| 4389876|0.0503762772|\n",
      "|           AU| 1909614|0.0219138865|\n",
      "|           IN|  904682|0.0103817309|\n",
      "|           ZA|  435104|0.0049930612|\n",
      "|           NZ|  431388|0.0049504181|\n",
      "|           DE|  324978|0.0037293039|\n",
      "|           PH|  323204|0.0037089463|\n",
      "|           SG|  294342|0.0033777387|\n",
      "|           MY|  200615|0.0023021691|\n",
      "|           NL|  200305|0.0022986117|\n",
      "|           NG|  153241|0.0017585260|\n",
      "|           FR|  150387|0.0017257748|\n",
      "|           IE|  149778|0.0017187861|\n",
      "|           SE|  149531|0.0017159517|\n",
      "|           MX|  133416|0.0015310231|\n",
      "|           IT|  110850|0.0012720656|\n",
      "|           AE|   99640|0.0011434246|\n",
      "|           KE|   97972|0.0011242834|\n",
      "+-------------+--------+------------+\n",
      "only showing top 20 rows\n",
      "\n"
     ]
    }
   ],
   "source": [
    "count_freq('event_country')"
   ]
  },
  {
   "cell_type": "markdown",
   "metadata": {},
   "source": [
    "### event_hour"
   ]
  },
  {
   "cell_type": "code",
   "execution_count": 31,
   "metadata": {},
   "outputs": [
    {
     "name": "stdout",
     "output_type": "stream",
     "text": [
      "+----------+--------+------------+\n",
      "|event_hour|   count|     percent|\n",
      "+----------+--------+------------+\n",
      "|         6|26693449|0.3063222258|\n",
      "|         4|23853300|0.2737299308|\n",
      "|         3|13769120|0.1580083370|\n",
      "|         5|13632321|0.1564384921|\n",
      "|         2| 5655401|0.0648988829|\n",
      "|         1| 3538140|0.0406021313|\n",
      "+----------+--------+------------+\n",
      "\n"
     ]
    }
   ],
   "source": [
    "count_freq('event_hour')"
   ]
  },
  {
   "cell_type": "markdown",
   "metadata": {},
   "source": [
    "### event_weekend"
   ]
  },
  {
   "cell_type": "code",
   "execution_count": 32,
   "metadata": {},
   "outputs": [
    {
     "name": "stdout",
     "output_type": "stream",
     "text": [
      "+-------------+--------+------------+\n",
      "|event_weekend|   count|     percent|\n",
      "+-------------+--------+------------+\n",
      "|            0|63515114|0.7288713831|\n",
      "|            1|23626617|0.2711286169|\n",
      "+-------------+--------+------------+\n",
      "\n"
     ]
    }
   ],
   "source": [
    "count_freq('event_weekend')"
   ]
  },
  {
   "cell_type": "markdown",
   "metadata": {},
   "source": [
    "### doc_views"
   ]
  },
  {
   "cell_type": "code",
   "execution_count": 33,
   "metadata": {},
   "outputs": [
    {
     "name": "stdout",
     "output_type": "stream",
     "text": [
      "Statistics for doc_views\n",
      "+-------+-----------------+\n",
      "|summary|        doc_views|\n",
      "+-------+-----------------+\n",
      "|  count|         34441324|\n",
      "|   mean|3546.584138577251|\n",
      "| stddev| 2915.35179302884|\n",
      "|    min|                6|\n",
      "|    max|             9996|\n",
      "+-------+-----------------+\n",
      "\n",
      "The median of this variable is [2857.0]\n"
     ]
    }
   ],
   "source": [
    "describe_median('doc_views')"
   ]
  },
  {
   "cell_type": "markdown",
   "metadata": {},
   "source": [
    "### pop_document_id"
   ]
  },
  {
   "cell_type": "code",
   "execution_count": 45,
   "metadata": {},
   "outputs": [
    {
     "name": "stdout",
     "output_type": "stream",
     "text": [
      "1. CTR by ad_doc_id\n",
      "The number of rows is 86,574,723\n",
      "+-------+--------------------+\n",
      "|summary|avg(pop_document_id)|\n",
      "+-------+--------------------+\n",
      "|count  |74766               |\n",
      "|mean   |0.15048819150738502 |\n",
      "|stddev |0.12099630630684827 |\n",
      "|min    |0.0                 |\n",
      "|max    |1.0                 |\n",
      "+-------+--------------------+\n",
      "\n",
      "The median of CTR is [0.1317799985408783]\n",
      "\n",
      "2. CTR confidence by ad_doc_id\n",
      "The number of rows is 86,574,723\n",
      "+-------+-------------------------+\n",
      "|summary|avg(pop_document_id_conf)|\n",
      "+-------+-------------------------+\n",
      "|count  |74766                    |\n",
      "|mean   |0.20448861286514278      |\n",
      "|stddev |0.09744845066179102      |\n",
      "|min    |0.041731998324394226     |\n",
      "|max    |0.6821900010108948       |\n",
      "+-------+-------------------------+\n",
      "\n",
      "The median of CTR confidence is [0.17726999521255493]\n",
      "\n",
      "3. CTR multiplied by confidence\n",
      "The number of rows is 86,574,723\n",
      "+-------+---------------------------------+\n",
      "|summary|avg(pop_document_id_conf_multipl)|\n",
      "+-------+---------------------------------+\n",
      "|count  |74766                            |\n",
      "|mean   |0.033231208201150844             |\n",
      "|stddev |0.035148205708462575             |\n",
      "|min    |0.0                              |\n",
      "|max    |0.3963100016117096               |\n",
      "+-------+---------------------------------+\n",
      "\n",
      "The median of CTR multiplied by confidence is [0.023538999259471893]\n"
     ]
    }
   ],
   "source": [
    "grouped_stats('ad_doc_id', 'pop_document_id', 'pop_document_id_conf', 'pop_document_id_conf_multipl')"
   ]
  },
  {
   "cell_type": "markdown",
   "metadata": {},
   "source": [
    "### pop_ad_id"
   ]
  },
  {
   "cell_type": "code",
   "execution_count": 36,
   "metadata": {},
   "outputs": [
    {
     "name": "stdout",
     "output_type": "stream",
     "text": [
      "1. CTR by ad_id\n",
      "The number of rows is 85,640,218\n",
      "+-------+-------------------+\n",
      "|summary|avg(pop_ad_id)     |\n",
      "+-------+-------------------+\n",
      "|count  |192107             |\n",
      "|mean   |0.15528313130606444|\n",
      "|stddev |0.13208383154722939|\n",
      "|min    |0.0                |\n",
      "|max    |1.0                |\n",
      "+-------+-------------------+\n",
      "\n",
      "The median of CTR is [0.13333000242710114]\n",
      "\n",
      "2. CTR confidence by ad_id\n",
      "The number of rows is 85,640,218\n",
      "+-------+-------------------+\n",
      "|summary|avg(pop_ad_id_conf)|\n",
      "+-------+-------------------+\n",
      "|count  |192107             |\n",
      "|mean   |0.20855778710115186|\n",
      "|stddev |0.09364983201711577|\n",
      "|min    |0.11715999990701675|\n",
      "|max    |1.0                |\n",
      "+-------+-------------------+\n",
      "\n",
      "The median of CTR confidence is [0.17726999521255493]\n",
      "\n",
      "3. CTR multiplied by confidence\n",
      "The number of rows is 85,640,218\n",
      "+-------+---------------------------+\n",
      "|summary|avg(pop_ad_id_conf_multipl)|\n",
      "+-------+---------------------------+\n",
      "|count  |192107                     |\n",
      "|mean   |0.03370003487878561        |\n",
      "|stddev |0.03449110191662242        |\n",
      "|min    |0.0                        |\n",
      "|max    |0.4202199876308441         |\n",
      "+-------+---------------------------+\n",
      "\n",
      "The median of CTR multiplied by confidence is [0.02573399990797043]\n"
     ]
    }
   ],
   "source": [
    "grouped_stats('ad_id', 'pop_ad_id', 'pop_ad_id_conf', 'pop_ad_id_conf_multipl')"
   ]
  },
  {
   "cell_type": "markdown",
   "metadata": {},
   "source": [
    "### pop_category_id"
   ]
  },
  {
   "cell_type": "code",
   "execution_count": 37,
   "metadata": {},
   "outputs": [
    {
     "name": "stdout",
     "output_type": "stream",
     "text": [
      "1. CTR by ad_category_id\n",
      "The number of rows is 87,061,223\n",
      "+-------+--------------------+\n",
      "|summary|avg(pop_category_id)|\n",
      "+-------+--------------------+\n",
      "|count  |94                  |\n",
      "|mean   |0.1900896306979002  |\n",
      "|stddev |0.04358999906188991 |\n",
      "|min    |0.11436964897595608 |\n",
      "|max    |0.36764654483836684 |\n",
      "+-------+--------------------+\n",
      "\n",
      "The median of CTR is [0.19596156674394571]\n",
      "\n",
      "2. CTR confidence by ad_category_id\n",
      "The number of rows is 87,061,223\n",
      "+-------+-------------------------+\n",
      "|summary|avg(pop_category_id_conf)|\n",
      "+-------+-------------------------+\n",
      "|count  |94                       |\n",
      "|mean   |0.095192389123402        |\n",
      "|stddev |0.046730482678639586     |\n",
      "|min    |0.01335848864799538      |\n",
      "|max    |0.24068757745084507      |\n",
      "+-------+-------------------------+\n",
      "\n",
      "The median of CTR confidence is [0.08845278745405359]\n",
      "\n",
      "3. CTR multiplied by confidence\n",
      "The number of rows is 87,061,223\n",
      "+-------+---------------------------------+\n",
      "|summary|avg(pop_category_id_conf_multipl)|\n",
      "+-------+---------------------------------+\n",
      "|count  |94                               |\n",
      "|mean   |0.017745416048169448             |\n",
      "|stddev |0.008514260476197796             |\n",
      "|min    |0.002344999995928759             |\n",
      "|max    |0.0410211018833181               |\n",
      "+-------+---------------------------------+\n",
      "\n",
      "The median of CTR multiplied by confidence is [0.017847363665415027]\n"
     ]
    }
   ],
   "source": [
    "grouped_stats('ad_category_id', 'pop_category_id', 'pop_category_id_conf', 'pop_category_id_conf_multipl')"
   ]
  },
  {
   "cell_type": "markdown",
   "metadata": {},
   "source": [
    "### pop_advertiser_id"
   ]
  },
  {
   "cell_type": "code",
   "execution_count": 38,
   "metadata": {},
   "outputs": [
    {
     "name": "stdout",
     "output_type": "stream",
     "text": [
      "1. CTR by advertiser_id\n",
      "The number of rows is 87,103,542\n",
      "+-------+----------------------+\n",
      "|summary|avg(pop_advertiser_id)|\n",
      "+-------+----------------------+\n",
      "|count  |3620                  |\n",
      "|mean   |0.1904422268724244    |\n",
      "|stddev |0.1050305087575542    |\n",
      "|min    |0.0                   |\n",
      "|max    |0.7111200094223022    |\n",
      "+-------+----------------------+\n",
      "\n",
      "The median of CTR is [0.16899999976158142]\n",
      "\n",
      "2. CTR confidence by advertiser_id\n",
      "The number of rows is 87,103,542\n",
      "+-------+---------------------------+\n",
      "|summary|avg(pop_advertiser_id_conf)|\n",
      "+-------+---------------------------+\n",
      "|count  |3620                       |\n",
      "|mean   |0.29160332148740303        |\n",
      "|stddev |0.10601754957214017        |\n",
      "|min    |0.04977099969983101        |\n",
      "|max    |0.6821900010108948         |\n",
      "+-------+---------------------------+\n",
      "\n",
      "The median of CTR confidence is [0.2899700105190277]\n",
      "\n",
      "3. CTR multiplied by confidence\n",
      "The number of rows is 87,103,542\n",
      "+-------+-----------------------------------+\n",
      "|summary|avg(pop_advertiser_id_conf_multipl)|\n",
      "+-------+-----------------------------------+\n",
      "|count  |3620                               |\n",
      "|mean   |0.05791374071007877                |\n",
      "|stddev |0.04387276867582946                |\n",
      "|min    |0.0                                |\n",
      "|max    |0.318340003490448                  |\n",
      "+-------+-----------------------------------+\n",
      "\n",
      "The median of CTR multiplied by confidence is [0.04660499840974808]\n"
     ]
    }
   ],
   "source": [
    "grouped_stats('advertiser_id', 'pop_advertiser_id', 'pop_advertiser_id_conf', 'pop_advertiser_id_conf_multipl')"
   ]
  },
  {
   "cell_type": "markdown",
   "metadata": {},
   "source": [
    "### pop_category_id"
   ]
  },
  {
   "cell_type": "code",
   "execution_count": 39,
   "metadata": {},
   "outputs": [
    {
     "name": "stdout",
     "output_type": "stream",
     "text": [
      "1. CTR by ad_category_id\n",
      "The number of rows is 87,061,223\n",
      "+-------+--------------------+\n",
      "|summary|avg(pop_category_id)|\n",
      "+-------+--------------------+\n",
      "|count  |94                  |\n",
      "|mean   |0.19008963069790016 |\n",
      "|stddev |0.04358999906188991 |\n",
      "|min    |0.11436964897595608 |\n",
      "|max    |0.36764654483836684 |\n",
      "+-------+--------------------+\n",
      "\n",
      "The median of CTR is [0.19596156674394571]\n",
      "\n",
      "2. CTR confidence by ad_category_id\n",
      "The number of rows is 87,061,223\n",
      "+-------+-------------------------+\n",
      "|summary|avg(pop_category_id_conf)|\n",
      "+-------+-------------------------+\n",
      "|count  |94                       |\n",
      "|mean   |0.09519238912340194      |\n",
      "|stddev |0.04673048267863959      |\n",
      "|min    |0.01335848864799538      |\n",
      "|max    |0.24068757745084507      |\n",
      "+-------+-------------------------+\n",
      "\n",
      "The median of CTR confidence is [0.08845278745405359]\n",
      "\n",
      "3. CTR multiplied by confidence\n",
      "The number of rows is 87,061,223\n",
      "+-------+---------------------------------+\n",
      "|summary|avg(pop_category_id_conf_multipl)|\n",
      "+-------+---------------------------------+\n",
      "|count  |94                               |\n",
      "|mean   |0.017745416048169458             |\n",
      "|stddev |0.008514260476197792             |\n",
      "|min    |0.002344999995928759             |\n",
      "|max    |0.0410211018833181               |\n",
      "+-------+---------------------------------+\n",
      "\n",
      "The median of CTR multiplied by confidence is [0.017847363665415027]\n"
     ]
    }
   ],
   "source": [
    "grouped_stats('ad_category_id', 'pop_category_id', 'pop_category_id_conf', 'pop_category_id_conf_multipl')"
   ]
  },
  {
   "cell_type": "markdown",
   "metadata": {},
   "source": [
    "### pop_topic_id"
   ]
  },
  {
   "cell_type": "code",
   "execution_count": 40,
   "metadata": {},
   "outputs": [
    {
     "name": "stdout",
     "output_type": "stream",
     "text": [
      "1. CTR by ad_topic_id\n",
      "The number of rows is 86,254,382\n",
      "+-------+--------------------+\n",
      "|summary|avg(pop_topic_id)   |\n",
      "+-------+--------------------+\n",
      "|count  |300                 |\n",
      "|mean   |0.20290310014369278 |\n",
      "|stddev |0.041006311525321235|\n",
      "|min    |0.09531529571612084 |\n",
      "|max    |0.41986692493014743 |\n",
      "+-------+--------------------+\n",
      "\n",
      "The median of CTR is [0.2021033303788934]\n",
      "\n",
      "2. CTR confidence by ad_topic_id\n",
      "The number of rows is 86,254,382\n",
      "+-------+----------------------+\n",
      "|summary|avg(pop_topic_id_conf)|\n",
      "+-------+----------------------+\n",
      "|count  |300                   |\n",
      "|mean   |0.006110534430288354  |\n",
      "|stddev |0.0051224054120583016 |\n",
      "|min    |1.4904477700033173E-4 |\n",
      "|max    |0.02860257227891189   |\n",
      "+-------+----------------------+\n",
      "\n",
      "The median of CTR confidence is [0.004612766720973637]\n",
      "\n",
      "3. CTR multiplied by confidence\n",
      "The number of rows is 86,254,382\n",
      "+-------+------------------------------+\n",
      "|summary|avg(pop_topic_id_conf_multipl)|\n",
      "+-------+------------------------------+\n",
      "|count  |300                           |\n",
      "|mean   |0.0012424717838891665         |\n",
      "|stddev |0.0011027828208267307         |\n",
      "|min    |2.5265208548536824E-5         |\n",
      "|max    |0.006577901626296729          |\n",
      "+-------+------------------------------+\n",
      "\n",
      "The median of CTR multiplied by confidence is [0.0009162693676329743]\n"
     ]
    }
   ],
   "source": [
    "grouped_stats('ad_topic_id', 'pop_topic_id', 'pop_topic_id_conf', 'pop_topic_id_conf_multipl')"
   ]
  },
  {
   "cell_type": "markdown",
   "metadata": {},
   "source": [
    "### pop_campaign_id"
   ]
  },
  {
   "cell_type": "code",
   "execution_count": 41,
   "metadata": {},
   "outputs": [
    {
     "name": "stdout",
     "output_type": "stream",
     "text": [
      "1. CTR by campaign_id\n",
      "The number of rows is 86,927,337\n",
      "+-------+--------------------+\n",
      "|summary|avg(pop_campaign_id)|\n",
      "+-------+--------------------+\n",
      "|count  |25270               |\n",
      "|mean   |0.1723316806173752  |\n",
      "|stddev |0.11288109336786849 |\n",
      "|min    |0.0                 |\n",
      "|max    |0.916670024394989   |\n",
      "+-------+--------------------+\n",
      "\n",
      "The median of CTR is [0.15306000411510468]\n",
      "\n",
      "2. CTR confidence by campaign_id\n",
      "The number of rows is 86,927,337\n",
      "+-------+-------------------------+\n",
      "|summary|avg(pop_campaign_id_conf)|\n",
      "+-------+-------------------------+\n",
      "|count  |25270                    |\n",
      "|mean   |0.23342127954203312      |\n",
      "|stddev |0.1196821580233413       |\n",
      "|min    |0.041731998324394226     |\n",
      "|max    |1.0                      |\n",
      "+-------+-------------------------+\n",
      "\n",
      "The median of CTR confidence is [0.20476999878883362]\n",
      "\n",
      "3. CTR multiplied by confidence\n",
      "The number of rows is 86,927,337\n",
      "+-------+---------------------------------+\n",
      "|summary|avg(pop_campaign_id_conf_multipl)|\n",
      "+-------+---------------------------------+\n",
      "|count  |25270                            |\n",
      "|mean   |0.04255200237970299              |\n",
      "|stddev |0.041235803917804015             |\n",
      "|min    |0.0                              |\n",
      "|max    |0.3963100016117096               |\n",
      "+-------+---------------------------------+\n",
      "\n",
      "The median of CTR multiplied by confidence is [0.0301510002464056]\n"
     ]
    }
   ],
   "source": [
    "grouped_stats('campaign_id', 'pop_campaign_id', 'pop_campaign_id_conf', 'pop_campaign_id_conf_multipl')"
   ]
  },
  {
   "cell_type": "markdown",
   "metadata": {},
   "source": [
    "### pop_source_id"
   ]
  },
  {
   "cell_type": "code",
   "execution_count": 42,
   "metadata": {},
   "outputs": [
    {
     "name": "stdout",
     "output_type": "stream",
     "text": [
      "1. CTR by ad_source_id\n",
      "The number of rows is 87,066,991\n",
      "+-------+-------------------+\n",
      "|summary|avg(pop_source_id) |\n",
      "+-------+-------------------+\n",
      "|count  |5628               |\n",
      "|mean   |0.17961432565981292|\n",
      "|stddev |0.10526522880523281|\n",
      "|min    |0.0                |\n",
      "|max    |0.836359977722168  |\n",
      "+-------+-------------------+\n",
      "\n",
      "The median of CTR is [0.15906000137329102]\n",
      "\n",
      "2. CTR confidence by ad_source_id\n",
      "The number of rows is 87,066,991\n",
      "+-------+-----------------------+\n",
      "|summary|avg(pop_source_id_conf)|\n",
      "+-------+-----------------------+\n",
      "|count  |5628                   |\n",
      "|mean   |0.2666226234684176     |\n",
      "|stddev |0.1118473851645954     |\n",
      "|min    |0.04358400031924248    |\n",
      "|max    |0.6821900010108948     |\n",
      "+-------+-----------------------+\n",
      "\n",
      "The median of CTR confidence is [0.2628999948501587]\n",
      "\n",
      "3. CTR multiplied by confidence\n",
      "The number of rows is 87,066,991\n",
      "+-------+-------------------------------+\n",
      "|summary|avg(pop_source_id_conf_multipl)|\n",
      "+-------+-------------------------------+\n",
      "|count  |5628                           |\n",
      "|mean   |0.05048253851316458            |\n",
      "|stddev |0.041294353178869994           |\n",
      "|min    |0.0                            |\n",
      "|max    |0.318340003490448              |\n",
      "+-------+-------------------------------+\n",
      "\n",
      "The median of CTR multiplied by confidence is [0.03989800065755844]\n"
     ]
    }
   ],
   "source": [
    "grouped_stats('ad_source_id', 'pop_source_id', 'pop_source_id_conf', 'pop_source_id_conf_multipl')"
   ]
  },
  {
   "cell_type": "markdown",
   "metadata": {},
   "source": [
    "### pop_publisher_id"
   ]
  },
  {
   "cell_type": "code",
   "execution_count": 43,
   "metadata": {},
   "outputs": [
    {
     "name": "stdout",
     "output_type": "stream",
     "text": [
      "1. CTR by ad_publisher_id\n",
      "The number of rows is 33,907,412\n",
      "+-------+---------------------+\n",
      "|summary|avg(pop_publisher_id)|\n",
      "+-------+---------------------+\n",
      "|count  |723                  |\n",
      "|mean   |0.209063659794371    |\n",
      "|stddev |0.10991537239565012  |\n",
      "|min    |0.0                  |\n",
      "|max    |0.836359977722168    |\n",
      "+-------+---------------------+\n",
      "\n",
      "The median of CTR is [0.18934999406337738]\n",
      "\n",
      "2. CTR confidence by ad_publisher_id\n",
      "The number of rows is 33,907,412\n",
      "+-------+--------------------------+\n",
      "|summary|avg(pop_publisher_id_conf)|\n",
      "+-------+--------------------------+\n",
      "|count  |723                       |\n",
      "|mean   |0.2786183170355949        |\n",
      "|stddev |0.10098877898002925       |\n",
      "|min    |0.05516599863767624       |\n",
      "|max    |0.5475599765777588        |\n",
      "+-------+--------------------------+\n",
      "\n",
      "The median of CTR confidence is [0.28299999237060547]\n",
      "\n",
      "3. CTR multiplied by confidence\n",
      "The number of rows is 33,907,412\n",
      "+-------+----------------------------------+\n",
      "|summary|avg(pop_publisher_id_conf_multipl)|\n",
      "+-------+----------------------------------+\n",
      "|count  |723                               |\n",
      "|mean   |0.059130490935931854              |\n",
      "|stddev |0.039555898860311065              |\n",
      "|min    |0.0                               |\n",
      "|max    |0.2545900046825409                |\n",
      "+-------+----------------------------------+\n",
      "\n",
      "The median of CTR multiplied by confidence is [0.050925999879837036]\n"
     ]
    }
   ],
   "source": [
    "grouped_stats('ad_publisher_id','pop_publisher_id', 'pop_publisher_id_conf', 'pop_publisher_id_conf_multipl')"
   ]
  },
  {
   "cell_type": "markdown",
   "metadata": {},
   "source": [
    "### ad_views"
   ]
  },
  {
   "cell_type": "code",
   "execution_count": 44,
   "metadata": {},
   "outputs": [
    {
     "name": "stdout",
     "output_type": "stream",
     "text": [
      "Statistics for ad_views\n",
      "+-------+------------------+\n",
      "|summary|          ad_views|\n",
      "+-------+------------------+\n",
      "|  count|          53308545|\n",
      "|   mean| 3137.686828875183|\n",
      "| stddev|2846.0630035507047|\n",
      "|    min|                 6|\n",
      "|    max|              9995|\n",
      "+-------+------------------+\n",
      "\n",
      "The median of this variable is [2292.0]\n"
     ]
    }
   ],
   "source": [
    "describe_median('ad_views')"
   ]
  },
  {
   "cell_type": "code",
   "execution_count": null,
   "metadata": {},
   "outputs": [],
   "source": []
  }
 ],
 "metadata": {
  "kernelspec": {
   "display_name": "Python 2",
   "language": "python",
   "name": "python2"
  },
  "language_info": {
   "codemirror_mode": {
    "name": "ipython",
    "version": 2
   },
   "file_extension": ".py",
   "mimetype": "text/x-python",
   "name": "python",
   "nbconvert_exporter": "python",
   "pygments_lexer": "ipython2",
   "version": "2.7.15"
  }
 },
 "nbformat": 4,
 "nbformat_minor": 2
}
